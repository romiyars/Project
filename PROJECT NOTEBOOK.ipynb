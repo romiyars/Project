{
 "cells": [
  {
   "cell_type": "markdown",
   "id": "w9O3VI_XXEmP",
   "metadata": {
    "id": "w9O3VI_XXEmP"
   },
   "source": [
    "## Importing Libraries"
   ]
  },
  {
   "cell_type": "code",
   "execution_count": 1,
   "id": "ad56f407",
   "metadata": {
    "id": "ad56f407"
   },
   "outputs": [],
   "source": [
    "import numpy as np \n",
    "import pandas as pd \n",
    "import matplotlib.pyplot as plt\n",
    "import seaborn as sns\n",
    "import warnings\n",
    "warnings.filterwarnings(\"ignore\")"
   ]
  },
  {
   "cell_type": "markdown",
   "id": "l-vHwbTPXMD_",
   "metadata": {
    "id": "l-vHwbTPXMD_"
   },
   "source": [
    "## Loading Data"
   ]
  },
  {
   "cell_type": "code",
   "execution_count": 2,
   "id": "9f38db01",
   "metadata": {
    "colab": {
     "base_uri": "https://localhost:8080/",
     "height": 644
    },
    "id": "9f38db01",
    "outputId": "dc9f4da8-d69b-45c1-c740-55ee7596f476"
   },
   "outputs": [
    {
     "data": {
      "text/html": [
       "<div>\n",
       "<style scoped>\n",
       "    .dataframe tbody tr th:only-of-type {\n",
       "        vertical-align: middle;\n",
       "    }\n",
       "\n",
       "    .dataframe tbody tr th {\n",
       "        vertical-align: top;\n",
       "    }\n",
       "\n",
       "    .dataframe thead th {\n",
       "        text-align: right;\n",
       "    }\n",
       "</style>\n",
       "<table border=\"1\" class=\"dataframe\">\n",
       "  <thead>\n",
       "    <tr style=\"text-align: right;\">\n",
       "      <th></th>\n",
       "      <th>ID</th>\n",
       "      <th>Gender</th>\n",
       "      <th>Age</th>\n",
       "      <th>Customer Type</th>\n",
       "      <th>Type of Travel</th>\n",
       "      <th>Class</th>\n",
       "      <th>Flight Distance</th>\n",
       "      <th>Departure Delay</th>\n",
       "      <th>Arrival Delay</th>\n",
       "      <th>Departure and Arrival Time Convenience</th>\n",
       "      <th>...</th>\n",
       "      <th>On-board Service</th>\n",
       "      <th>Seat Comfort</th>\n",
       "      <th>Leg Room Service</th>\n",
       "      <th>Cleanliness</th>\n",
       "      <th>Food and Drink</th>\n",
       "      <th>In-flight Service</th>\n",
       "      <th>In-flight Wifi Service</th>\n",
       "      <th>In-flight Entertainment</th>\n",
       "      <th>Baggage Handling</th>\n",
       "      <th>Satisfaction</th>\n",
       "    </tr>\n",
       "  </thead>\n",
       "  <tbody>\n",
       "    <tr>\n",
       "      <th>0</th>\n",
       "      <td>1</td>\n",
       "      <td>Male</td>\n",
       "      <td>48</td>\n",
       "      <td>First-time</td>\n",
       "      <td>Business</td>\n",
       "      <td>Business</td>\n",
       "      <td>821</td>\n",
       "      <td>2</td>\n",
       "      <td>5.0</td>\n",
       "      <td>3</td>\n",
       "      <td>...</td>\n",
       "      <td>3</td>\n",
       "      <td>5</td>\n",
       "      <td>2</td>\n",
       "      <td>5</td>\n",
       "      <td>5</td>\n",
       "      <td>5</td>\n",
       "      <td>3</td>\n",
       "      <td>5</td>\n",
       "      <td>5</td>\n",
       "      <td>Neutral or Dissatisfied</td>\n",
       "    </tr>\n",
       "    <tr>\n",
       "      <th>1</th>\n",
       "      <td>2</td>\n",
       "      <td>Female</td>\n",
       "      <td>35</td>\n",
       "      <td>Returning</td>\n",
       "      <td>Business</td>\n",
       "      <td>Business</td>\n",
       "      <td>821</td>\n",
       "      <td>26</td>\n",
       "      <td>39.0</td>\n",
       "      <td>2</td>\n",
       "      <td>...</td>\n",
       "      <td>5</td>\n",
       "      <td>4</td>\n",
       "      <td>5</td>\n",
       "      <td>5</td>\n",
       "      <td>3</td>\n",
       "      <td>5</td>\n",
       "      <td>2</td>\n",
       "      <td>5</td>\n",
       "      <td>5</td>\n",
       "      <td>Satisfied</td>\n",
       "    </tr>\n",
       "    <tr>\n",
       "      <th>2</th>\n",
       "      <td>3</td>\n",
       "      <td>Male</td>\n",
       "      <td>41</td>\n",
       "      <td>Returning</td>\n",
       "      <td>Business</td>\n",
       "      <td>Business</td>\n",
       "      <td>853</td>\n",
       "      <td>0</td>\n",
       "      <td>0.0</td>\n",
       "      <td>4</td>\n",
       "      <td>...</td>\n",
       "      <td>3</td>\n",
       "      <td>5</td>\n",
       "      <td>3</td>\n",
       "      <td>5</td>\n",
       "      <td>5</td>\n",
       "      <td>3</td>\n",
       "      <td>4</td>\n",
       "      <td>3</td>\n",
       "      <td>3</td>\n",
       "      <td>Satisfied</td>\n",
       "    </tr>\n",
       "    <tr>\n",
       "      <th>3</th>\n",
       "      <td>4</td>\n",
       "      <td>Male</td>\n",
       "      <td>50</td>\n",
       "      <td>Returning</td>\n",
       "      <td>Business</td>\n",
       "      <td>Business</td>\n",
       "      <td>1905</td>\n",
       "      <td>0</td>\n",
       "      <td>0.0</td>\n",
       "      <td>2</td>\n",
       "      <td>...</td>\n",
       "      <td>5</td>\n",
       "      <td>5</td>\n",
       "      <td>5</td>\n",
       "      <td>4</td>\n",
       "      <td>4</td>\n",
       "      <td>5</td>\n",
       "      <td>2</td>\n",
       "      <td>5</td>\n",
       "      <td>5</td>\n",
       "      <td>Satisfied</td>\n",
       "    </tr>\n",
       "    <tr>\n",
       "      <th>4</th>\n",
       "      <td>5</td>\n",
       "      <td>Female</td>\n",
       "      <td>49</td>\n",
       "      <td>Returning</td>\n",
       "      <td>Business</td>\n",
       "      <td>Business</td>\n",
       "      <td>3470</td>\n",
       "      <td>0</td>\n",
       "      <td>1.0</td>\n",
       "      <td>3</td>\n",
       "      <td>...</td>\n",
       "      <td>3</td>\n",
       "      <td>4</td>\n",
       "      <td>4</td>\n",
       "      <td>5</td>\n",
       "      <td>4</td>\n",
       "      <td>3</td>\n",
       "      <td>3</td>\n",
       "      <td>3</td>\n",
       "      <td>3</td>\n",
       "      <td>Satisfied</td>\n",
       "    </tr>\n",
       "    <tr>\n",
       "      <th>...</th>\n",
       "      <td>...</td>\n",
       "      <td>...</td>\n",
       "      <td>...</td>\n",
       "      <td>...</td>\n",
       "      <td>...</td>\n",
       "      <td>...</td>\n",
       "      <td>...</td>\n",
       "      <td>...</td>\n",
       "      <td>...</td>\n",
       "      <td>...</td>\n",
       "      <td>...</td>\n",
       "      <td>...</td>\n",
       "      <td>...</td>\n",
       "      <td>...</td>\n",
       "      <td>...</td>\n",
       "      <td>...</td>\n",
       "      <td>...</td>\n",
       "      <td>...</td>\n",
       "      <td>...</td>\n",
       "      <td>...</td>\n",
       "      <td>...</td>\n",
       "    </tr>\n",
       "    <tr>\n",
       "      <th>129875</th>\n",
       "      <td>129876</td>\n",
       "      <td>Male</td>\n",
       "      <td>28</td>\n",
       "      <td>Returning</td>\n",
       "      <td>Personal</td>\n",
       "      <td>Economy Plus</td>\n",
       "      <td>447</td>\n",
       "      <td>2</td>\n",
       "      <td>3.0</td>\n",
       "      <td>4</td>\n",
       "      <td>...</td>\n",
       "      <td>5</td>\n",
       "      <td>1</td>\n",
       "      <td>4</td>\n",
       "      <td>4</td>\n",
       "      <td>4</td>\n",
       "      <td>5</td>\n",
       "      <td>4</td>\n",
       "      <td>4</td>\n",
       "      <td>4</td>\n",
       "      <td>Neutral or Dissatisfied</td>\n",
       "    </tr>\n",
       "    <tr>\n",
       "      <th>129876</th>\n",
       "      <td>129877</td>\n",
       "      <td>Male</td>\n",
       "      <td>41</td>\n",
       "      <td>Returning</td>\n",
       "      <td>Personal</td>\n",
       "      <td>Economy Plus</td>\n",
       "      <td>308</td>\n",
       "      <td>0</td>\n",
       "      <td>0.0</td>\n",
       "      <td>5</td>\n",
       "      <td>...</td>\n",
       "      <td>5</td>\n",
       "      <td>2</td>\n",
       "      <td>5</td>\n",
       "      <td>2</td>\n",
       "      <td>2</td>\n",
       "      <td>4</td>\n",
       "      <td>3</td>\n",
       "      <td>2</td>\n",
       "      <td>5</td>\n",
       "      <td>Neutral or Dissatisfied</td>\n",
       "    </tr>\n",
       "    <tr>\n",
       "      <th>129877</th>\n",
       "      <td>129878</td>\n",
       "      <td>Male</td>\n",
       "      <td>42</td>\n",
       "      <td>Returning</td>\n",
       "      <td>Personal</td>\n",
       "      <td>Economy Plus</td>\n",
       "      <td>337</td>\n",
       "      <td>6</td>\n",
       "      <td>14.0</td>\n",
       "      <td>5</td>\n",
       "      <td>...</td>\n",
       "      <td>3</td>\n",
       "      <td>3</td>\n",
       "      <td>4</td>\n",
       "      <td>3</td>\n",
       "      <td>3</td>\n",
       "      <td>4</td>\n",
       "      <td>2</td>\n",
       "      <td>3</td>\n",
       "      <td>5</td>\n",
       "      <td>Neutral or Dissatisfied</td>\n",
       "    </tr>\n",
       "    <tr>\n",
       "      <th>129878</th>\n",
       "      <td>129879</td>\n",
       "      <td>Male</td>\n",
       "      <td>50</td>\n",
       "      <td>Returning</td>\n",
       "      <td>Personal</td>\n",
       "      <td>Economy Plus</td>\n",
       "      <td>337</td>\n",
       "      <td>31</td>\n",
       "      <td>22.0</td>\n",
       "      <td>4</td>\n",
       "      <td>...</td>\n",
       "      <td>4</td>\n",
       "      <td>4</td>\n",
       "      <td>5</td>\n",
       "      <td>3</td>\n",
       "      <td>3</td>\n",
       "      <td>4</td>\n",
       "      <td>5</td>\n",
       "      <td>3</td>\n",
       "      <td>5</td>\n",
       "      <td>Satisfied</td>\n",
       "    </tr>\n",
       "    <tr>\n",
       "      <th>129879</th>\n",
       "      <td>129880</td>\n",
       "      <td>Female</td>\n",
       "      <td>20</td>\n",
       "      <td>Returning</td>\n",
       "      <td>Personal</td>\n",
       "      <td>Economy Plus</td>\n",
       "      <td>337</td>\n",
       "      <td>0</td>\n",
       "      <td>0.0</td>\n",
       "      <td>1</td>\n",
       "      <td>...</td>\n",
       "      <td>4</td>\n",
       "      <td>2</td>\n",
       "      <td>4</td>\n",
       "      <td>2</td>\n",
       "      <td>2</td>\n",
       "      <td>2</td>\n",
       "      <td>3</td>\n",
       "      <td>2</td>\n",
       "      <td>1</td>\n",
       "      <td>Neutral or Dissatisfied</td>\n",
       "    </tr>\n",
       "  </tbody>\n",
       "</table>\n",
       "<p>129880 rows × 24 columns</p>\n",
       "</div>"
      ],
      "text/plain": [
       "            ID  Gender  Age Customer Type Type of Travel         Class  \\\n",
       "0            1    Male   48    First-time       Business      Business   \n",
       "1            2  Female   35     Returning       Business      Business   \n",
       "2            3    Male   41     Returning       Business      Business   \n",
       "3            4    Male   50     Returning       Business      Business   \n",
       "4            5  Female   49     Returning       Business      Business   \n",
       "...        ...     ...  ...           ...            ...           ...   \n",
       "129875  129876    Male   28     Returning       Personal  Economy Plus   \n",
       "129876  129877    Male   41     Returning       Personal  Economy Plus   \n",
       "129877  129878    Male   42     Returning       Personal  Economy Plus   \n",
       "129878  129879    Male   50     Returning       Personal  Economy Plus   \n",
       "129879  129880  Female   20     Returning       Personal  Economy Plus   \n",
       "\n",
       "        Flight Distance  Departure Delay  Arrival Delay  \\\n",
       "0                   821                2            5.0   \n",
       "1                   821               26           39.0   \n",
       "2                   853                0            0.0   \n",
       "3                  1905                0            0.0   \n",
       "4                  3470                0            1.0   \n",
       "...                 ...              ...            ...   \n",
       "129875              447                2            3.0   \n",
       "129876              308                0            0.0   \n",
       "129877              337                6           14.0   \n",
       "129878              337               31           22.0   \n",
       "129879              337                0            0.0   \n",
       "\n",
       "        Departure and Arrival Time Convenience  ...  On-board Service  \\\n",
       "0                                            3  ...                 3   \n",
       "1                                            2  ...                 5   \n",
       "2                                            4  ...                 3   \n",
       "3                                            2  ...                 5   \n",
       "4                                            3  ...                 3   \n",
       "...                                        ...  ...               ...   \n",
       "129875                                       4  ...                 5   \n",
       "129876                                       5  ...                 5   \n",
       "129877                                       5  ...                 3   \n",
       "129878                                       4  ...                 4   \n",
       "129879                                       1  ...                 4   \n",
       "\n",
       "        Seat Comfort  Leg Room Service  Cleanliness  Food and Drink  \\\n",
       "0                  5                 2            5               5   \n",
       "1                  4                 5            5               3   \n",
       "2                  5                 3            5               5   \n",
       "3                  5                 5            4               4   \n",
       "4                  4                 4            5               4   \n",
       "...              ...               ...          ...             ...   \n",
       "129875             1                 4            4               4   \n",
       "129876             2                 5            2               2   \n",
       "129877             3                 4            3               3   \n",
       "129878             4                 5            3               3   \n",
       "129879             2                 4            2               2   \n",
       "\n",
       "        In-flight Service  In-flight Wifi Service  In-flight Entertainment  \\\n",
       "0                       5                       3                        5   \n",
       "1                       5                       2                        5   \n",
       "2                       3                       4                        3   \n",
       "3                       5                       2                        5   \n",
       "4                       3                       3                        3   \n",
       "...                   ...                     ...                      ...   \n",
       "129875                  5                       4                        4   \n",
       "129876                  4                       3                        2   \n",
       "129877                  4                       2                        3   \n",
       "129878                  4                       5                        3   \n",
       "129879                  2                       3                        2   \n",
       "\n",
       "        Baggage Handling             Satisfaction  \n",
       "0                      5  Neutral or Dissatisfied  \n",
       "1                      5                Satisfied  \n",
       "2                      3                Satisfied  \n",
       "3                      5                Satisfied  \n",
       "4                      3                Satisfied  \n",
       "...                  ...                      ...  \n",
       "129875                 4  Neutral or Dissatisfied  \n",
       "129876                 5  Neutral or Dissatisfied  \n",
       "129877                 5  Neutral or Dissatisfied  \n",
       "129878                 5                Satisfied  \n",
       "129879                 1  Neutral or Dissatisfied  \n",
       "\n",
       "[129880 rows x 24 columns]"
      ]
     },
     "execution_count": 2,
     "metadata": {},
     "output_type": "execute_result"
    }
   ],
   "source": [
    "data =  pd.read_csv(\"airline_passenger_satisfaction.csv\")\n",
    "data"
   ]
  },
  {
   "cell_type": "markdown",
   "id": "wpLvb_paXRsg",
   "metadata": {
    "id": "wpLvb_paXRsg"
   },
   "source": [
    "## Information about DATA"
   ]
  },
  {
   "cell_type": "code",
   "execution_count": 3,
   "id": "7d5c2f2e",
   "metadata": {
    "colab": {
     "base_uri": "https://localhost:8080/"
    },
    "id": "7d5c2f2e",
    "outputId": "4e017a21-dc34-4b64-bb19-5d5c6531b213"
   },
   "outputs": [
    {
     "name": "stdout",
     "output_type": "stream",
     "text": [
      "<class 'pandas.core.frame.DataFrame'>\n",
      "RangeIndex: 129880 entries, 0 to 129879\n",
      "Data columns (total 24 columns):\n",
      " #   Column                                  Non-Null Count   Dtype  \n",
      "---  ------                                  --------------   -----  \n",
      " 0   ID                                      129880 non-null  int64  \n",
      " 1   Gender                                  129880 non-null  object \n",
      " 2   Age                                     129880 non-null  int64  \n",
      " 3   Customer Type                           129880 non-null  object \n",
      " 4   Type of Travel                          129880 non-null  object \n",
      " 5   Class                                   129880 non-null  object \n",
      " 6   Flight Distance                         129880 non-null  int64  \n",
      " 7   Departure Delay                         129880 non-null  int64  \n",
      " 8   Arrival Delay                           129487 non-null  float64\n",
      " 9   Departure and Arrival Time Convenience  129880 non-null  int64  \n",
      " 10  Ease of Online Booking                  129880 non-null  int64  \n",
      " 11  Check-in Service                        129880 non-null  int64  \n",
      " 12  Online Boarding                         129880 non-null  int64  \n",
      " 13  Gate Location                           129880 non-null  int64  \n",
      " 14  On-board Service                        129880 non-null  int64  \n",
      " 15  Seat Comfort                            129880 non-null  int64  \n",
      " 16  Leg Room Service                        129880 non-null  int64  \n",
      " 17  Cleanliness                             129880 non-null  int64  \n",
      " 18  Food and Drink                          129880 non-null  int64  \n",
      " 19  In-flight Service                       129880 non-null  int64  \n",
      " 20  In-flight Wifi Service                  129880 non-null  int64  \n",
      " 21  In-flight Entertainment                 129880 non-null  int64  \n",
      " 22  Baggage Handling                        129880 non-null  int64  \n",
      " 23  Satisfaction                            129880 non-null  object \n",
      "dtypes: float64(1), int64(18), object(5)\n",
      "memory usage: 23.8+ MB\n"
     ]
    }
   ],
   "source": [
    "data.info()"
   ]
  },
  {
   "cell_type": "markdown",
   "id": "e4fGVuVUXZI0",
   "metadata": {
    "id": "e4fGVuVUXZI0"
   },
   "source": [
    "## Quick Overview of Data"
   ]
  },
  {
   "cell_type": "code",
   "execution_count": 4,
   "id": "5cb4c752",
   "metadata": {
    "colab": {
     "base_uri": "https://localhost:8080/",
     "height": 416
    },
    "id": "5cb4c752",
    "outputId": "c056ff5d-2397-443a-df91-94ff1d7a78e5"
   },
   "outputs": [
    {
     "data": {
      "text/html": [
       "<div>\n",
       "<style scoped>\n",
       "    .dataframe tbody tr th:only-of-type {\n",
       "        vertical-align: middle;\n",
       "    }\n",
       "\n",
       "    .dataframe tbody tr th {\n",
       "        vertical-align: top;\n",
       "    }\n",
       "\n",
       "    .dataframe thead th {\n",
       "        text-align: right;\n",
       "    }\n",
       "</style>\n",
       "<table border=\"1\" class=\"dataframe\">\n",
       "  <thead>\n",
       "    <tr style=\"text-align: right;\">\n",
       "      <th></th>\n",
       "      <th>ID</th>\n",
       "      <th>Age</th>\n",
       "      <th>Flight Distance</th>\n",
       "      <th>Departure Delay</th>\n",
       "      <th>Arrival Delay</th>\n",
       "      <th>Departure and Arrival Time Convenience</th>\n",
       "      <th>Ease of Online Booking</th>\n",
       "      <th>Check-in Service</th>\n",
       "      <th>Online Boarding</th>\n",
       "      <th>Gate Location</th>\n",
       "      <th>On-board Service</th>\n",
       "      <th>Seat Comfort</th>\n",
       "      <th>Leg Room Service</th>\n",
       "      <th>Cleanliness</th>\n",
       "      <th>Food and Drink</th>\n",
       "      <th>In-flight Service</th>\n",
       "      <th>In-flight Wifi Service</th>\n",
       "      <th>In-flight Entertainment</th>\n",
       "      <th>Baggage Handling</th>\n",
       "    </tr>\n",
       "  </thead>\n",
       "  <tbody>\n",
       "    <tr>\n",
       "      <th>count</th>\n",
       "      <td>129880.000000</td>\n",
       "      <td>129880.000000</td>\n",
       "      <td>129880.000000</td>\n",
       "      <td>129880.000000</td>\n",
       "      <td>129487.000000</td>\n",
       "      <td>129880.000000</td>\n",
       "      <td>129880.000000</td>\n",
       "      <td>129880.000000</td>\n",
       "      <td>129880.000000</td>\n",
       "      <td>129880.000000</td>\n",
       "      <td>129880.000000</td>\n",
       "      <td>129880.000000</td>\n",
       "      <td>129880.000000</td>\n",
       "      <td>129880.000000</td>\n",
       "      <td>129880.000000</td>\n",
       "      <td>129880.000000</td>\n",
       "      <td>129880.000000</td>\n",
       "      <td>129880.000000</td>\n",
       "      <td>129880.000000</td>\n",
       "    </tr>\n",
       "    <tr>\n",
       "      <th>mean</th>\n",
       "      <td>64940.500000</td>\n",
       "      <td>39.427957</td>\n",
       "      <td>1190.316392</td>\n",
       "      <td>14.713713</td>\n",
       "      <td>15.091129</td>\n",
       "      <td>3.057599</td>\n",
       "      <td>2.756876</td>\n",
       "      <td>3.306267</td>\n",
       "      <td>3.252633</td>\n",
       "      <td>2.976925</td>\n",
       "      <td>3.383023</td>\n",
       "      <td>3.441361</td>\n",
       "      <td>3.350878</td>\n",
       "      <td>3.286326</td>\n",
       "      <td>3.204774</td>\n",
       "      <td>3.642193</td>\n",
       "      <td>2.728696</td>\n",
       "      <td>3.358077</td>\n",
       "      <td>3.632114</td>\n",
       "    </tr>\n",
       "    <tr>\n",
       "      <th>std</th>\n",
       "      <td>37493.270818</td>\n",
       "      <td>15.119360</td>\n",
       "      <td>997.452477</td>\n",
       "      <td>38.071126</td>\n",
       "      <td>38.465650</td>\n",
       "      <td>1.526741</td>\n",
       "      <td>1.401740</td>\n",
       "      <td>1.266185</td>\n",
       "      <td>1.350719</td>\n",
       "      <td>1.278520</td>\n",
       "      <td>1.287099</td>\n",
       "      <td>1.319289</td>\n",
       "      <td>1.316252</td>\n",
       "      <td>1.313682</td>\n",
       "      <td>1.329933</td>\n",
       "      <td>1.176669</td>\n",
       "      <td>1.329340</td>\n",
       "      <td>1.334049</td>\n",
       "      <td>1.180025</td>\n",
       "    </tr>\n",
       "    <tr>\n",
       "      <th>min</th>\n",
       "      <td>1.000000</td>\n",
       "      <td>7.000000</td>\n",
       "      <td>31.000000</td>\n",
       "      <td>0.000000</td>\n",
       "      <td>0.000000</td>\n",
       "      <td>0.000000</td>\n",
       "      <td>0.000000</td>\n",
       "      <td>0.000000</td>\n",
       "      <td>0.000000</td>\n",
       "      <td>0.000000</td>\n",
       "      <td>0.000000</td>\n",
       "      <td>0.000000</td>\n",
       "      <td>0.000000</td>\n",
       "      <td>0.000000</td>\n",
       "      <td>0.000000</td>\n",
       "      <td>0.000000</td>\n",
       "      <td>0.000000</td>\n",
       "      <td>0.000000</td>\n",
       "      <td>1.000000</td>\n",
       "    </tr>\n",
       "    <tr>\n",
       "      <th>25%</th>\n",
       "      <td>32470.750000</td>\n",
       "      <td>27.000000</td>\n",
       "      <td>414.000000</td>\n",
       "      <td>0.000000</td>\n",
       "      <td>0.000000</td>\n",
       "      <td>2.000000</td>\n",
       "      <td>2.000000</td>\n",
       "      <td>3.000000</td>\n",
       "      <td>2.000000</td>\n",
       "      <td>2.000000</td>\n",
       "      <td>2.000000</td>\n",
       "      <td>2.000000</td>\n",
       "      <td>2.000000</td>\n",
       "      <td>2.000000</td>\n",
       "      <td>2.000000</td>\n",
       "      <td>3.000000</td>\n",
       "      <td>2.000000</td>\n",
       "      <td>2.000000</td>\n",
       "      <td>3.000000</td>\n",
       "    </tr>\n",
       "    <tr>\n",
       "      <th>50%</th>\n",
       "      <td>64940.500000</td>\n",
       "      <td>40.000000</td>\n",
       "      <td>844.000000</td>\n",
       "      <td>0.000000</td>\n",
       "      <td>0.000000</td>\n",
       "      <td>3.000000</td>\n",
       "      <td>3.000000</td>\n",
       "      <td>3.000000</td>\n",
       "      <td>3.000000</td>\n",
       "      <td>3.000000</td>\n",
       "      <td>4.000000</td>\n",
       "      <td>4.000000</td>\n",
       "      <td>4.000000</td>\n",
       "      <td>3.000000</td>\n",
       "      <td>3.000000</td>\n",
       "      <td>4.000000</td>\n",
       "      <td>3.000000</td>\n",
       "      <td>4.000000</td>\n",
       "      <td>4.000000</td>\n",
       "    </tr>\n",
       "    <tr>\n",
       "      <th>75%</th>\n",
       "      <td>97410.250000</td>\n",
       "      <td>51.000000</td>\n",
       "      <td>1744.000000</td>\n",
       "      <td>12.000000</td>\n",
       "      <td>13.000000</td>\n",
       "      <td>4.000000</td>\n",
       "      <td>4.000000</td>\n",
       "      <td>4.000000</td>\n",
       "      <td>4.000000</td>\n",
       "      <td>4.000000</td>\n",
       "      <td>4.000000</td>\n",
       "      <td>5.000000</td>\n",
       "      <td>4.000000</td>\n",
       "      <td>4.000000</td>\n",
       "      <td>4.000000</td>\n",
       "      <td>5.000000</td>\n",
       "      <td>4.000000</td>\n",
       "      <td>4.000000</td>\n",
       "      <td>5.000000</td>\n",
       "    </tr>\n",
       "    <tr>\n",
       "      <th>max</th>\n",
       "      <td>129880.000000</td>\n",
       "      <td>85.000000</td>\n",
       "      <td>4983.000000</td>\n",
       "      <td>1592.000000</td>\n",
       "      <td>1584.000000</td>\n",
       "      <td>5.000000</td>\n",
       "      <td>5.000000</td>\n",
       "      <td>5.000000</td>\n",
       "      <td>5.000000</td>\n",
       "      <td>5.000000</td>\n",
       "      <td>5.000000</td>\n",
       "      <td>5.000000</td>\n",
       "      <td>5.000000</td>\n",
       "      <td>5.000000</td>\n",
       "      <td>5.000000</td>\n",
       "      <td>5.000000</td>\n",
       "      <td>5.000000</td>\n",
       "      <td>5.000000</td>\n",
       "      <td>5.000000</td>\n",
       "    </tr>\n",
       "  </tbody>\n",
       "</table>\n",
       "</div>"
      ],
      "text/plain": [
       "                  ID            Age  Flight Distance  Departure Delay  \\\n",
       "count  129880.000000  129880.000000    129880.000000    129880.000000   \n",
       "mean    64940.500000      39.427957      1190.316392        14.713713   \n",
       "std     37493.270818      15.119360       997.452477        38.071126   \n",
       "min         1.000000       7.000000        31.000000         0.000000   \n",
       "25%     32470.750000      27.000000       414.000000         0.000000   \n",
       "50%     64940.500000      40.000000       844.000000         0.000000   \n",
       "75%     97410.250000      51.000000      1744.000000        12.000000   \n",
       "max    129880.000000      85.000000      4983.000000      1592.000000   \n",
       "\n",
       "       Arrival Delay  Departure and Arrival Time Convenience  \\\n",
       "count  129487.000000                           129880.000000   \n",
       "mean       15.091129                                3.057599   \n",
       "std        38.465650                                1.526741   \n",
       "min         0.000000                                0.000000   \n",
       "25%         0.000000                                2.000000   \n",
       "50%         0.000000                                3.000000   \n",
       "75%        13.000000                                4.000000   \n",
       "max      1584.000000                                5.000000   \n",
       "\n",
       "       Ease of Online Booking  Check-in Service  Online Boarding  \\\n",
       "count           129880.000000     129880.000000    129880.000000   \n",
       "mean                 2.756876          3.306267         3.252633   \n",
       "std                  1.401740          1.266185         1.350719   \n",
       "min                  0.000000          0.000000         0.000000   \n",
       "25%                  2.000000          3.000000         2.000000   \n",
       "50%                  3.000000          3.000000         3.000000   \n",
       "75%                  4.000000          4.000000         4.000000   \n",
       "max                  5.000000          5.000000         5.000000   \n",
       "\n",
       "       Gate Location  On-board Service   Seat Comfort  Leg Room Service  \\\n",
       "count  129880.000000     129880.000000  129880.000000     129880.000000   \n",
       "mean        2.976925          3.383023       3.441361          3.350878   \n",
       "std         1.278520          1.287099       1.319289          1.316252   \n",
       "min         0.000000          0.000000       0.000000          0.000000   \n",
       "25%         2.000000          2.000000       2.000000          2.000000   \n",
       "50%         3.000000          4.000000       4.000000          4.000000   \n",
       "75%         4.000000          4.000000       5.000000          4.000000   \n",
       "max         5.000000          5.000000       5.000000          5.000000   \n",
       "\n",
       "         Cleanliness  Food and Drink  In-flight Service  \\\n",
       "count  129880.000000   129880.000000      129880.000000   \n",
       "mean        3.286326        3.204774           3.642193   \n",
       "std         1.313682        1.329933           1.176669   \n",
       "min         0.000000        0.000000           0.000000   \n",
       "25%         2.000000        2.000000           3.000000   \n",
       "50%         3.000000        3.000000           4.000000   \n",
       "75%         4.000000        4.000000           5.000000   \n",
       "max         5.000000        5.000000           5.000000   \n",
       "\n",
       "       In-flight Wifi Service  In-flight Entertainment  Baggage Handling  \n",
       "count           129880.000000            129880.000000     129880.000000  \n",
       "mean                 2.728696                 3.358077          3.632114  \n",
       "std                  1.329340                 1.334049          1.180025  \n",
       "min                  0.000000                 0.000000          1.000000  \n",
       "25%                  2.000000                 2.000000          3.000000  \n",
       "50%                  3.000000                 4.000000          4.000000  \n",
       "75%                  4.000000                 4.000000          5.000000  \n",
       "max                  5.000000                 5.000000          5.000000  "
      ]
     },
     "execution_count": 4,
     "metadata": {},
     "output_type": "execute_result"
    }
   ],
   "source": [
    "data.describe()"
   ]
  },
  {
   "cell_type": "markdown",
   "id": "kpilAFicFLVc",
   "metadata": {
    "id": "kpilAFicFLVc"
   },
   "source": [
    "#***MISSING VALUE CHECK***"
   ]
  },
  {
   "cell_type": "markdown",
   "id": "xkihagmPEj5n",
   "metadata": {
    "id": "xkihagmPEj5n"
   },
   "source": [
    "***Before carrying out any analysis ,we would wish to check if our dataset contains any missing values and we have found the following result:***"
   ]
  },
  {
   "cell_type": "code",
   "execution_count": 5,
   "id": "a0ba680b",
   "metadata": {
    "colab": {
     "base_uri": "https://localhost:8080/"
    },
    "id": "a0ba680b",
    "outputId": "8ed58c48-4a5e-4c74-fdaf-95b4f4d8ba08"
   },
   "outputs": [
    {
     "data": {
      "text/plain": [
       "ID                                          0\n",
       "Gender                                      0\n",
       "Age                                         0\n",
       "Customer Type                               0\n",
       "Type of Travel                              0\n",
       "Class                                       0\n",
       "Flight Distance                             0\n",
       "Departure Delay                             0\n",
       "Arrival Delay                             393\n",
       "Departure and Arrival Time Convenience      0\n",
       "Ease of Online Booking                      0\n",
       "Check-in Service                            0\n",
       "Online Boarding                             0\n",
       "Gate Location                               0\n",
       "On-board Service                            0\n",
       "Seat Comfort                                0\n",
       "Leg Room Service                            0\n",
       "Cleanliness                                 0\n",
       "Food and Drink                              0\n",
       "In-flight Service                           0\n",
       "In-flight Wifi Service                      0\n",
       "In-flight Entertainment                     0\n",
       "Baggage Handling                            0\n",
       "Satisfaction                                0\n",
       "dtype: int64"
      ]
     },
     "execution_count": 5,
     "metadata": {},
     "output_type": "execute_result"
    }
   ],
   "source": [
    "data.isnull().sum()"
   ]
  },
  {
   "cell_type": "markdown",
   "id": "HSlsV__AFhlN",
   "metadata": {
    "id": "HSlsV__AFhlN"
   },
   "source": [
    "******"
   ]
  },
  {
   "cell_type": "markdown",
   "id": "iHi3TnWRXkx7",
   "metadata": {
    "id": "iHi3TnWRXkx7"
   },
   "source": [
    "**From the above it is seen that in \"ARRIVAL DELAY\"there are 393 missing values.Here to overcome the situation we replace the missing values by the median of the other values in that particular feature column.**"
   ]
  },
  {
   "cell_type": "markdown",
   "id": "dX78IuWWX1sU",
   "metadata": {
    "id": "dX78IuWWX1sU"
   },
   "source": [
    "## Handling Missing Values"
   ]
  },
  {
   "cell_type": "code",
   "execution_count": 6,
   "id": "a0996395",
   "metadata": {
    "id": "a0996395"
   },
   "outputs": [],
   "source": [
    "data['Arrival Delay'].fillna(data['Arrival Delay'].median(), inplace=True)"
   ]
  },
  {
   "cell_type": "code",
   "execution_count": 7,
   "id": "g95ftsV4uaNz",
   "metadata": {
    "colab": {
     "base_uri": "https://localhost:8080/",
     "height": 644
    },
    "id": "g95ftsV4uaNz",
    "outputId": "e92b6524-da1b-42df-f721-70710d515e88"
   },
   "outputs": [
    {
     "data": {
      "text/html": [
       "<div>\n",
       "<style scoped>\n",
       "    .dataframe tbody tr th:only-of-type {\n",
       "        vertical-align: middle;\n",
       "    }\n",
       "\n",
       "    .dataframe tbody tr th {\n",
       "        vertical-align: top;\n",
       "    }\n",
       "\n",
       "    .dataframe thead th {\n",
       "        text-align: right;\n",
       "    }\n",
       "</style>\n",
       "<table border=\"1\" class=\"dataframe\">\n",
       "  <thead>\n",
       "    <tr style=\"text-align: right;\">\n",
       "      <th></th>\n",
       "      <th>ID</th>\n",
       "      <th>Gender</th>\n",
       "      <th>Age</th>\n",
       "      <th>Customer Type</th>\n",
       "      <th>Type of Travel</th>\n",
       "      <th>Class</th>\n",
       "      <th>Flight Distance</th>\n",
       "      <th>Departure Delay</th>\n",
       "      <th>Arrival Delay</th>\n",
       "      <th>Departure and Arrival Time Convenience</th>\n",
       "      <th>...</th>\n",
       "      <th>On-board Service</th>\n",
       "      <th>Seat Comfort</th>\n",
       "      <th>Leg Room Service</th>\n",
       "      <th>Cleanliness</th>\n",
       "      <th>Food and Drink</th>\n",
       "      <th>In-flight Service</th>\n",
       "      <th>In-flight Wifi Service</th>\n",
       "      <th>In-flight Entertainment</th>\n",
       "      <th>Baggage Handling</th>\n",
       "      <th>Satisfaction</th>\n",
       "    </tr>\n",
       "  </thead>\n",
       "  <tbody>\n",
       "    <tr>\n",
       "      <th>0</th>\n",
       "      <td>1</td>\n",
       "      <td>Male</td>\n",
       "      <td>48</td>\n",
       "      <td>First-time</td>\n",
       "      <td>Business</td>\n",
       "      <td>Business</td>\n",
       "      <td>821</td>\n",
       "      <td>2</td>\n",
       "      <td>5.0</td>\n",
       "      <td>3</td>\n",
       "      <td>...</td>\n",
       "      <td>3</td>\n",
       "      <td>5</td>\n",
       "      <td>2</td>\n",
       "      <td>5</td>\n",
       "      <td>5</td>\n",
       "      <td>5</td>\n",
       "      <td>3</td>\n",
       "      <td>5</td>\n",
       "      <td>5</td>\n",
       "      <td>Neutral or Dissatisfied</td>\n",
       "    </tr>\n",
       "    <tr>\n",
       "      <th>1</th>\n",
       "      <td>2</td>\n",
       "      <td>Female</td>\n",
       "      <td>35</td>\n",
       "      <td>Returning</td>\n",
       "      <td>Business</td>\n",
       "      <td>Business</td>\n",
       "      <td>821</td>\n",
       "      <td>26</td>\n",
       "      <td>39.0</td>\n",
       "      <td>2</td>\n",
       "      <td>...</td>\n",
       "      <td>5</td>\n",
       "      <td>4</td>\n",
       "      <td>5</td>\n",
       "      <td>5</td>\n",
       "      <td>3</td>\n",
       "      <td>5</td>\n",
       "      <td>2</td>\n",
       "      <td>5</td>\n",
       "      <td>5</td>\n",
       "      <td>Satisfied</td>\n",
       "    </tr>\n",
       "    <tr>\n",
       "      <th>2</th>\n",
       "      <td>3</td>\n",
       "      <td>Male</td>\n",
       "      <td>41</td>\n",
       "      <td>Returning</td>\n",
       "      <td>Business</td>\n",
       "      <td>Business</td>\n",
       "      <td>853</td>\n",
       "      <td>0</td>\n",
       "      <td>0.0</td>\n",
       "      <td>4</td>\n",
       "      <td>...</td>\n",
       "      <td>3</td>\n",
       "      <td>5</td>\n",
       "      <td>3</td>\n",
       "      <td>5</td>\n",
       "      <td>5</td>\n",
       "      <td>3</td>\n",
       "      <td>4</td>\n",
       "      <td>3</td>\n",
       "      <td>3</td>\n",
       "      <td>Satisfied</td>\n",
       "    </tr>\n",
       "    <tr>\n",
       "      <th>3</th>\n",
       "      <td>4</td>\n",
       "      <td>Male</td>\n",
       "      <td>50</td>\n",
       "      <td>Returning</td>\n",
       "      <td>Business</td>\n",
       "      <td>Business</td>\n",
       "      <td>1905</td>\n",
       "      <td>0</td>\n",
       "      <td>0.0</td>\n",
       "      <td>2</td>\n",
       "      <td>...</td>\n",
       "      <td>5</td>\n",
       "      <td>5</td>\n",
       "      <td>5</td>\n",
       "      <td>4</td>\n",
       "      <td>4</td>\n",
       "      <td>5</td>\n",
       "      <td>2</td>\n",
       "      <td>5</td>\n",
       "      <td>5</td>\n",
       "      <td>Satisfied</td>\n",
       "    </tr>\n",
       "    <tr>\n",
       "      <th>4</th>\n",
       "      <td>5</td>\n",
       "      <td>Female</td>\n",
       "      <td>49</td>\n",
       "      <td>Returning</td>\n",
       "      <td>Business</td>\n",
       "      <td>Business</td>\n",
       "      <td>3470</td>\n",
       "      <td>0</td>\n",
       "      <td>1.0</td>\n",
       "      <td>3</td>\n",
       "      <td>...</td>\n",
       "      <td>3</td>\n",
       "      <td>4</td>\n",
       "      <td>4</td>\n",
       "      <td>5</td>\n",
       "      <td>4</td>\n",
       "      <td>3</td>\n",
       "      <td>3</td>\n",
       "      <td>3</td>\n",
       "      <td>3</td>\n",
       "      <td>Satisfied</td>\n",
       "    </tr>\n",
       "    <tr>\n",
       "      <th>...</th>\n",
       "      <td>...</td>\n",
       "      <td>...</td>\n",
       "      <td>...</td>\n",
       "      <td>...</td>\n",
       "      <td>...</td>\n",
       "      <td>...</td>\n",
       "      <td>...</td>\n",
       "      <td>...</td>\n",
       "      <td>...</td>\n",
       "      <td>...</td>\n",
       "      <td>...</td>\n",
       "      <td>...</td>\n",
       "      <td>...</td>\n",
       "      <td>...</td>\n",
       "      <td>...</td>\n",
       "      <td>...</td>\n",
       "      <td>...</td>\n",
       "      <td>...</td>\n",
       "      <td>...</td>\n",
       "      <td>...</td>\n",
       "      <td>...</td>\n",
       "    </tr>\n",
       "    <tr>\n",
       "      <th>129875</th>\n",
       "      <td>129876</td>\n",
       "      <td>Male</td>\n",
       "      <td>28</td>\n",
       "      <td>Returning</td>\n",
       "      <td>Personal</td>\n",
       "      <td>Economy Plus</td>\n",
       "      <td>447</td>\n",
       "      <td>2</td>\n",
       "      <td>3.0</td>\n",
       "      <td>4</td>\n",
       "      <td>...</td>\n",
       "      <td>5</td>\n",
       "      <td>1</td>\n",
       "      <td>4</td>\n",
       "      <td>4</td>\n",
       "      <td>4</td>\n",
       "      <td>5</td>\n",
       "      <td>4</td>\n",
       "      <td>4</td>\n",
       "      <td>4</td>\n",
       "      <td>Neutral or Dissatisfied</td>\n",
       "    </tr>\n",
       "    <tr>\n",
       "      <th>129876</th>\n",
       "      <td>129877</td>\n",
       "      <td>Male</td>\n",
       "      <td>41</td>\n",
       "      <td>Returning</td>\n",
       "      <td>Personal</td>\n",
       "      <td>Economy Plus</td>\n",
       "      <td>308</td>\n",
       "      <td>0</td>\n",
       "      <td>0.0</td>\n",
       "      <td>5</td>\n",
       "      <td>...</td>\n",
       "      <td>5</td>\n",
       "      <td>2</td>\n",
       "      <td>5</td>\n",
       "      <td>2</td>\n",
       "      <td>2</td>\n",
       "      <td>4</td>\n",
       "      <td>3</td>\n",
       "      <td>2</td>\n",
       "      <td>5</td>\n",
       "      <td>Neutral or Dissatisfied</td>\n",
       "    </tr>\n",
       "    <tr>\n",
       "      <th>129877</th>\n",
       "      <td>129878</td>\n",
       "      <td>Male</td>\n",
       "      <td>42</td>\n",
       "      <td>Returning</td>\n",
       "      <td>Personal</td>\n",
       "      <td>Economy Plus</td>\n",
       "      <td>337</td>\n",
       "      <td>6</td>\n",
       "      <td>14.0</td>\n",
       "      <td>5</td>\n",
       "      <td>...</td>\n",
       "      <td>3</td>\n",
       "      <td>3</td>\n",
       "      <td>4</td>\n",
       "      <td>3</td>\n",
       "      <td>3</td>\n",
       "      <td>4</td>\n",
       "      <td>2</td>\n",
       "      <td>3</td>\n",
       "      <td>5</td>\n",
       "      <td>Neutral or Dissatisfied</td>\n",
       "    </tr>\n",
       "    <tr>\n",
       "      <th>129878</th>\n",
       "      <td>129879</td>\n",
       "      <td>Male</td>\n",
       "      <td>50</td>\n",
       "      <td>Returning</td>\n",
       "      <td>Personal</td>\n",
       "      <td>Economy Plus</td>\n",
       "      <td>337</td>\n",
       "      <td>31</td>\n",
       "      <td>22.0</td>\n",
       "      <td>4</td>\n",
       "      <td>...</td>\n",
       "      <td>4</td>\n",
       "      <td>4</td>\n",
       "      <td>5</td>\n",
       "      <td>3</td>\n",
       "      <td>3</td>\n",
       "      <td>4</td>\n",
       "      <td>5</td>\n",
       "      <td>3</td>\n",
       "      <td>5</td>\n",
       "      <td>Satisfied</td>\n",
       "    </tr>\n",
       "    <tr>\n",
       "      <th>129879</th>\n",
       "      <td>129880</td>\n",
       "      <td>Female</td>\n",
       "      <td>20</td>\n",
       "      <td>Returning</td>\n",
       "      <td>Personal</td>\n",
       "      <td>Economy Plus</td>\n",
       "      <td>337</td>\n",
       "      <td>0</td>\n",
       "      <td>0.0</td>\n",
       "      <td>1</td>\n",
       "      <td>...</td>\n",
       "      <td>4</td>\n",
       "      <td>2</td>\n",
       "      <td>4</td>\n",
       "      <td>2</td>\n",
       "      <td>2</td>\n",
       "      <td>2</td>\n",
       "      <td>3</td>\n",
       "      <td>2</td>\n",
       "      <td>1</td>\n",
       "      <td>Neutral or Dissatisfied</td>\n",
       "    </tr>\n",
       "  </tbody>\n",
       "</table>\n",
       "<p>129880 rows × 24 columns</p>\n",
       "</div>"
      ],
      "text/plain": [
       "            ID  Gender  Age Customer Type Type of Travel         Class  \\\n",
       "0            1    Male   48    First-time       Business      Business   \n",
       "1            2  Female   35     Returning       Business      Business   \n",
       "2            3    Male   41     Returning       Business      Business   \n",
       "3            4    Male   50     Returning       Business      Business   \n",
       "4            5  Female   49     Returning       Business      Business   \n",
       "...        ...     ...  ...           ...            ...           ...   \n",
       "129875  129876    Male   28     Returning       Personal  Economy Plus   \n",
       "129876  129877    Male   41     Returning       Personal  Economy Plus   \n",
       "129877  129878    Male   42     Returning       Personal  Economy Plus   \n",
       "129878  129879    Male   50     Returning       Personal  Economy Plus   \n",
       "129879  129880  Female   20     Returning       Personal  Economy Plus   \n",
       "\n",
       "        Flight Distance  Departure Delay  Arrival Delay  \\\n",
       "0                   821                2            5.0   \n",
       "1                   821               26           39.0   \n",
       "2                   853                0            0.0   \n",
       "3                  1905                0            0.0   \n",
       "4                  3470                0            1.0   \n",
       "...                 ...              ...            ...   \n",
       "129875              447                2            3.0   \n",
       "129876              308                0            0.0   \n",
       "129877              337                6           14.0   \n",
       "129878              337               31           22.0   \n",
       "129879              337                0            0.0   \n",
       "\n",
       "        Departure and Arrival Time Convenience  ...  On-board Service  \\\n",
       "0                                            3  ...                 3   \n",
       "1                                            2  ...                 5   \n",
       "2                                            4  ...                 3   \n",
       "3                                            2  ...                 5   \n",
       "4                                            3  ...                 3   \n",
       "...                                        ...  ...               ...   \n",
       "129875                                       4  ...                 5   \n",
       "129876                                       5  ...                 5   \n",
       "129877                                       5  ...                 3   \n",
       "129878                                       4  ...                 4   \n",
       "129879                                       1  ...                 4   \n",
       "\n",
       "        Seat Comfort  Leg Room Service  Cleanliness  Food and Drink  \\\n",
       "0                  5                 2            5               5   \n",
       "1                  4                 5            5               3   \n",
       "2                  5                 3            5               5   \n",
       "3                  5                 5            4               4   \n",
       "4                  4                 4            5               4   \n",
       "...              ...               ...          ...             ...   \n",
       "129875             1                 4            4               4   \n",
       "129876             2                 5            2               2   \n",
       "129877             3                 4            3               3   \n",
       "129878             4                 5            3               3   \n",
       "129879             2                 4            2               2   \n",
       "\n",
       "        In-flight Service  In-flight Wifi Service  In-flight Entertainment  \\\n",
       "0                       5                       3                        5   \n",
       "1                       5                       2                        5   \n",
       "2                       3                       4                        3   \n",
       "3                       5                       2                        5   \n",
       "4                       3                       3                        3   \n",
       "...                   ...                     ...                      ...   \n",
       "129875                  5                       4                        4   \n",
       "129876                  4                       3                        2   \n",
       "129877                  4                       2                        3   \n",
       "129878                  4                       5                        3   \n",
       "129879                  2                       3                        2   \n",
       "\n",
       "        Baggage Handling             Satisfaction  \n",
       "0                      5  Neutral or Dissatisfied  \n",
       "1                      5                Satisfied  \n",
       "2                      3                Satisfied  \n",
       "3                      5                Satisfied  \n",
       "4                      3                Satisfied  \n",
       "...                  ...                      ...  \n",
       "129875                 4  Neutral or Dissatisfied  \n",
       "129876                 5  Neutral or Dissatisfied  \n",
       "129877                 5  Neutral or Dissatisfied  \n",
       "129878                 5                Satisfied  \n",
       "129879                 1  Neutral or Dissatisfied  \n",
       "\n",
       "[129880 rows x 24 columns]"
      ]
     },
     "execution_count": 7,
     "metadata": {},
     "output_type": "execute_result"
    }
   ],
   "source": [
    "data.dropna()"
   ]
  },
  {
   "cell_type": "markdown",
   "id": "zyGhgnUxOShH",
   "metadata": {
    "id": "zyGhgnUxOShH"
   },
   "source": [
    "***THIS DATA CONTAINS 129880 ROWS AND 24 COLUMNS,WITH SATISFACTION AS THE TARGET.THERE ARE 23 FEATURE COLUMNS AND 1 BINARY COLUMN.OUT OF ALL FEATURES,14 ARE SURVEY ENTRIES WHERE PASSENGERS RATE THE FLIGHT EXPERIENCE ON A SCALE OF 1 TO 5.HOWEVER THERE ARE ALSO SOME SURVEY ENTRIES WITH A SCORE 0,WHICH IS INFER TO BE UNFILLED SURVEY QUESTION.***"
   ]
  },
  {
   "cell_type": "code",
   "execution_count": 8,
   "id": "af2ee9fa",
   "metadata": {
    "colab": {
     "base_uri": "https://localhost:8080/"
    },
    "id": "af2ee9fa",
    "outputId": "970af86f-98e8-405b-c336-70c7782d863d",
    "scrolled": true
   },
   "outputs": [
    {
     "data": {
      "text/plain": [
       "ID                                        0\n",
       "Gender                                    0\n",
       "Age                                       0\n",
       "Customer Type                             0\n",
       "Type of Travel                            0\n",
       "Class                                     0\n",
       "Flight Distance                           0\n",
       "Departure Delay                           0\n",
       "Arrival Delay                             0\n",
       "Departure and Arrival Time Convenience    0\n",
       "Ease of Online Booking                    0\n",
       "Check-in Service                          0\n",
       "Online Boarding                           0\n",
       "Gate Location                             0\n",
       "On-board Service                          0\n",
       "Seat Comfort                              0\n",
       "Leg Room Service                          0\n",
       "Cleanliness                               0\n",
       "Food and Drink                            0\n",
       "In-flight Service                         0\n",
       "In-flight Wifi Service                    0\n",
       "In-flight Entertainment                   0\n",
       "Baggage Handling                          0\n",
       "Satisfaction                              0\n",
       "dtype: int64"
      ]
     },
     "execution_count": 8,
     "metadata": {},
     "output_type": "execute_result"
    }
   ],
   "source": [
    "data.isnull().sum()"
   ]
  },
  {
   "cell_type": "markdown",
   "id": "EOHcQmqSOtBW",
   "metadata": {
    "id": "EOHcQmqSOtBW"
   },
   "source": [
    "***SATISFACTION*** \n",
    "*Satisfaction is a direct reaction to consumption,while service quality is defined as the customer's overall impression of the service provided.Planned and perceived service quality have an effect on service quality.Customers will be satisfied to be very good if the service matches their standard.*"
   ]
  },
  {
   "cell_type": "code",
   "execution_count": 9,
   "id": "e060b16d",
   "metadata": {
    "id": "e060b16d"
   },
   "outputs": [],
   "source": [
    "def pivot_satisfaction (data, target): \n",
    "    \n",
    "    df_pivot = pd.pivot_table(\n",
    "        data[[\"ID\", target, \"Satisfaction\"]],\n",
    "        index = [target], \n",
    "        columns = [\"Satisfaction\"], \n",
    "        aggfunc = \"count\", \n",
    "        fill_value =0).reset_index()\n",
    "    \n",
    "    df_pivot.columns = [target, \"Neutral or Dissatisfied\", \"Satisfied\"]\n",
    "    \n",
    "    df_pivot[\"total\"] = df_pivot[\"Satisfied\"]+df_pivot[\"Neutral or Dissatisfied\"]\n",
    "    df_pivot[\"Dissatisfied_rate\"] = df_pivot[\"Neutral or Dissatisfied\"]/df_pivot[\"total\"]*100\n",
    "    return df_pivot"
   ]
  },
  {
   "cell_type": "code",
   "execution_count": 10,
   "id": "a34cb638",
   "metadata": {
    "colab": {
     "base_uri": "https://localhost:8080/",
     "height": 515
    },
    "id": "a34cb638",
    "outputId": "b6e2ee6c-dc06-4d9f-ff98-0c660cbfb479",
    "scrolled": true
   },
   "outputs": [
    {
     "data": {
      "text/plain": [
       "<AxesSubplot:xlabel='Satisfaction', ylabel='count'>"
      ]
     },
     "execution_count": 10,
     "metadata": {},
     "output_type": "execute_result"
    },
    {
     "data": {
      "image/png": "[encoded data removed]",
      "text/plain": [
       "<Figure size 504x576 with 1 Axes>"
      ]
     },
     "metadata": {
      "needs_background": "light"
     },
     "output_type": "display_data"
    }
   ],
   "source": [
    "plt.figure(figsize=(7,8))\n",
    "sns.countplot(x=\"Satisfaction\",data = data)"
   ]
  },
  {
   "cell_type": "code",
   "execution_count": 11,
   "id": "d3a20303",
   "metadata": {
    "colab": {
     "base_uri": "https://localhost:8080/"
    },
    "id": "d3a20303",
    "outputId": "b96df54e-2f2b-4818-eee0-d97f68837d53"
   },
   "outputs": [
    {
     "data": {
      "text/plain": [
       "Neutral or Dissatisfied    73452\n",
       "Satisfied                  56428\n",
       "Name: Satisfaction, dtype: int64"
      ]
     },
     "execution_count": 11,
     "metadata": {},
     "output_type": "execute_result"
    }
   ],
   "source": [
    "data[\"Satisfaction\"].value_counts()"
   ]
  },
  {
   "cell_type": "markdown",
   "id": "bnAWLKoSSqGp",
   "metadata": {
    "id": "bnAWLKoSSqGp"
   },
   "source": [
    "***OVERVIEW***\n",
    "THE DISTRIBUTION OF THE TARGET COLUMN IS QUITE BALANCED,SO,WE CAN USE EDA AND FIT CLASSIFICATION MODEL WITH THIS DEPENDENT VARIABLE.IF THE DATA WAS IMBALANCED IN THAT CASE WE CAN USE DOWNSAMPLING AND UPWEIGHTING TECHNIQUE TO BALANCED THIS."
   ]
  },
  {
   "cell_type": "markdown",
   "id": "u1XRnyRzzer5",
   "metadata": {
    "id": "u1XRnyRzzer5"
   },
   "source": [
    " # #***EXPLORATORY DATA ANALYSIS***"
   ]
  },
  {
   "cell_type": "markdown",
   "id": "6AhBR0BWzmNt",
   "metadata": {
    "id": "6AhBR0BWzmNt"
   },
   "source": [
    "  1. **Gender VS Satisfaction**"
   ]
  },
  {
   "cell_type": "markdown",
   "id": "bdJreV9LzwiM",
   "metadata": {
    "id": "bdJreV9LzwiM"
   },
   "source": [
    "**GENDER**\n",
    "It represents the gender of the passenger and takes values{female,male}.It has been considered as a factor variable.\n"
   ]
  },
  {
   "cell_type": "markdown",
   "id": "1qRRMb8FYivy",
   "metadata": {
    "id": "1qRRMb8FYivy"
   },
   "source": [
    "## GRAPH PLOT"
   ]
  },
  {
   "cell_type": "code",
   "execution_count": 12,
   "id": "ea067807",
   "metadata": {
    "colab": {
     "base_uri": "https://localhost:8080/",
     "height": 297
    },
    "id": "ea067807",
    "outputId": "ea6515a6-1dc7-4f0b-eb58-a8e3ba484bb4"
   },
   "outputs": [
    {
     "data": {
      "text/plain": [
       "<AxesSubplot:xlabel='Satisfaction', ylabel='count'>"
      ]
     },
     "execution_count": 12,
     "metadata": {},
     "output_type": "execute_result"
    },
    {
     "data": {
      "image/png": "[encoded data removed]",
      "text/plain": [
       "<Figure size 432x288 with 1 Axes>"
      ]
     },
     "metadata": {
      "needs_background": "light"
     },
     "output_type": "display_data"
    }
   ],
   "source": [
    "sns.countplot(x=\"Satisfaction\",data = data,hue=\"Gender\")"
   ]
  },
  {
   "cell_type": "markdown",
   "id": "dn8INTA34pDD",
   "metadata": {
    "id": "dn8INTA34pDD"
   },
   "source": [
    "From this figure it appears that the satisfaction level for both genders were relatively similar, with over 55% of individuals from both genders reporting that they were not satisfied with the service."
   ]
  },
  {
   "cell_type": "code",
   "execution_count": 13,
   "id": "9dab2eb3",
   "metadata": {
    "colab": {
     "base_uri": "https://localhost:8080/",
     "height": 112
    },
    "id": "9dab2eb3",
    "outputId": "5cfcfece-4c7d-4408-c4df-37d445e3cc2c",
    "scrolled": true
   },
   "outputs": [
    {
     "data": {
      "text/html": [
       "<div>\n",
       "<style scoped>\n",
       "    .dataframe tbody tr th:only-of-type {\n",
       "        vertical-align: middle;\n",
       "    }\n",
       "\n",
       "    .dataframe tbody tr th {\n",
       "        vertical-align: top;\n",
       "    }\n",
       "\n",
       "    .dataframe thead th {\n",
       "        text-align: right;\n",
       "    }\n",
       "</style>\n",
       "<table border=\"1\" class=\"dataframe\">\n",
       "  <thead>\n",
       "    <tr style=\"text-align: right;\">\n",
       "      <th></th>\n",
       "      <th>Gender</th>\n",
       "      <th>Neutral or Dissatisfied</th>\n",
       "      <th>Satisfied</th>\n",
       "      <th>total</th>\n",
       "      <th>Dissatisfied_rate</th>\n",
       "    </tr>\n",
       "  </thead>\n",
       "  <tbody>\n",
       "    <tr>\n",
       "      <th>0</th>\n",
       "      <td>Female</td>\n",
       "      <td>37630</td>\n",
       "      <td>28269</td>\n",
       "      <td>65899</td>\n",
       "      <td>57.102536</td>\n",
       "    </tr>\n",
       "    <tr>\n",
       "      <th>1</th>\n",
       "      <td>Male</td>\n",
       "      <td>35822</td>\n",
       "      <td>28159</td>\n",
       "      <td>63981</td>\n",
       "      <td>55.988497</td>\n",
       "    </tr>\n",
       "  </tbody>\n",
       "</table>\n",
       "</div>"
      ],
      "text/plain": [
       "   Gender  Neutral or Dissatisfied  Satisfied  total  Dissatisfied_rate\n",
       "0  Female                    37630      28269  65899          57.102536\n",
       "1    Male                    35822      28159  63981          55.988497"
      ]
     },
     "execution_count": 13,
     "metadata": {},
     "output_type": "execute_result"
    }
   ],
   "source": [
    "pivot_satisfaction(data,\"Gender\")"
   ]
  },
  {
   "cell_type": "markdown",
   "id": "ek84cFeA9mUf",
   "metadata": {
    "id": "ek84cFeA9mUf"
   },
   "source": [
    "#OVERVIEW\n",
    "The gender split in the dataset is relatively even with 49.25% of the passengers male and remaining are female. It should be acknowledged that this is a binary classification leaving little room for those who do not wish to disclose their gender or do not conform to the two traditional genders. Subsequently, in reruns of such surveys, criteria gender could be updated.\n",
    "Leaving aside, it appears from the avobe figure that   satisfaction level for both genders were relatively similar, with over 55% of individuals from both genders reporting that they were not satisfied with the service.\n",
    "\n",
    "\n",
    "FOR THE GENDER TYPE ,THE DATA SHOWS THAT THEY ARE LESS IMPORTANT FOR THE OVERALL SATISFACTION .IT IS WISE TO DROP THEM LATER FOR MODELING."
   ]
  },
  {
   "cell_type": "markdown",
   "id": "TKzYvv88LAaC",
   "metadata": {
    "id": "TKzYvv88LAaC"
   },
   "source": [
    "#### 2. CUSTOMER TYPE vs SATISFACTION**"
   ]
  },
  {
   "cell_type": "markdown",
   "id": "8bf5d3e7",
   "metadata": {
    "id": "8bf5d3e7"
   },
   "source": [
    "# Customer Type\n",
    "It gives information about the loyality of the customers and takes values {First Time customer,Returning Customer} .It has been considered as a factor variable ."
   ]
  },
  {
   "cell_type": "code",
   "execution_count": 14,
   "id": "eab939de",
   "metadata": {
    "id": "CwbIlKTcYn81"
   },
   "outputs": [],
   "source": [
    " ### GRAPH PLOT"
   ]
  },
  {
   "cell_type": "code",
   "execution_count": 15,
   "id": "a1ab6405",
   "metadata": {
    "colab": {
     "base_uri": "https://localhost:8080/",
     "height": 189
    },
    "id": "a1ab6405",
    "outputId": "6e531f4a-1620-4ba8-8550-fc21b6bc5ad5",
    "scrolled": false
   },
   "outputs": [
    {
     "data": {
      "text/plain": [
       "<AxesSubplot:xlabel='Satisfaction', ylabel='count'>"
      ]
     },
     "execution_count": 15,
     "metadata": {},
     "output_type": "execute_result"
    },
    {
     "data": {
      "image/png": "[encoded data removed]",
      "text/plain": [
       "<Figure size 648x144 with 1 Axes>"
      ]
     },
     "metadata": {
      "needs_background": "light"
     },
     "output_type": "display_data"
    }
   ],
   "source": [
    "plt.figure(figsize=(9,2))\n",
    "sns.countplot(x=\"Satisfaction\",data = data, hue=\"Customer Type\")"
   ]
  },
  {
   "cell_type": "markdown",
   "id": "GOFfMV_cAgUK",
   "metadata": {
    "id": "GOFfMV_cAgUK"
   },
   "source": [
    "There is a high number of Returning customers that are dissatisfied with the services.Their lack of satisfaction suggests that the service may have changed recently or\n",
    "that the service is failing to meet the transforming market. As Returning customer's opinion are more better than the first time customer of a business and as such if the service does not improve, the business may face difficulty.\n",
    "\n"
   ]
  },
  {
   "cell_type": "code",
   "execution_count": 16,
   "id": "8b7d7fdb",
   "metadata": {
    "colab": {
     "base_uri": "https://localhost:8080/",
     "height": 112
    },
    "id": "8b7d7fdb",
    "outputId": "ffd89e40-675f-4e81-994a-7f06dd30540b"
   },
   "outputs": [
    {
     "data": {
      "text/html": [
       "<div>\n",
       "<style scoped>\n",
       "    .dataframe tbody tr th:only-of-type {\n",
       "        vertical-align: middle;\n",
       "    }\n",
       "\n",
       "    .dataframe tbody tr th {\n",
       "        vertical-align: top;\n",
       "    }\n",
       "\n",
       "    .dataframe thead th {\n",
       "        text-align: right;\n",
       "    }\n",
       "</style>\n",
       "<table border=\"1\" class=\"dataframe\">\n",
       "  <thead>\n",
       "    <tr style=\"text-align: right;\">\n",
       "      <th></th>\n",
       "      <th>Customer Type</th>\n",
       "      <th>Neutral or Dissatisfied</th>\n",
       "      <th>Satisfied</th>\n",
       "      <th>total</th>\n",
       "      <th>Dissatisfied_rate</th>\n",
       "    </tr>\n",
       "  </thead>\n",
       "  <tbody>\n",
       "    <tr>\n",
       "      <th>0</th>\n",
       "      <td>First-time</td>\n",
       "      <td>18080</td>\n",
       "      <td>5700</td>\n",
       "      <td>23780</td>\n",
       "      <td>76.030278</td>\n",
       "    </tr>\n",
       "    <tr>\n",
       "      <th>1</th>\n",
       "      <td>Returning</td>\n",
       "      <td>55372</td>\n",
       "      <td>50728</td>\n",
       "      <td>106100</td>\n",
       "      <td>52.188501</td>\n",
       "    </tr>\n",
       "  </tbody>\n",
       "</table>\n",
       "</div>"
      ],
      "text/plain": [
       "  Customer Type  Neutral or Dissatisfied  Satisfied   total  Dissatisfied_rate\n",
       "0    First-time                    18080       5700   23780          76.030278\n",
       "1     Returning                    55372      50728  106100          52.188501"
      ]
     },
     "execution_count": 16,
     "metadata": {},
     "output_type": "execute_result"
    }
   ],
   "source": [
    "pivot_satisfaction(data,\"Customer Type\")"
   ]
  },
  {
   "cell_type": "markdown",
   "id": "M5G8gH6sJu1M",
   "metadata": {
    "id": "M5G8gH6sJu1M"
   },
   "source": [
    "#OVERVIEW\n",
    "From the table it is clear that Over 76% of first time customers stated that they were dissatisfied with the service. Therefore, the business, in its current form, may not be able to rely on a constant influx of new customers.\n",
    "\n",
    "\n",
    "\n"
   ]
  },
  {
   "cell_type": "markdown",
   "id": "UACZqrP2PDmm",
   "metadata": {
    "id": "UACZqrP2PDmm"
   },
   "source": [
    "           3.   ##**TYPE OF TRAVEL vs SATISFACTION** "
   ]
  },
  {
   "cell_type": "markdown",
   "id": "9b9155df",
   "metadata": {
    "id": "9b9155df"
   },
   "source": [
    " ***Type of Travel ***\n",
    " It gives us information about the type of travel takes values {Personal travel,Business travel}.It has been considerer as a factor variable where Business is the baseline.\n",
    "\n"
   ]
  },
  {
   "cell_type": "code",
   "execution_count": 17,
   "id": "1FJrhO6oRKDi",
   "metadata": {
    "id": "1FJrhO6oRKDi"
   },
   "outputs": [],
   "source": [
    "## graph plot"
   ]
  },
  {
   "cell_type": "code",
   "execution_count": 18,
   "id": "b5618d94",
   "metadata": {
    "colab": {
     "base_uri": "https://localhost:8080/",
     "height": 406
    },
    "id": "b5618d94",
    "outputId": "00c92ede-4eef-42f3-8052-6f8f89b93f3f"
   },
   "outputs": [
    {
     "data": {
      "text/plain": [
       "<AxesSubplot:xlabel='Satisfaction', ylabel='count'>"
      ]
     },
     "execution_count": 18,
     "metadata": {},
     "output_type": "execute_result"
    },
    {
     "data": {
      "image/png": "[encoded data removed]",
      "text/plain": [
       "<Figure size 1080x432 with 1 Axes>"
      ]
     },
     "metadata": {
      "needs_background": "light"
     },
     "output_type": "display_data"
    }
   ],
   "source": [
    "plt.figure(figsize=(15,6))\n",
    "sns.countplot(x=\"Satisfaction\",data = data,hue=\"Type of Travel\")"
   ]
  },
  {
   "cell_type": "code",
   "execution_count": 19,
   "id": "416d36fa",
   "metadata": {
    "colab": {
     "base_uri": "https://localhost:8080/",
     "height": 112
    },
    "id": "416d36fa",
    "outputId": "0c8e21db-7a86-4a04-ef96-e7b0742c6c35"
   },
   "outputs": [
    {
     "data": {
      "text/html": [
       "<div>\n",
       "<style scoped>\n",
       "    .dataframe tbody tr th:only-of-type {\n",
       "        vertical-align: middle;\n",
       "    }\n",
       "\n",
       "    .dataframe tbody tr th {\n",
       "        vertical-align: top;\n",
       "    }\n",
       "\n",
       "    .dataframe thead th {\n",
       "        text-align: right;\n",
       "    }\n",
       "</style>\n",
       "<table border=\"1\" class=\"dataframe\">\n",
       "  <thead>\n",
       "    <tr style=\"text-align: right;\">\n",
       "      <th></th>\n",
       "      <th>Type of Travel</th>\n",
       "      <th>Neutral or Dissatisfied</th>\n",
       "      <th>Satisfied</th>\n",
       "      <th>total</th>\n",
       "      <th>Dissatisfied_rate</th>\n",
       "    </tr>\n",
       "  </thead>\n",
       "  <tbody>\n",
       "    <tr>\n",
       "      <th>0</th>\n",
       "      <td>Business</td>\n",
       "      <td>37337</td>\n",
       "      <td>52356</td>\n",
       "      <td>89693</td>\n",
       "      <td>41.627552</td>\n",
       "    </tr>\n",
       "    <tr>\n",
       "      <th>1</th>\n",
       "      <td>Personal</td>\n",
       "      <td>36115</td>\n",
       "      <td>4072</td>\n",
       "      <td>40187</td>\n",
       "      <td>89.867370</td>\n",
       "    </tr>\n",
       "  </tbody>\n",
       "</table>\n",
       "</div>"
      ],
      "text/plain": [
       "  Type of Travel  Neutral or Dissatisfied  Satisfied  total  Dissatisfied_rate\n",
       "0       Business                    37337      52356  89693          41.627552\n",
       "1       Personal                    36115       4072  40187          89.867370"
      ]
     },
     "execution_count": 19,
     "metadata": {},
     "output_type": "execute_result"
    }
   ],
   "source": [
    "pivot_satisfaction(data,\"Type of Travel\")"
   ]
  },
  {
   "cell_type": "markdown",
   "id": "MIzjEiJZmI5U",
   "metadata": {
    "id": "MIzjEiJZmI5U"
   },
   "source": [
    "#OVERVIEW"
   ]
  },
  {
   "cell_type": "markdown",
   "id": "yAevfJV271-2",
   "metadata": {
    "id": "yAevfJV271-2"
   },
   "source": [
    "Type of business provides revealing insight into the operations of the airline. It appears that it may specialise in business travellers as the large share of the passengers utilised the airline for business travel. Furthermore, such travellers were more likely to find the service satisfactory.\n",
    "However, those who travelled for personal reasons found the experience extremely poor, approx. 90%. This is concerning and the airline should examine the issues relating to their service and rectify any issues with the utmost urgency, if they wish to retain customers."
   ]
  },
  {
   "cell_type": "markdown",
   "id": "Bp_Y-4WGLObi",
   "metadata": {
    "id": "Bp_Y-4WGLObi"
   },
   "source": [
    "4 .         #***CLASS vs SATISFACTION***"
   ]
  },
  {
   "cell_type": "markdown",
   "id": "86734c94",
   "metadata": {
    "id": "86734c94"
   },
   "source": [
    "# Class\n",
    "It gives information about the class in which the passenger travelled and it takes values {Economy,Economy Plus,Business}.It has been considered as a factor variable where Business is the baseline."
   ]
  },
  {
   "cell_type": "code",
   "execution_count": 20,
   "id": "k2yS0cwyRgxI",
   "metadata": {
    "id": "k2yS0cwyRgxI"
   },
   "outputs": [],
   "source": [
    "## graph plot"
   ]
  },
  {
   "cell_type": "code",
   "execution_count": 21,
   "id": "0c33a9c9",
   "metadata": {
    "colab": {
     "base_uri": "https://localhost:8080/",
     "height": 406
    },
    "id": "0c33a9c9",
    "outputId": "7479cd47-7b7b-4989-ba9a-0720460ec800"
   },
   "outputs": [
    {
     "data": {
      "text/plain": [
       "<AxesSubplot:xlabel='Satisfaction', ylabel='count'>"
      ]
     },
     "execution_count": 21,
     "metadata": {},
     "output_type": "execute_result"
    },
    {
     "data": {
      "image/png": "[encoded data removed]",
      "text/plain": [
       "<Figure size 1080x432 with 1 Axes>"
      ]
     },
     "metadata": {
      "needs_background": "light"
     },
     "output_type": "display_data"
    }
   ],
   "source": [
    "plt.figure(figsize=(15,6))\n",
    "sns.countplot(x=\"Satisfaction\",data = data,hue=\"Class\")"
   ]
  },
  {
   "cell_type": "code",
   "execution_count": 22,
   "id": "9f0ef3a7",
   "metadata": {
    "colab": {
     "base_uri": "https://localhost:8080/",
     "height": 143
    },
    "id": "9f0ef3a7",
    "outputId": "52a5c350-3558-4b08-d624-3c4b2b739a06"
   },
   "outputs": [
    {
     "data": {
      "text/html": [
       "<div>\n",
       "<style scoped>\n",
       "    .dataframe tbody tr th:only-of-type {\n",
       "        vertical-align: middle;\n",
       "    }\n",
       "\n",
       "    .dataframe tbody tr th {\n",
       "        vertical-align: top;\n",
       "    }\n",
       "\n",
       "    .dataframe thead th {\n",
       "        text-align: right;\n",
       "    }\n",
       "</style>\n",
       "<table border=\"1\" class=\"dataframe\">\n",
       "  <thead>\n",
       "    <tr style=\"text-align: right;\">\n",
       "      <th></th>\n",
       "      <th>Class</th>\n",
       "      <th>Neutral or Dissatisfied</th>\n",
       "      <th>Satisfied</th>\n",
       "      <th>total</th>\n",
       "      <th>Dissatisfied_rate</th>\n",
       "    </tr>\n",
       "  </thead>\n",
       "  <tbody>\n",
       "    <tr>\n",
       "      <th>0</th>\n",
       "      <td>Business</td>\n",
       "      <td>18994</td>\n",
       "      <td>43166</td>\n",
       "      <td>62160</td>\n",
       "      <td>30.556628</td>\n",
       "    </tr>\n",
       "    <tr>\n",
       "      <th>1</th>\n",
       "      <td>Economy</td>\n",
       "      <td>47366</td>\n",
       "      <td>10943</td>\n",
       "      <td>58309</td>\n",
       "      <td>81.232743</td>\n",
       "    </tr>\n",
       "    <tr>\n",
       "      <th>2</th>\n",
       "      <td>Economy Plus</td>\n",
       "      <td>7092</td>\n",
       "      <td>2319</td>\n",
       "      <td>9411</td>\n",
       "      <td>75.358623</td>\n",
       "    </tr>\n",
       "  </tbody>\n",
       "</table>\n",
       "</div>"
      ],
      "text/plain": [
       "          Class  Neutral or Dissatisfied  Satisfied  total  Dissatisfied_rate\n",
       "0      Business                    18994      43166  62160          30.556628\n",
       "1       Economy                    47366      10943  58309          81.232743\n",
       "2  Economy Plus                     7092       2319   9411          75.358623"
      ]
     },
     "execution_count": 22,
     "metadata": {},
     "output_type": "execute_result"
    }
   ],
   "source": [
    "pivot_satisfaction(data,\"Class\")"
   ]
  },
  {
   "cell_type": "markdown",
   "id": "99PLucQCL8bF",
   "metadata": {
    "id": "99PLucQCL8bF"
   },
   "source": [
    "# OVERVIEW\n",
    "Classes also highlight the dominance of business travel as the majority who travelled via business class were satisfied with the service they received. In contrast, those who were in eco class were particularly dissatisfied with the service, with 81% voicing dissatisfaction ,while in eco plus classes the dissatisfaction rate is 75 %. Given that 45% of the passengers travelled via eco, the airline should focus on improving their services in this area.\n",
    "\n",
    "This is particularly the case as even the business travellers who used eco were disappointed with the service. The poor quality of eco is also appears to be the major factor in the low ratings amongst those who travelled for personal reasons and they were more likely to use eco class.\n",
    "\n"
   ]
  },
  {
   "cell_type": "markdown",
   "id": "T0w9JIi-Sj0S",
   "metadata": {
    "id": "T0w9JIi-Sj0S"
   },
   "source": [
    "5.      #***DISTANCE GROUP vs SATISFACTION***"
   ]
  },
  {
   "cell_type": "markdown",
   "id": "4yOjRecETuXE",
   "metadata": {
    "id": "4yOjRecETuXE"
   },
   "source": [
    "# FLIGHT DISTANCE\n",
    "it gives information about the length of the flight .It is numeric variable and takes values the range between 31 and 5000 with an average flight distance of 1094 miles."
   ]
  },
  {
   "cell_type": "code",
   "execution_count": 23,
   "id": "1ebfde98",
   "metadata": {
    "id": "1ebfde98"
   },
   "outputs": [],
   "source": [
    "def distance_group (row): \n",
    "    if row < 1500: \n",
    "        return \"less than 1500\"    #change numeric  variable to categorical variable for EDA\n",
    "    else:\n",
    "        return \"grater than 1500\"\n",
    "    \n",
    "data[\"distance_group\"] = data[\"Flight Distance\"].apply(lambda row: distance_group(row))"
   ]
  },
  {
   "cell_type": "code",
   "execution_count": 24,
   "id": "a8d49f09",
   "metadata": {
    "colab": {
     "base_uri": "https://localhost:8080/"
    },
    "id": "a8d49f09",
    "outputId": "79eb29aa-8bba-46eb-bf0b-339bdbb1544f"
   },
   "outputs": [
    {
     "data": {
      "text/plain": [
       "0           less than 1500\n",
       "1           less than 1500\n",
       "2           less than 1500\n",
       "3         grater than 1500\n",
       "4         grater than 1500\n",
       "                ...       \n",
       "129875      less than 1500\n",
       "129876      less than 1500\n",
       "129877      less than 1500\n",
       "129878      less than 1500\n",
       "129879      less than 1500\n",
       "Name: distance_group, Length: 129880, dtype: object"
      ]
     },
     "execution_count": 24,
     "metadata": {},
     "output_type": "execute_result"
    }
   ],
   "source": [
    "data[\"distance_group\"]"
   ]
  },
  {
   "cell_type": "code",
   "execution_count": 25,
   "id": "5f23a19a",
   "metadata": {
    "id": "4Xf2mmMsUacR"
   },
   "outputs": [],
   "source": [
    "### graph plot"
   ]
  },
  {
   "cell_type": "code",
   "execution_count": 26,
   "id": "175c382b",
   "metadata": {
    "colab": {
     "base_uri": "https://localhost:8080/",
     "height": 297
    },
    "id": "175c382b",
    "outputId": "632e9c6d-93ee-4f04-fc5c-6ea2e250d1dd"
   },
   "outputs": [
    {
     "data": {
      "text/plain": [
       "<AxesSubplot:xlabel='Satisfaction', ylabel='count'>"
      ]
     },
     "execution_count": 26,
     "metadata": {},
     "output_type": "execute_result"
    },
    {
     "data": {
      "image/png": "[encoded data removed]",
      "text/plain": [
       "<Figure size 432x288 with 1 Axes>"
      ]
     },
     "metadata": {
      "needs_background": "light"
     },
     "output_type": "display_data"
    }
   ],
   "source": [
    "sns.countplot(x=\"Satisfaction\",data = data,hue=\"distance_group\")"
   ]
  },
  {
   "cell_type": "markdown",
   "id": "opkYDOcyU0-i",
   "metadata": {
    "id": "opkYDOcyU0-i"
   },
   "source": [
    "#OVERVIEW\n",
    "At face value, it appears that the airline holds specific strengths in long distance travel. Further investigation reveals that the rate of dissatisfaction differs if the individual has travelled more or less than 1500.\n",
    "\n",
    "For those who travelled less than 1500km, dissatisfaction was as high as 60%. However, if the passenger travelled more than 1500km, they were only 14% likely to be dissatisfied with the service. As some airlines offer different services depending on long /short haul such as luggage size, the airline’s short haul offering may be weak."
   ]
  },
  {
   "cell_type": "markdown",
   "id": "X1z3MIQbYwTC",
   "metadata": {
    "id": "X1z3MIQbYwTC"
   },
   "source": [
    "#### 6. AGE GROUP vs SATISFACTION"
   ]
  },
  {
   "cell_type": "markdown",
   "id": "4zFyBh3MY71L",
   "metadata": {
    "id": "4zFyBh3MY71L"
   },
   "source": [
    "***AGE GROUP***\n",
    "It gives information about the age of the passenger and it is numeric variable.The ages ranges between 7 and 85.,with a mean between 39 and 40."
   ]
  },
  {
   "cell_type": "code",
   "execution_count": 27,
   "id": "fd904eb0",
   "metadata": {
    "id": "fd904eb0"
   },
   "outputs": [],
   "source": [
    "def age_group (row):   # convert Numerical variable to Categorical Variable  for performing EDA\n",
    "    if row < 40: \n",
    "        return \"Young\"\n",
    "    if (row >= 40) & (row < 60): \n",
    "        return \"middle age\"\n",
    "    if row >= 60:\n",
    "        return \"senior\"\n",
    "    else:\n",
    "        return \"no age\"\n",
    "    \n"
   ]
  },
  {
   "cell_type": "code",
   "execution_count": 28,
   "id": "b46e48b8",
   "metadata": {
    "colab": {
     "base_uri": "https://localhost:8080/",
     "height": 455
    },
    "id": "b46e48b8",
    "outputId": "3e1460f0-bc32-4f7b-a876-c78d0351f07c"
   },
   "outputs": [
    {
     "data": {
      "text/html": [
       "<div>\n",
       "<style scoped>\n",
       "    .dataframe tbody tr th:only-of-type {\n",
       "        vertical-align: middle;\n",
       "    }\n",
       "\n",
       "    .dataframe tbody tr th {\n",
       "        vertical-align: top;\n",
       "    }\n",
       "\n",
       "    .dataframe thead th {\n",
       "        text-align: right;\n",
       "    }\n",
       "</style>\n",
       "<table border=\"1\" class=\"dataframe\">\n",
       "  <thead>\n",
       "    <tr style=\"text-align: right;\">\n",
       "      <th>Satisfaction</th>\n",
       "      <th>Neutral or Dissatisfied</th>\n",
       "      <th>Satisfied</th>\n",
       "    </tr>\n",
       "    <tr>\n",
       "      <th>Age</th>\n",
       "      <th></th>\n",
       "      <th></th>\n",
       "    </tr>\n",
       "  </thead>\n",
       "  <tbody>\n",
       "    <tr>\n",
       "      <th>7</th>\n",
       "      <td>620</td>\n",
       "      <td>65</td>\n",
       "    </tr>\n",
       "    <tr>\n",
       "      <th>8</th>\n",
       "      <td>716</td>\n",
       "      <td>81</td>\n",
       "    </tr>\n",
       "    <tr>\n",
       "      <th>9</th>\n",
       "      <td>734</td>\n",
       "      <td>125</td>\n",
       "    </tr>\n",
       "    <tr>\n",
       "      <th>10</th>\n",
       "      <td>711</td>\n",
       "      <td>111</td>\n",
       "    </tr>\n",
       "    <tr>\n",
       "      <th>11</th>\n",
       "      <td>707</td>\n",
       "      <td>130</td>\n",
       "    </tr>\n",
       "    <tr>\n",
       "      <th>...</th>\n",
       "      <td>...</td>\n",
       "      <td>...</td>\n",
       "    </tr>\n",
       "    <tr>\n",
       "      <th>77</th>\n",
       "      <td>85</td>\n",
       "      <td>21</td>\n",
       "    </tr>\n",
       "    <tr>\n",
       "      <th>78</th>\n",
       "      <td>30</td>\n",
       "      <td>14</td>\n",
       "    </tr>\n",
       "    <tr>\n",
       "      <th>79</th>\n",
       "      <td>38</td>\n",
       "      <td>14</td>\n",
       "    </tr>\n",
       "    <tr>\n",
       "      <th>80</th>\n",
       "      <td>79</td>\n",
       "      <td>31</td>\n",
       "    </tr>\n",
       "    <tr>\n",
       "      <th>85</th>\n",
       "      <td>19</td>\n",
       "      <td>6</td>\n",
       "    </tr>\n",
       "  </tbody>\n",
       "</table>\n",
       "<p>75 rows × 2 columns</p>\n",
       "</div>"
      ],
      "text/plain": [
       "Satisfaction  Neutral or Dissatisfied  Satisfied\n",
       "Age                                             \n",
       "7                                 620         65\n",
       "8                                 716         81\n",
       "9                                 734        125\n",
       "10                                711        111\n",
       "11                                707        130\n",
       "..                                ...        ...\n",
       "77                                 85         21\n",
       "78                                 30         14\n",
       "79                                 38         14\n",
       "80                                 79         31\n",
       "85                                 19          6\n",
       "\n",
       "[75 rows x 2 columns]"
      ]
     },
     "execution_count": 28,
     "metadata": {},
     "output_type": "execute_result"
    }
   ],
   "source": [
    "pd.crosstab(index=data['Age'], columns=data['Satisfaction'])"
   ]
  },
  {
   "cell_type": "markdown",
   "id": "FxysT4ibahOl",
   "metadata": {
    "id": "FxysT4ibahOl"
   },
   "source": [
    "#OVERVIEW\n",
    "The ages can be grouped into categories, under 40, 40 to 60 and over 40. Doing so reveals that for those under 40, the rate of dissatisfaction is over 65%. For those between 40 and 60, the dissatisfaction drops to 42%. However for those over 60% dissatisfied.It should be also stated that who are 10 years old who reported that the service was dissatisfactory. Whilst 10 year olds may have completed this form, due to the nature of the questions, there is a possibility that a third party may have aided in these submissions. The ages could call into question where there were bad faith actors responding to the questions."
   ]
  },
  {
   "cell_type": "code",
   "execution_count": 29,
   "id": "6c79c030",
   "metadata": {
    "id": "6c79c030"
   },
   "outputs": [],
   "source": [
    "def Departure_Delay (row): \n",
    "    if row < 7: \n",
    "        return \"less than 7\"\n",
    "    if (row >= 7) & (row <=14):\n",
    "        return \"between 7 to 14\"\n",
    "    else:\n",
    "        return \"grater than 14\"\n",
    "    \n",
    "data[\"Departure_Delay_grp\"] = data[\"Departure Delay\"].apply(lambda row: Departure_Delay(row))"
   ]
  },
  {
   "cell_type": "code",
   "execution_count": 30,
   "id": "b2a89883",
   "metadata": {
    "colab": {
     "base_uri": "https://localhost:8080/",
     "height": 175
    },
    "id": "b2a89883",
    "outputId": "542ae2fb-58c4-4761-b2b4-a67ab9d16f03"
   },
   "outputs": [
    {
     "data": {
      "text/html": [
       "<div>\n",
       "<style scoped>\n",
       "    .dataframe tbody tr th:only-of-type {\n",
       "        vertical-align: middle;\n",
       "    }\n",
       "\n",
       "    .dataframe tbody tr th {\n",
       "        vertical-align: top;\n",
       "    }\n",
       "\n",
       "    .dataframe thead th {\n",
       "        text-align: right;\n",
       "    }\n",
       "</style>\n",
       "<table border=\"1\" class=\"dataframe\">\n",
       "  <thead>\n",
       "    <tr style=\"text-align: right;\">\n",
       "      <th>Satisfaction</th>\n",
       "      <th>Neutral or Dissatisfied</th>\n",
       "      <th>Satisfied</th>\n",
       "    </tr>\n",
       "    <tr>\n",
       "      <th>Departure_Delay_grp</th>\n",
       "      <th></th>\n",
       "      <th></th>\n",
       "    </tr>\n",
       "  </thead>\n",
       "  <tbody>\n",
       "    <tr>\n",
       "      <th>between 7 to 14</th>\n",
       "      <td>6479</td>\n",
       "      <td>4804</td>\n",
       "    </tr>\n",
       "    <tr>\n",
       "      <th>grater than 14</th>\n",
       "      <td>18764</td>\n",
       "      <td>11076</td>\n",
       "    </tr>\n",
       "    <tr>\n",
       "      <th>less than 7</th>\n",
       "      <td>48209</td>\n",
       "      <td>40548</td>\n",
       "    </tr>\n",
       "  </tbody>\n",
       "</table>\n",
       "</div>"
      ],
      "text/plain": [
       "Satisfaction         Neutral or Dissatisfied  Satisfied\n",
       "Departure_Delay_grp                                    \n",
       "between 7 to 14                         6479       4804\n",
       "grater than 14                         18764      11076\n",
       "less than 7                            48209      40548"
      ]
     },
     "execution_count": 30,
     "metadata": {},
     "output_type": "execute_result"
    }
   ],
   "source": [
    "pd.crosstab(index=data['Departure_Delay_grp'], columns=data['Satisfaction'])"
   ]
  },
  {
   "cell_type": "code",
   "execution_count": 31,
   "id": "5b1a0712",
   "metadata": {
    "id": "5b1a0712"
   },
   "outputs": [],
   "source": [
    "def Arrival_Delay (row): \n",
    "    if row < 7: \n",
    "        return \"less than 7\"\n",
    "    if (row >= 7) & (row <=14):\n",
    "        return \"between 7 to 14\"\n",
    "    else:\n",
    "        return \"grater than 14\"\n",
    "    \n",
    "data[\"Arrival_Delay_group\"] = data[\"Arrival Delay\"].apply(lambda row: Arrival_Delay(row))"
   ]
  },
  {
   "cell_type": "code",
   "execution_count": 32,
   "id": "4cd5710f",
   "metadata": {
    "colab": {
     "base_uri": "https://localhost:8080/",
     "height": 175
    },
    "id": "4cd5710f",
    "outputId": "62daa2b0-4010-4dcf-cfd4-f1d931bff052"
   },
   "outputs": [
    {
     "data": {
      "text/html": [
       "<div>\n",
       "<style scoped>\n",
       "    .dataframe tbody tr th:only-of-type {\n",
       "        vertical-align: middle;\n",
       "    }\n",
       "\n",
       "    .dataframe tbody tr th {\n",
       "        vertical-align: top;\n",
       "    }\n",
       "\n",
       "    .dataframe thead th {\n",
       "        text-align: right;\n",
       "    }\n",
       "</style>\n",
       "<table border=\"1\" class=\"dataframe\">\n",
       "  <thead>\n",
       "    <tr style=\"text-align: right;\">\n",
       "      <th>Satisfaction</th>\n",
       "      <th>Neutral or Dissatisfied</th>\n",
       "      <th>Satisfied</th>\n",
       "    </tr>\n",
       "    <tr>\n",
       "      <th>Arrival_Delay_group</th>\n",
       "      <th></th>\n",
       "      <th></th>\n",
       "    </tr>\n",
       "  </thead>\n",
       "  <tbody>\n",
       "    <tr>\n",
       "      <th>between 7 to 14</th>\n",
       "      <td>7652</td>\n",
       "      <td>4221</td>\n",
       "    </tr>\n",
       "    <tr>\n",
       "      <th>grater than 14</th>\n",
       "      <td>19628</td>\n",
       "      <td>10980</td>\n",
       "    </tr>\n",
       "    <tr>\n",
       "      <th>less than 7</th>\n",
       "      <td>46172</td>\n",
       "      <td>41227</td>\n",
       "    </tr>\n",
       "  </tbody>\n",
       "</table>\n",
       "</div>"
      ],
      "text/plain": [
       "Satisfaction         Neutral or Dissatisfied  Satisfied\n",
       "Arrival_Delay_group                                    \n",
       "between 7 to 14                         7652       4221\n",
       "grater than 14                         19628      10980\n",
       "less than 7                            46172      41227"
      ]
     },
     "execution_count": 32,
     "metadata": {},
     "output_type": "execute_result"
    }
   ],
   "source": [
    "pd.crosstab(index=data['Arrival_Delay_group'], columns=data['Satisfaction'])"
   ]
  },
  {
   "cell_type": "code",
   "execution_count": 33,
   "id": "16ee71d9",
   "metadata": {
    "colab": {
     "base_uri": "https://localhost:8080/",
     "height": 406
    },
    "id": "16ee71d9",
    "outputId": "d54a50a3-1c35-4f46-8a5b-02a0b0207464"
   },
   "outputs": [
    {
     "data": {
      "text/plain": [
       "<AxesSubplot:xlabel='Satisfaction', ylabel='count'>"
      ]
     },
     "execution_count": 33,
     "metadata": {},
     "output_type": "execute_result"
    },
    {
     "data": {
      "image/png": "[encoded data removed]",
      "text/plain": [
       "<Figure size 1080x432 with 1 Axes>"
      ]
     },
     "metadata": {
      "needs_background": "light"
     },
     "output_type": "display_data"
    }
   ],
   "source": [
    "plt.figure(figsize=(15,6))\n",
    "sns.countplot(x=\"Satisfaction\",data = data,hue=\"Departure and Arrival Time Convenience\")"
   ]
  },
  {
   "cell_type": "code",
   "execution_count": 34,
   "id": "51da7a5b",
   "metadata": {
    "colab": {
     "base_uri": "https://localhost:8080/",
     "height": 269
    },
    "id": "51da7a5b",
    "outputId": "7cda1959-2397-484e-f5ed-a57b23101822"
   },
   "outputs": [
    {
     "data": {
      "text/html": [
       "<div>\n",
       "<style scoped>\n",
       "    .dataframe tbody tr th:only-of-type {\n",
       "        vertical-align: middle;\n",
       "    }\n",
       "\n",
       "    .dataframe tbody tr th {\n",
       "        vertical-align: top;\n",
       "    }\n",
       "\n",
       "    .dataframe thead th {\n",
       "        text-align: right;\n",
       "    }\n",
       "</style>\n",
       "<table border=\"1\" class=\"dataframe\">\n",
       "  <thead>\n",
       "    <tr style=\"text-align: right;\">\n",
       "      <th>Satisfaction</th>\n",
       "      <th>Neutral or Dissatisfied</th>\n",
       "      <th>Satisfied</th>\n",
       "    </tr>\n",
       "    <tr>\n",
       "      <th>Departure and Arrival Time Convenience</th>\n",
       "      <th></th>\n",
       "      <th></th>\n",
       "    </tr>\n",
       "  </thead>\n",
       "  <tbody>\n",
       "    <tr>\n",
       "      <th>0</th>\n",
       "      <td>3467</td>\n",
       "      <td>3214</td>\n",
       "    </tr>\n",
       "    <tr>\n",
       "      <th>1</th>\n",
       "      <td>9891</td>\n",
       "      <td>9518</td>\n",
       "    </tr>\n",
       "    <tr>\n",
       "      <th>2</th>\n",
       "      <td>11957</td>\n",
       "      <td>9577</td>\n",
       "    </tr>\n",
       "    <tr>\n",
       "      <th>3</th>\n",
       "      <td>12539</td>\n",
       "      <td>9839</td>\n",
       "    </tr>\n",
       "    <tr>\n",
       "      <th>4</th>\n",
       "      <td>19491</td>\n",
       "      <td>12389</td>\n",
       "    </tr>\n",
       "    <tr>\n",
       "      <th>5</th>\n",
       "      <td>16107</td>\n",
       "      <td>11891</td>\n",
       "    </tr>\n",
       "  </tbody>\n",
       "</table>\n",
       "</div>"
      ],
      "text/plain": [
       "Satisfaction                            Neutral or Dissatisfied  Satisfied\n",
       "Departure and Arrival Time Convenience                                    \n",
       "0                                                          3467       3214\n",
       "1                                                          9891       9518\n",
       "2                                                         11957       9577\n",
       "3                                                         12539       9839\n",
       "4                                                         19491      12389\n",
       "5                                                         16107      11891"
      ]
     },
     "execution_count": 34,
     "metadata": {},
     "output_type": "execute_result"
    }
   ],
   "source": [
    "pd.crosstab(index=data['Departure and Arrival Time Convenience'], columns=data['Satisfaction'])"
   ]
  },
  {
   "cell_type": "markdown",
   "id": "IiTkdWErGC10",
   "metadata": {
    "id": "IiTkdWErGC10"
   },
   "source": [
    "8.  #EASE OF ONLINE BOOKING vs SATISFACTION"
   ]
  },
  {
   "cell_type": "markdown",
   "id": "5I3qr6EeGWjO",
   "metadata": {
    "id": "5I3qr6EeGWjO"
   },
   "source": [
    "#EASE OF ONLINE BOOKING\n",
    "It represent the satisfaction of the customer with respect to the online support.It takes values that ranges between 0 and 5 ,with a mean of approax 3."
   ]
  },
  {
   "cell_type": "code",
   "execution_count": 35,
   "id": "480983df",
   "metadata": {
    "colab": {
     "base_uri": "https://localhost:8080/",
     "height": 406
    },
    "id": "480983df",
    "outputId": "80e1b6f5-a47f-42ee-ceb6-332f2b44a0f7"
   },
   "outputs": [
    {
     "data": {
      "text/plain": [
       "<AxesSubplot:xlabel='Satisfaction', ylabel='count'>"
      ]
     },
     "execution_count": 35,
     "metadata": {},
     "output_type": "execute_result"
    },
    {
     "data": {
      "image/png": "[encoded data removed]",
      "text/plain": [
       "<Figure size 1080x432 with 1 Axes>"
      ]
     },
     "metadata": {
      "needs_background": "light"
     },
     "output_type": "display_data"
    }
   ],
   "source": [
    "plt.figure(figsize=(15,6))\n",
    "sns.countplot(x=\"Satisfaction\",data = data,hue=\"Ease of Online Booking\")"
   ]
  },
  {
   "cell_type": "code",
   "execution_count": 36,
   "id": "0b120034",
   "metadata": {
    "colab": {
     "base_uri": "https://localhost:8080/",
     "height": 269
    },
    "id": "0b120034",
    "outputId": "215896f7-fa20-48df-d523-e2ccb734a6cf"
   },
   "outputs": [
    {
     "data": {
      "text/html": [
       "<div>\n",
       "<style scoped>\n",
       "    .dataframe tbody tr th:only-of-type {\n",
       "        vertical-align: middle;\n",
       "    }\n",
       "\n",
       "    .dataframe tbody tr th {\n",
       "        vertical-align: top;\n",
       "    }\n",
       "\n",
       "    .dataframe thead th {\n",
       "        text-align: right;\n",
       "    }\n",
       "</style>\n",
       "<table border=\"1\" class=\"dataframe\">\n",
       "  <thead>\n",
       "    <tr style=\"text-align: right;\">\n",
       "      <th>Satisfaction</th>\n",
       "      <th>Neutral or Dissatisfied</th>\n",
       "      <th>Satisfied</th>\n",
       "    </tr>\n",
       "    <tr>\n",
       "      <th>Ease of Online Booking</th>\n",
       "      <th></th>\n",
       "      <th></th>\n",
       "    </tr>\n",
       "  </thead>\n",
       "  <tbody>\n",
       "    <tr>\n",
       "      <th>0</th>\n",
       "      <td>1900</td>\n",
       "      <td>3782</td>\n",
       "    </tr>\n",
       "    <tr>\n",
       "      <th>1</th>\n",
       "      <td>13581</td>\n",
       "      <td>8305</td>\n",
       "    </tr>\n",
       "    <tr>\n",
       "      <th>2</th>\n",
       "      <td>20931</td>\n",
       "      <td>9120</td>\n",
       "    </tr>\n",
       "    <tr>\n",
       "      <th>3</th>\n",
       "      <td>20968</td>\n",
       "      <td>9425</td>\n",
       "    </tr>\n",
       "    <tr>\n",
       "      <th>4</th>\n",
       "      <td>11449</td>\n",
       "      <td>12995</td>\n",
       "    </tr>\n",
       "    <tr>\n",
       "      <th>5</th>\n",
       "      <td>4623</td>\n",
       "      <td>12801</td>\n",
       "    </tr>\n",
       "  </tbody>\n",
       "</table>\n",
       "</div>"
      ],
      "text/plain": [
       "Satisfaction            Neutral or Dissatisfied  Satisfied\n",
       "Ease of Online Booking                                    \n",
       "0                                          1900       3782\n",
       "1                                         13581       8305\n",
       "2                                         20931       9120\n",
       "3                                         20968       9425\n",
       "4                                         11449      12995\n",
       "5                                          4623      12801"
      ]
     },
     "execution_count": 36,
     "metadata": {},
     "output_type": "execute_result"
    }
   ],
   "source": [
    "pd.crosstab(index=data['Ease of Online Booking'], columns=data['Satisfaction'])\n"
   ]
  },
  {
   "cell_type": "markdown",
   "id": "PCsrf0JGHgHy",
   "metadata": {
    "id": "PCsrf0JGHgHy"
   },
   "source": [
    "#OVERVIEW\n",
    "those who were satisfied with the booking service were more likely to rate the overall service satisfactory.From the data it is clear that only 26 % passengers are dissatisfied who gives 5 rating to ease of online booking.That is their cause of dissatisfaction does not depends on this particular feature.And those who are give 0 rating to this feature among them 34 % are dissatisfied .ANd among many causes of dissatisfaction one cause is definitely Ease of online booking.Those who are giving 3 ratings to this feature among them 69 % are dissatisfied and Ease of online booking is one of the cause for their dissatisfaction."
   ]
  },
  {
   "cell_type": "markdown",
   "id": "eqvNAmtvnuaF",
   "metadata": {
    "id": "eqvNAmtvnuaF"
   },
   "source": [
    "# 9.  CHECK IN SERVICE vs SATISFACTION"
   ]
  },
  {
   "cell_type": "markdown",
   "id": "01dbifdBp5L6",
   "metadata": {
    "id": "01dbifdBp5L6"
   },
   "source": [
    "#CHECK IN SERVICE\n",
    "It represents the satisfaction of the customer with respect to the check in.It takes values 0 to 5,with a mean of approx 3 to 4. \n"
   ]
  },
  {
   "cell_type": "code",
   "execution_count": 37,
   "id": "8e6395b2",
   "metadata": {
    "colab": {
     "base_uri": "https://localhost:8080/",
     "height": 406
    },
    "id": "8e6395b2",
    "outputId": "fd6a46ae-3c2a-447b-e613-66577fb576a8"
   },
   "outputs": [
    {
     "data": {
      "text/plain": [
       "<AxesSubplot:xlabel='Satisfaction', ylabel='count'>"
      ]
     },
     "execution_count": 37,
     "metadata": {},
     "output_type": "execute_result"
    },
    {
     "data": {
      "image/png": "[encoded data removed]",
      "text/plain": [
       "<Figure size 1080x432 with 1 Axes>"
      ]
     },
     "metadata": {
      "needs_background": "light"
     },
     "output_type": "display_data"
    }
   ],
   "source": [
    "plt.figure(figsize=(15,6))\n",
    "sns.countplot(x=\"Satisfaction\",data = data,hue=\"Check-in Service\")"
   ]
  },
  {
   "cell_type": "code",
   "execution_count": 38,
   "id": "edff738f",
   "metadata": {
    "colab": {
     "base_uri": "https://localhost:8080/",
     "height": 269
    },
    "id": "edff738f",
    "outputId": "c1fa4fdb-2dcb-45a6-b915-e83bfe818120"
   },
   "outputs": [
    {
     "data": {
      "text/html": [
       "<div>\n",
       "<style scoped>\n",
       "    .dataframe tbody tr th:only-of-type {\n",
       "        vertical-align: middle;\n",
       "    }\n",
       "\n",
       "    .dataframe tbody tr th {\n",
       "        vertical-align: top;\n",
       "    }\n",
       "\n",
       "    .dataframe thead th {\n",
       "        text-align: right;\n",
       "    }\n",
       "</style>\n",
       "<table border=\"1\" class=\"dataframe\">\n",
       "  <thead>\n",
       "    <tr style=\"text-align: right;\">\n",
       "      <th>Satisfaction</th>\n",
       "      <th>Neutral or Dissatisfied</th>\n",
       "      <th>Satisfied</th>\n",
       "    </tr>\n",
       "    <tr>\n",
       "      <th>Check-in Service</th>\n",
       "      <th></th>\n",
       "      <th></th>\n",
       "    </tr>\n",
       "  </thead>\n",
       "  <tbody>\n",
       "    <tr>\n",
       "      <th>0</th>\n",
       "      <td>1</td>\n",
       "      <td>0</td>\n",
       "    </tr>\n",
       "    <tr>\n",
       "      <th>1</th>\n",
       "      <td>12249</td>\n",
       "      <td>3859</td>\n",
       "    </tr>\n",
       "    <tr>\n",
       "      <th>2</th>\n",
       "      <td>12062</td>\n",
       "      <td>4040</td>\n",
       "    </tr>\n",
       "    <tr>\n",
       "      <th>3</th>\n",
       "      <td>19471</td>\n",
       "      <td>15982</td>\n",
       "    </tr>\n",
       "    <tr>\n",
       "      <th>4</th>\n",
       "      <td>19619</td>\n",
       "      <td>16714</td>\n",
       "    </tr>\n",
       "    <tr>\n",
       "      <th>5</th>\n",
       "      <td>10050</td>\n",
       "      <td>15833</td>\n",
       "    </tr>\n",
       "  </tbody>\n",
       "</table>\n",
       "</div>"
      ],
      "text/plain": [
       "Satisfaction      Neutral or Dissatisfied  Satisfied\n",
       "Check-in Service                                    \n",
       "0                                       1          0\n",
       "1                                   12249       3859\n",
       "2                                   12062       4040\n",
       "3                                   19471      15982\n",
       "4                                   19619      16714\n",
       "5                                   10050      15833"
      ]
     },
     "execution_count": 38,
     "metadata": {},
     "output_type": "execute_result"
    }
   ],
   "source": [
    "pd.crosstab(index=data['Check-in Service'], columns=data['Satisfaction'])"
   ]
  },
  {
   "cell_type": "markdown",
   "id": "AxgkEv2zn37x",
   "metadata": {
    "id": "AxgkEv2zn37x"
   },
   "source": [
    "#OVERVIEW\n",
    " Similarly Ease of online booking,those who were satisfied with the Check in service were more likely to rate the overall service satisfactory.Here onle 1 person who give 0 rating also dissatisfied with this service.And those who give 3 ratings to this feature among those 55% are dissatisfied to overall satisfaction.And this feature is quite less affected to their satisfaction level.And around 56% customers who give 4 ratings to this feature are dissatisfied to the service.It means Check ion service doesnot effect their satisfaction rate."
   ]
  },
  {
   "cell_type": "markdown",
   "id": "zk8wiZmc2SnD",
   "metadata": {
    "id": "zk8wiZmc2SnD"
   },
   "source": [
    "# 10.      ONLINE BOARDING vs SATISFACTION"
   ]
  },
  {
   "cell_type": "markdown",
   "id": "4005R0uM2ZZv",
   "metadata": {
    "id": "4005R0uM2ZZv"
   },
   "source": [
    "#ONLINE BOARDING\n",
    "It represnts the satisfaction of the customer with respect to online boarding.It takes values 0 to 5 with a mean approax to 3 to 4."
   ]
  },
  {
   "cell_type": "code",
   "execution_count": 39,
   "id": "879eb540",
   "metadata": {
    "colab": {
     "base_uri": "https://localhost:8080/",
     "height": 408
    },
    "id": "879eb540",
    "outputId": "c30e732b-44f9-4683-a7a0-1db1181a919c"
   },
   "outputs": [
    {
     "data": {
      "text/plain": [
       "<AxesSubplot:xlabel='Satisfaction', ylabel='count'>"
      ]
     },
     "execution_count": 39,
     "metadata": {},
     "output_type": "execute_result"
    },
    {
     "data": {
      "image/png": "[encoded data removed]",
      "text/plain": [
       "<Figure size 1080x432 with 1 Axes>"
      ]
     },
     "metadata": {
      "needs_background": "light"
     },
     "output_type": "display_data"
    }
   ],
   "source": [
    "plt.figure(figsize=(15,6))\n",
    "sns.countplot(x=\"Satisfaction\",data = data,hue=\"Online Boarding\")"
   ]
  },
  {
   "cell_type": "code",
   "execution_count": 40,
   "id": "a534d58e",
   "metadata": {
    "colab": {
     "base_uri": "https://localhost:8080/",
     "height": 269
    },
    "id": "a534d58e",
    "outputId": "43928aa5-be37-4d02-b060-622f13b972e0"
   },
   "outputs": [
    {
     "data": {
      "text/html": [
       "<div>\n",
       "<style scoped>\n",
       "    .dataframe tbody tr th:only-of-type {\n",
       "        vertical-align: middle;\n",
       "    }\n",
       "\n",
       "    .dataframe tbody tr th {\n",
       "        vertical-align: top;\n",
       "    }\n",
       "\n",
       "    .dataframe thead th {\n",
       "        text-align: right;\n",
       "    }\n",
       "</style>\n",
       "<table border=\"1\" class=\"dataframe\">\n",
       "  <thead>\n",
       "    <tr style=\"text-align: right;\">\n",
       "      <th>Satisfaction</th>\n",
       "      <th>Neutral or Dissatisfied</th>\n",
       "      <th>Satisfied</th>\n",
       "    </tr>\n",
       "    <tr>\n",
       "      <th>Online Boarding</th>\n",
       "      <th></th>\n",
       "      <th></th>\n",
       "    </tr>\n",
       "  </thead>\n",
       "  <tbody>\n",
       "    <tr>\n",
       "      <th>0</th>\n",
       "      <td>1341</td>\n",
       "      <td>1739</td>\n",
       "    </tr>\n",
       "    <tr>\n",
       "      <th>1</th>\n",
       "      <td>11434</td>\n",
       "      <td>1827</td>\n",
       "    </tr>\n",
       "    <tr>\n",
       "      <th>2</th>\n",
       "      <td>19422</td>\n",
       "      <td>2512</td>\n",
       "    </tr>\n",
       "    <tr>\n",
       "      <th>3</th>\n",
       "      <td>23385</td>\n",
       "      <td>3732</td>\n",
       "    </tr>\n",
       "    <tr>\n",
       "      <th>4</th>\n",
       "      <td>14502</td>\n",
       "      <td>23966</td>\n",
       "    </tr>\n",
       "    <tr>\n",
       "      <th>5</th>\n",
       "      <td>3368</td>\n",
       "      <td>22652</td>\n",
       "    </tr>\n",
       "  </tbody>\n",
       "</table>\n",
       "</div>"
      ],
      "text/plain": [
       "Satisfaction     Neutral or Dissatisfied  Satisfied\n",
       "Online Boarding                                    \n",
       "0                                   1341       1739\n",
       "1                                  11434       1827\n",
       "2                                  19422       2512\n",
       "3                                  23385       3732\n",
       "4                                  14502      23966\n",
       "5                                   3368      22652"
      ]
     },
     "execution_count": 40,
     "metadata": {},
     "output_type": "execute_result"
    }
   ],
   "source": [
    "pd.crosstab(index=data['Online Boarding'], columns=data['Satisfaction'])"
   ]
  },
  {
   "cell_type": "markdown",
   "id": "YaX-DIli21cV",
   "metadata": {
    "id": "YaX-DIli21cV"
   },
   "source": [
    "#OVERVIEW\n"
   ]
  },
  {
   "cell_type": "markdown",
   "id": "KrETV-8u26BA",
   "metadata": {
    "id": "KrETV-8u26BA"
   },
   "source": [
    "#11.    GATE LOCATION vs SATISFACTION"
   ]
  },
  {
   "cell_type": "markdown",
   "id": "zX87qlEV3G_Z",
   "metadata": {
    "id": "zX87qlEV3G_Z"
   },
   "source": [
    "#GATE LOCATION\n",
    "it represents the satisfaction of the customer with respect to location of the departure gate.It takes values that ranges 0 to 5 with a mean approax to 2 and 3.And decided to keep this variable as it is."
   ]
  },
  {
   "cell_type": "code",
   "execution_count": 41,
   "id": "5ba747cf",
   "metadata": {
    "colab": {
     "base_uri": "https://localhost:8080/",
     "height": 406
    },
    "id": "5ba747cf",
    "outputId": "23ad194d-29b4-47bc-e5d6-6398c28092d9"
   },
   "outputs": [
    {
     "data": {
      "text/plain": [
       "<AxesSubplot:xlabel='Satisfaction', ylabel='count'>"
      ]
     },
     "execution_count": 41,
     "metadata": {},
     "output_type": "execute_result"
    },
    {
     "data": {
      "image/png": "[encoded data removed]",
      "text/plain": [
       "<Figure size 1080x432 with 1 Axes>"
      ]
     },
     "metadata": {
      "needs_background": "light"
     },
     "output_type": "display_data"
    }
   ],
   "source": [
    "plt.figure(figsize=(15,6))\n",
    "sns.countplot(x=\"Satisfaction\",data = data,hue=\"Gate Location\")"
   ]
  },
  {
   "cell_type": "code",
   "execution_count": 42,
   "id": "e848548a",
   "metadata": {
    "colab": {
     "base_uri": "https://localhost:8080/",
     "height": 269
    },
    "id": "e848548a",
    "outputId": "19392eec-eaf6-416f-8f64-14e896a22190"
   },
   "outputs": [
    {
     "data": {
      "text/html": [
       "<div>\n",
       "<style scoped>\n",
       "    .dataframe tbody tr th:only-of-type {\n",
       "        vertical-align: middle;\n",
       "    }\n",
       "\n",
       "    .dataframe tbody tr th {\n",
       "        vertical-align: top;\n",
       "    }\n",
       "\n",
       "    .dataframe thead th {\n",
       "        text-align: right;\n",
       "    }\n",
       "</style>\n",
       "<table border=\"1\" class=\"dataframe\">\n",
       "  <thead>\n",
       "    <tr style=\"text-align: right;\">\n",
       "      <th>Satisfaction</th>\n",
       "      <th>Neutral or Dissatisfied</th>\n",
       "      <th>Satisfied</th>\n",
       "    </tr>\n",
       "    <tr>\n",
       "      <th>Gate Location</th>\n",
       "      <th></th>\n",
       "      <th></th>\n",
       "    </tr>\n",
       "  </thead>\n",
       "  <tbody>\n",
       "    <tr>\n",
       "      <th>0</th>\n",
       "      <td>0</td>\n",
       "      <td>1</td>\n",
       "    </tr>\n",
       "    <tr>\n",
       "      <th>1</th>\n",
       "      <td>11020</td>\n",
       "      <td>10971</td>\n",
       "    </tr>\n",
       "    <tr>\n",
       "      <th>2</th>\n",
       "      <td>13028</td>\n",
       "      <td>11268</td>\n",
       "    </tr>\n",
       "    <tr>\n",
       "      <th>3</th>\n",
       "      <td>23321</td>\n",
       "      <td>12396</td>\n",
       "    </tr>\n",
       "    <tr>\n",
       "      <th>4</th>\n",
       "      <td>18563</td>\n",
       "      <td>11903</td>\n",
       "    </tr>\n",
       "    <tr>\n",
       "      <th>5</th>\n",
       "      <td>7520</td>\n",
       "      <td>9889</td>\n",
       "    </tr>\n",
       "  </tbody>\n",
       "</table>\n",
       "</div>"
      ],
      "text/plain": [
       "Satisfaction   Neutral or Dissatisfied  Satisfied\n",
       "Gate Location                                    \n",
       "0                                    0          1\n",
       "1                                11020      10971\n",
       "2                                13028      11268\n",
       "3                                23321      12396\n",
       "4                                18563      11903\n",
       "5                                 7520       9889"
      ]
     },
     "execution_count": 42,
     "metadata": {},
     "output_type": "execute_result"
    }
   ],
   "source": [
    "pd.crosstab(index=data['Gate Location'], columns=data['Satisfaction'])"
   ]
  },
  {
   "cell_type": "markdown",
   "id": "8izZrxzP3lmb",
   "metadata": {
    "id": "8izZrxzP3lmb"
   },
   "source": [
    "# OVERVIEW\n"
   ]
  },
  {
   "cell_type": "code",
   "execution_count": 43,
   "id": "7399a6d1",
   "metadata": {
    "colab": {
     "base_uri": "https://localhost:8080/",
     "height": 406
    },
    "id": "7399a6d1",
    "outputId": "a1a0eb09-04dd-4e87-e53f-a5c84eec8f7a"
   },
   "outputs": [
    {
     "data": {
      "text/plain": [
       "<AxesSubplot:xlabel='Satisfaction', ylabel='count'>"
      ]
     },
     "execution_count": 43,
     "metadata": {},
     "output_type": "execute_result"
    },
    {
     "data": {
      "image/png": "[encoded data removed]",
      "text/plain": [
       "<Figure size 1080x432 with 1 Axes>"
      ]
     },
     "metadata": {
      "needs_background": "light"
     },
     "output_type": "display_data"
    }
   ],
   "source": [
    "plt.figure(figsize=(15,6))\n",
    "sns.countplot(x=\"Satisfaction\",data = data,hue=\"On-board Service\")"
   ]
  },
  {
   "cell_type": "code",
   "execution_count": 44,
   "id": "4fa635c6",
   "metadata": {
    "colab": {
     "base_uri": "https://localhost:8080/",
     "height": 269
    },
    "id": "4fa635c6",
    "outputId": "ff263666-2700-46c7-e0c1-a8e1510fe517"
   },
   "outputs": [
    {
     "data": {
      "text/html": [
       "<div>\n",
       "<style scoped>\n",
       "    .dataframe tbody tr th:only-of-type {\n",
       "        vertical-align: middle;\n",
       "    }\n",
       "\n",
       "    .dataframe tbody tr th {\n",
       "        vertical-align: top;\n",
       "    }\n",
       "\n",
       "    .dataframe thead th {\n",
       "        text-align: right;\n",
       "    }\n",
       "</style>\n",
       "<table border=\"1\" class=\"dataframe\">\n",
       "  <thead>\n",
       "    <tr style=\"text-align: right;\">\n",
       "      <th>Satisfaction</th>\n",
       "      <th>Neutral or Dissatisfied</th>\n",
       "      <th>Satisfied</th>\n",
       "    </tr>\n",
       "    <tr>\n",
       "      <th>On-board Service</th>\n",
       "      <th></th>\n",
       "      <th></th>\n",
       "    </tr>\n",
       "  </thead>\n",
       "  <tbody>\n",
       "    <tr>\n",
       "      <th>0</th>\n",
       "      <td>5</td>\n",
       "      <td>0</td>\n",
       "    </tr>\n",
       "    <tr>\n",
       "      <th>1</th>\n",
       "      <td>11879</td>\n",
       "      <td>2908</td>\n",
       "    </tr>\n",
       "    <tr>\n",
       "      <th>2</th>\n",
       "      <td>13663</td>\n",
       "      <td>4688</td>\n",
       "    </tr>\n",
       "    <tr>\n",
       "      <th>3</th>\n",
       "      <td>19463</td>\n",
       "      <td>9079</td>\n",
       "    </tr>\n",
       "    <tr>\n",
       "      <th>4</th>\n",
       "      <td>18013</td>\n",
       "      <td>20690</td>\n",
       "    </tr>\n",
       "    <tr>\n",
       "      <th>5</th>\n",
       "      <td>10429</td>\n",
       "      <td>19063</td>\n",
       "    </tr>\n",
       "  </tbody>\n",
       "</table>\n",
       "</div>"
      ],
      "text/plain": [
       "Satisfaction      Neutral or Dissatisfied  Satisfied\n",
       "On-board Service                                    \n",
       "0                                       5          0\n",
       "1                                   11879       2908\n",
       "2                                   13663       4688\n",
       "3                                   19463       9079\n",
       "4                                   18013      20690\n",
       "5                                   10429      19063"
      ]
     },
     "execution_count": 44,
     "metadata": {},
     "output_type": "execute_result"
    }
   ],
   "source": [
    "pd.crosstab(index=data['On-board Service'], columns=data['Satisfaction'])"
   ]
  },
  {
   "cell_type": "code",
   "execution_count": 45,
   "id": "a90c170a",
   "metadata": {
    "colab": {
     "base_uri": "https://localhost:8080/",
     "height": 406
    },
    "id": "a90c170a",
    "outputId": "5acb98e8-0545-4e26-990c-77b6b34f4cbc"
   },
   "outputs": [
    {
     "data": {
      "text/plain": [
       "<AxesSubplot:xlabel='Satisfaction', ylabel='count'>"
      ]
     },
     "execution_count": 45,
     "metadata": {},
     "output_type": "execute_result"
    },
    {
     "data": {
      "image/png": "[encoded data removed]",
      "text/plain": [
       "<Figure size 1080x432 with 1 Axes>"
      ]
     },
     "metadata": {
      "needs_background": "light"
     },
     "output_type": "display_data"
    }
   ],
   "source": [
    "plt.figure(figsize=(15,6))\n",
    "sns.countplot(x=\"Satisfaction\",data = data,hue=\"Seat Comfort\")"
   ]
  },
  {
   "cell_type": "code",
   "execution_count": 46,
   "id": "5bb0b00c",
   "metadata": {
    "colab": {
     "base_uri": "https://localhost:8080/",
     "height": 269
    },
    "id": "5bb0b00c",
    "outputId": "88bff019-4ed9-49e9-fc9b-4f7f1d260ccf"
   },
   "outputs": [
    {
     "data": {
      "text/html": [
       "<div>\n",
       "<style scoped>\n",
       "    .dataframe tbody tr th:only-of-type {\n",
       "        vertical-align: middle;\n",
       "    }\n",
       "\n",
       "    .dataframe tbody tr th {\n",
       "        vertical-align: top;\n",
       "    }\n",
       "\n",
       "    .dataframe thead th {\n",
       "        text-align: right;\n",
       "    }\n",
       "</style>\n",
       "<table border=\"1\" class=\"dataframe\">\n",
       "  <thead>\n",
       "    <tr style=\"text-align: right;\">\n",
       "      <th>Satisfaction</th>\n",
       "      <th>Neutral or Dissatisfied</th>\n",
       "      <th>Satisfied</th>\n",
       "    </tr>\n",
       "    <tr>\n",
       "      <th>Seat Comfort</th>\n",
       "      <th></th>\n",
       "      <th></th>\n",
       "    </tr>\n",
       "  </thead>\n",
       "  <tbody>\n",
       "    <tr>\n",
       "      <th>0</th>\n",
       "      <td>1</td>\n",
       "      <td>0</td>\n",
       "    </tr>\n",
       "    <tr>\n",
       "      <th>1</th>\n",
       "      <td>11734</td>\n",
       "      <td>3374</td>\n",
       "    </tr>\n",
       "    <tr>\n",
       "      <th>2</th>\n",
       "      <td>14341</td>\n",
       "      <td>4188</td>\n",
       "    </tr>\n",
       "    <tr>\n",
       "      <th>3</th>\n",
       "      <td>18334</td>\n",
       "      <td>4994</td>\n",
       "    </tr>\n",
       "    <tr>\n",
       "      <th>4</th>\n",
       "      <td>17481</td>\n",
       "      <td>22275</td>\n",
       "    </tr>\n",
       "    <tr>\n",
       "      <th>5</th>\n",
       "      <td>11561</td>\n",
       "      <td>21597</td>\n",
       "    </tr>\n",
       "  </tbody>\n",
       "</table>\n",
       "</div>"
      ],
      "text/plain": [
       "Satisfaction  Neutral or Dissatisfied  Satisfied\n",
       "Seat Comfort                                    \n",
       "0                                   1          0\n",
       "1                               11734       3374\n",
       "2                               14341       4188\n",
       "3                               18334       4994\n",
       "4                               17481      22275\n",
       "5                               11561      21597"
      ]
     },
     "execution_count": 46,
     "metadata": {},
     "output_type": "execute_result"
    }
   ],
   "source": [
    "pd.crosstab(index=data['Seat Comfort'], columns=data['Satisfaction'])"
   ]
  },
  {
   "cell_type": "code",
   "execution_count": 47,
   "id": "73c0fb44",
   "metadata": {
    "colab": {
     "base_uri": "https://localhost:8080/",
     "height": 406
    },
    "id": "73c0fb44",
    "outputId": "ecdbc55b-ed97-48eb-f366-5cc780d7bb93"
   },
   "outputs": [
    {
     "data": {
      "text/plain": [
       "<AxesSubplot:xlabel='Satisfaction', ylabel='count'>"
      ]
     },
     "execution_count": 47,
     "metadata": {},
     "output_type": "execute_result"
    },
    {
     "data": {
      "image/png": "[encoded data removed]",
      "text/plain": [
       "<Figure size 1080x432 with 1 Axes>"
      ]
     },
     "metadata": {
      "needs_background": "light"
     },
     "output_type": "display_data"
    }
   ],
   "source": [
    "plt.figure(figsize=(15,6))\n",
    "sns.countplot(x=\"Satisfaction\",data = data,hue=\"Leg Room Service\")"
   ]
  },
  {
   "cell_type": "code",
   "execution_count": 48,
   "id": "64de6860",
   "metadata": {
    "colab": {
     "base_uri": "https://localhost:8080/",
     "height": 269
    },
    "id": "64de6860",
    "outputId": "25d707f6-47fb-41c0-b9d3-9fbb344a784a"
   },
   "outputs": [
    {
     "data": {
      "text/html": [
       "<div>\n",
       "<style scoped>\n",
       "    .dataframe tbody tr th:only-of-type {\n",
       "        vertical-align: middle;\n",
       "    }\n",
       "\n",
       "    .dataframe tbody tr th {\n",
       "        vertical-align: top;\n",
       "    }\n",
       "\n",
       "    .dataframe thead th {\n",
       "        text-align: right;\n",
       "    }\n",
       "</style>\n",
       "<table border=\"1\" class=\"dataframe\">\n",
       "  <thead>\n",
       "    <tr style=\"text-align: right;\">\n",
       "      <th>Satisfaction</th>\n",
       "      <th>Neutral or Dissatisfied</th>\n",
       "      <th>Satisfied</th>\n",
       "    </tr>\n",
       "    <tr>\n",
       "      <th>Leg Room Service</th>\n",
       "      <th></th>\n",
       "      <th></th>\n",
       "    </tr>\n",
       "  </thead>\n",
       "  <tbody>\n",
       "    <tr>\n",
       "      <th>0</th>\n",
       "      <td>392</td>\n",
       "      <td>206</td>\n",
       "    </tr>\n",
       "    <tr>\n",
       "      <th>1</th>\n",
       "      <td>10263</td>\n",
       "      <td>2632</td>\n",
       "    </tr>\n",
       "    <tr>\n",
       "      <th>2</th>\n",
       "      <td>17785</td>\n",
       "      <td>6755</td>\n",
       "    </tr>\n",
       "    <tr>\n",
       "      <th>3</th>\n",
       "      <td>18139</td>\n",
       "      <td>6917</td>\n",
       "    </tr>\n",
       "    <tr>\n",
       "      <th>4</th>\n",
       "      <td>14961</td>\n",
       "      <td>20925</td>\n",
       "    </tr>\n",
       "    <tr>\n",
       "      <th>5</th>\n",
       "      <td>11912</td>\n",
       "      <td>18993</td>\n",
       "    </tr>\n",
       "  </tbody>\n",
       "</table>\n",
       "</div>"
      ],
      "text/plain": [
       "Satisfaction      Neutral or Dissatisfied  Satisfied\n",
       "Leg Room Service                                    \n",
       "0                                     392        206\n",
       "1                                   10263       2632\n",
       "2                                   17785       6755\n",
       "3                                   18139       6917\n",
       "4                                   14961      20925\n",
       "5                                   11912      18993"
      ]
     },
     "execution_count": 48,
     "metadata": {},
     "output_type": "execute_result"
    }
   ],
   "source": [
    "pd.crosstab(index=data['Leg Room Service'], columns=data['Satisfaction'])"
   ]
  },
  {
   "cell_type": "code",
   "execution_count": 49,
   "id": "31493cdb",
   "metadata": {
    "colab": {
     "base_uri": "https://localhost:8080/",
     "height": 406
    },
    "id": "31493cdb",
    "outputId": "0de23ae2-eeba-4467-9c87-5d79f8fd89ba"
   },
   "outputs": [
    {
     "data": {
      "text/plain": [
       "<AxesSubplot:xlabel='Satisfaction', ylabel='count'>"
      ]
     },
     "execution_count": 49,
     "metadata": {},
     "output_type": "execute_result"
    },
    {
     "data": {
      "image/png": "[encoded data removed]",
      "text/plain": [
       "<Figure size 1080x432 with 1 Axes>"
      ]
     },
     "metadata": {
      "needs_background": "light"
     },
     "output_type": "display_data"
    }
   ],
   "source": [
    "plt.figure(figsize=(15,6))\n",
    "sns.countplot(x=\"Satisfaction\",data = data,hue=\"Cleanliness\")"
   ]
  },
  {
   "cell_type": "code",
   "execution_count": 50,
   "id": "e94a1c1d",
   "metadata": {
    "colab": {
     "base_uri": "https://localhost:8080/",
     "height": 269
    },
    "id": "e94a1c1d",
    "outputId": "cf2bd605-1653-4c69-94ed-90af8ee1f02b"
   },
   "outputs": [
    {
     "data": {
      "text/html": [
       "<div>\n",
       "<style scoped>\n",
       "    .dataframe tbody tr th:only-of-type {\n",
       "        vertical-align: middle;\n",
       "    }\n",
       "\n",
       "    .dataframe tbody tr th {\n",
       "        vertical-align: top;\n",
       "    }\n",
       "\n",
       "    .dataframe thead th {\n",
       "        text-align: right;\n",
       "    }\n",
       "</style>\n",
       "<table border=\"1\" class=\"dataframe\">\n",
       "  <thead>\n",
       "    <tr style=\"text-align: right;\">\n",
       "      <th>Satisfaction</th>\n",
       "      <th>Neutral or Dissatisfied</th>\n",
       "      <th>Satisfied</th>\n",
       "    </tr>\n",
       "    <tr>\n",
       "      <th>Cleanliness</th>\n",
       "      <th></th>\n",
       "      <th></th>\n",
       "    </tr>\n",
       "  </thead>\n",
       "  <tbody>\n",
       "    <tr>\n",
       "      <th>0</th>\n",
       "      <td>14</td>\n",
       "      <td>0</td>\n",
       "    </tr>\n",
       "    <tr>\n",
       "      <th>1</th>\n",
       "      <td>13434</td>\n",
       "      <td>3295</td>\n",
       "    </tr>\n",
       "    <tr>\n",
       "      <th>2</th>\n",
       "      <td>15836</td>\n",
       "      <td>4277</td>\n",
       "    </tr>\n",
       "    <tr>\n",
       "      <th>3</th>\n",
       "      <td>17370</td>\n",
       "      <td>13269</td>\n",
       "    </tr>\n",
       "    <tr>\n",
       "      <th>4</th>\n",
       "      <td>15786</td>\n",
       "      <td>18183</td>\n",
       "    </tr>\n",
       "    <tr>\n",
       "      <th>5</th>\n",
       "      <td>11012</td>\n",
       "      <td>17404</td>\n",
       "    </tr>\n",
       "  </tbody>\n",
       "</table>\n",
       "</div>"
      ],
      "text/plain": [
       "Satisfaction  Neutral or Dissatisfied  Satisfied\n",
       "Cleanliness                                     \n",
       "0                                  14          0\n",
       "1                               13434       3295\n",
       "2                               15836       4277\n",
       "3                               17370      13269\n",
       "4                               15786      18183\n",
       "5                               11012      17404"
      ]
     },
     "execution_count": 50,
     "metadata": {},
     "output_type": "execute_result"
    }
   ],
   "source": [
    "pd.crosstab(index=data['Cleanliness'], columns=data['Satisfaction'])"
   ]
  },
  {
   "cell_type": "code",
   "execution_count": 51,
   "id": "05bb0d32",
   "metadata": {
    "colab": {
     "base_uri": "https://localhost:8080/",
     "height": 406
    },
    "id": "05bb0d32",
    "outputId": "467107ea-8087-413b-d22c-9412477f2c37"
   },
   "outputs": [
    {
     "data": {
      "text/plain": [
       "<AxesSubplot:xlabel='Satisfaction', ylabel='count'>"
      ]
     },
     "execution_count": 51,
     "metadata": {},
     "output_type": "execute_result"
    },
    {
     "data": {
      "image/png": "[encoded data removed]",
      "text/plain": [
       "<Figure size 1080x432 with 1 Axes>"
      ]
     },
     "metadata": {
      "needs_background": "light"
     },
     "output_type": "display_data"
    }
   ],
   "source": [
    "plt.figure(figsize=(15,6))\n",
    "sns.countplot(x=\"Satisfaction\",data = data,hue=\"Food and Drink\")"
   ]
  },
  {
   "cell_type": "code",
   "execution_count": 52,
   "id": "d28e06b0",
   "metadata": {
    "colab": {
     "base_uri": "https://localhost:8080/",
     "height": 269
    },
    "id": "d28e06b0",
    "outputId": "458fe008-38ac-402e-f07a-5088a9c8abad"
   },
   "outputs": [
    {
     "data": {
      "text/html": [
       "<div>\n",
       "<style scoped>\n",
       "    .dataframe tbody tr th:only-of-type {\n",
       "        vertical-align: middle;\n",
       "    }\n",
       "\n",
       "    .dataframe tbody tr th {\n",
       "        vertical-align: top;\n",
       "    }\n",
       "\n",
       "    .dataframe thead th {\n",
       "        text-align: right;\n",
       "    }\n",
       "</style>\n",
       "<table border=\"1\" class=\"dataframe\">\n",
       "  <thead>\n",
       "    <tr style=\"text-align: right;\">\n",
       "      <th>Satisfaction</th>\n",
       "      <th>Neutral or Dissatisfied</th>\n",
       "      <th>Satisfied</th>\n",
       "    </tr>\n",
       "    <tr>\n",
       "      <th>Food and Drink</th>\n",
       "      <th></th>\n",
       "      <th></th>\n",
       "    </tr>\n",
       "  </thead>\n",
       "  <tbody>\n",
       "    <tr>\n",
       "      <th>0</th>\n",
       "      <td>77</td>\n",
       "      <td>55</td>\n",
       "    </tr>\n",
       "    <tr>\n",
       "      <th>1</th>\n",
       "      <td>12848</td>\n",
       "      <td>3203</td>\n",
       "    </tr>\n",
       "    <tr>\n",
       "      <th>2</th>\n",
       "      <td>16731</td>\n",
       "      <td>10652</td>\n",
       "    </tr>\n",
       "    <tr>\n",
       "      <th>3</th>\n",
       "      <td>16748</td>\n",
       "      <td>11046</td>\n",
       "    </tr>\n",
       "    <tr>\n",
       "      <th>4</th>\n",
       "      <td>14492</td>\n",
       "      <td>16071</td>\n",
       "    </tr>\n",
       "    <tr>\n",
       "      <th>5</th>\n",
       "      <td>12556</td>\n",
       "      <td>15401</td>\n",
       "    </tr>\n",
       "  </tbody>\n",
       "</table>\n",
       "</div>"
      ],
      "text/plain": [
       "Satisfaction    Neutral or Dissatisfied  Satisfied\n",
       "Food and Drink                                    \n",
       "0                                    77         55\n",
       "1                                 12848       3203\n",
       "2                                 16731      10652\n",
       "3                                 16748      11046\n",
       "4                                 14492      16071\n",
       "5                                 12556      15401"
      ]
     },
     "execution_count": 52,
     "metadata": {},
     "output_type": "execute_result"
    }
   ],
   "source": [
    "pd.crosstab(index=data['Food and Drink'], columns=data['Satisfaction'])"
   ]
  },
  {
   "cell_type": "markdown",
   "id": "qXGN1qmZ2Mwf",
   "metadata": {
    "id": "qXGN1qmZ2Mwf"
   },
   "source": []
  },
  {
   "cell_type": "code",
   "execution_count": 53,
   "id": "2efc88d9",
   "metadata": {
    "colab": {
     "base_uri": "https://localhost:8080/",
     "height": 406
    },
    "id": "2efc88d9",
    "outputId": "abd2b760-7adf-4eef-ccf5-84323c1d693c"
   },
   "outputs": [
    {
     "data": {
      "text/plain": [
       "<AxesSubplot:xlabel='Satisfaction', ylabel='count'>"
      ]
     },
     "execution_count": 53,
     "metadata": {},
     "output_type": "execute_result"
    },
    {
     "data": {
      "image/png": "[encoded data removed]",
      "text/plain": [
       "<Figure size 1080x432 with 1 Axes>"
      ]
     },
     "metadata": {
      "needs_background": "light"
     },
     "output_type": "display_data"
    }
   ],
   "source": [
    "plt.figure(figsize=(15,6))\n",
    "sns.countplot(x=\"Satisfaction\",data = data,hue=\"In-flight Service\")"
   ]
  },
  {
   "cell_type": "code",
   "execution_count": 54,
   "id": "e3fee909",
   "metadata": {
    "colab": {
     "base_uri": "https://localhost:8080/",
     "height": 269
    },
    "id": "e3fee909",
    "outputId": "8cbb69da-9a9c-430f-e41a-b5ac185c5271"
   },
   "outputs": [
    {
     "data": {
      "text/html": [
       "<div>\n",
       "<style scoped>\n",
       "    .dataframe tbody tr th:only-of-type {\n",
       "        vertical-align: middle;\n",
       "    }\n",
       "\n",
       "    .dataframe tbody tr th {\n",
       "        vertical-align: top;\n",
       "    }\n",
       "\n",
       "    .dataframe thead th {\n",
       "        text-align: right;\n",
       "    }\n",
       "</style>\n",
       "<table border=\"1\" class=\"dataframe\">\n",
       "  <thead>\n",
       "    <tr style=\"text-align: right;\">\n",
       "      <th>Satisfaction</th>\n",
       "      <th>Neutral or Dissatisfied</th>\n",
       "      <th>Satisfied</th>\n",
       "    </tr>\n",
       "    <tr>\n",
       "      <th>In-flight Service</th>\n",
       "      <th></th>\n",
       "      <th></th>\n",
       "    </tr>\n",
       "  </thead>\n",
       "  <tbody>\n",
       "    <tr>\n",
       "      <th>0</th>\n",
       "      <td>5</td>\n",
       "      <td>0</td>\n",
       "    </tr>\n",
       "    <tr>\n",
       "      <th>1</th>\n",
       "      <td>6274</td>\n",
       "      <td>2588</td>\n",
       "    </tr>\n",
       "    <tr>\n",
       "      <th>2</th>\n",
       "      <td>10003</td>\n",
       "      <td>4305</td>\n",
       "    </tr>\n",
       "    <tr>\n",
       "      <th>3</th>\n",
       "      <td>19233</td>\n",
       "      <td>6083</td>\n",
       "    </tr>\n",
       "    <tr>\n",
       "      <th>4</th>\n",
       "      <td>24691</td>\n",
       "      <td>22632</td>\n",
       "    </tr>\n",
       "    <tr>\n",
       "      <th>5</th>\n",
       "      <td>13246</td>\n",
       "      <td>20820</td>\n",
       "    </tr>\n",
       "  </tbody>\n",
       "</table>\n",
       "</div>"
      ],
      "text/plain": [
       "Satisfaction       Neutral or Dissatisfied  Satisfied\n",
       "In-flight Service                                    \n",
       "0                                        5          0\n",
       "1                                     6274       2588\n",
       "2                                    10003       4305\n",
       "3                                    19233       6083\n",
       "4                                    24691      22632\n",
       "5                                    13246      20820"
      ]
     },
     "execution_count": 54,
     "metadata": {},
     "output_type": "execute_result"
    }
   ],
   "source": [
    "pd.crosstab(index=data['In-flight Service'], columns=data['Satisfaction'])"
   ]
  },
  {
   "cell_type": "code",
   "execution_count": 55,
   "id": "b547cfc0",
   "metadata": {
    "colab": {
     "base_uri": "https://localhost:8080/",
     "height": 406
    },
    "id": "b547cfc0",
    "outputId": "37edbd92-e6fc-4970-e31c-b7ada5fe3ae2"
   },
   "outputs": [
    {
     "data": {
      "text/plain": [
       "<AxesSubplot:xlabel='Satisfaction', ylabel='count'>"
      ]
     },
     "execution_count": 55,
     "metadata": {},
     "output_type": "execute_result"
    },
    {
     "data": {
      "image/png": "[encoded data removed]",
      "text/plain": [
       "<Figure size 1080x432 with 1 Axes>"
      ]
     },
     "metadata": {
      "needs_background": "light"
     },
     "output_type": "display_data"
    }
   ],
   "source": [
    "plt.figure(figsize=(15,6))\n",
    "sns.countplot(x=\"Satisfaction\",data = data,hue=\"In-flight Wifi Service\")"
   ]
  },
  {
   "cell_type": "code",
   "execution_count": 56,
   "id": "6ccef94c",
   "metadata": {
    "colab": {
     "base_uri": "https://localhost:8080/",
     "height": 269
    },
    "id": "6ccef94c",
    "outputId": "e00a7ac7-ec76-419a-d884-4bd8676c9ffe"
   },
   "outputs": [
    {
     "data": {
      "text/html": [
       "<div>\n",
       "<style scoped>\n",
       "    .dataframe tbody tr th:only-of-type {\n",
       "        vertical-align: middle;\n",
       "    }\n",
       "\n",
       "    .dataframe tbody tr th {\n",
       "        vertical-align: top;\n",
       "    }\n",
       "\n",
       "    .dataframe thead th {\n",
       "        text-align: right;\n",
       "    }\n",
       "</style>\n",
       "<table border=\"1\" class=\"dataframe\">\n",
       "  <thead>\n",
       "    <tr style=\"text-align: right;\">\n",
       "      <th>Satisfaction</th>\n",
       "      <th>Neutral or Dissatisfied</th>\n",
       "      <th>Satisfied</th>\n",
       "    </tr>\n",
       "    <tr>\n",
       "      <th>In-flight Wifi Service</th>\n",
       "      <th></th>\n",
       "      <th></th>\n",
       "    </tr>\n",
       "  </thead>\n",
       "  <tbody>\n",
       "    <tr>\n",
       "      <th>0</th>\n",
       "      <td>10</td>\n",
       "      <td>3906</td>\n",
       "    </tr>\n",
       "    <tr>\n",
       "      <th>1</th>\n",
       "      <td>15000</td>\n",
       "      <td>7328</td>\n",
       "    </tr>\n",
       "    <tr>\n",
       "      <th>2</th>\n",
       "      <td>24330</td>\n",
       "      <td>7990</td>\n",
       "    </tr>\n",
       "    <tr>\n",
       "      <th>3</th>\n",
       "      <td>24080</td>\n",
       "      <td>8105</td>\n",
       "    </tr>\n",
       "    <tr>\n",
       "      <th>4</th>\n",
       "      <td>9891</td>\n",
       "      <td>14884</td>\n",
       "    </tr>\n",
       "    <tr>\n",
       "      <th>5</th>\n",
       "      <td>141</td>\n",
       "      <td>14215</td>\n",
       "    </tr>\n",
       "  </tbody>\n",
       "</table>\n",
       "</div>"
      ],
      "text/plain": [
       "Satisfaction            Neutral or Dissatisfied  Satisfied\n",
       "In-flight Wifi Service                                    \n",
       "0                                            10       3906\n",
       "1                                         15000       7328\n",
       "2                                         24330       7990\n",
       "3                                         24080       8105\n",
       "4                                          9891      14884\n",
       "5                                           141      14215"
      ]
     },
     "execution_count": 56,
     "metadata": {},
     "output_type": "execute_result"
    }
   ],
   "source": [
    "pd.crosstab(index=data['In-flight Wifi Service'], columns=data['Satisfaction'])"
   ]
  },
  {
   "cell_type": "code",
   "execution_count": 57,
   "id": "7813bc15",
   "metadata": {
    "colab": {
     "base_uri": "https://localhost:8080/",
     "height": 406
    },
    "id": "7813bc15",
    "outputId": "6fe1b2fc-d95c-4d20-fd65-ab367700c2c2"
   },
   "outputs": [
    {
     "data": {
      "text/plain": [
       "<AxesSubplot:xlabel='Satisfaction', ylabel='count'>"
      ]
     },
     "execution_count": 57,
     "metadata": {},
     "output_type": "execute_result"
    },
    {
     "data": {
      "image/png": "[encoded data removed]",
      "text/plain": [
       "<Figure size 1080x432 with 1 Axes>"
      ]
     },
     "metadata": {
      "needs_background": "light"
     },
     "output_type": "display_data"
    }
   ],
   "source": [
    "plt.figure(figsize=(15,6))\n",
    "sns.countplot(x=\"Satisfaction\",data = data,hue=\"In-flight Entertainment\")"
   ]
  },
  {
   "cell_type": "code",
   "execution_count": 58,
   "id": "7861b85c",
   "metadata": {
    "colab": {
     "base_uri": "https://localhost:8080/",
     "height": 269
    },
    "id": "7861b85c",
    "outputId": "fc37b521-902b-45a4-d2d3-00a24e569854"
   },
   "outputs": [
    {
     "data": {
      "text/html": [
       "<div>\n",
       "<style scoped>\n",
       "    .dataframe tbody tr th:only-of-type {\n",
       "        vertical-align: middle;\n",
       "    }\n",
       "\n",
       "    .dataframe tbody tr th {\n",
       "        vertical-align: top;\n",
       "    }\n",
       "\n",
       "    .dataframe thead th {\n",
       "        text-align: right;\n",
       "    }\n",
       "</style>\n",
       "<table border=\"1\" class=\"dataframe\">\n",
       "  <thead>\n",
       "    <tr style=\"text-align: right;\">\n",
       "      <th>Satisfaction</th>\n",
       "      <th>Neutral or Dissatisfied</th>\n",
       "      <th>Satisfied</th>\n",
       "    </tr>\n",
       "    <tr>\n",
       "      <th>In-flight Entertainment</th>\n",
       "      <th></th>\n",
       "      <th></th>\n",
       "    </tr>\n",
       "  </thead>\n",
       "  <tbody>\n",
       "    <tr>\n",
       "      <th>0</th>\n",
       "      <td>18</td>\n",
       "      <td>0</td>\n",
       "    </tr>\n",
       "    <tr>\n",
       "      <th>1</th>\n",
       "      <td>13450</td>\n",
       "      <td>2225</td>\n",
       "    </tr>\n",
       "    <tr>\n",
       "      <th>2</th>\n",
       "      <td>17296</td>\n",
       "      <td>4672</td>\n",
       "    </tr>\n",
       "    <tr>\n",
       "      <th>3</th>\n",
       "      <td>17360</td>\n",
       "      <td>6524</td>\n",
       "    </tr>\n",
       "    <tr>\n",
       "      <th>4</th>\n",
       "      <td>14307</td>\n",
       "      <td>22484</td>\n",
       "    </tr>\n",
       "    <tr>\n",
       "      <th>5</th>\n",
       "      <td>11021</td>\n",
       "      <td>20523</td>\n",
       "    </tr>\n",
       "  </tbody>\n",
       "</table>\n",
       "</div>"
      ],
      "text/plain": [
       "Satisfaction             Neutral or Dissatisfied  Satisfied\n",
       "In-flight Entertainment                                    \n",
       "0                                             18          0\n",
       "1                                          13450       2225\n",
       "2                                          17296       4672\n",
       "3                                          17360       6524\n",
       "4                                          14307      22484\n",
       "5                                          11021      20523"
      ]
     },
     "execution_count": 58,
     "metadata": {},
     "output_type": "execute_result"
    }
   ],
   "source": [
    "pd.crosstab(index=data['In-flight Entertainment'], columns=data['Satisfaction'])"
   ]
  },
  {
   "cell_type": "markdown",
   "id": "lnkwihYlKP9c",
   "metadata": {
    "id": "lnkwihYlKP9c"
   },
   "source": [
    "#BAGGAGE HANDLING\n",
    "It represent the satisfaction of the customer with respect to the Baggage Handling.It takes values that ranges between 1 to 5,with a mean of ranges 3 to 4."
   ]
  },
  {
   "cell_type": "code",
   "execution_count": 59,
   "id": "30d6fe6f",
   "metadata": {
    "colab": {
     "base_uri": "https://localhost:8080/",
     "height": 406
    },
    "id": "30d6fe6f",
    "outputId": "01ff78a7-cf32-4b43-b546-b7479b428b40"
   },
   "outputs": [
    {
     "data": {
      "text/plain": [
       "<AxesSubplot:xlabel='Satisfaction', ylabel='count'>"
      ]
     },
     "execution_count": 59,
     "metadata": {},
     "output_type": "execute_result"
    },
    {
     "data": {
      "image/png": "[encoded data removed]",
      "text/plain": [
       "<Figure size 1080x432 with 1 Axes>"
      ]
     },
     "metadata": {
      "needs_background": "light"
     },
     "output_type": "display_data"
    }
   ],
   "source": [
    "plt.figure(figsize=(15,6))\n",
    "sns.countplot(x=\"Satisfaction\",data = data,hue=\"Baggage Handling\")"
   ]
  },
  {
   "cell_type": "code",
   "execution_count": 60,
   "id": "d0012937",
   "metadata": {
    "colab": {
     "base_uri": "https://localhost:8080/",
     "height": 237
    },
    "id": "d0012937",
    "outputId": "6d25e7ca-5269-48d5-d446-a68d9b7d084e"
   },
   "outputs": [
    {
     "data": {
      "text/html": [
       "<div>\n",
       "<style scoped>\n",
       "    .dataframe tbody tr th:only-of-type {\n",
       "        vertical-align: middle;\n",
       "    }\n",
       "\n",
       "    .dataframe tbody tr th {\n",
       "        vertical-align: top;\n",
       "    }\n",
       "\n",
       "    .dataframe thead th {\n",
       "        text-align: right;\n",
       "    }\n",
       "</style>\n",
       "<table border=\"1\" class=\"dataframe\">\n",
       "  <thead>\n",
       "    <tr style=\"text-align: right;\">\n",
       "      <th>Satisfaction</th>\n",
       "      <th>Neutral or Dissatisfied</th>\n",
       "      <th>Satisfied</th>\n",
       "    </tr>\n",
       "    <tr>\n",
       "      <th>Baggage Handling</th>\n",
       "      <th></th>\n",
       "      <th></th>\n",
       "    </tr>\n",
       "  </thead>\n",
       "  <tbody>\n",
       "    <tr>\n",
       "      <th>1</th>\n",
       "      <td>6317</td>\n",
       "      <td>2711</td>\n",
       "    </tr>\n",
       "    <tr>\n",
       "      <th>2</th>\n",
       "      <td>10138</td>\n",
       "      <td>4224</td>\n",
       "    </tr>\n",
       "    <tr>\n",
       "      <th>3</th>\n",
       "      <td>19699</td>\n",
       "      <td>6152</td>\n",
       "    </tr>\n",
       "    <tr>\n",
       "      <th>4</th>\n",
       "      <td>24286</td>\n",
       "      <td>22475</td>\n",
       "    </tr>\n",
       "    <tr>\n",
       "      <th>5</th>\n",
       "      <td>13012</td>\n",
       "      <td>20866</td>\n",
       "    </tr>\n",
       "  </tbody>\n",
       "</table>\n",
       "</div>"
      ],
      "text/plain": [
       "Satisfaction      Neutral or Dissatisfied  Satisfied\n",
       "Baggage Handling                                    \n",
       "1                                    6317       2711\n",
       "2                                   10138       4224\n",
       "3                                   19699       6152\n",
       "4                                   24286      22475\n",
       "5                                   13012      20866"
      ]
     },
     "execution_count": 60,
     "metadata": {},
     "output_type": "execute_result"
    }
   ],
   "source": [
    "pd.crosstab(index=data['Baggage Handling'], columns=data['Satisfaction'])"
   ]
  },
  {
   "cell_type": "markdown",
   "id": "bB5-CNXAjVE-",
   "metadata": {
    "id": "bB5-CNXAjVE-"
   },
   "source": [
    "#OVERVIEW\n",
    "A baggage handling is a type of conveyor system installed in airports that transports checked luggage from ticket counters to areas where the bags can be loaded onto airplanes.Similarly other features those who were satisfied with the Baggage service were more likely to rate the overall service satisfactory.Those who are giving 1 and 2 rating to Baggage handling among them 70 % are dissatisfied it means this is the one feature for which they are dissatisfied.Those who give 5 ratings to this feature among them 38 % are dissatisfied to overall system,means this reason doesnot affect their satisfaction level.Rest who are giving 3 ratings among them 76 % are dissatisfied it implies that this feature also effect their satisfaction level."
   ]
  },
  {
   "cell_type": "code",
   "execution_count": 61,
   "id": "e3bd6bd3",
   "metadata": {
    "colab": {
     "base_uri": "https://localhost:8080/"
    },
    "id": "e3bd6bd3",
    "outputId": "8457132a-c184-46f6-abd8-87c3848d2e6f"
   },
   "outputs": [
    {
     "data": {
      "text/plain": [
       "Index(['ID', 'Gender', 'Age', 'Customer Type', 'Type of Travel', 'Class',\n",
       "       'Flight Distance', 'Departure Delay', 'Arrival Delay',\n",
       "       'Departure and Arrival Time Convenience', 'Ease of Online Booking',\n",
       "       'Check-in Service', 'Online Boarding', 'Gate Location',\n",
       "       'On-board Service', 'Seat Comfort', 'Leg Room Service', 'Cleanliness',\n",
       "       'Food and Drink', 'In-flight Service', 'In-flight Wifi Service',\n",
       "       'In-flight Entertainment', 'Baggage Handling', 'Satisfaction',\n",
       "       'distance_group', 'Departure_Delay_grp', 'Arrival_Delay_group'],\n",
       "      dtype='object')"
      ]
     },
     "execution_count": 61,
     "metadata": {},
     "output_type": "execute_result"
    }
   ],
   "source": [
    "data.columns"
   ]
  },
  {
   "cell_type": "code",
   "execution_count": 62,
   "id": "60b5ab8e",
   "metadata": {},
   "outputs": [
    {
     "data": {
      "text/html": [
       "<div>\n",
       "<style scoped>\n",
       "    .dataframe tbody tr th:only-of-type {\n",
       "        vertical-align: middle;\n",
       "    }\n",
       "\n",
       "    .dataframe tbody tr th {\n",
       "        vertical-align: top;\n",
       "    }\n",
       "\n",
       "    .dataframe thead th {\n",
       "        text-align: right;\n",
       "    }\n",
       "</style>\n",
       "<table border=\"1\" class=\"dataframe\">\n",
       "  <thead>\n",
       "    <tr style=\"text-align: right;\">\n",
       "      <th></th>\n",
       "      <th>ID</th>\n",
       "      <th>Gender</th>\n",
       "      <th>Age</th>\n",
       "      <th>Customer Type</th>\n",
       "      <th>Type of Travel</th>\n",
       "      <th>Class</th>\n",
       "      <th>Flight Distance</th>\n",
       "      <th>Departure Delay</th>\n",
       "      <th>Arrival Delay</th>\n",
       "      <th>Departure and Arrival Time Convenience</th>\n",
       "      <th>...</th>\n",
       "      <th>Cleanliness</th>\n",
       "      <th>Food and Drink</th>\n",
       "      <th>In-flight Service</th>\n",
       "      <th>In-flight Wifi Service</th>\n",
       "      <th>In-flight Entertainment</th>\n",
       "      <th>Baggage Handling</th>\n",
       "      <th>Satisfaction</th>\n",
       "      <th>distance_group</th>\n",
       "      <th>Departure_Delay_grp</th>\n",
       "      <th>Arrival_Delay_group</th>\n",
       "    </tr>\n",
       "  </thead>\n",
       "  <tbody>\n",
       "    <tr>\n",
       "      <th>0</th>\n",
       "      <td>1</td>\n",
       "      <td>Male</td>\n",
       "      <td>48</td>\n",
       "      <td>First-time</td>\n",
       "      <td>Business</td>\n",
       "      <td>Business</td>\n",
       "      <td>821</td>\n",
       "      <td>2</td>\n",
       "      <td>5.0</td>\n",
       "      <td>3</td>\n",
       "      <td>...</td>\n",
       "      <td>5</td>\n",
       "      <td>5</td>\n",
       "      <td>5</td>\n",
       "      <td>3</td>\n",
       "      <td>5</td>\n",
       "      <td>5</td>\n",
       "      <td>Neutral or Dissatisfied</td>\n",
       "      <td>less than 1500</td>\n",
       "      <td>less than 7</td>\n",
       "      <td>less than 7</td>\n",
       "    </tr>\n",
       "    <tr>\n",
       "      <th>1</th>\n",
       "      <td>2</td>\n",
       "      <td>Female</td>\n",
       "      <td>35</td>\n",
       "      <td>Returning</td>\n",
       "      <td>Business</td>\n",
       "      <td>Business</td>\n",
       "      <td>821</td>\n",
       "      <td>26</td>\n",
       "      <td>39.0</td>\n",
       "      <td>2</td>\n",
       "      <td>...</td>\n",
       "      <td>5</td>\n",
       "      <td>3</td>\n",
       "      <td>5</td>\n",
       "      <td>2</td>\n",
       "      <td>5</td>\n",
       "      <td>5</td>\n",
       "      <td>Satisfied</td>\n",
       "      <td>less than 1500</td>\n",
       "      <td>grater than 14</td>\n",
       "      <td>grater than 14</td>\n",
       "    </tr>\n",
       "    <tr>\n",
       "      <th>2</th>\n",
       "      <td>3</td>\n",
       "      <td>Male</td>\n",
       "      <td>41</td>\n",
       "      <td>Returning</td>\n",
       "      <td>Business</td>\n",
       "      <td>Business</td>\n",
       "      <td>853</td>\n",
       "      <td>0</td>\n",
       "      <td>0.0</td>\n",
       "      <td>4</td>\n",
       "      <td>...</td>\n",
       "      <td>5</td>\n",
       "      <td>5</td>\n",
       "      <td>3</td>\n",
       "      <td>4</td>\n",
       "      <td>3</td>\n",
       "      <td>3</td>\n",
       "      <td>Satisfied</td>\n",
       "      <td>less than 1500</td>\n",
       "      <td>less than 7</td>\n",
       "      <td>less than 7</td>\n",
       "    </tr>\n",
       "    <tr>\n",
       "      <th>3</th>\n",
       "      <td>4</td>\n",
       "      <td>Male</td>\n",
       "      <td>50</td>\n",
       "      <td>Returning</td>\n",
       "      <td>Business</td>\n",
       "      <td>Business</td>\n",
       "      <td>1905</td>\n",
       "      <td>0</td>\n",
       "      <td>0.0</td>\n",
       "      <td>2</td>\n",
       "      <td>...</td>\n",
       "      <td>4</td>\n",
       "      <td>4</td>\n",
       "      <td>5</td>\n",
       "      <td>2</td>\n",
       "      <td>5</td>\n",
       "      <td>5</td>\n",
       "      <td>Satisfied</td>\n",
       "      <td>grater than 1500</td>\n",
       "      <td>less than 7</td>\n",
       "      <td>less than 7</td>\n",
       "    </tr>\n",
       "    <tr>\n",
       "      <th>4</th>\n",
       "      <td>5</td>\n",
       "      <td>Female</td>\n",
       "      <td>49</td>\n",
       "      <td>Returning</td>\n",
       "      <td>Business</td>\n",
       "      <td>Business</td>\n",
       "      <td>3470</td>\n",
       "      <td>0</td>\n",
       "      <td>1.0</td>\n",
       "      <td>3</td>\n",
       "      <td>...</td>\n",
       "      <td>5</td>\n",
       "      <td>4</td>\n",
       "      <td>3</td>\n",
       "      <td>3</td>\n",
       "      <td>3</td>\n",
       "      <td>3</td>\n",
       "      <td>Satisfied</td>\n",
       "      <td>grater than 1500</td>\n",
       "      <td>less than 7</td>\n",
       "      <td>less than 7</td>\n",
       "    </tr>\n",
       "    <tr>\n",
       "      <th>...</th>\n",
       "      <td>...</td>\n",
       "      <td>...</td>\n",
       "      <td>...</td>\n",
       "      <td>...</td>\n",
       "      <td>...</td>\n",
       "      <td>...</td>\n",
       "      <td>...</td>\n",
       "      <td>...</td>\n",
       "      <td>...</td>\n",
       "      <td>...</td>\n",
       "      <td>...</td>\n",
       "      <td>...</td>\n",
       "      <td>...</td>\n",
       "      <td>...</td>\n",
       "      <td>...</td>\n",
       "      <td>...</td>\n",
       "      <td>...</td>\n",
       "      <td>...</td>\n",
       "      <td>...</td>\n",
       "      <td>...</td>\n",
       "      <td>...</td>\n",
       "    </tr>\n",
       "    <tr>\n",
       "      <th>129875</th>\n",
       "      <td>129876</td>\n",
       "      <td>Male</td>\n",
       "      <td>28</td>\n",
       "      <td>Returning</td>\n",
       "      <td>Personal</td>\n",
       "      <td>Economy Plus</td>\n",
       "      <td>447</td>\n",
       "      <td>2</td>\n",
       "      <td>3.0</td>\n",
       "      <td>4</td>\n",
       "      <td>...</td>\n",
       "      <td>4</td>\n",
       "      <td>4</td>\n",
       "      <td>5</td>\n",
       "      <td>4</td>\n",
       "      <td>4</td>\n",
       "      <td>4</td>\n",
       "      <td>Neutral or Dissatisfied</td>\n",
       "      <td>less than 1500</td>\n",
       "      <td>less than 7</td>\n",
       "      <td>less than 7</td>\n",
       "    </tr>\n",
       "    <tr>\n",
       "      <th>129876</th>\n",
       "      <td>129877</td>\n",
       "      <td>Male</td>\n",
       "      <td>41</td>\n",
       "      <td>Returning</td>\n",
       "      <td>Personal</td>\n",
       "      <td>Economy Plus</td>\n",
       "      <td>308</td>\n",
       "      <td>0</td>\n",
       "      <td>0.0</td>\n",
       "      <td>5</td>\n",
       "      <td>...</td>\n",
       "      <td>2</td>\n",
       "      <td>2</td>\n",
       "      <td>4</td>\n",
       "      <td>3</td>\n",
       "      <td>2</td>\n",
       "      <td>5</td>\n",
       "      <td>Neutral or Dissatisfied</td>\n",
       "      <td>less than 1500</td>\n",
       "      <td>less than 7</td>\n",
       "      <td>less than 7</td>\n",
       "    </tr>\n",
       "    <tr>\n",
       "      <th>129877</th>\n",
       "      <td>129878</td>\n",
       "      <td>Male</td>\n",
       "      <td>42</td>\n",
       "      <td>Returning</td>\n",
       "      <td>Personal</td>\n",
       "      <td>Economy Plus</td>\n",
       "      <td>337</td>\n",
       "      <td>6</td>\n",
       "      <td>14.0</td>\n",
       "      <td>5</td>\n",
       "      <td>...</td>\n",
       "      <td>3</td>\n",
       "      <td>3</td>\n",
       "      <td>4</td>\n",
       "      <td>2</td>\n",
       "      <td>3</td>\n",
       "      <td>5</td>\n",
       "      <td>Neutral or Dissatisfied</td>\n",
       "      <td>less than 1500</td>\n",
       "      <td>less than 7</td>\n",
       "      <td>between 7 to 14</td>\n",
       "    </tr>\n",
       "    <tr>\n",
       "      <th>129878</th>\n",
       "      <td>129879</td>\n",
       "      <td>Male</td>\n",
       "      <td>50</td>\n",
       "      <td>Returning</td>\n",
       "      <td>Personal</td>\n",
       "      <td>Economy Plus</td>\n",
       "      <td>337</td>\n",
       "      <td>31</td>\n",
       "      <td>22.0</td>\n",
       "      <td>4</td>\n",
       "      <td>...</td>\n",
       "      <td>3</td>\n",
       "      <td>3</td>\n",
       "      <td>4</td>\n",
       "      <td>5</td>\n",
       "      <td>3</td>\n",
       "      <td>5</td>\n",
       "      <td>Satisfied</td>\n",
       "      <td>less than 1500</td>\n",
       "      <td>grater than 14</td>\n",
       "      <td>grater than 14</td>\n",
       "    </tr>\n",
       "    <tr>\n",
       "      <th>129879</th>\n",
       "      <td>129880</td>\n",
       "      <td>Female</td>\n",
       "      <td>20</td>\n",
       "      <td>Returning</td>\n",
       "      <td>Personal</td>\n",
       "      <td>Economy Plus</td>\n",
       "      <td>337</td>\n",
       "      <td>0</td>\n",
       "      <td>0.0</td>\n",
       "      <td>1</td>\n",
       "      <td>...</td>\n",
       "      <td>2</td>\n",
       "      <td>2</td>\n",
       "      <td>2</td>\n",
       "      <td>3</td>\n",
       "      <td>2</td>\n",
       "      <td>1</td>\n",
       "      <td>Neutral or Dissatisfied</td>\n",
       "      <td>less than 1500</td>\n",
       "      <td>less than 7</td>\n",
       "      <td>less than 7</td>\n",
       "    </tr>\n",
       "  </tbody>\n",
       "</table>\n",
       "<p>129880 rows × 27 columns</p>\n",
       "</div>"
      ],
      "text/plain": [
       "            ID  Gender  Age Customer Type Type of Travel         Class  \\\n",
       "0            1    Male   48    First-time       Business      Business   \n",
       "1            2  Female   35     Returning       Business      Business   \n",
       "2            3    Male   41     Returning       Business      Business   \n",
       "3            4    Male   50     Returning       Business      Business   \n",
       "4            5  Female   49     Returning       Business      Business   \n",
       "...        ...     ...  ...           ...            ...           ...   \n",
       "129875  129876    Male   28     Returning       Personal  Economy Plus   \n",
       "129876  129877    Male   41     Returning       Personal  Economy Plus   \n",
       "129877  129878    Male   42     Returning       Personal  Economy Plus   \n",
       "129878  129879    Male   50     Returning       Personal  Economy Plus   \n",
       "129879  129880  Female   20     Returning       Personal  Economy Plus   \n",
       "\n",
       "        Flight Distance  Departure Delay  Arrival Delay  \\\n",
       "0                   821                2            5.0   \n",
       "1                   821               26           39.0   \n",
       "2                   853                0            0.0   \n",
       "3                  1905                0            0.0   \n",
       "4                  3470                0            1.0   \n",
       "...                 ...              ...            ...   \n",
       "129875              447                2            3.0   \n",
       "129876              308                0            0.0   \n",
       "129877              337                6           14.0   \n",
       "129878              337               31           22.0   \n",
       "129879              337                0            0.0   \n",
       "\n",
       "        Departure and Arrival Time Convenience  ...  Cleanliness  \\\n",
       "0                                            3  ...            5   \n",
       "1                                            2  ...            5   \n",
       "2                                            4  ...            5   \n",
       "3                                            2  ...            4   \n",
       "4                                            3  ...            5   \n",
       "...                                        ...  ...          ...   \n",
       "129875                                       4  ...            4   \n",
       "129876                                       5  ...            2   \n",
       "129877                                       5  ...            3   \n",
       "129878                                       4  ...            3   \n",
       "129879                                       1  ...            2   \n",
       "\n",
       "        Food and Drink  In-flight Service  In-flight Wifi Service  \\\n",
       "0                    5                  5                       3   \n",
       "1                    3                  5                       2   \n",
       "2                    5                  3                       4   \n",
       "3                    4                  5                       2   \n",
       "4                    4                  3                       3   \n",
       "...                ...                ...                     ...   \n",
       "129875               4                  5                       4   \n",
       "129876               2                  4                       3   \n",
       "129877               3                  4                       2   \n",
       "129878               3                  4                       5   \n",
       "129879               2                  2                       3   \n",
       "\n",
       "        In-flight Entertainment  Baggage Handling             Satisfaction  \\\n",
       "0                             5                 5  Neutral or Dissatisfied   \n",
       "1                             5                 5                Satisfied   \n",
       "2                             3                 3                Satisfied   \n",
       "3                             5                 5                Satisfied   \n",
       "4                             3                 3                Satisfied   \n",
       "...                         ...               ...                      ...   \n",
       "129875                        4                 4  Neutral or Dissatisfied   \n",
       "129876                        2                 5  Neutral or Dissatisfied   \n",
       "129877                        3                 5  Neutral or Dissatisfied   \n",
       "129878                        3                 5                Satisfied   \n",
       "129879                        2                 1  Neutral or Dissatisfied   \n",
       "\n",
       "          distance_group  Departure_Delay_grp  Arrival_Delay_group  \n",
       "0         less than 1500          less than 7          less than 7  \n",
       "1         less than 1500       grater than 14       grater than 14  \n",
       "2         less than 1500          less than 7          less than 7  \n",
       "3       grater than 1500          less than 7          less than 7  \n",
       "4       grater than 1500          less than 7          less than 7  \n",
       "...                  ...                  ...                  ...  \n",
       "129875    less than 1500          less than 7          less than 7  \n",
       "129876    less than 1500          less than 7          less than 7  \n",
       "129877    less than 1500          less than 7      between 7 to 14  \n",
       "129878    less than 1500       grater than 14       grater than 14  \n",
       "129879    less than 1500          less than 7          less than 7  \n",
       "\n",
       "[129880 rows x 27 columns]"
      ]
     },
     "execution_count": 62,
     "metadata": {},
     "output_type": "execute_result"
    }
   ],
   "source": [
    "data"
   ]
  },
  {
   "cell_type": "code",
   "execution_count": 63,
   "id": "33f06237",
   "metadata": {},
   "outputs": [],
   "source": [
    "## Pearson correlation between numerical features"
   ]
  },
  {
   "cell_type": "code",
   "execution_count": 64,
   "id": "26f1593d",
   "metadata": {
    "colab": {
     "base_uri": "https://localhost:8080/",
     "height": 583
    },
    "id": "26f1593d",
    "outputId": "e9182591-328d-4532-c431-69f7926f762b"
   },
   "outputs": [
    {
     "data": {
      "text/plain": [
       "<AxesSubplot:>"
      ]
     },
     "execution_count": 64,
     "metadata": {},
     "output_type": "execute_result"
    },
    {
     "data": {
      "image/png": "[encoded data removed]",
      "text/plain": [
       "<Figure size 1080x432 with 2 Axes>"
      ]
     },
     "metadata": {
      "needs_background": "light"
     },
     "output_type": "display_data"
    }
   ],
   "source": [
    "data_numeric = data[['Age','Flight Distance','Departure Delay','Arrival Delay']]\n",
    "plt.figure(figsize = (15,6))\n",
    "sns.heatmap(data_numeric.corr(),annot = True)"
   ]
  },
  {
   "cell_type": "code",
   "execution_count": 65,
   "id": "9bfe8864",
   "metadata": {},
   "outputs": [],
   "source": [
    "## There is an high correlation presents between Departure Delay and Arrival Delay"
   ]
  },
  {
   "cell_type": "code",
   "execution_count": 66,
   "id": "26a2dbaa",
   "metadata": {
    "colab": {
     "base_uri": "https://localhost:8080/",
     "height": 644
    },
    "id": "W8_AR9GD0h74",
    "outputId": "1d16da44-7d44-450e-e94b-0664b7af53be"
   },
   "outputs": [
    {
     "data": {
      "text/html": [
       "<div>\n",
       "<style scoped>\n",
       "    .dataframe tbody tr th:only-of-type {\n",
       "        vertical-align: middle;\n",
       "    }\n",
       "\n",
       "    .dataframe tbody tr th {\n",
       "        vertical-align: top;\n",
       "    }\n",
       "\n",
       "    .dataframe thead th {\n",
       "        text-align: right;\n",
       "    }\n",
       "</style>\n",
       "<table border=\"1\" class=\"dataframe\">\n",
       "  <thead>\n",
       "    <tr style=\"text-align: right;\">\n",
       "      <th></th>\n",
       "      <th>ID</th>\n",
       "      <th>Gender</th>\n",
       "      <th>Age</th>\n",
       "      <th>Customer Type</th>\n",
       "      <th>Type of Travel</th>\n",
       "      <th>Class</th>\n",
       "      <th>Flight Distance</th>\n",
       "      <th>Departure Delay</th>\n",
       "      <th>Arrival Delay</th>\n",
       "      <th>Departure and Arrival Time Convenience</th>\n",
       "      <th>...</th>\n",
       "      <th>On-board Service</th>\n",
       "      <th>Seat Comfort</th>\n",
       "      <th>Leg Room Service</th>\n",
       "      <th>Cleanliness</th>\n",
       "      <th>Food and Drink</th>\n",
       "      <th>In-flight Service</th>\n",
       "      <th>In-flight Wifi Service</th>\n",
       "      <th>In-flight Entertainment</th>\n",
       "      <th>Baggage Handling</th>\n",
       "      <th>Satisfaction</th>\n",
       "    </tr>\n",
       "  </thead>\n",
       "  <tbody>\n",
       "    <tr>\n",
       "      <th>0</th>\n",
       "      <td>1</td>\n",
       "      <td>Male</td>\n",
       "      <td>48</td>\n",
       "      <td>First-time</td>\n",
       "      <td>Business</td>\n",
       "      <td>Business</td>\n",
       "      <td>821</td>\n",
       "      <td>2</td>\n",
       "      <td>5.0</td>\n",
       "      <td>3</td>\n",
       "      <td>...</td>\n",
       "      <td>3</td>\n",
       "      <td>5</td>\n",
       "      <td>2</td>\n",
       "      <td>5</td>\n",
       "      <td>5</td>\n",
       "      <td>5</td>\n",
       "      <td>3</td>\n",
       "      <td>5</td>\n",
       "      <td>5</td>\n",
       "      <td>Neutral or Dissatisfied</td>\n",
       "    </tr>\n",
       "    <tr>\n",
       "      <th>1</th>\n",
       "      <td>2</td>\n",
       "      <td>Female</td>\n",
       "      <td>35</td>\n",
       "      <td>Returning</td>\n",
       "      <td>Business</td>\n",
       "      <td>Business</td>\n",
       "      <td>821</td>\n",
       "      <td>26</td>\n",
       "      <td>39.0</td>\n",
       "      <td>2</td>\n",
       "      <td>...</td>\n",
       "      <td>5</td>\n",
       "      <td>4</td>\n",
       "      <td>5</td>\n",
       "      <td>5</td>\n",
       "      <td>3</td>\n",
       "      <td>5</td>\n",
       "      <td>2</td>\n",
       "      <td>5</td>\n",
       "      <td>5</td>\n",
       "      <td>Satisfied</td>\n",
       "    </tr>\n",
       "    <tr>\n",
       "      <th>2</th>\n",
       "      <td>3</td>\n",
       "      <td>Male</td>\n",
       "      <td>41</td>\n",
       "      <td>Returning</td>\n",
       "      <td>Business</td>\n",
       "      <td>Business</td>\n",
       "      <td>853</td>\n",
       "      <td>0</td>\n",
       "      <td>0.0</td>\n",
       "      <td>4</td>\n",
       "      <td>...</td>\n",
       "      <td>3</td>\n",
       "      <td>5</td>\n",
       "      <td>3</td>\n",
       "      <td>5</td>\n",
       "      <td>5</td>\n",
       "      <td>3</td>\n",
       "      <td>4</td>\n",
       "      <td>3</td>\n",
       "      <td>3</td>\n",
       "      <td>Satisfied</td>\n",
       "    </tr>\n",
       "    <tr>\n",
       "      <th>3</th>\n",
       "      <td>4</td>\n",
       "      <td>Male</td>\n",
       "      <td>50</td>\n",
       "      <td>Returning</td>\n",
       "      <td>Business</td>\n",
       "      <td>Business</td>\n",
       "      <td>1905</td>\n",
       "      <td>0</td>\n",
       "      <td>0.0</td>\n",
       "      <td>2</td>\n",
       "      <td>...</td>\n",
       "      <td>5</td>\n",
       "      <td>5</td>\n",
       "      <td>5</td>\n",
       "      <td>4</td>\n",
       "      <td>4</td>\n",
       "      <td>5</td>\n",
       "      <td>2</td>\n",
       "      <td>5</td>\n",
       "      <td>5</td>\n",
       "      <td>Satisfied</td>\n",
       "    </tr>\n",
       "    <tr>\n",
       "      <th>4</th>\n",
       "      <td>5</td>\n",
       "      <td>Female</td>\n",
       "      <td>49</td>\n",
       "      <td>Returning</td>\n",
       "      <td>Business</td>\n",
       "      <td>Business</td>\n",
       "      <td>3470</td>\n",
       "      <td>0</td>\n",
       "      <td>1.0</td>\n",
       "      <td>3</td>\n",
       "      <td>...</td>\n",
       "      <td>3</td>\n",
       "      <td>4</td>\n",
       "      <td>4</td>\n",
       "      <td>5</td>\n",
       "      <td>4</td>\n",
       "      <td>3</td>\n",
       "      <td>3</td>\n",
       "      <td>3</td>\n",
       "      <td>3</td>\n",
       "      <td>Satisfied</td>\n",
       "    </tr>\n",
       "    <tr>\n",
       "      <th>...</th>\n",
       "      <td>...</td>\n",
       "      <td>...</td>\n",
       "      <td>...</td>\n",
       "      <td>...</td>\n",
       "      <td>...</td>\n",
       "      <td>...</td>\n",
       "      <td>...</td>\n",
       "      <td>...</td>\n",
       "      <td>...</td>\n",
       "      <td>...</td>\n",
       "      <td>...</td>\n",
       "      <td>...</td>\n",
       "      <td>...</td>\n",
       "      <td>...</td>\n",
       "      <td>...</td>\n",
       "      <td>...</td>\n",
       "      <td>...</td>\n",
       "      <td>...</td>\n",
       "      <td>...</td>\n",
       "      <td>...</td>\n",
       "      <td>...</td>\n",
       "    </tr>\n",
       "    <tr>\n",
       "      <th>129875</th>\n",
       "      <td>129876</td>\n",
       "      <td>Male</td>\n",
       "      <td>28</td>\n",
       "      <td>Returning</td>\n",
       "      <td>Personal</td>\n",
       "      <td>Economy Plus</td>\n",
       "      <td>447</td>\n",
       "      <td>2</td>\n",
       "      <td>3.0</td>\n",
       "      <td>4</td>\n",
       "      <td>...</td>\n",
       "      <td>5</td>\n",
       "      <td>1</td>\n",
       "      <td>4</td>\n",
       "      <td>4</td>\n",
       "      <td>4</td>\n",
       "      <td>5</td>\n",
       "      <td>4</td>\n",
       "      <td>4</td>\n",
       "      <td>4</td>\n",
       "      <td>Neutral or Dissatisfied</td>\n",
       "    </tr>\n",
       "    <tr>\n",
       "      <th>129876</th>\n",
       "      <td>129877</td>\n",
       "      <td>Male</td>\n",
       "      <td>41</td>\n",
       "      <td>Returning</td>\n",
       "      <td>Personal</td>\n",
       "      <td>Economy Plus</td>\n",
       "      <td>308</td>\n",
       "      <td>0</td>\n",
       "      <td>0.0</td>\n",
       "      <td>5</td>\n",
       "      <td>...</td>\n",
       "      <td>5</td>\n",
       "      <td>2</td>\n",
       "      <td>5</td>\n",
       "      <td>2</td>\n",
       "      <td>2</td>\n",
       "      <td>4</td>\n",
       "      <td>3</td>\n",
       "      <td>2</td>\n",
       "      <td>5</td>\n",
       "      <td>Neutral or Dissatisfied</td>\n",
       "    </tr>\n",
       "    <tr>\n",
       "      <th>129877</th>\n",
       "      <td>129878</td>\n",
       "      <td>Male</td>\n",
       "      <td>42</td>\n",
       "      <td>Returning</td>\n",
       "      <td>Personal</td>\n",
       "      <td>Economy Plus</td>\n",
       "      <td>337</td>\n",
       "      <td>6</td>\n",
       "      <td>14.0</td>\n",
       "      <td>5</td>\n",
       "      <td>...</td>\n",
       "      <td>3</td>\n",
       "      <td>3</td>\n",
       "      <td>4</td>\n",
       "      <td>3</td>\n",
       "      <td>3</td>\n",
       "      <td>4</td>\n",
       "      <td>2</td>\n",
       "      <td>3</td>\n",
       "      <td>5</td>\n",
       "      <td>Neutral or Dissatisfied</td>\n",
       "    </tr>\n",
       "    <tr>\n",
       "      <th>129878</th>\n",
       "      <td>129879</td>\n",
       "      <td>Male</td>\n",
       "      <td>50</td>\n",
       "      <td>Returning</td>\n",
       "      <td>Personal</td>\n",
       "      <td>Economy Plus</td>\n",
       "      <td>337</td>\n",
       "      <td>31</td>\n",
       "      <td>22.0</td>\n",
       "      <td>4</td>\n",
       "      <td>...</td>\n",
       "      <td>4</td>\n",
       "      <td>4</td>\n",
       "      <td>5</td>\n",
       "      <td>3</td>\n",
       "      <td>3</td>\n",
       "      <td>4</td>\n",
       "      <td>5</td>\n",
       "      <td>3</td>\n",
       "      <td>5</td>\n",
       "      <td>Satisfied</td>\n",
       "    </tr>\n",
       "    <tr>\n",
       "      <th>129879</th>\n",
       "      <td>129880</td>\n",
       "      <td>Female</td>\n",
       "      <td>20</td>\n",
       "      <td>Returning</td>\n",
       "      <td>Personal</td>\n",
       "      <td>Economy Plus</td>\n",
       "      <td>337</td>\n",
       "      <td>0</td>\n",
       "      <td>0.0</td>\n",
       "      <td>1</td>\n",
       "      <td>...</td>\n",
       "      <td>4</td>\n",
       "      <td>2</td>\n",
       "      <td>4</td>\n",
       "      <td>2</td>\n",
       "      <td>2</td>\n",
       "      <td>2</td>\n",
       "      <td>3</td>\n",
       "      <td>2</td>\n",
       "      <td>1</td>\n",
       "      <td>Neutral or Dissatisfied</td>\n",
       "    </tr>\n",
       "  </tbody>\n",
       "</table>\n",
       "<p>129880 rows × 24 columns</p>\n",
       "</div>"
      ],
      "text/plain": [
       "            ID  Gender  Age Customer Type Type of Travel         Class  \\\n",
       "0            1    Male   48    First-time       Business      Business   \n",
       "1            2  Female   35     Returning       Business      Business   \n",
       "2            3    Male   41     Returning       Business      Business   \n",
       "3            4    Male   50     Returning       Business      Business   \n",
       "4            5  Female   49     Returning       Business      Business   \n",
       "...        ...     ...  ...           ...            ...           ...   \n",
       "129875  129876    Male   28     Returning       Personal  Economy Plus   \n",
       "129876  129877    Male   41     Returning       Personal  Economy Plus   \n",
       "129877  129878    Male   42     Returning       Personal  Economy Plus   \n",
       "129878  129879    Male   50     Returning       Personal  Economy Plus   \n",
       "129879  129880  Female   20     Returning       Personal  Economy Plus   \n",
       "\n",
       "        Flight Distance  Departure Delay  Arrival Delay  \\\n",
       "0                   821                2            5.0   \n",
       "1                   821               26           39.0   \n",
       "2                   853                0            0.0   \n",
       "3                  1905                0            0.0   \n",
       "4                  3470                0            1.0   \n",
       "...                 ...              ...            ...   \n",
       "129875              447                2            3.0   \n",
       "129876              308                0            0.0   \n",
       "129877              337                6           14.0   \n",
       "129878              337               31           22.0   \n",
       "129879              337                0            0.0   \n",
       "\n",
       "        Departure and Arrival Time Convenience  ...  On-board Service  \\\n",
       "0                                            3  ...                 3   \n",
       "1                                            2  ...                 5   \n",
       "2                                            4  ...                 3   \n",
       "3                                            2  ...                 5   \n",
       "4                                            3  ...                 3   \n",
       "...                                        ...  ...               ...   \n",
       "129875                                       4  ...                 5   \n",
       "129876                                       5  ...                 5   \n",
       "129877                                       5  ...                 3   \n",
       "129878                                       4  ...                 4   \n",
       "129879                                       1  ...                 4   \n",
       "\n",
       "        Seat Comfort  Leg Room Service  Cleanliness  Food and Drink  \\\n",
       "0                  5                 2            5               5   \n",
       "1                  4                 5            5               3   \n",
       "2                  5                 3            5               5   \n",
       "3                  5                 5            4               4   \n",
       "4                  4                 4            5               4   \n",
       "...              ...               ...          ...             ...   \n",
       "129875             1                 4            4               4   \n",
       "129876             2                 5            2               2   \n",
       "129877             3                 4            3               3   \n",
       "129878             4                 5            3               3   \n",
       "129879             2                 4            2               2   \n",
       "\n",
       "        In-flight Service  In-flight Wifi Service  In-flight Entertainment  \\\n",
       "0                       5                       3                        5   \n",
       "1                       5                       2                        5   \n",
       "2                       3                       4                        3   \n",
       "3                       5                       2                        5   \n",
       "4                       3                       3                        3   \n",
       "...                   ...                     ...                      ...   \n",
       "129875                  5                       4                        4   \n",
       "129876                  4                       3                        2   \n",
       "129877                  4                       2                        3   \n",
       "129878                  4                       5                        3   \n",
       "129879                  2                       3                        2   \n",
       "\n",
       "        Baggage Handling             Satisfaction  \n",
       "0                      5  Neutral or Dissatisfied  \n",
       "1                      5                Satisfied  \n",
       "2                      3                Satisfied  \n",
       "3                      5                Satisfied  \n",
       "4                      3                Satisfied  \n",
       "...                  ...                      ...  \n",
       "129875                 4  Neutral or Dissatisfied  \n",
       "129876                 5  Neutral or Dissatisfied  \n",
       "129877                 5  Neutral or Dissatisfied  \n",
       "129878                 5                Satisfied  \n",
       "129879                 1  Neutral or Dissatisfied  \n",
       "\n",
       "[129880 rows x 24 columns]"
      ]
     },
     "execution_count": 66,
     "metadata": {},
     "output_type": "execute_result"
    }
   ],
   "source": [
    "df =  pd.read_csv(\"airline_passenger_satisfaction.csv\")\n",
    "df['Arrival Delay'].fillna(df['Arrival Delay'].median(), inplace=True)\n",
    "df.dropna()"
   ]
  },
  {
   "cell_type": "markdown",
   "id": "78594257",
   "metadata": {},
   "source": [
    "## Feature Selection"
   ]
  },
  {
   "cell_type": "code",
   "execution_count": 67,
   "id": "19dfbdb4",
   "metadata": {},
   "outputs": [],
   "source": [
    "df_ordinal = df[['Departure and Arrival Time Convenience',\n",
    "'Ease of Online Booking',\n",
    "'Check-in Service',\n",
    "'Online Boarding',\n",
    "'Gate Location',\n",
    "'On-board Service',\n",
    "'Seat Comfort',\n",
    "'Leg Room Service',\n",
    "'Cleanliness',\n",
    "'Food and Drink',\n",
    "'In-flight Service',\n",
    "'In-flight Wifi Service',\n",
    "'In-flight Entertainment',\n",
    "'Baggage Handling']]"
   ]
  },
  {
   "cell_type": "code",
   "execution_count": 68,
   "id": "7dffd762",
   "metadata": {},
   "outputs": [
    {
     "data": {
      "text/plain": [
       "<AxesSubplot:>"
      ]
     },
     "execution_count": 68,
     "metadata": {},
     "output_type": "execute_result"
    },
    {
     "data": {
      "image/png": "[encoded data removed]",
      "text/plain": [
       "<Figure size 1080x432 with 2 Axes>"
      ]
     },
     "metadata": {
      "needs_background": "light"
     },
     "output_type": "display_data"
    }
   ],
   "source": [
    "## Spearman rank correlation between ordinal data\n",
    "plt.figure(figsize = (15,6))\n",
    "sns.heatmap(df_ordinal.corr(method = 'spearman'),annot = True,cmap=\"YlGnBu\")"
   ]
  },
  {
   "cell_type": "code",
   "execution_count": 69,
   "id": "0a2fbaee",
   "metadata": {},
   "outputs": [],
   "source": [
    "## There is an high correlation between in flight wifi service and ease of online booking"
   ]
  },
  {
   "cell_type": "code",
   "execution_count": 70,
   "id": "97ec8c22",
   "metadata": {},
   "outputs": [],
   "source": [
    "## To avoid multicolinearity we drop two columns i.e ease of online booking and arrival delay\n",
    "\n",
    "df = df.drop(['ID','Ease of Online Booking','Arrival Delay'],axis = 1)"
   ]
  },
  {
   "cell_type": "code",
   "execution_count": 71,
   "id": "3d68a407",
   "metadata": {},
   "outputs": [
    {
     "data": {
      "text/html": [
       "<div>\n",
       "<style scoped>\n",
       "    .dataframe tbody tr th:only-of-type {\n",
       "        vertical-align: middle;\n",
       "    }\n",
       "\n",
       "    .dataframe tbody tr th {\n",
       "        vertical-align: top;\n",
       "    }\n",
       "\n",
       "    .dataframe thead th {\n",
       "        text-align: right;\n",
       "    }\n",
       "</style>\n",
       "<table border=\"1\" class=\"dataframe\">\n",
       "  <thead>\n",
       "    <tr style=\"text-align: right;\">\n",
       "      <th></th>\n",
       "      <th>Gender</th>\n",
       "      <th>Age</th>\n",
       "      <th>Customer Type</th>\n",
       "      <th>Type of Travel</th>\n",
       "      <th>Class</th>\n",
       "      <th>Flight Distance</th>\n",
       "      <th>Departure Delay</th>\n",
       "      <th>Departure and Arrival Time Convenience</th>\n",
       "      <th>Check-in Service</th>\n",
       "      <th>Online Boarding</th>\n",
       "      <th>...</th>\n",
       "      <th>On-board Service</th>\n",
       "      <th>Seat Comfort</th>\n",
       "      <th>Leg Room Service</th>\n",
       "      <th>Cleanliness</th>\n",
       "      <th>Food and Drink</th>\n",
       "      <th>In-flight Service</th>\n",
       "      <th>In-flight Wifi Service</th>\n",
       "      <th>In-flight Entertainment</th>\n",
       "      <th>Baggage Handling</th>\n",
       "      <th>Satisfaction</th>\n",
       "    </tr>\n",
       "  </thead>\n",
       "  <tbody>\n",
       "    <tr>\n",
       "      <th>0</th>\n",
       "      <td>Male</td>\n",
       "      <td>48</td>\n",
       "      <td>First-time</td>\n",
       "      <td>Business</td>\n",
       "      <td>Business</td>\n",
       "      <td>821</td>\n",
       "      <td>2</td>\n",
       "      <td>3</td>\n",
       "      <td>4</td>\n",
       "      <td>3</td>\n",
       "      <td>...</td>\n",
       "      <td>3</td>\n",
       "      <td>5</td>\n",
       "      <td>2</td>\n",
       "      <td>5</td>\n",
       "      <td>5</td>\n",
       "      <td>5</td>\n",
       "      <td>3</td>\n",
       "      <td>5</td>\n",
       "      <td>5</td>\n",
       "      <td>Neutral or Dissatisfied</td>\n",
       "    </tr>\n",
       "    <tr>\n",
       "      <th>1</th>\n",
       "      <td>Female</td>\n",
       "      <td>35</td>\n",
       "      <td>Returning</td>\n",
       "      <td>Business</td>\n",
       "      <td>Business</td>\n",
       "      <td>821</td>\n",
       "      <td>26</td>\n",
       "      <td>2</td>\n",
       "      <td>3</td>\n",
       "      <td>5</td>\n",
       "      <td>...</td>\n",
       "      <td>5</td>\n",
       "      <td>4</td>\n",
       "      <td>5</td>\n",
       "      <td>5</td>\n",
       "      <td>3</td>\n",
       "      <td>5</td>\n",
       "      <td>2</td>\n",
       "      <td>5</td>\n",
       "      <td>5</td>\n",
       "      <td>Satisfied</td>\n",
       "    </tr>\n",
       "    <tr>\n",
       "      <th>2</th>\n",
       "      <td>Male</td>\n",
       "      <td>41</td>\n",
       "      <td>Returning</td>\n",
       "      <td>Business</td>\n",
       "      <td>Business</td>\n",
       "      <td>853</td>\n",
       "      <td>0</td>\n",
       "      <td>4</td>\n",
       "      <td>4</td>\n",
       "      <td>5</td>\n",
       "      <td>...</td>\n",
       "      <td>3</td>\n",
       "      <td>5</td>\n",
       "      <td>3</td>\n",
       "      <td>5</td>\n",
       "      <td>5</td>\n",
       "      <td>3</td>\n",
       "      <td>4</td>\n",
       "      <td>3</td>\n",
       "      <td>3</td>\n",
       "      <td>Satisfied</td>\n",
       "    </tr>\n",
       "    <tr>\n",
       "      <th>3</th>\n",
       "      <td>Male</td>\n",
       "      <td>50</td>\n",
       "      <td>Returning</td>\n",
       "      <td>Business</td>\n",
       "      <td>Business</td>\n",
       "      <td>1905</td>\n",
       "      <td>0</td>\n",
       "      <td>2</td>\n",
       "      <td>3</td>\n",
       "      <td>4</td>\n",
       "      <td>...</td>\n",
       "      <td>5</td>\n",
       "      <td>5</td>\n",
       "      <td>5</td>\n",
       "      <td>4</td>\n",
       "      <td>4</td>\n",
       "      <td>5</td>\n",
       "      <td>2</td>\n",
       "      <td>5</td>\n",
       "      <td>5</td>\n",
       "      <td>Satisfied</td>\n",
       "    </tr>\n",
       "    <tr>\n",
       "      <th>4</th>\n",
       "      <td>Female</td>\n",
       "      <td>49</td>\n",
       "      <td>Returning</td>\n",
       "      <td>Business</td>\n",
       "      <td>Business</td>\n",
       "      <td>3470</td>\n",
       "      <td>0</td>\n",
       "      <td>3</td>\n",
       "      <td>3</td>\n",
       "      <td>5</td>\n",
       "      <td>...</td>\n",
       "      <td>3</td>\n",
       "      <td>4</td>\n",
       "      <td>4</td>\n",
       "      <td>5</td>\n",
       "      <td>4</td>\n",
       "      <td>3</td>\n",
       "      <td>3</td>\n",
       "      <td>3</td>\n",
       "      <td>3</td>\n",
       "      <td>Satisfied</td>\n",
       "    </tr>\n",
       "    <tr>\n",
       "      <th>...</th>\n",
       "      <td>...</td>\n",
       "      <td>...</td>\n",
       "      <td>...</td>\n",
       "      <td>...</td>\n",
       "      <td>...</td>\n",
       "      <td>...</td>\n",
       "      <td>...</td>\n",
       "      <td>...</td>\n",
       "      <td>...</td>\n",
       "      <td>...</td>\n",
       "      <td>...</td>\n",
       "      <td>...</td>\n",
       "      <td>...</td>\n",
       "      <td>...</td>\n",
       "      <td>...</td>\n",
       "      <td>...</td>\n",
       "      <td>...</td>\n",
       "      <td>...</td>\n",
       "      <td>...</td>\n",
       "      <td>...</td>\n",
       "      <td>...</td>\n",
       "    </tr>\n",
       "    <tr>\n",
       "      <th>129875</th>\n",
       "      <td>Male</td>\n",
       "      <td>28</td>\n",
       "      <td>Returning</td>\n",
       "      <td>Personal</td>\n",
       "      <td>Economy Plus</td>\n",
       "      <td>447</td>\n",
       "      <td>2</td>\n",
       "      <td>4</td>\n",
       "      <td>4</td>\n",
       "      <td>4</td>\n",
       "      <td>...</td>\n",
       "      <td>5</td>\n",
       "      <td>1</td>\n",
       "      <td>4</td>\n",
       "      <td>4</td>\n",
       "      <td>4</td>\n",
       "      <td>5</td>\n",
       "      <td>4</td>\n",
       "      <td>4</td>\n",
       "      <td>4</td>\n",
       "      <td>Neutral or Dissatisfied</td>\n",
       "    </tr>\n",
       "    <tr>\n",
       "      <th>129876</th>\n",
       "      <td>Male</td>\n",
       "      <td>41</td>\n",
       "      <td>Returning</td>\n",
       "      <td>Personal</td>\n",
       "      <td>Economy Plus</td>\n",
       "      <td>308</td>\n",
       "      <td>0</td>\n",
       "      <td>5</td>\n",
       "      <td>5</td>\n",
       "      <td>3</td>\n",
       "      <td>...</td>\n",
       "      <td>5</td>\n",
       "      <td>2</td>\n",
       "      <td>5</td>\n",
       "      <td>2</td>\n",
       "      <td>2</td>\n",
       "      <td>4</td>\n",
       "      <td>3</td>\n",
       "      <td>2</td>\n",
       "      <td>5</td>\n",
       "      <td>Neutral or Dissatisfied</td>\n",
       "    </tr>\n",
       "    <tr>\n",
       "      <th>129877</th>\n",
       "      <td>Male</td>\n",
       "      <td>42</td>\n",
       "      <td>Returning</td>\n",
       "      <td>Personal</td>\n",
       "      <td>Economy Plus</td>\n",
       "      <td>337</td>\n",
       "      <td>6</td>\n",
       "      <td>5</td>\n",
       "      <td>4</td>\n",
       "      <td>2</td>\n",
       "      <td>...</td>\n",
       "      <td>3</td>\n",
       "      <td>3</td>\n",
       "      <td>4</td>\n",
       "      <td>3</td>\n",
       "      <td>3</td>\n",
       "      <td>4</td>\n",
       "      <td>2</td>\n",
       "      <td>3</td>\n",
       "      <td>5</td>\n",
       "      <td>Neutral or Dissatisfied</td>\n",
       "    </tr>\n",
       "    <tr>\n",
       "      <th>129878</th>\n",
       "      <td>Male</td>\n",
       "      <td>50</td>\n",
       "      <td>Returning</td>\n",
       "      <td>Personal</td>\n",
       "      <td>Economy Plus</td>\n",
       "      <td>337</td>\n",
       "      <td>31</td>\n",
       "      <td>4</td>\n",
       "      <td>3</td>\n",
       "      <td>4</td>\n",
       "      <td>...</td>\n",
       "      <td>4</td>\n",
       "      <td>4</td>\n",
       "      <td>5</td>\n",
       "      <td>3</td>\n",
       "      <td>3</td>\n",
       "      <td>4</td>\n",
       "      <td>5</td>\n",
       "      <td>3</td>\n",
       "      <td>5</td>\n",
       "      <td>Satisfied</td>\n",
       "    </tr>\n",
       "    <tr>\n",
       "      <th>129879</th>\n",
       "      <td>Female</td>\n",
       "      <td>20</td>\n",
       "      <td>Returning</td>\n",
       "      <td>Personal</td>\n",
       "      <td>Economy Plus</td>\n",
       "      <td>337</td>\n",
       "      <td>0</td>\n",
       "      <td>1</td>\n",
       "      <td>4</td>\n",
       "      <td>3</td>\n",
       "      <td>...</td>\n",
       "      <td>4</td>\n",
       "      <td>2</td>\n",
       "      <td>4</td>\n",
       "      <td>2</td>\n",
       "      <td>2</td>\n",
       "      <td>2</td>\n",
       "      <td>3</td>\n",
       "      <td>2</td>\n",
       "      <td>1</td>\n",
       "      <td>Neutral or Dissatisfied</td>\n",
       "    </tr>\n",
       "  </tbody>\n",
       "</table>\n",
       "<p>129880 rows × 21 columns</p>\n",
       "</div>"
      ],
      "text/plain": [
       "        Gender  Age Customer Type Type of Travel         Class  \\\n",
       "0         Male   48    First-time       Business      Business   \n",
       "1       Female   35     Returning       Business      Business   \n",
       "2         Male   41     Returning       Business      Business   \n",
       "3         Male   50     Returning       Business      Business   \n",
       "4       Female   49     Returning       Business      Business   \n",
       "...        ...  ...           ...            ...           ...   \n",
       "129875    Male   28     Returning       Personal  Economy Plus   \n",
       "129876    Male   41     Returning       Personal  Economy Plus   \n",
       "129877    Male   42     Returning       Personal  Economy Plus   \n",
       "129878    Male   50     Returning       Personal  Economy Plus   \n",
       "129879  Female   20     Returning       Personal  Economy Plus   \n",
       "\n",
       "        Flight Distance  Departure Delay  \\\n",
       "0                   821                2   \n",
       "1                   821               26   \n",
       "2                   853                0   \n",
       "3                  1905                0   \n",
       "4                  3470                0   \n",
       "...                 ...              ...   \n",
       "129875              447                2   \n",
       "129876              308                0   \n",
       "129877              337                6   \n",
       "129878              337               31   \n",
       "129879              337                0   \n",
       "\n",
       "        Departure and Arrival Time Convenience  Check-in Service  \\\n",
       "0                                            3                 4   \n",
       "1                                            2                 3   \n",
       "2                                            4                 4   \n",
       "3                                            2                 3   \n",
       "4                                            3                 3   \n",
       "...                                        ...               ...   \n",
       "129875                                       4                 4   \n",
       "129876                                       5                 5   \n",
       "129877                                       5                 4   \n",
       "129878                                       4                 3   \n",
       "129879                                       1                 4   \n",
       "\n",
       "        Online Boarding  ...  On-board Service  Seat Comfort  \\\n",
       "0                     3  ...                 3             5   \n",
       "1                     5  ...                 5             4   \n",
       "2                     5  ...                 3             5   \n",
       "3                     4  ...                 5             5   \n",
       "4                     5  ...                 3             4   \n",
       "...                 ...  ...               ...           ...   \n",
       "129875                4  ...                 5             1   \n",
       "129876                3  ...                 5             2   \n",
       "129877                2  ...                 3             3   \n",
       "129878                4  ...                 4             4   \n",
       "129879                3  ...                 4             2   \n",
       "\n",
       "        Leg Room Service  Cleanliness  Food and Drink  In-flight Service  \\\n",
       "0                      2            5               5                  5   \n",
       "1                      5            5               3                  5   \n",
       "2                      3            5               5                  3   \n",
       "3                      5            4               4                  5   \n",
       "4                      4            5               4                  3   \n",
       "...                  ...          ...             ...                ...   \n",
       "129875                 4            4               4                  5   \n",
       "129876                 5            2               2                  4   \n",
       "129877                 4            3               3                  4   \n",
       "129878                 5            3               3                  4   \n",
       "129879                 4            2               2                  2   \n",
       "\n",
       "        In-flight Wifi Service  In-flight Entertainment  Baggage Handling  \\\n",
       "0                            3                        5                 5   \n",
       "1                            2                        5                 5   \n",
       "2                            4                        3                 3   \n",
       "3                            2                        5                 5   \n",
       "4                            3                        3                 3   \n",
       "...                        ...                      ...               ...   \n",
       "129875                       4                        4                 4   \n",
       "129876                       3                        2                 5   \n",
       "129877                       2                        3                 5   \n",
       "129878                       5                        3                 5   \n",
       "129879                       3                        2                 1   \n",
       "\n",
       "                   Satisfaction  \n",
       "0       Neutral or Dissatisfied  \n",
       "1                     Satisfied  \n",
       "2                     Satisfied  \n",
       "3                     Satisfied  \n",
       "4                     Satisfied  \n",
       "...                         ...  \n",
       "129875  Neutral or Dissatisfied  \n",
       "129876  Neutral or Dissatisfied  \n",
       "129877  Neutral or Dissatisfied  \n",
       "129878                Satisfied  \n",
       "129879  Neutral or Dissatisfied  \n",
       "\n",
       "[129880 rows x 21 columns]"
      ]
     },
     "execution_count": 71,
     "metadata": {},
     "output_type": "execute_result"
    }
   ],
   "source": [
    "df"
   ]
  },
  {
   "cell_type": "markdown",
   "id": "rdO578RL-N6p",
   "metadata": {
    "id": "rdO578RL-N6p"
   },
   "source": [
    "# Feature Engineering"
   ]
  },
  {
   "cell_type": "markdown",
   "id": "c69cc138",
   "metadata": {},
   "source": [
    "#### outlier detection and handling"
   ]
  },
  {
   "cell_type": "code",
   "execution_count": 72,
   "id": "e48ab2c3",
   "metadata": {},
   "outputs": [],
   "source": [
    "data_num = df[[\"Age\",\"Flight Distance\",\"Departure Delay\"]]"
   ]
  },
  {
   "cell_type": "code",
   "execution_count": 73,
   "id": "7767454e",
   "metadata": {},
   "outputs": [],
   "source": [
    "# Outlier Detection\n",
    "\n",
    "def outlier_detection(data_frame,col):\n",
    "    q1 = np.percentile(data_frame[col],25)\n",
    "    q3 = np.percentile(data_frame[col],75)\n",
    "    IQR = q3 - q1\n",
    "    lb = q1 - 1.5*IQR\n",
    "    ub = q3 + 1.5*IQR\n",
    "    outliers = []\n",
    "    for val in data_frame[col] :\n",
    "        if (val <= lb) or (val >= ub):\n",
    "            outliers.append(val)\n",
    "    return outliers , len(outliers)   "
   ]
  },
  {
   "cell_type": "code",
   "execution_count": 74,
   "id": "444b528a",
   "metadata": {},
   "outputs": [
    {
     "name": "stdout",
     "output_type": "stream",
     "text": [
      "Age ([], 0)\n",
      "Flight Distance ([3788, 3997, 3758, 3822, 3880, 3756, 3800, 3967, 3845, 3954, 3770, 3838, 3824, 3915, 3957, 3873, 3800, 3945, 3983, 3904, 3903, 3785, 3931, 3811, 3824, 3893, 3908, 3854, 3798, 3934, 3824, 3886, 3761, 3853, 3923, 3934, 3870, 3755, 3876, 3907, 3852, 3783, 3827, 3881, 3993, 3988, 3795, 3883, 3752, 3994, 3786, 3867, 3890, 3909, 3868, 3853, 3896, 3935, 3894, 3836, 3841, 3765, 3908, 3949, 3843, 3770, 3819, 3994, 3782, 3784, 3798, 3801, 3938, 3779, 3819, 3923, 3952, 3777, 3926, 3754, 3809, 3987, 3770, 3846, 3974, 3907, 3839, 3958, 3916, 3789, 3955, 3906, 3877, 3778, 3784, 3902, 3931, 3906, 3827, 3755, 3913, 3889, 3762, 3874, 3943, 3945, 3938, 3997, 3785, 3844, 3844, 3760, 3965, 3764, 3880, 3924, 3939, 3904, 3790, 3755, 3802, 3791, 3758, 3862, 3767, 3812, 3770, 3985, 3925, 3888, 3890, 3941, 3757, 3946, 3888, 3802, 3851, 3894, 3760, 3814, 3778, 3861, 3872, 3805, 3759, 3787, 3818, 3847, 3748, 3969, 3888, 3921, 3817, 3932, 3929, 3910, 3809, 3967, 3826, 3843, 3912, 3975, 3836, 3903, 3895, 3745, 3777, 3746, 3781, 3888, 3804, 3875, 3805, 3928, 3991, 3863, 3743, 3992, 3741, 3790, 3780, 3971, 3818, 3902, 3747, 3913, 3768, 3817, 3755, 3967, 3793, 3824, 3843, 3937, 3964, 3761, 3795, 3906, 3803, 3985, 3921, 3906, 3934, 3822, 3987, 3810, 3803, 3903, 3931, 3797, 3931, 3845, 3757, 3762, 3774, 3997, 3901, 3800, 3801, 3797, 3800, 3747, 3769, 3903, 3754, 3745, 3792, 3840, 3944, 3903, 3772, 3830, 3764, 3877, 3923, 3952, 3887, 3969, 3930, 3958, 3747, 3867, 3831, 3949, 3830, 3778, 3892, 3773, 3759, 3791, 3781, 3980, 3824, 3885, 3840, 3861, 3872, 3982, 3952, 3974, 3956, 3790, 3781, 3755, 3982, 3918, 3893, 3825, 3752, 3939, 3883, 3824, 3989, 3961, 3783, 3913, 3829, 3912, 3943, 3859, 3979, 3912, 3817, 3868, 3741, 3894, 3848, 3942, 3776, 3753, 3867, 3819, 3977, 3995, 3863, 3782, 3980, 3805, 3873, 3996, 3994, 3968, 3921, 3959, 3783, 3892, 3946, 3975, 3758, 3825, 3919, 3939, 3822, 3824, 3777, 3822, 3928, 3788, 3757, 3937, 3969, 3786, 3993, 3761, 3941, 3986, 3873, 3823, 3953, 3939, 3743, 3953, 3927, 3801, 3866, 3947, 3740, 3856, 3914, 3750, 3854, 3850, 3933, 3805, 3790, 3890, 3917, 3813, 3781, 3920, 3982, 3752, 3963, 3910, 3795, 3776, 3744, 3748, 3808, 3758, 3875, 3778, 3927, 3982, 3741, 3836, 3846, 3775, 3892, 3809, 3952, 3755, 3854, 3770, 3808, 3769, 3928, 3778, 3791, 3951, 3796, 3821, 3791, 3742, 3747, 3830, 3785, 3828, 3833, 3923, 3861, 3927, 3796, 3774, 3852, 3848, 3761, 3848, 3891, 3962, 3838, 3781, 3856, 3848, 3850, 3924, 3914, 3937, 3779, 3787, 3816, 3986, 3965, 3826, 3779, 3753, 3744, 3890, 3743, 3871, 3882, 3986, 3964, 3922, 3801, 3755, 3986, 3854, 3948, 3919, 3767, 3814, 3866, 3903, 3905, 3771, 3904, 3848, 3975, 3896, 3835, 3919, 3899, 3905, 3917, 3829, 3874, 3997, 3745, 3769, 3912, 3828, 3844, 3794, 3988, 3965, 3910, 3801, 3949, 3777, 3954, 3778, 3980, 3842, 3796, 3933, 3791, 3918, 3990, 3959, 3949, 3754, 3963, 3908, 3954, 3960, 3989, 3921, 3826, 3766, 3891, 3785, 3823, 3935, 3748, 3990, 3863, 3754, 3899, 3774, 3749, 3768, 3864, 3820, 3885, 3833, 3975, 3868, 3821, 3790, 3956, 3988, 3973, 3827, 3987, 3937, 3930, 3953, 3892, 3798, 3998, 3755, 3807, 3973, 3850, 3955, 3764, 3776, 3800, 3878, 3942, 3956, 3799, 3850, 3840, 3873, 3887, 3926, 3876, 3851, 3799, 3878, 3851, 3901, 3796, 3746, 3857, 3850, 3983, 3961, 3931, 3848, 3900, 3847, 3838, 3774, 3831, 3990, 3782, 3952, 3753, 3750, 3971, 3965, 3860, 3847, 3884, 3794, 3874, 3933, 3899, 3907, 3931, 3932, 3880, 3800, 3857, 3849, 3924, 3859, 3954, 3874, 3989, 3788, 3791, 3952, 3987, 3967, 3905, 3872, 3788, 3860, 3858, 3767, 3880, 3867, 3974, 3926, 3789, 3871, 3889, 3780, 3904, 3795, 3811, 3928, 3808, 3925, 3774, 3785, 3945, 3799, 3865, 3848, 3842, 3746, 3771, 3916, 3859, 3972, 3852, 3823, 3978, 3782, 3999, 3870, 3815, 3898, 3847, 3749, 3811, 3809, 3740, 3772, 3828, 3948, 3888, 3896, 3886, 3887, 3832, 3848, 3866, 3798, 3984, 3851, 3776, 3816, 3883, 3849, 3753, 3758, 3749, 3931, 3995, 3947, 3940, 3766, 3854, 3871, 3967, 3981, 3859, 3828, 3890, 3998, 3942, 3989, 3987, 3893, 3969, 3937, 3752, 3919, 3740, 3842, 3974, 3838, 3783, 3828, 3917, 3866, 3786, 3914, 3987, 3753, 3869, 3931, 3772, 3920, 3878, 3813, 3947, 3749, 3872, 3906, 3980, 3771, 3962, 3963, 3849, 4983, 4983, 4983, 4983, 4983, 4983, 4983, 4983, 4983, 4983, 4983, 4983, 4983, 4983, 4983, 4983, 3918, 3803, 3930, 3936, 3932, 3897, 4000, 3744, 3998, 3837, 3922, 3943, 3874, 3902, 3795, 3771, 3950, 3753, 3844, 3961, 3973, 3878, 3792, 4000, 3809, 3855, 3789, 3795, 3855, 3775, 3842, 3885, 3877, 3889, 3977, 3813, 3937, 3745, 3862, 3892, 3990, 3779, 3755, 3921, 4000, 3805, 3989, 3973, 3934, 3866, 3857, 3882, 3828, 3769, 3835, 3816, 3899, 3969, 3843, 3828, 3746, 3814, 3768, 3740, 3949, 3945, 3902, 3869, 3920, 3859, 3891, 3831, 3880, 3828, 3876, 3793, 3957, 3996, 3936, 3751, 3876, 3840, 3904, 3933, 3818, 3749, 3783, 3863, 3766, 3782, 3871, 3789, 3850, 3854, 3890, 3846, 3887, 3875, 3854, 3882, 3805, 3915, 3991, 3948, 3858, 3881, 3942, 3986, 3960, 3836, 3864, 3937, 3877, 3780, 3930, 3953, 3808, 3756, 3922, 3916, 3805, 3954, 3951, 3850, 3864, 3972, 3759, 3978, 3979, 3754, 3760, 3879, 3902, 3930, 3875, 3932, 3810, 3892, 3848, 3802, 3979, 3967, 3743, 3999, 3860, 3993, 3935, 3968, 3788, 3919, 3904, 3756, 3775, 3873, 3889, 3789, 3898, 4000, 3899, 3761, 3810, 3891, 3946, 3985, 3934, 3903, 3802, 3814, 3739, 3855, 3908, 3996, 3982, 3797, 3920, 3768, 3956, 3982, 3886, 3982, 3995, 3851, 3908, 3972, 3926, 3798, 3769, 3834, 3871, 3950, 3875, 3787, 3884, 3758, 3889, 3758, 3982, 3848, 3899, 3805, 3781, 3892, 3761, 3791, 3975, 3757, 3779, 4000, 3771, 3884, 3930, 3982, 3920, 3879, 3826, 3983, 3860, 3855, 3851, 3892, 3901, 3972, 3795, 3865, 3889, 3800, 3841, 3940, 3825, 3850, 3942, 3804, 3918, 3997, 3821, 3966, 3962, 3915, 3965, 3859, 3753, 3773, 3892, 3823, 3979, 3752, 3760, 3807, 3886, 3762, 3991, 3903, 3752, 3815, 3912, 3922, 3832, 3829, 3792, 3913, 3945, 3833, 3772, 3864, 3912, 3829, 3989, 3785, 3800, 3785, 3809, 3819, 3795, 3973, 3882, 3781, 3809, 3771, 3845, 3810, 3811, 3764, 3775, 3932, 3795, 3975, 3956, 3856, 3957, 3880, 3979, 3762, 3820, 3811, 3840, 3946, 3970, 3785, 3932, 3956, 3985, 3839, 3854, 3849, 3989, 3886, 3996, 3932, 3810, 3815, 3958, 3915, 3764, 3835, 3967, 3809, 3777, 3924, 3821, 3982, 3782, 3778, 3835, 3766, 3951, 3864, 3917, 3997, 3875, 3879, 3973, 3745, 3897, 3823, 3800, 3807, 3805, 3778, 3938, 3887, 3996, 3917, 3970, 3799, 3986, 3758, 3967, 3964, 3821, 3998, 3759, 3793, 3843, 3747, 3801, 3760, 3744, 3746, 3955, 3940, 3917, 3984, 3951, 4817, 4817, 4817, 3850, 3819, 3801, 3801, 3801, 3801, 3801, 3801, 3964, 3778, 3966, 3802, 3836, 3780, 3801, 3848, 3767, 3949, 3818, 3907, 3905, 3789, 3873, 3904, 3904, 3904, 3904, 3904, 3904, 3904, 3904, 3986, 3949, 3834, 3849, 3837, 3767, 3827, 3921, 3979, 3820, 3970, 3873, 3799, 3921, 3885, 3852, 3870, 3863, 3923, 3975, 3896, 3959, 3829, 3894, 3986, 3810, 3754, 3951, 3854, 3788, 3883, 3898, 3752, 3753, 3919, 3975, 3783, 3774, 4963, 4963, 4963, 4963, 4963, 4963, 4963, 4963, 4963, 3771, 3926, 3976, 3758, 3942, 3880, 3786, 3892, 3964, 3913, 3759, 3977, 3887, 3850, 3895, 3749, 3826, 3890, 3911, 3808, 3824, 3979, 3860, 3789, 3984, 3930, 3923, 3996, 3787, 3878, 3786, 4243, 4243, 4243, 4243, 4243, 4243, 4243, 4243, 4243, 4243, 4243, 4243, 4243, 4243, 3888, 3837, 3991, 4817, 4817, 4817, 3801, 3801, 3801, 3801, 3801, 3904, 3904, 3904, 3904, 3904, 3904, 3904, 3904, 3904, 4963, 4963, 4963, 4963, 4963, 4963, 4963, 4963, 4963, 4963, 4243, 4243, 4243, 4243, 3927, 3789, 3765, 3829, 3759, 3829, 3872, 3950, 3889, 3849, 3851, 3907, 3754, 3739, 3977, 3891, 3791, 3961, 3854, 3742, 3793, 3885, 3893, 3995, 3893, 3848, 3989, 3997, 3944, 3993, 3933, 3936, 3848, 3967, 3906, 3766, 3849, 3766, 3973, 3879, 3883, 3784, 3908, 3760, 3785, 3786, 3906, 3766, 3777, 3879, 3860, 3882, 3943, 3788, 3969, 3758, 3856, 3949, 3908, 4000, 3803, 3817, 3830, 3857, 3979, 3816, 3754, 3907, 3875, 3916, 3933, 3828, 3748, 3918, 3856, 3799, 3893, 3993, 3985, 3766, 3943, 3922, 3953, 3880, 3821, 3835, 3756, 3846, 3956, 3969, 3919, 3996, 3812, 3742, 3840, 3873, 3744, 3836, 3843, 3822, 3873, 3805, 3768, 3887, 3895, 3861, 3919, 3945, 3857, 3990, 3781, 3764, 3884, 3959, 3796, 3860, 3942, 3994, 3935, 3741, 3841, 3774, 3829, 3782, 3954, 3954, 3833, 3962, 3846, 3820, 3874, 3983, 3989, 3826, 3772, 3768, 3903, 3958, 3784, 3784, 3784, 3784, 3784, 3784, 3784, 3784, 3784, 3784, 3784, 3784, 3854, 3835, 3909, 3892, 3808, 3919, 3874, 3968, 3937, 3850, 3907, 3953, 3950, 3766, 3926, 3910, 3973, 3797, 3919, 4000, 3829, 3835, 3834, 3991, 3823, 3845, 3991, 3861, 3897, 3965, 3818, 3743, 3857, 3810, 3993, 3974, 3988, 3743, 3906, 3881, 3929, 3874, 3866, 3807, 3744, 3952, 3978, 3790, 3897, 3804, 3952, 3974, 3799, 3855, 3898, 3837, 3780, 3921, 3848, 3766, 3879, 3963, 3869, 3921, 3952, 3991, 3894, 3941, 3915, 3815, 3979, 3866, 3999, 3787, 3944, 3993, 3787, 3928, 3935, 3939, 3822, 3979, 3904, 3813, 3842, 3801, 3753, 3858, 3861, 3758, 3780, 3754, 3810, 3935, 3879, 3995, 3972, 3796, 3925, 3866, 3853, 3755, 3835, 3977, 3824, 3945, 3948, 3857, 3925, 3926, 3835, 3857, 3790, 3945, 3810, 3763, 4243, 4243, 3740, 3940, 3954, 3914, 3867, 3942, 3857, 3894, 3784, 3784, 3784, 3784, 3784, 3784, 3784, 3784, 3784, 3784, 3784, 3784, 3784, 3784, 3784, 3784, 3784, 3784, 4243, 4243, 4243, 3756, 3946, 3902, 3832, 3944, 3938, 3868, 3809, 3805, 3875, 3930, 3946, 3944, 3836, 3993, 3829, 3943, 3740, 3795, 3979, 3780, 3935, 3826, 3767, 3810, 3768, 3840, 3986, 3792, 3815, 3975, 3960, 3796, 3898, 3775, 3800, 3861, 3775, 3900, 3926, 3876, 3792, 3876, 3873, 3957, 3770, 3846, 3964, 3815, 3893, 3913, 3895, 3978, 3897, 3821, 3984, 3883, 3814, 3784, 3845, 3823, 3875, 3962, 3814, 3936, 3768, 3847, 3859, 3894, 3896, 3954, 3745, 3831, 3845, 3809, 3918, 3795, 3955, 3933, 3765, 3983, 3774, 3823, 3806, 3844, 3871, 3891, 3868, 3942, 3962, 3818, 3810, 3804, 3866, 3774, 3739, 3741, 3821, 3892, 3889, 3976, 3948, 3814, 3829, 3744, 3789, 3913, 3874, 3794, 3849, 3926, 3755, 3876, 3755, 3895, 3764, 3936, 3829, 3953, 3997, 3912, 3906, 3927, 3948, 3761, 3790, 3836, 3913, 3945, 3851, 3833, 3761, 3826, 3901, 3786, 3922, 3965, 3890, 3966, 3950, 3804, 3968, 3917, 3898, 3974, 3765, 3750, 3911, 3998, 3896, 3987, 3820, 3925, 3825, 3908, 3861, 3883, 3886, 3994, 3904, 3820, 3979, 3867, 3845, 3849, 4000, 3946, 3831, 3748, 3905, 3755, 3980, 3891, 3821, 3802, 3990, 3743, 3749, 3905, 3784, 3989, 3785, 3784, 3747, 3743, 3895, 3739, 3988, 3925, 3858, 3945, 3967, 3813, 3911, 3948, 3877, 3825, 3947, 3989, 3964, 3978, 3959, 3807, 3791, 3895, 3761, 3924, 3897, 3890, 3965, 3757, 3920, 3836, 3987, 3879, 3903, 3929, 3833, 3810, 3870, 3924, 3962, 3780, 3948, 3996, 3833, 3841, 3939, 3923, 3918, 3887, 3749, 3904, 3776, 3787, 3967, 3850, 3831, 3739, 3921, 3758, 3797, 3812, 3789, 3877, 3739, 4000, 3959, 3777, 3832, 3883, 3874, 3912, 3868, 3893, 3750, 4502, 4502, 4502, 4502, 4502, 4502, 4502, 3875, 3892, 3871, 3924, 3923, 3809, 3845, 3911, 3917, 3874, 3801, 3935, 3995, 3740, 3860, 3826, 3747, 3914, 3998, 3876, 3995, 3907, 3937, 3898, 3881, 3908, 3959, 3867, 3874, 3896, 3955, 3806, 3823, 3968, 3857, 3955, 3824, 3818, 4000, 3852, 3805, 3848, 3910, 3810, 3927, 3834, 3851, 3757, 3829, 3962, 3806, 3862, 3963, 3953, 3859, 3874, 3890, 3951, 3867, 3862, 3955, 3961, 3849, 3816, 3880, 3784, 3904, 3747, 3957, 3973, 3944, 3748, 3933, 3974, 3931, 3831, 3953, 3832, 3850, 3963, 3996, 3796, 3983, 3753, 3864, 3856, 3798, 3879, 3747, 4502, 4502, 4502, 4502, 4502, 4502, 4502, 3867, 3740, 3952, 3739, 3815, 3942, 3771, 3889, 3951, 3906, 3743, 3808, 3953, 3823, 3750, 3961, 3791, 3860, 3759, 3818, 3747, 3764, 3772, 3874, 3839, 3786, 3919, 3742, 3857, 3925, 3863, 3923, 3965, 3849, 3925, 3767, 3880, 3768, 3916, 3934, 3919, 3866, 3792, 3959, 3990, 3833, 3994, 3800, 3773, 3785, 3970, 3850, 3989, 3933, 3762, 3923, 3998, 3919, 3829, 3895, 3810, 3840, 3947, 3965, 3878, 3997, 3896, 3879, 3742, 3892, 3795, 3830, 3994, 3813, 3871, 3897, 3902, 3919, 3838, 3801, 3979, 3859, 3888, 3977, 3863, 3910, 3750, 3980, 3938, 3961, 3992, 3891, 3920, 3894, 3932, 3837, 3800, 3970, 3841, 3753, 3916, 3936, 3850, 3984, 3834, 3776, 3971, 3882, 3826, 3843, 3791, 3822, 3752, 3750, 3768, 3918, 3879, 3742, 3962, 3845, 3935, 3824, 3835, 3991, 3771, 3923, 3967, 3761, 3998, 3814, 3937, 3792, 3830, 3993, 3888, 3781, 3855, 3762, 3770, 3851, 3888, 3935, 3824, 3888, 3960, 3895, 3941, 3954, 3849, 3939, 3762, 3745, 3916, 3889, 3939, 3789, 3833, 3879, 3756, 3764, 3782, 3850, 3834, 3925, 3886, 3806, 3769, 3758, 3857, 3829, 3885, 3960, 3878, 3868, 3771, 3993, 3890, 3962, 3994, 3832, 3907, 3926, 3998, 3772, 3791, 3997, 3770, 3997, 3867, 3887, 3764, 3974, 3897, 3840, 3885, 3744, 3815, 3767, 3786, 3772, 3929, 3960, 3752, 3850, 3963, 3858, 3959, 3859, 3858, 3982, 3879, 3975, 3764, 3831, 3771, 3844, 3930, 3765, 3787, 3939, 3770, 3926, 3841, 3815, 3917, 3879, 3862, 3904, 3825, 3929, 3774, 3805, 3837, 3885, 3807, 3771, 3877, 3774, 3990, 3931, 3777, 3969, 3909, 3895, 3905, 3892, 3757, 3740, 3955, 3988, 3815, 3987, 3919, 3819, 3765, 3797, 3970, 3917, 3988, 3748, 3852, 3906, 3852, 3764, 3801, 3833, 3777, 3927, 3854, 3758, 3872, 3783, 3872, 3857, 3874, 3938, 3742, 3869, 3874, 3944, 3871, 3887, 3909, 3858, 3992, 3879, 3796, 3743, 3794, 3974, 3901, 3955, 3904, 3875, 3896, 3864, 3788, 3790, 3892, 3984, 3927, 3853, 3758, 3759, 3889, 3979, 3941, 3768, 3824, 3872, 3744, 3797, 3918, 3747, 3987, 3765, 3887, 3922, 3882, 3783, 3845, 3987, 3754, 3848, 3916, 3939, 3832, 3799, 3762, 3958, 3984, 3937, 3933, 3776, 3785, 3946, 3849, 3919, 3830, 3872, 3875, 3987, 3784, 3772, 3825, 3780, 3995, 3766, 3909, 3795, 3977, 3926, 3951, 3742, 3970, 3846, 3799, 3805, 3766, 3999, 3960, 3865, 3778, 3787, 3862, 3887, 3824, 3927, 3975, 3829, 3934, 3854, 3838, 3889, 3845, 3959, 3928, 3811, 3789, 3993, 3949, 3785, 3790, 3834, 3914, 3805, 3857, 3998, 3992, 3740, 3972, 3877, 3789, 3834, 3902, 3840, 3873, 3853, 3960, 3945, 3811, 3933, 3851, 3802, 3832, 3845, 3929, 3993, 3934, 3751, 3944, 3984, 3885, 3942, 3972, 3868, 3927, 3923, 3965, 3873, 3954, 3777, 3759, 3903, 3945, 3836, 3917, 3771, 3883, 3826, 3833, 3770, 3778, 3874, 3751, 3835, 3998, 3942, 3990, 3893, 3865, 3947, 3936, 3899, 3799, 3847, 3739, 3936, 3761, 3981, 3768, 3772, 3924, 3950, 3754, 3853, 3740, 3827, 3838, 3987, 3862, 3996, 3918, 3907, 3768, 3913, 3843, 3832, 3994, 3986, 3765, 3768, 3821, 3860, 3942, 3872, 3982, 3980, 3760, 3985, 3750, 3771, 3763, 3829, 3871, 3913, 3881, 3750, 3991, 3949, 3766, 3838, 3943, 3804, 3976, 3802, 3965, 3871, 3871, 3790, 3774, 3938, 3843, 3889, 3864, 3934, 3741, 4000, 3974, 3962, 3798, 3947, 3895, 3883, 3941, 3792, 3824, 3823, 3881, 3905, 3874, 3818, 3831, 3968, 3790, 3825, 3857, 3899, 3803, 3951, 3851, 3982, 3823, 3968, 3812, 3836, 3816, 3809, 3891, 3868, 3837, 3958, 3810, 3790, 3814, 3837, 3857, 3826, 3825, 3928, 3952, 3740, 3804, 3898, 3767, 3932, 3859, 3830, 3777, 3808, 3889, 3766, 3845, 3748, 3898, 3748, 3769, 3958, 3979, 3887, 3983, 3835, 3836, 3741, 3980, 3807, 3965, 3807, 3768, 3947, 3893, 3773, 3798, 3987, 3861, 3745, 3897, 3993, 3866, 3829, 3987, 3743, 3931, 3812, 3899, 3932, 3830, 3845, 3875, 3786, 3842, 3819, 3762, 3741, 3764, 3796, 3812, 3970, 3848, 3746, 3922, 3839, 3748, 3806, 3969, 3896, 3828, 3897, 3977, 3798, 3955, 3978, 3930, 3887, 3857, 3843, 3762, 3911, 3832, 3986, 3996, 3950, 3956, 3871, 3904, 3900, 3818, 3805, 3971, 3965, 3837, 3916, 3951, 3973, 3926, 3869, 3825, 3955, 3774, 3742, 3961, 3895, 3821, 3891, 3941, 3930, 3942, 3814, 3846, 3858, 3967, 3785, 3907, 3828, 3765, 3995, 3756, 3826, 3943, 3945, 3858, 3999, 3849, 3902, 3834, 3966, 3946, 3950, 3820, 3968, 3958, 3812, 3915, 3767, 3965, 3855, 3947, 3925, 3753, 3777, 3837, 3744, 3864, 3792, 3802, 3764, 3957, 3886, 3776, 3752, 3850, 3742, 3885, 3841, 3858, 3794, 3907, 3871, 3929, 3745, 3993, 3897, 3781, 3918, 3787, 3945, 3869, 3847, 3832, 3758, 3801, 3813, 3801, 3955, 3845, 3956, 3866, 3886, 3980, 3822, 3914, 3893, 3919, 3843, 3927, 3764, 3916, 3938, 3852, 3797, 3970, 3904, 3751, 3762, 3938, 3876, 3951, 3829, 3835, 3928, 3841, 3941, 3904, 3964, 3766, 3761, 3980, 3931, 3990, 3749, 3940, 3866, 3881, 3919, 3778, 3868, 3842, 3867, 3937, 3904, 3983, 3890, 3990, 3987, 3959, 3973, 3746, 3824, 3850, 3860, 3976, 3869, 3874, 3803, 3831, 3859, 3808, 3739, 3817, 3979, 3839, 3882, 3984, 3991, 3932, 3940, 3974, 3790, 3959, 3876, 3934, 3834, 3828, 3782, 3873, 3855, 3888, 3870, 3886, 3991, 3746, 3959, 3749, 3870, 3894, 3783, 3896, 3759, 3851, 3743, 3816, 3805, 3922, 3984, 3856, 3997, 3810, 3939, 3765, 3870, 3805, 3922, 3795, 3756, 3867, 3825, 3868, 3770, 3955, 3759, 3876, 3975, 3923, 3888, 3828, 3889, 3953, 3897, 3783, 3877, 3822, 3902, 3752, 3985, 3845, 3953, 3885, 3818, 3758, 3799, 3922, 3943, 3760, 3760, 3902, 3744, 3871, 3847, 3815, 3988, 3868, 3930, 3847, 3875, 3744, 3958, 3817, 3908, 3884, 3992, 3967, 3959, 3979, 3984, 3943, 3992, 3836, 3778, 3817, 3937, 3758, 3803, 3984, 3980, 3808, 3869, 3962, 4000, 3892, 3963, 3914, 3942, 3893, 3898, 3813, 3790, 3749, 3913, 3928, 3799, 3958, 3981, 3904, 3956, 3866, 3959, 3890, 3983, 3847, 3851, 3980, 3975, 3840, 3780, 3785, 3750, 3767, 3756, 3947, 3919, 3782, 3924, 3948, 3983, 3752, 3886, 3964, 3983, 3860, 3897, 3976, 3750, 3998, 3784, 3936, 3921, 3959, 3920, 3964, 3846, 3978, 3776, 3966, 3785, 3788, 3872, 3743, 3936, 3836, 3882, 3784, 3820, 3971, 3846, 3808, 3984, 3837, 3928, 3949, 3784, 3772, 3802, 3948, 3951, 3800, 3801, 3935, 3926], 2864)\n",
      "Departure Delay ([68, 59, 30, 40, 151, 68, 324, 50, 45, 254, 72, 101, 96, 45, 60, 104, 32, 183, 38, 30, 103, 88, 42, 54, 115, 38, 56, 265, 66, 117, 58, 41, 166, 44, 55, 49, 134, 52, 31, 36, 39, 41, 95, 128, 36, 54, 65, 192, 82, 45, 116, 38, 35, 193, 51, 80, 158, 92, 35, 165, 74, 43, 123, 62, 45, 55, 41, 31, 42, 33, 43, 44, 34, 70, 59, 48, 39, 88, 74, 80, 51, 63, 37, 61, 31, 58, 38, 80, 40, 47, 36, 36, 101, 45, 112, 47, 46, 212, 33, 116, 134, 31, 78, 63, 66, 61, 34, 71, 56, 102, 175, 37, 37, 39, 57, 36, 31, 39, 30, 66, 48, 33, 34, 127, 161, 31, 195, 43, 168, 52, 81, 93, 98, 81, 73, 93, 200, 140, 48, 423, 81, 35, 58, 92, 39, 291, 58, 58, 108, 244, 35, 123, 127, 40, 47, 56, 33, 39, 35, 146, 124, 70, 36, 33, 176, 33, 31, 62, 100, 34, 68, 35, 44, 51, 135, 74, 33, 75, 78, 36, 69, 108, 39, 31, 34, 33, 41, 45, 31, 35, 45, 38, 80, 30, 164, 79, 40, 35, 46, 35, 34, 36, 55, 52, 56, 31, 56, 101, 36, 34, 30, 45, 59, 93, 40, 32, 84, 44, 184, 39, 63, 80, 83, 38, 36, 47, 44, 36, 67, 47, 40, 59, 59, 49, 44, 45, 80, 43, 81, 109, 35, 95, 50, 47, 118, 50, 86, 48, 131, 133, 36, 33, 63, 30, 74, 39, 32, 45, 38, 39, 47, 34, 36, 137, 30, 61, 38, 61, 81, 30, 31, 59, 65, 56, 42, 124, 38, 75, 34, 53, 53, 59, 40, 49, 815, 46, 32, 94, 78, 67, 50, 67, 34, 44, 77, 85, 264, 50, 46, 267, 76, 38, 39, 174, 38, 111, 32, 81, 31, 42, 34, 58, 63, 68, 38, 60, 109, 42, 37, 30, 39, 110, 56, 60, 85, 42, 48, 93, 75, 46, 36, 42, 52, 40, 39, 45, 37, 33, 61, 63, 42, 55, 109, 93, 44, 79, 35, 93, 146, 44, 42, 39, 145, 50, 175, 50, 227, 41, 36, 43, 66, 64, 75, 35, 43, 40, 57, 180, 67, 33, 168, 71, 67, 77, 108, 227, 240, 105, 41, 106, 37, 181, 35, 166, 55, 39, 32, 55, 70, 36, 95, 35, 34, 178, 185, 59, 30, 34, 63, 51, 76, 61, 130, 60, 54, 55, 33, 54, 106, 37, 88, 30, 34, 42, 44, 61, 47, 407, 32, 69, 105, 84, 110, 46, 33, 218, 47, 100, 43, 41, 118, 75, 183, 73, 79, 130, 56, 122, 85, 48, 209, 40, 41, 89, 132, 49, 34, 42, 46, 37, 52, 86, 537, 76, 48, 40, 207, 194, 73, 275, 51, 30, 46, 169, 67, 54, 41, 89, 55, 41, 69, 73, 36, 137, 52, 304, 94, 116, 31, 77, 243, 40, 37, 74, 120, 63, 51, 38, 73, 32, 34, 85, 44, 38, 182, 132, 35, 82, 35, 55, 70, 67, 86, 93, 57, 74, 48, 102, 96, 49, 70, 68, 303, 53, 166, 37, 234, 106, 128, 71, 45, 78, 75, 31, 205, 172, 54, 105, 30, 499, 43, 50, 38, 62, 229, 39, 112, 76, 50, 89, 46, 74, 124, 47, 128, 33, 44, 61, 59, 35, 53, 58, 81, 64, 74, 34, 41, 172, 30, 33, 36, 125, 49, 245, 300, 123, 43, 40, 54, 67, 124, 39, 56, 71, 102, 33, 38, 123, 105, 32, 122, 66, 96, 41, 96, 98, 36, 43, 38, 37, 69, 60, 33, 105, 57, 39, 32, 38, 51, 90, 36, 34, 212, 41, 66, 41, 109, 144, 73, 242, 47, 112, 930, 66, 39, 139, 55, 146, 355, 146, 38, 130, 47, 102, 48, 102, 63, 36, 80, 160, 113, 119, 53, 36, 46, 108, 31, 30, 47, 67, 112, 64, 74, 74, 45, 84, 30, 66, 41, 105, 84, 55, 140, 36, 47, 167, 51, 118, 47, 35, 131, 31, 187, 137, 193, 205, 64, 79, 42, 68, 56, 48, 83, 96, 107, 45, 51, 88, 70, 127, 38, 111, 75, 41, 64, 82, 30, 362, 113, 71, 32, 40, 96, 119, 106, 333, 39, 152, 215, 118, 1017, 46, 38, 46, 98, 55, 119, 148, 53, 35, 43, 116, 68, 158, 93, 102, 33, 46, 154, 43, 101, 68, 50, 116, 95, 92, 84, 82, 49, 67, 40, 51, 85, 692, 247, 52, 37, 40, 45, 107, 125, 34, 39, 32, 56, 124, 60, 118, 247, 32, 125, 64, 31, 36, 62, 54, 47, 31, 45, 33, 209, 35, 127, 124, 31, 97, 62, 52, 59, 159, 389, 41, 215, 70, 33, 103, 92, 33, 57, 32, 33, 147, 85, 45, 116, 44, 75, 87, 116, 118, 175, 31, 34, 31, 94, 42, 71, 57, 126, 30, 94, 315, 42, 108, 56, 724, 55, 37, 253, 82, 32, 115, 46, 77, 51, 37, 191, 95, 96, 135, 118, 330, 165, 71, 35, 33, 34, 237, 87, 89, 108, 48, 81, 115, 115, 314, 33, 46, 32, 83, 42, 105, 76, 102, 87, 76, 39, 193, 59, 81, 188, 77, 294, 37, 97, 33, 49, 54, 794, 30, 87, 54, 56, 144, 37, 36, 83, 69, 71, 197, 98, 41, 36, 74, 112, 42, 60, 59, 40, 30, 68, 59, 167, 59, 36, 51, 98, 77, 178, 75, 80, 39, 125, 37, 36, 66, 85, 53, 50, 82, 45, 89, 126, 46, 31, 37, 33, 86, 39, 66, 59, 32, 95, 70, 94, 56, 65, 55, 238, 62, 31, 67, 69, 57, 37, 153, 32, 32, 38, 43, 125, 85, 155, 30, 52, 42, 55, 62, 56, 45, 48, 116, 50, 72, 89, 45, 31, 181, 35, 63, 156, 39, 78, 50, 63, 106, 30, 62, 51, 32, 153, 43, 45, 48, 50, 79, 102, 48, 60, 42, 74, 35, 85, 60, 36, 264, 50, 43, 38, 70, 67, 41, 30, 35, 75, 170, 40, 44, 55, 30, 35, 33, 91, 45, 319, 32, 31, 92, 43, 48, 39, 106, 70, 65, 48, 35, 30, 42, 130, 59, 97, 134, 40, 104, 58, 72, 48, 51, 47, 70, 61, 159, 101, 71, 252, 168, 58, 125, 68, 33, 44, 43, 76, 41, 76, 63, 40, 57, 30, 83, 38, 86, 66, 33, 190, 45, 109, 88, 57, 151, 42, 91, 34, 54, 65, 96, 33, 72, 35, 75, 32, 36, 36, 50, 55, 38, 47, 91, 110, 56, 71, 62, 67, 50, 61, 139, 33, 84, 39, 68, 35, 47, 140, 100, 69, 49, 58, 39, 79, 32, 68, 77, 35, 42, 180, 34, 30, 41, 46, 73, 63, 114, 91, 102, 72, 489, 33, 51, 47, 165, 61, 118, 53, 42, 63, 39, 41, 34, 80, 52, 36, 78, 103, 40, 30, 97, 32, 33, 35, 35, 69, 38, 77, 147, 76, 30, 45, 40, 81, 34, 60, 63, 108, 123, 110, 49, 36, 83, 35, 59, 92, 37, 36, 180, 51, 34, 45, 88, 40, 75, 160, 68, 243, 54, 64, 88, 57, 87, 55, 42, 34, 54, 35, 167, 30, 136, 35, 124, 50, 98, 360, 83, 66, 31, 51, 44, 37, 105, 44, 110, 68, 56, 36, 32, 30, 94, 39, 54, 392, 34, 46, 72, 82, 65, 34, 41, 72, 141, 46, 33, 71, 43, 39, 90, 32, 128, 54, 53, 84, 192, 43, 87, 226, 58, 118, 101, 43, 48, 933, 34, 40, 36, 73, 36, 72, 91, 171, 70, 84, 48, 129, 72, 42, 184, 37, 59, 49, 93, 69, 35, 48, 71, 33, 174, 43, 52, 34, 63, 88, 52, 83, 93, 34, 78, 122, 60, 45, 58, 111, 48, 30, 75, 179, 148, 51, 47, 87, 129, 57, 106, 52, 32, 40, 49, 173, 37, 36, 97, 108, 35, 50, 87, 108, 80, 52, 50, 45, 60, 454, 68, 61, 81, 76, 31, 47, 30, 56, 33, 55, 41, 45, 80, 36, 137, 34, 36, 35, 302, 67, 49, 113, 82, 49, 33, 37, 88, 212, 152, 81, 30, 128, 56, 108, 202, 79, 109, 48, 33, 60, 120, 65, 49, 43, 31, 70, 47, 76, 59, 52, 326, 399, 34, 101, 74, 366, 157, 433, 98, 327, 69, 123, 92, 273, 236, 30, 49, 73, 38, 67, 45, 52, 266, 38, 89, 77, 230, 104, 116, 122, 32, 89, 60, 158, 87, 126, 55, 54, 30, 42, 32, 121, 69, 198, 38, 52, 179, 203, 117, 42, 85, 35, 180, 36, 69, 44, 83, 54, 90, 73, 31, 105, 30, 151, 105, 71, 72, 56, 46, 40, 69, 51, 50, 152, 39, 46, 55, 195, 223, 34, 105, 31, 30, 57, 36, 67, 50, 32, 48, 51, 65, 255, 31, 85, 41, 206, 49, 35, 35, 158, 189, 152, 39, 105, 31, 66, 63, 191, 167, 88, 104, 114, 86, 36, 66, 42, 48, 49, 74, 44, 167, 66, 101, 68, 44, 235, 183, 111, 202, 40, 105, 38, 120, 45, 38, 43, 44, 165, 51, 112, 51, 122, 138, 136, 48, 97, 77, 266, 55, 36, 49, 42, 75, 36, 65, 33, 31, 87, 262, 104, 47, 64, 50, 43, 56, 112, 55, 32, 131, 55, 182, 32, 94, 34, 101, 98, 60, 188, 91, 48, 143, 86, 163, 38, 165, 112, 290, 61, 183, 74, 61, 40, 217, 86, 31, 120, 182, 40, 151, 276, 53, 55, 68, 136, 34, 49, 43, 168, 41, 63, 384, 343, 472, 89, 72, 274, 119, 92, 58, 33, 51, 32, 145, 75, 65, 63, 46, 53, 33, 54, 44, 109, 144, 48, 61, 84, 156, 86, 149, 97, 88, 84, 42, 141, 155, 80, 54, 75, 48, 94, 89, 74, 97, 68, 38, 122, 173, 87, 47, 142, 47, 58, 66, 171, 79, 44, 65, 66, 33, 66, 95, 64, 37, 44, 32, 71, 31, 162, 30, 52, 216, 36, 68, 34, 35, 57, 63, 36, 31, 34, 42, 182, 50, 45, 71, 60, 45, 50, 46, 98, 100, 31, 37, 60, 64, 39, 298, 99, 49, 113, 37, 77, 111, 47, 75, 89, 54, 92, 53, 43, 63, 48, 43, 31, 30, 42, 57, 94, 70, 46, 187, 61, 146, 52, 32, 87, 116, 81, 79, 33, 68, 77, 57, 38, 40, 55, 184, 59, 37, 73, 43, 44, 112, 103, 83, 48, 75, 48, 44, 55, 31, 328, 57, 78, 47, 96, 38, 35, 43, 184, 34, 46, 351, 33, 165, 32, 79, 82, 95, 64, 46, 189, 87, 58, 147, 162, 75, 62, 45, 42, 58, 67, 31, 112, 36, 50, 47, 43, 106, 31, 34, 34, 56, 78, 58, 228, 69, 72, 30, 74, 47, 110, 42, 41, 143, 49, 44, 41, 111, 32, 70, 42, 79, 54, 44, 45, 70, 58, 30, 99, 69, 43, 62, 35, 39, 51, 58, 88, 47, 123, 120, 47, 79, 69, 31, 59, 59, 77, 159, 112, 222, 40, 140, 39, 150, 92, 60, 141, 45, 105, 39, 125, 50, 103, 132, 31, 179, 36, 59, 110, 182, 49, 54, 45, 36, 81, 106, 69, 60, 141, 187, 42, 35, 120, 91, 56, 34, 92, 59, 86, 30, 50, 126, 80, 53, 39, 70, 110, 121, 40, 64, 154, 127, 39, 48, 30, 139, 103, 136, 54, 30, 62, 207, 58, 85, 181, 149, 43, 130, 35, 36, 35, 45, 243, 197, 32, 38, 85, 55, 32, 38, 77, 70, 33, 81, 73, 83, 59, 73, 62, 45, 100, 111, 54, 86, 42, 57, 42, 37, 40, 73, 49, 82, 69, 46, 59, 76, 143, 64, 86, 49, 41, 160, 52, 156, 46, 43, 108, 48, 32, 172, 33, 44, 91, 69, 49, 76, 59, 150, 53, 89, 73, 120, 61, 59, 84, 56, 137, 81, 40, 54, 108, 54, 49, 47, 39, 35, 82, 61, 57, 104, 48, 50, 83, 62, 36, 36, 41, 89, 32, 76, 31, 84, 165, 30, 33, 31, 75, 258, 171, 41, 145, 37, 200, 62, 34, 106, 43, 142, 132, 105, 103, 40, 66, 60, 102, 33, 43, 51, 31, 232, 84, 52, 290, 64, 45, 33, 93, 33, 105, 33, 86, 30, 75, 36, 33, 33, 64, 40, 46, 30, 47, 197, 66, 144, 208, 69, 37, 53, 35, 33, 195, 337, 97, 190, 76, 108, 157, 123, 36, 146, 92, 38, 129, 56, 36, 55, 55, 205, 38, 77, 30, 77, 64, 38, 205, 30, 103, 54, 59, 338, 128, 35, 54, 137, 46, 32, 50, 52, 34, 141, 69, 82, 44, 91, 78, 32, 48, 74, 202, 79, 67, 195, 56, 64, 48, 93, 58, 58, 45, 98, 105, 87, 39, 83, 80, 53, 92, 137, 119, 202, 69, 150, 35, 45, 231, 74, 134, 188, 42, 54, 52, 126, 77, 328, 243, 151, 160, 197, 85, 30, 189, 201, 38, 52, 34, 45, 36, 121, 87, 107, 221, 90, 127, 68, 208, 43, 46, 105, 39, 121, 59, 109, 158, 31, 99, 171, 67, 117, 71, 119, 44, 70, 60, 33, 87, 68, 70, 116, 114, 40, 96, 249, 35, 38, 33, 135, 47, 52, 98, 130, 84, 32, 101, 61, 113, 46, 66, 151, 48, 50, 152, 54, 154, 30, 46, 46, 170, 531, 150, 99, 140, 40, 48, 117, 79, 57, 126, 100, 177, 30, 106, 116, 70, 242, 186, 117, 45, 30, 247, 209, 116, 214, 37, 96, 296, 34, 34, 88, 66, 78, 194, 94, 54, 89, 48, 62, 128, 35, 126, 133, 32, 43, 162, 157, 68, 61, 53, 40, 45, 35, 90, 41, 55, 151, 49, 110, 39, 68, 56, 55, 130, 79, 55, 92, 178, 207, 67, 99, 73, 129, 49, 44, 108, 169, 113, 30, 94, 197, 95, 42, 57, 514, 51, 83, 37, 75, 67, 48, 42, 101, 76, 44, 33, 185, 152, 67, 232, 193, 170, 37, 143, 44, 45, 111, 82, 34, 35, 31, 75, 63, 42, 72, 76, 42, 195, 308, 47, 113, 129, 519, 55, 34, 42, 175, 33, 57, 42, 43, 46, 43, 160, 151, 54, 37, 50, 95, 117, 68, 114, 42, 70, 100, 30, 187, 78, 96, 32, 37, 105, 43, 58, 116, 30, 103, 35, 32, 42, 222, 90, 72, 178, 81, 215, 37, 147, 126, 101, 111, 31, 40, 113, 37, 100, 214, 35, 42, 90, 303, 135, 38, 109, 90, 85, 115, 84, 74, 33, 48, 36, 154, 49, 42, 157, 60, 134, 37, 162, 33, 77, 31, 49, 30, 56, 43, 55, 51, 51, 49, 83, 48, 189, 156, 122, 42, 92, 111, 115, 75, 38, 133, 87, 115, 43, 120, 128, 65, 41, 340, 73, 121, 32, 167, 264, 78, 54, 58, 63, 142, 158, 35, 84, 40, 392, 35, 101, 48, 32, 55, 52, 30, 172, 92, 81, 81, 30, 200, 30, 94, 62, 161, 54, 52, 142, 248, 318, 42, 255, 81, 64, 86, 38, 33, 46, 75, 33, 35, 152, 63, 114, 111, 42, 77, 42, 60, 122, 141, 128, 58, 134, 43, 99, 31, 108, 47, 34, 161, 30, 44, 266, 131, 54, 45, 96, 91, 184, 295, 187, 46, 139, 47, 36, 58, 38, 271, 54, 49, 81, 88, 141, 56, 108, 156, 50, 67, 77, 48, 58, 108, 34, 32, 79, 83, 69, 33, 154, 104, 61, 129, 336, 151, 97, 30, 182, 240, 61, 31, 207, 34, 72, 107, 39, 117, 84, 68, 115, 503, 119, 72, 131, 74, 59, 51, 95, 72, 123, 143, 64, 127, 39, 113, 63, 61, 111, 99, 123, 44, 37, 39, 47, 58, 47, 86, 48, 67, 31, 92, 99, 70, 33, 63, 110, 45, 90, 170, 85, 491, 120, 63, 78, 269, 118, 33, 67, 165, 45, 58, 38, 135, 58, 46, 124, 285, 42, 186, 35, 165, 39, 40, 45, 110, 55, 96, 125, 98, 89, 149, 255, 58, 32, 47, 271, 65, 107, 108, 43, 97, 35, 50, 34, 69, 36, 65, 66, 53, 109, 420, 183, 153, 56, 32, 31, 77, 142, 39, 140, 265, 77, 30, 54, 172, 41, 115, 81, 51, 95, 108, 41, 228, 75, 246, 102, 35, 76, 89, 194, 123, 80, 110, 50, 35, 140, 44, 39, 41, 46, 49, 157, 82, 178, 38, 276, 107, 82, 108, 57, 420, 116, 49, 32, 44, 40, 43, 210, 41, 41, 67, 134, 148, 52, 48, 184, 52, 65, 94, 76, 70, 75, 100, 30, 95, 88, 123, 89, 117, 32, 100, 95, 80, 99, 57, 34, 33, 115, 77, 30, 45, 31, 67, 49, 56, 38, 161, 204, 95, 110, 83, 31, 35, 192, 62, 30, 51, 74, 35, 108, 34, 125, 57, 172, 51, 43, 34, 107, 38, 160, 32, 51, 99, 329, 139, 39, 53, 98, 60, 43, 33, 42, 71, 39, 101, 82, 108, 202, 94, 79, 31, 162, 49, 113, 34, 46, 80, 47, 41, 47, 119, 75, 59, 69, 185, 47, 45, 117, 137, 113, 37, 277, 87, 48, 66, 35, 97, 116, 46, 37, 86, 39, 51, 114, 145, 274, 40, 43, 37, 56, 100, 67, 52, 96, 30, 106, 30, 124, 72, 40, 93, 32, 71, 65, 88, 35, 67, 96, 60, 56, 174, 46, 244, 49, 63, 90, 150, 51, 62, 42, 66, 107, 146, 77, 69, 37, 332, 179, 124, 126, 113, 38, 73, 141, 101, 80, 66, 61, 91, 51, 65, 44, 89, 57, 90, 44, 45, 31, 53, 213, 32, 35, 101, 67, 60, 206, 45, 53, 79, 108, 183, 116, 226, 86, 38, 40, 156, 140, 66, 46, 123, 231, 382, 47, 67, 93, 82, 31, 103, 104, 78, 206, 54, 146, 30, 141, 77, 293, 51, 75, 47, 50, 39, 152, 44, 71, 145, 149, 106, 31, 79, 59, 164, 43, 157, 61, 226, 56, 108, 72, 31, 68, 290, 47, 53, 90, 85, 92, 129, 72, 55, 32, 89, 142, 40, 114, 61, 37, 42, 351, 102, 52, 43, 94, 134, 61, 106, 167, 56, 93, 184, 89, 247, 53, 46, 117, 37, 228, 64, 41, 100, 32, 108, 61, 58, 48, 58, 147, 30, 45, 189, 34, 122, 91, 65, 156, 76, 44, 67, 34, 108, 146, 57, 118, 77, 39, 32, 115, 54, 49, 77, 49, 173, 94, 108, 84, 54, 31, 41, 70, 42, 149, 65, 67, 42, 79, 34, 80, 176, 65, 56, 33, 55, 213, 115, 190, 55, 48, 326, 60, 88, 33, 83, 37, 126, 45, 79, 86, 33, 55, 595, 82, 156, 81, 231, 159, 73, 55, 81, 168, 100, 218, 110, 40, 71, 141, 62, 110, 227, 93, 148, 105, 66, 62, 115, 30, 31, 194, 80, 30, 139, 68, 232, 44, 133, 109, 62, 41, 56, 91, 104, 174, 137, 33, 92, 113, 51, 31, 128, 154, 81, 43, 66, 46, 49, 133, 58, 120, 36, 55, 47, 106, 55, 30, 43, 142, 64, 57, 52, 118, 83, 70, 35, 67, 153, 76, 113, 95, 32, 81, 57, 49, 35, 133, 67, 52, 156, 39, 49, 76, 47, 191, 125, 171, 33, 95, 219, 84, 87, 77, 204, 44, 43, 103, 35, 71, 71, 127, 93, 44, 106, 55, 355, 87, 86, 152, 105, 69, 74, 139, 56, 97, 63, 55, 66, 50, 170, 124, 114, 31, 110, 113, 106, 81, 39, 32, 59, 40, 38, 43, 117, 49, 39, 100, 105, 97, 57, 114, 102, 44, 34, 201, 34, 30, 259, 49, 388, 45, 277, 186, 73, 63, 109, 65, 48, 230, 35, 99, 158, 299, 39, 137, 113, 66, 241, 108, 233, 71, 197, 37, 63, 65, 38, 49, 59, 123, 117, 414, 75, 83, 31, 84, 49, 136, 31, 49, 124, 30, 410, 157, 130, 139, 53, 63, 43, 35, 43, 69, 51, 80, 61, 175, 134, 71, 30, 185, 204, 66, 47, 64, 73, 43, 34, 67, 38, 52, 47, 71, 170, 93, 84, 64, 97, 178, 59, 67, 196, 250, 31, 222, 151, 118, 69, 59, 30, 182, 91, 66, 33, 71, 38, 62, 31, 38, 33, 31, 150, 49, 70, 50, 127, 46, 43, 33, 40, 129, 134, 35, 71, 40, 48, 118, 89, 118, 364, 100, 100, 31, 215, 79, 41, 46, 177, 69, 49, 52, 89, 265, 136, 150, 61, 167, 68, 181, 88, 53, 42, 201, 34, 136, 76, 106, 69, 82, 72, 53, 176, 91, 91, 133, 352, 101, 103, 127, 152, 135, 41, 37, 228, 84, 100, 69, 68, 99, 44, 147, 129, 30, 33, 33, 37, 45, 112, 41, 73, 46, 149, 41, 91, 62, 61, 60, 41, 97, 36, 49, 89, 142, 60, 213, 51, 51, 30, 68, 40, 62, 87, 36, 73, 72, 117, 145, 67, 123, 105, 50, 142, 32, 48, 40, 37, 47, 40, 93, 57, 66, 45, 60, 79, 113, 116, 46, 89, 82, 158, 82, 119, 69, 42, 37, 59, 358, 41, 40, 63, 92, 40, 68, 55, 65, 179, 291, 69, 104, 44, 52, 108, 52, 91, 58, 128, 62, 65, 31, 74, 63, 97, 152, 437, 70, 48, 32, 35, 61, 131, 53, 219, 110, 64, 36, 37, 131, 193, 73, 39, 35, 99, 280, 99, 114, 39, 68, 50, 115, 32, 134, 54, 185, 123, 124, 43, 43, 42, 72, 46, 127, 54, 42, 31, 147, 63, 53, 36, 143, 31, 97, 73, 33, 49, 32, 143, 47, 45, 206, 118, 148, 76, 212, 76, 73, 85, 31, 80, 211, 234, 43, 70, 30, 188, 96, 36, 38, 30, 48, 50, 33, 30, 67, 46, 39, 127, 121, 96, 65, 36, 78, 62, 46, 87, 106, 35, 109, 74, 90, 46, 31, 83, 74, 40, 96, 44, 77, 88, 112, 120, 51, 52, 126, 98, 177, 219, 125, 50, 34, 97, 32, 37, 31, 86, 34, 136, 95, 80, 88, 76, 50, 69, 73, 65, 191, 60, 40, 89, 58, 54, 394, 157, 62, 153, 64, 43, 61, 30, 108, 57, 88, 128, 34, 40, 31, 66, 32, 75, 88, 30, 80, 151, 40, 163, 72, 101, 36, 42, 42, 52, 237, 60, 47, 38, 51, 136, 104, 70, 72, 30, 38, 30, 42, 49, 57, 100, 275, 42, 36, 52, 35, 35, 145, 96, 39, 92, 146, 137, 49, 72, 58, 67, 137, 294, 69, 40, 55, 42, 103, 34, 48, 55, 58, 30, 105, 55, 91, 79, 121, 84, 43, 133, 53, 31, 151, 177, 34, 137, 42, 30, 54, 61, 151, 34, 108, 256, 36, 42, 174, 106, 63, 40, 30, 65, 600, 31, 57, 38, 141, 42, 35, 35, 218, 35, 63, 70, 37, 131, 39, 108, 42, 126, 149, 209, 73, 62, 112, 132, 48, 98, 244, 92, 52, 224, 151, 41, 32, 64, 141, 36, 30, 122, 120, 49, 43, 60, 108, 61, 54, 54, 43, 97, 36, 181, 30, 33, 222, 32, 139, 187, 34, 102, 159, 84, 138, 201, 46, 39, 45, 52, 177, 37, 43, 65, 56, 94, 172, 145, 44, 55, 117, 54, 66, 73, 134, 48, 30, 106, 277, 93, 41, 43, 138, 82, 50, 49, 33, 43, 140, 89, 151, 47, 31, 61, 200, 32, 42, 68, 80, 69, 72, 50, 33, 62, 41, 88, 60, 89, 51, 79, 147, 293, 66, 72, 70, 67, 32, 75, 54, 42, 82, 35, 165, 103, 45, 32, 35, 78, 123, 41, 46, 82, 39, 96, 52, 31, 352, 132, 59, 58, 105, 73, 57, 105, 46, 106, 96, 34, 38, 83, 91, 91, 44, 81, 43, 61, 37, 84, 97, 33, 50, 158, 31, 65, 97, 44, 93, 84, 67, 85, 62, 35, 41, 47, 65, 76, 41, 97, 90, 43, 30, 79, 33, 219, 99, 37, 73, 130, 43, 383, 33, 78, 37, 53, 31, 121, 117, 90, 53, 44, 76, 72, 205, 130, 49, 42, 65, 71, 219, 40, 38, 85, 52, 50, 104, 109, 43, 51, 172, 45, 174, 82, 39, 48, 114, 80, 30, 63, 65, 42, 95, 100, 30, 111, 34, 49, 127, 52, 30, 65, 133, 67, 163, 31, 73, 65, 67, 133, 45, 43, 32, 147, 66, 53, 87, 94, 69, 30, 136, 34, 58, 45, 117, 146, 41, 60, 48, 178, 179, 72, 80, 41, 94, 116, 50, 62, 55, 66, 126, 172, 131, 71, 70, 67, 57, 46, 32, 37, 120, 65, 68, 140, 169, 35, 38, 144, 42, 69, 96, 56, 49, 36, 76, 106, 115, 68, 142, 35, 49, 55, 30, 55, 32, 34, 68, 34, 62, 70, 91, 48, 122, 90, 66, 163, 172, 93, 103, 34, 39, 30, 87, 85, 85, 120, 138, 48, 114, 74, 116, 152, 39, 96, 40, 54, 64, 34, 74, 38, 88, 51, 81, 64, 107, 35, 195, 36, 57, 30, 71, 46, 74, 214, 105, 186, 47, 44, 31, 42, 110, 95, 94, 39, 50, 186, 77, 96, 93, 52, 57, 78, 158, 41, 169, 38, 53, 33, 52, 79, 57, 147, 33, 66, 154, 115, 142, 163, 155, 55, 42, 32, 265, 110, 37, 87, 39, 48, 142, 30, 112, 63, 33, 32, 67, 97, 67, 146, 84, 195, 71, 39, 79, 41, 135, 54, 90, 41, 66, 38, 38, 111, 57, 38, 53, 78, 338, 76, 131, 114, 192, 34, 43, 31, 45, 203, 44, 50, 100, 200, 70, 89, 83, 107, 209, 43, 35, 154, 167, 91, 31, 30, 40, 259, 46, 107, 30, 89, 103, 30, 52, 55, 49, 60, 83, 75, 72, 37, 45, 60, 40, 31, 86, 73, 30, 68, 306, 30, 47, 60, 42, 166, 134, 186, 41, 34, 112, 72, 32, 126, 113, 48, 55, 36, 201, 57, 119, 63, 207, 52, 38, 51, 67, 85, 67, 118, 36, 117, 34, 91, 82, 259, 180, 39, 60, 53, 248, 69, 61, 159, 40, 91, 103, 34, 112, 32, 46, 49, 114, 34, 186, 66, 82, 45, 104, 72, 50, 101, 53, 114, 43, 81, 68, 37, 99, 46, 102, 37, 41, 56, 46, 43, 66, 50, 35, 112, 204, 99, 140, 144, 45, 38, 33, 33, 85, 34, 186, 44, 114, 51, 69, 48, 30, 32, 30, 496, 240, 43, 55, 88, 49, 110, 65, 36, 56, 115, 51, 102, 141, 50, 195, 61, 52, 63, 57, 32, 152, 74, 107, 78, 72, 42, 66, 54, 61, 57, 33, 78, 81, 54, 44, 31, 50, 55, 44, 34, 50, 41, 48, 128, 74, 34, 75, 38, 120, 47, 106, 225, 42, 49, 125, 94, 51, 54, 30, 95, 65, 49, 147, 74, 88, 38, 66, 117, 62, 32, 138, 46, 79, 239, 53, 179, 383, 88, 39, 62, 38, 41, 68, 47, 30, 55, 138, 75, 55, 64, 44, 46, 30, 44, 31, 166, 143, 131, 106, 58, 41, 30, 41, 96, 31, 68, 59, 49, 57, 34, 58, 34, 65, 33, 63, 89, 117, 73, 90, 75, 34, 80, 156, 39, 33, 141, 45, 71, 30, 109, 106, 31, 148, 38, 63, 76, 48, 57, 45, 115, 44, 243, 47, 39, 83, 35, 34, 57, 298, 50, 286, 50, 87, 56, 39, 42, 59, 135, 40, 131, 64, 101, 207, 61, 160, 68, 45, 44, 42, 40, 50, 161, 108, 71, 59, 33, 54, 60, 31, 60, 31, 60, 129, 42, 33, 139, 44, 35, 170, 32, 35, 35, 83, 43, 39, 109, 276, 79, 62, 40, 38, 161, 46, 66, 143, 44, 72, 94, 72, 35, 212, 37, 106, 34, 48, 65, 51, 72, 80, 42, 77, 32, 56, 109, 41, 30, 315, 276, 35, 69, 65, 306, 107, 341, 35, 37, 45, 79, 68, 34, 37, 67, 38, 75, 93, 101, 33, 32, 34, 44, 104, 30, 60, 54, 31, 113, 44, 49, 48, 209, 72, 59, 41, 36, 36, 35, 34, 78, 43, 30, 55, 31, 116, 32, 50, 30, 30, 32, 43, 93, 98, 57, 31, 32, 42, 31, 32, 103, 38, 30, 92, 33, 40, 30, 100, 36, 95, 31, 98, 30, 30, 37, 69, 31, 49, 61, 53, 74, 42, 149, 43, 33, 46, 32, 107, 39, 98, 116, 44, 39, 53, 36, 43, 51, 42, 202, 82, 71, 44, 44, 45, 40, 67, 30, 30, 30, 62, 60, 36, 40, 40, 34, 168, 92, 39, 56, 106, 33, 31, 116, 48, 176, 62, 89, 39, 279, 53, 74, 41, 33, 32, 32, 78, 68, 74, 52, 346, 32, 180, 63, 94, 65, 37, 65, 92, 46, 76, 47, 43, 35, 50, 160, 42, 138, 45, 49, 55, 50, 83, 149, 42, 37, 34, 56, 94, 59, 67, 31, 45, 45, 50, 30, 42, 56, 47, 40, 42, 45, 66, 204, 92, 120, 30, 108, 49, 59, 130, 43, 60, 43, 68, 44, 37, 46, 33, 91, 50, 113, 33, 49, 30, 62, 53, 38, 48, 57, 60, 42, 115, 128, 88, 56, 51, 37, 51, 70, 46, 50, 30, 81, 56, 98, 46, 248, 43, 67, 40, 51, 104, 94, 38, 37, 106, 37, 57, 36, 311, 129, 48, 112, 37, 35, 44, 36, 214, 62, 33, 43, 210, 50, 41, 87, 73, 163, 30, 59, 160, 149, 41, 96, 47, 32, 57, 77, 32, 45, 40, 42, 62, 54, 76, 98, 35, 51, 37, 91, 142, 52, 72, 102, 75, 171, 72, 35, 48, 32, 46, 34, 54, 48, 33, 44, 212, 120, 295, 79, 92, 42, 153, 38, 67, 76, 63, 72, 145, 36, 36, 57, 78, 85, 101, 96, 32, 73, 43, 60, 85, 52, 37, 86, 54, 193, 100, 204, 155, 228, 61, 30, 55, 44, 72, 142, 32, 37, 37, 76, 348, 121, 30, 113, 35, 73, 455, 61, 57, 92, 34, 84, 259, 37, 172, 167, 298, 71, 204, 319, 101, 54, 104, 51, 44, 33, 196, 59, 31, 35, 61, 149, 37, 30, 137, 95, 44, 70, 37, 36, 119, 57, 37, 36, 38, 96, 40, 82, 42, 42, 30, 91, 64, 33, 55, 164, 78, 81, 86, 56, 37, 34, 77, 99, 55, 46, 134, 202, 81, 35, 242, 157, 63, 61, 52, 84, 56, 57, 38, 51, 114, 81, 98, 62, 45, 74, 102, 42, 41, 59, 100, 98, 50, 37, 52, 75, 245, 83, 41, 31, 194, 160, 34, 39, 103, 51, 31, 81, 41, 43, 131, 57, 220, 102, 204, 156, 95, 92, 127, 34, 57, 35, 91, 35, 68, 100, 37, 155, 31, 91, 239, 36, 213, 39, 42, 41, 42, 132, 121, 49, 40, 166, 65, 50, 31, 116, 46, 31, 88, 131, 98, 34, 37, 91, 64, 30, 44, 38, 82, 43, 31, 107, 39, 54, 72, 155, 32, 46, 96, 56, 44, 33, 78, 47, 58, 55, 35, 34, 223, 36, 35, 75, 116, 86, 97, 30, 124, 70, 93, 33, 42, 70, 65, 71, 124, 120, 33, 42, 41, 83, 52, 41, 46, 30, 68, 163, 45, 37, 41, 37, 55, 82, 45, 36, 33, 55, 99, 31, 87, 55, 114, 80, 85, 64, 58, 42, 104, 95, 38, 68, 43, 35, 68, 36, 46, 33, 145, 67, 181, 108, 41, 70, 31, 101, 43, 114, 112, 68, 51, 154, 95, 30, 92, 106, 44, 64, 86, 30, 92, 137, 45, 78, 130, 41, 79, 44, 80, 38, 58, 47, 51, 74, 87, 105, 38, 95, 66, 265, 31, 44, 115, 77, 76, 51, 41, 139, 65, 114, 54, 58, 136, 71, 83, 33, 32, 47, 42, 40, 35, 32, 74, 40, 53, 32, 35, 60, 34, 32, 81, 68, 44, 414, 146, 319, 31, 32, 57, 37, 39, 42, 30, 34, 44, 45, 44, 65, 365, 46, 51, 37, 65, 39, 42, 44, 39, 55, 52, 63, 76, 40, 66, 52, 37, 45, 89, 42, 33, 34, 30, 44, 43, 233, 79, 89, 72, 243, 47, 144, 85, 112, 39, 51, 38, 96, 40, 85, 30, 54, 59, 70, 296, 75, 34, 30, 53, 122, 49, 35, 36, 30, 148, 127, 73, 265, 34, 70, 46, 164, 55, 165, 54, 34, 61, 74, 58, 81, 148, 45, 48, 148, 58, 37, 71, 186, 360, 34, 31, 33, 34, 46, 32, 41, 55, 65, 30, 120, 332, 41, 189, 66, 70, 76, 39, 56, 41, 331, 52, 139, 112, 104, 56, 36, 41, 91, 30, 221, 37, 31, 266, 36, 32, 40, 123, 120, 87, 36, 65, 48, 67, 45, 37, 52, 39, 76, 113, 151, 59, 100, 182, 225, 126, 77, 36, 74, 33, 46, 111, 98, 134, 235, 30, 41, 54, 220, 38, 92, 116, 112, 90, 43, 398, 95, 33, 32, 102, 38, 245, 87, 30, 37, 101, 123, 42, 211, 78, 33, 199, 42, 120, 258, 72, 71, 117, 73, 46, 159, 460, 220, 50, 125, 56, 32, 147, 183, 111, 83, 30, 172, 58, 60, 168, 51, 134, 62, 38, 40, 30, 115, 55, 38, 210, 30, 115, 30, 169, 156, 119, 71, 157, 400, 48, 39, 218, 114, 246, 37, 129, 274, 74, 31, 72, 118, 43, 61, 129, 35, 50, 84, 171, 198, 125, 79, 59, 501, 170, 37, 56, 88, 118, 79, 126, 74, 42, 566, 465, 57, 92, 224, 50, 162, 31, 35, 342, 30, 75, 67, 78, 116, 36, 229, 108, 112, 47, 79, 244, 44, 256, 267, 237, 57, 32, 39, 173, 137, 75, 163, 87, 66, 32, 70, 35, 47, 53, 64, 180, 332, 31, 101, 55, 92, 36, 77, 89, 53, 38, 210, 107, 168, 150, 252, 32, 39, 31, 54, 45, 427, 34, 68, 50, 37, 187, 58, 40, 84, 42, 47, 118, 77, 31, 88, 69, 62, 168, 34, 72, 51, 50, 238, 126, 135, 154, 115, 59, 62, 38, 74, 42, 62, 31, 119, 61, 58, 49, 76, 72, 32, 54, 31, 123, 103, 35, 48, 160, 34, 31, 95, 110, 96, 64, 47, 173, 40, 71, 35, 113, 63, 30, 157, 33, 61, 107, 142, 37, 371, 107, 47, 63, 112, 31, 72, 42, 61, 69, 47, 106, 202, 150, 135, 63, 45, 41, 40, 39, 46, 31, 65, 85, 153, 88, 45, 172, 156, 96, 114, 56, 383, 454, 59, 164, 114, 175, 30, 47, 202, 170, 65, 47, 57, 35, 286, 30, 38, 58, 39, 42, 42, 51, 111, 35, 54, 73, 79, 50, 43, 34, 90, 82, 75, 96, 32, 41, 33, 33, 129, 76, 50, 42, 80, 37, 287, 118, 44, 105, 36, 136, 70, 102, 50, 42, 45, 58, 85, 70, 76, 269, 31, 39, 53, 52, 71, 167, 55, 105, 41, 260, 49, 44, 46, 50, 32, 52, 56, 35, 156, 142, 39, 81, 72, 46, 157, 130, 59, 86, 230, 90, 45, 242, 54, 160, 65, 54, 54, 235, 121, 275, 53, 138, 49, 64, 128, 167, 83, 48, 155, 30, 233, 176, 205, 452, 31, 61, 95, 56, 126, 36, 42, 48, 188, 41, 130, 396, 94, 67, 95, 173, 131, 37, 107, 66, 42, 155, 125, 77, 293, 117, 32, 32, 112, 41, 47, 38, 111, 78, 39, 66, 138, 92, 233, 37, 33, 36, 31, 31, 183, 111, 186, 76, 47, 132, 57, 40, 51, 60, 37, 77, 108, 42, 58, 110, 73, 32, 39, 41, 254, 44, 53, 37, 35, 77, 170, 82, 57, 42, 34, 95, 32, 40, 42, 39, 31, 94, 123, 60, 42, 91, 134, 143, 68, 135, 122, 54, 145, 101, 37, 35, 57, 116, 49, 101, 32, 97, 34, 107, 237, 38, 157, 108, 83, 146, 60, 31, 123, 70, 76, 86, 111, 44, 33, 51, 52, 39, 76, 45, 221, 42, 175, 93, 81, 48, 78, 61, 111, 145, 35, 34, 34, 126, 103, 159, 252, 416, 47, 330, 30, 145, 30, 60, 71, 36, 72, 65, 110, 47, 31, 101, 85, 30, 81, 505, 120, 161, 36, 56, 59, 64, 31, 431, 49, 41, 70, 70, 50, 120, 89, 33, 40, 49, 134, 111, 81, 74, 91, 105, 85, 51, 39, 43, 120, 43, 92, 42, 33, 117, 105, 50, 57, 92, 197, 126, 64, 36, 37, 109, 51, 31, 121, 69, 67, 101, 52, 61, 129, 33, 39, 42, 37, 49, 214, 41, 33, 48, 34, 70, 151, 60, 91, 36, 55, 480, 151, 70, 161, 45, 251, 185, 30, 42, 41, 51, 61, 35, 30, 40, 43, 46, 132, 39, 31, 58, 138, 108, 59, 65, 276, 55, 42, 59, 64, 81, 54, 31, 117, 195, 36, 60, 37, 92, 70, 32, 144, 36, 55, 63, 233, 236, 49, 90, 77, 131, 82, 141, 75, 32, 38, 34, 41, 38, 68, 32, 72, 271, 47, 39, 105, 56, 45, 49, 64, 42, 84, 39, 36, 70, 38, 37, 190, 40, 71, 327, 69, 39, 57, 74, 84, 37, 579, 58, 86, 135, 57, 46, 56, 72, 46, 125, 46, 31, 98, 145, 57, 126, 92, 93, 43, 188, 151, 65, 80, 231, 69, 33, 59, 60, 30, 41, 196, 74, 76, 110, 31, 95, 126, 30, 118, 46, 72, 31, 37, 35, 94, 42, 87, 30, 376, 176, 35, 56, 48, 46, 81, 76, 114, 149, 31, 41, 108, 40, 108, 30, 187, 112, 62, 32, 49, 63, 40, 91, 36, 192, 77, 43, 48, 58, 187, 94, 39, 57, 53, 32, 35, 37, 31, 80, 62, 44, 162, 124, 74, 125, 69, 40, 80, 71, 34, 31, 34, 72, 97, 51, 68, 93, 62, 81, 127, 122, 101, 43, 31, 116, 46, 80, 55, 111, 47, 163, 118, 71, 150, 35, 56, 123, 172, 30, 32, 62, 35, 50, 84, 203, 68, 358, 67, 57, 48, 35, 53, 91, 40, 71, 49, 63, 202, 46, 42, 228, 34, 197, 43, 208, 76, 40, 32, 226, 95, 610, 56, 44, 40, 38, 38, 108, 103, 124, 45, 80, 90, 131, 100, 37, 81, 105, 124, 45, 31, 54, 112, 39, 85, 117, 123, 76, 438, 71, 57, 115, 130, 31, 154, 52, 32, 73, 171, 49, 85, 105, 122, 32, 106, 31, 48, 90, 40, 77, 67, 52, 48, 78, 93, 49, 48, 34, 65, 69, 38, 176, 113, 179, 60, 70, 66, 32, 39, 62, 148, 57, 41, 66, 57, 71, 78, 186, 67, 30, 48, 125, 52, 36, 38, 36, 40, 75, 120, 110, 73, 57, 42, 66, 58, 42, 96, 115, 135, 139, 36, 30, 32, 74, 30, 102, 139, 110, 45, 37, 32, 37, 34, 104, 70, 56, 104, 42, 63, 61, 30, 42, 93, 42, 37, 34, 54, 40, 71, 52, 44, 68, 104, 90, 144, 64, 36, 41, 89, 41, 42, 35, 37, 88, 173, 35, 53, 72, 44, 39, 74, 107, 45, 41, 55, 33, 52, 88, 139, 89, 34, 52, 42, 40, 37, 184, 148, 57, 64, 158, 118, 97, 34, 42, 66, 152, 82, 44, 181, 74, 49, 58, 53, 78, 48, 42, 47, 67, 88, 63, 134, 92, 43, 134, 50, 120, 39, 61, 41, 75, 30, 64, 44, 50, 88, 44, 46, 57, 61, 44, 58, 65, 49, 102, 109, 78, 98, 32, 39, 44, 52, 88, 50, 55, 57, 37, 126, 92, 313, 41, 51, 82, 116, 77, 39, 57, 54, 50, 101, 52, 30, 109, 77, 98, 134, 40, 80, 323, 80, 30, 150, 41, 32, 117, 77, 131, 127, 211, 72, 353, 84, 49, 89, 49, 51, 31, 92, 39, 136, 44, 67, 191, 41, 55, 86, 68, 98, 38, 351, 43, 73, 78, 49, 30, 154, 51, 49, 138, 293, 51, 123, 39, 68, 81, 62, 35, 155, 454, 236, 259, 59, 102, 38, 60, 191, 153, 134, 34, 69, 66, 41, 39, 30, 32, 32, 32, 73, 62, 218, 71, 110, 120, 44, 81, 58, 50, 109, 51, 50, 426, 81, 93, 68, 37, 47, 40, 49, 52, 295, 52, 333, 119, 100, 30, 78, 56, 79, 30, 145, 116, 38, 76, 58, 47, 64, 89, 73, 63, 34, 45, 47, 65, 131, 48, 30, 47, 32, 49, 60, 33, 115, 39, 152, 99, 44, 78, 56, 133, 46, 53, 120, 34, 36, 209, 109, 39, 126, 147, 64, 108, 66, 142, 36, 65, 75, 42, 33, 66, 182, 45, 75, 113, 235, 82, 39, 49, 86, 45, 42, 106, 42, 32, 64, 84, 82, 114, 174, 52, 202, 43, 120, 53, 98, 52, 328, 45, 42, 42, 37, 154, 31, 157, 32, 40, 187, 30, 35, 279, 91, 36, 71, 155, 100, 52, 37, 83, 51, 52, 37, 79, 83, 36, 113, 45, 39, 52, 60, 147, 30, 37, 62, 38, 65, 178, 138, 33, 58, 96, 127, 49, 43, 77, 66, 38, 62, 52, 31, 34, 168, 57, 48, 63, 36, 91, 158, 30, 159, 65, 47, 35, 46, 38, 40, 52, 54, 45, 33, 51, 76, 40, 30, 55, 160, 40, 42, 242, 82, 245, 42, 33, 210, 187, 87, 130, 39, 51, 390, 58, 30, 136, 55, 106, 95, 49, 32, 118, 74, 67, 50, 33, 37, 53, 77, 47, 175, 112, 72, 37, 60, 56, 45, 86, 37, 120, 43, 51, 59, 37, 45, 125, 36, 90, 31, 70, 116, 133, 61, 37, 38, 58, 76, 45, 49, 68, 53, 79, 31, 80, 37, 55, 85, 69, 67, 81, 82, 52, 72, 65, 70, 51, 84, 196, 43, 72, 72, 36, 42, 30, 45, 75, 48, 84, 35, 239, 65, 36, 80, 46, 49, 61, 102, 43, 107, 50, 39, 215, 61, 135, 127, 72, 165, 104, 132, 34, 31, 56, 87, 40, 186, 119, 70, 33, 158, 38, 71, 34, 69, 48, 110, 84, 60, 172, 91, 52, 42, 69, 55, 32, 33, 37, 85, 35, 43, 84, 43, 77, 118, 39, 32, 88, 169, 71, 43, 107, 131, 144, 172, 48, 59, 43, 83, 85, 74, 81, 58, 38, 316, 48, 118, 91, 40, 187, 36, 44, 38, 51, 99, 154, 34, 290, 33, 130, 59, 71, 59, 226, 95, 136, 184, 200, 196, 55, 44, 49, 221, 167, 38, 41, 36, 52, 47, 43, 35, 38, 92, 116, 30, 63, 228, 37, 74, 68, 63, 34, 190, 54, 38, 31, 133, 100, 48, 50, 34, 77, 53, 55, 32, 58, 76, 38, 62, 49, 53, 78, 95, 30, 38, 58, 34, 82, 30, 161, 31, 37, 100, 34, 73, 115, 63, 48, 139, 42, 90, 122, 53, 88, 31, 58, 142, 147, 225, 56, 40, 147, 36, 47, 49, 75, 55, 33, 128, 55, 30, 355, 40, 46, 75, 33, 102, 58, 65, 86, 46, 61, 63, 62, 71, 47, 42, 79, 35, 49, 220, 34, 48, 83, 110, 83, 43, 105, 42, 37, 140, 113, 52, 31, 31, 31, 37, 38, 60, 53, 57, 48, 75, 115, 97, 55, 48, 135, 167, 119, 77, 180, 113, 46, 55, 97, 31, 30, 83, 34, 86, 33, 50, 98, 50, 50, 46, 51, 113, 38, 55, 55, 32, 247, 31, 42, 92, 115, 45, 36, 133, 119, 36, 113, 86, 68, 39, 73, 42, 39, 35, 34, 57, 58, 187, 41, 35, 33, 35, 47, 40, 30, 56, 127, 30, 81, 59, 84, 38, 32, 106, 40, 84, 54, 40, 43, 65, 71, 65, 87, 124, 88, 45, 45, 31, 145, 60, 35, 151, 81, 56, 88, 42, 281, 60, 71, 63, 142, 38, 54, 108, 142, 82, 565, 74, 73, 185, 30, 131, 30, 40, 79, 52, 58, 35, 80, 47, 45, 45, 70, 50, 110, 55, 55, 67, 53, 71, 87, 85, 53, 39, 69, 110, 47, 30, 66, 60, 51, 141, 64, 58, 38, 50, 113, 81, 54, 50, 39, 33, 119, 207, 58, 58, 184, 35, 31, 36, 55, 39, 45, 70, 157, 184, 38, 68, 149, 81, 150, 77, 32, 47, 183, 36, 69, 32, 55, 73, 94, 37, 267, 41, 42, 34, 88, 67, 61, 41, 77, 60, 36, 119, 99, 52, 183, 30, 137, 225, 82, 33, 70, 46, 44, 35, 129, 42, 42, 33, 59, 82, 60, 84, 83, 41, 48, 65, 39, 60, 108, 30, 35, 103, 86, 108, 146, 30, 40, 52, 49, 76, 50, 423, 39, 120, 36, 100, 40, 36, 54, 75, 154, 50, 44, 141, 70, 79, 48, 33, 53, 79, 46, 68, 32, 35, 43, 65, 37, 75, 42, 136, 64, 31, 116, 44, 69, 38, 61, 104, 59, 35, 41, 31, 86, 64, 156, 46, 181, 35, 121, 56, 318, 50, 32, 126, 120, 39, 85, 59, 111, 43, 30, 31, 85, 89, 57, 46, 47, 46, 33, 41, 103, 76, 50, 214, 59, 38, 67, 157, 39, 92, 89, 88, 55, 78, 83, 63, 33, 165, 156, 48, 38, 130, 81, 84, 85, 140, 60, 103, 77, 60, 61, 60, 30, 140, 59, 89, 75, 82, 57, 31, 30, 213, 78, 107, 76, 44, 82, 51, 141, 35, 108, 36, 120, 118, 104, 53, 98, 61, 78, 38, 30, 60, 125, 89, 70, 41, 61, 176, 58, 45, 80, 61, 58, 140, 54, 50, 40, 39, 58, 56, 42, 30, 30, 68, 127, 136, 49, 183, 74, 57, 35, 141, 39, 42, 30, 150, 32, 93, 80, 44, 32, 94, 80, 93, 47, 87, 46, 82, 62, 95, 33, 99, 46, 40, 69, 94, 80, 52, 106, 45, 36, 59, 34, 32, 173, 35, 37, 30, 97, 45, 92, 92, 61, 30, 62, 82, 65, 95, 87, 108, 44, 112, 42, 34, 39, 45, 105, 46, 66, 213, 39, 94, 135, 40, 63, 114, 61, 74, 96, 191, 121, 59, 78, 88, 118, 32, 38, 49, 67, 49, 36, 59, 110, 77, 34, 180, 56, 42, 53, 119, 75, 91, 62, 60, 60, 89, 80, 36, 31, 114, 44, 153, 77, 30, 64, 111, 53, 70, 42, 49, 93, 81, 93, 112, 34, 55, 55, 79, 71, 39, 36, 100, 47, 40, 72, 49, 43, 42, 145, 43, 171, 40, 34, 93, 33, 83, 44, 31, 36, 111, 64, 153, 38, 37, 36, 61, 80, 31, 283, 52, 43, 94, 40, 150, 49, 108, 88, 36, 43, 39, 52, 59, 51, 82, 86, 183, 77, 77, 52, 87, 76, 40, 226, 58, 42, 50, 69, 37, 41, 57, 34, 79, 183, 134, 86, 144, 44, 34, 38, 89, 50, 50, 155, 49, 36, 157, 30, 63, 48, 48, 35, 39, 51, 35, 30, 33, 48, 31, 450, 47, 51, 97, 63, 32, 42, 113, 56, 46, 36, 56, 30, 38, 150, 112, 163, 173, 104, 83, 36, 163, 67, 32, 38, 48, 55, 38, 110, 42, 117, 93, 63, 39, 32, 81, 124, 253, 43, 30, 84, 76, 193, 42, 39, 47, 88, 32, 155, 68, 59, 36, 31, 83, 55, 73, 31, 34, 106, 92, 61, 73, 34, 46, 161, 110, 459, 103, 65, 35, 42, 59, 46, 95, 33, 32, 36, 58, 37, 99, 95, 235, 87, 204, 98, 44, 114, 35, 43, 244, 53, 71, 34, 43, 40, 94, 35, 76, 70, 140, 108, 182, 59, 91, 73, 50, 109, 58, 59, 34, 39, 87, 105, 65, 77, 30, 131, 124, 127, 39, 55, 71, 41, 41, 31, 42, 38, 87, 99, 186, 81, 94, 122, 88, 134, 58, 40, 36, 103, 58, 31, 48, 62, 106, 73, 59, 45, 180, 93, 36, 68, 112, 51, 42, 101, 35, 31, 88, 86, 30, 63, 45, 47, 46, 47, 59, 44, 45, 75, 59, 61, 89, 30, 34, 70, 54, 39, 60, 283, 65, 47, 68, 128, 50, 77, 96, 70, 115, 31, 49, 141, 67, 31, 81, 82, 45, 40, 99, 40, 43, 48, 114, 68, 34, 68, 105, 69, 49, 62, 71, 42, 31, 58, 31, 38, 34, 117, 39, 65, 103, 146, 68, 118, 55, 30, 55, 49, 62, 447, 127, 99, 38, 43, 62, 47, 37, 42, 100, 41, 64, 68, 150, 60, 175, 30, 160, 69, 82, 36, 87, 64, 115, 31, 43, 74, 82, 88, 42, 83, 154, 170, 75, 41, 40, 87, 70, 39, 62, 70, 77, 41, 38, 72, 134, 211, 402, 33, 126, 64, 144, 111, 35, 36, 90, 87, 99, 89, 54, 78, 31, 202, 59, 168, 64, 33, 61, 38, 88, 51, 83, 46, 54, 46, 37, 166, 41, 108, 47, 30, 64, 104, 38, 102, 33, 96, 47, 78, 66, 89, 84, 45, 61, 76, 32, 61, 59, 54, 47, 326, 35, 56, 66, 33, 34, 120, 57, 72, 57, 61, 60, 113, 60, 65, 48, 90, 129, 61, 47, 58, 34, 67, 61, 36, 30, 93, 206, 80, 67, 41, 103, 116, 48, 173, 69, 65, 60, 42, 168, 47, 302, 38, 150, 127, 39, 170, 32, 174, 94, 51, 35, 54, 46, 250, 56, 44, 182, 36, 39, 38, 35, 72, 53, 194, 280, 194, 39, 42, 39, 122, 203, 31, 85, 42, 37, 33, 32, 35, 39, 31, 118, 119, 90, 315, 105, 44, 281, 47, 203, 36, 53, 44, 36, 86, 55, 140, 48, 160, 103, 31, 93, 30, 412, 202, 50, 50, 33, 34, 58, 54, 67, 152, 34, 36, 75, 43, 89, 38, 39, 32, 55, 118, 119, 52, 52, 32, 71, 146, 35, 30, 37, 99, 33, 34, 174, 162, 121, 71, 189, 220, 40, 146, 44, 46, 53, 113, 283, 326, 152, 47, 45, 77, 58, 41, 65, 40, 31, 238, 48, 196, 120, 30, 32, 140, 31, 74, 75, 151, 86, 43, 46, 65, 33, 84, 45, 198, 105, 33, 35, 164, 93, 30, 50, 81, 32, 108, 54, 78, 50, 47, 170, 55, 64, 59, 76, 30, 69, 32, 79, 53, 34, 59, 106, 132, 46, 41, 120, 50, 82, 39, 57, 236, 39, 51, 35, 37, 100, 31, 34, 44, 210, 36, 38, 78, 50, 31, 53, 126, 84, 60, 80, 60, 147, 66, 93, 64, 82, 70, 42, 35, 161, 38, 210, 52, 51, 30, 41, 45, 276, 65, 40, 62, 149, 83, 55, 46, 292, 50, 31, 38, 41, 41, 34, 34, 49, 98, 89, 54, 56, 46, 30, 61, 111, 37, 157, 185, 146, 87, 35, 167, 69, 44, 36, 71, 38, 77, 41, 42, 48, 58, 101, 162, 63, 56, 36, 31, 62, 40, 44, 30, 66, 47, 57, 64, 46, 89, 92, 95, 43, 30, 41, 103, 34, 32, 72, 92, 60, 30, 84, 36, 39, 53, 39, 32, 46, 158, 34, 39, 97, 35, 41, 62, 30, 34, 30, 87, 67, 89, 136, 163, 100, 43, 100, 146, 62, 38, 43, 31, 68, 151, 95, 36, 48, 200, 45, 39, 73, 173, 99, 205, 161, 140, 68, 106, 52, 49, 86, 41, 37, 31, 32, 122, 119, 113, 100, 100, 71, 95, 40, 80, 40, 49, 132, 146, 30, 86, 34, 36, 76, 35, 95, 30, 142, 67, 112, 50, 180, 45, 42, 172, 47, 133, 112, 42, 68, 37, 71, 32, 196, 39, 97, 42, 54, 161, 32, 82, 32, 123, 52, 106, 47, 31, 38, 52, 65, 173, 100, 57, 37, 126, 30, 79, 44, 113, 75, 30, 49, 58, 75, 31, 37, 122, 63, 39, 34, 30, 103, 34, 39, 87, 57, 80, 143, 116, 34, 42, 230, 37, 32, 53, 212, 33, 180, 66, 35, 40, 125, 50, 101, 201, 65, 129, 35, 30, 30, 36, 40, 163, 151, 49, 100, 67, 246, 39, 56, 186, 60, 112, 177, 43, 40, 40, 60, 30, 36, 71, 31, 97, 40, 201, 65, 37, 39, 52, 74, 154, 158, 102, 32, 38, 112, 31, 59, 146, 276, 54, 57, 75, 72, 88, 188, 49, 149, 43, 54, 67, 138, 105, 107, 77, 60, 120, 211, 111, 35, 328, 40, 37, 42, 69, 44, 60, 37, 96, 63, 31, 120, 66, 64, 59, 38, 132, 55, 37, 64, 104, 37, 61, 396, 75, 222, 40, 59, 31, 51, 142, 65, 36, 30, 65, 42, 57, 77, 67, 121, 61, 32, 44, 77, 151, 64, 36, 69, 43, 63, 116, 384, 33, 58, 58, 54, 37, 31, 30, 64, 31, 42, 40, 123, 34, 35, 47, 156, 72, 63, 46, 41, 58, 34, 51, 186, 34, 32, 60, 33, 98, 55, 38, 47, 53, 114, 65, 99, 65, 109, 45, 77, 44, 44, 51, 196, 93, 39, 41, 348, 49, 124, 47, 158, 35, 34, 30, 51, 96, 31, 100, 32, 31, 98, 41, 46, 227, 36, 38, 113, 83, 365, 144, 50, 50, 40, 65, 151, 100, 58, 71, 37, 33, 30, 79, 111, 44, 52, 62, 89, 36, 35, 72, 87, 53, 41, 136, 82, 48, 67, 63, 47, 43, 30, 76, 169, 75, 74, 53, 81, 42, 42, 163, 52, 78, 55, 398, 64, 288, 35, 168, 84, 135, 101, 35, 81, 377, 33, 114, 67, 47, 49, 33, 34, 60, 102, 145, 48, 94, 39, 53, 154, 49, 36, 33, 49, 64, 147, 57, 55, 77, 51, 33, 34, 35, 590, 36, 33, 121, 266, 70, 42, 31, 162, 67, 107, 63, 81, 35, 60, 35, 287, 37, 34, 48, 55, 33, 180, 239, 33, 30, 85, 61, 233, 40, 84, 48, 175, 30, 40, 57, 181, 51, 138, 46, 56, 99, 194, 61, 58, 54, 114, 41, 44, 157, 394, 250, 105, 34, 31, 78, 54, 89, 73, 118, 58, 37, 35, 44, 54, 306, 51, 76, 96, 31, 93, 70, 82, 68, 38, 44, 48, 47, 48, 46, 65, 32, 107, 78, 66, 60, 95, 143, 45, 38, 41, 56, 40, 48, 36, 35, 188, 57, 128, 81, 48, 108, 91, 53, 158, 59, 41, 33, 248, 55, 39, 36, 353, 66, 44, 132, 255, 42, 61, 52, 39, 158, 107, 122, 113, 32, 36, 65, 32, 32, 52, 100, 55, 129, 171, 37, 124, 31, 59, 50, 39, 56, 119, 31, 58, 35, 41, 36, 67, 40, 46, 99, 61, 205, 41, 238, 40, 52, 121, 169, 55, 41, 86, 40, 32, 157, 106, 35, 31, 144, 103, 57, 52, 60, 152, 64, 76, 31, 72, 110, 225, 43, 62, 175, 100, 78, 64, 444, 95, 66, 256, 162, 156, 170, 41, 35, 47, 68, 36, 99, 31, 34, 116, 35, 32, 115, 127, 40, 70, 31, 70, 107, 62, 58, 49, 51, 42, 87, 49, 70, 245, 42, 44, 49, 76, 150, 109, 51, 90, 52, 45, 64, 56, 67, 133, 45, 79, 63, 46, 32, 342, 102, 80, 50, 56, 38, 39, 109, 159, 107, 30, 39, 52, 64, 154, 113, 108, 126, 94, 51, 242, 192, 182, 32, 167, 37, 31, 67, 40, 75, 138, 35, 68, 71, 62, 39, 111, 35, 50, 94, 39, 179, 102, 72, 46, 103, 171, 56, 40, 72, 48, 43, 108, 61, 116, 32, 45, 39, 75, 31, 42, 60, 69, 34, 64, 38, 31, 38, 60, 65, 312, 334, 45, 65, 626, 38, 52, 204, 33, 196, 140, 351, 41, 89, 39, 31, 45, 125, 97, 32, 51, 35, 38, 99, 368, 58, 64, 39, 75, 37, 35, 161, 66, 70, 94, 39, 122, 40, 74, 30, 30, 121, 225, 50, 163, 34, 33, 44, 266, 93, 57, 30, 344, 134, 50, 45, 60, 66, 31, 121, 116, 32, 35, 35, 110, 45, 47, 95, 75, 42, 42, 42, 130, 63, 85, 200, 219, 293, 37, 34, 368, 86, 31, 71, 72, 69, 37, 30, 40, 41, 53, 67, 437, 35, 72, 41, 161, 190, 52, 70, 140, 31, 184, 71, 192, 39, 42, 92, 34, 66, 291, 95, 192, 50, 111, 71, 36, 38, 50, 91, 211, 80, 202, 58, 79, 258, 54, 40, 93, 66, 42, 37, 54, 39, 100, 130, 51, 69, 64, 31, 97, 83, 41, 76, 70, 57, 35, 61, 38, 266, 38, 106, 65, 56, 110, 132, 86, 30, 200, 49, 53, 69, 33, 58, 82, 52, 50, 67, 52, 43, 35, 110, 36, 112, 55, 92, 196, 171, 38, 35, 240, 65, 96, 47, 96, 89, 40, 34, 138, 59, 74, 196, 143, 48, 51, 46, 102, 80, 34, 97, 167, 41, 157, 42, 49, 32, 73, 161, 41, 37, 50, 33, 64, 39, 105, 59, 85, 51, 96, 30, 37, 37, 68, 73, 241, 106, 114, 31, 61, 168, 33, 56, 71, 169, 59, 33, 38, 61, 82, 69, 266, 120, 110, 60, 49, 32, 130, 89, 37, 69, 32, 34, 60, 111, 40, 61, 185, 51, 108, 42, 41, 44, 35, 42, 70, 66, 45, 61, 139, 43, 32, 52, 30, 43, 60, 37, 46, 38, 66, 52, 47, 39, 118, 108, 58, 42, 43, 104, 80, 32, 87, 84, 124, 112, 67, 44, 282, 60, 107, 47, 92, 93, 31, 36, 44, 184, 32, 146, 72, 73, 52, 30, 47, 30, 60, 83, 98, 153, 44, 31, 68, 95, 85, 145, 46, 70, 160, 97, 158, 30, 37, 43, 151, 102, 114, 30, 41, 150, 40, 30, 131, 45, 36, 46, 78, 80, 67, 67, 42, 97, 88, 46, 124, 40, 40, 31, 46, 64, 242, 163, 205, 156, 190, 32, 30, 48, 35, 35, 75, 157, 91, 32, 40, 40, 54, 88, 107, 31, 61, 42, 134, 51, 177, 61, 52, 88, 87, 31, 38, 31, 30, 39, 88, 95, 108, 278, 35, 55, 48, 37, 179, 161, 95, 40, 30, 73, 44, 51, 34, 69, 51, 91, 52, 32, 96, 40, 131, 34, 104, 84, 59, 165, 54, 93, 59, 104, 139, 42, 59, 40, 64, 55, 35, 109, 91, 31, 77, 33, 58, 32, 58, 32, 37, 136, 43, 48, 32, 178, 55, 148, 89, 429, 32, 50, 199, 101, 73, 34, 43, 282, 87, 45, 72, 77, 84, 170, 152, 282, 32, 195, 39, 32, 31, 51, 54, 41, 100, 90, 83, 114, 56, 74, 65, 33, 202, 153, 85, 48, 32, 66, 34, 165, 36, 39, 76, 48, 96, 93, 85, 65, 45, 157, 151, 423, 36, 62, 42, 34, 79, 42, 35, 99, 112, 87, 33, 52, 37, 52, 64, 69, 190, 48, 94, 36, 98, 102, 136, 131, 31, 92, 36, 66, 31, 87, 40, 70, 66, 32, 108, 75, 41, 94, 170, 89, 74, 185, 128, 85, 42, 31, 41, 62, 40, 99, 71, 241, 43, 43, 39, 32, 106, 50, 382, 98, 107, 31, 286, 96, 68, 67, 35, 248, 132, 68, 33, 147, 32, 40, 44, 85, 162, 951, 350, 40, 125, 65, 44, 277, 33, 81, 32, 63, 33, 60, 33, 41, 41, 31, 117, 32, 52, 181, 66, 34, 72, 32, 36, 83, 208, 33, 30, 124, 92, 48, 180, 68, 78, 80, 61, 53, 85, 34, 104, 54, 188, 35, 65, 36, 38, 138, 344, 45, 72, 44, 48, 31, 726, 42, 92, 165, 73, 39, 67, 92, 38, 55, 41, 35, 41, 33, 35, 44, 41, 106, 46, 36, 33, 44, 34, 45, 109, 49, 147, 54, 75, 54, 37, 30, 93, 92, 66, 32, 255, 31, 130, 46, 65, 624, 52, 83, 40, 73, 92, 31, 44, 53, 86, 104, 67, 55, 32, 55, 71, 54, 47, 64, 70, 66, 97, 46, 58, 72, 76, 30, 96, 152, 55, 116, 35, 43, 40, 37, 49, 128, 34, 77, 204, 74, 112, 30, 77, 43, 64, 52, 34, 182, 76, 47, 35, 50, 87, 262, 58, 122, 71, 56, 64, 99, 87, 161, 115, 58, 34, 60, 69, 41, 148, 124, 54, 34, 139, 52, 62, 40, 51, 58, 47, 97, 48, 59, 149, 46, 81, 78, 56, 105, 34, 31, 99, 67, 47, 40, 136, 197, 82, 86, 82, 37, 38, 113, 34, 96, 47, 103, 52, 56, 60, 62, 31, 147, 98, 104, 120, 79, 61, 88, 30, 43, 64, 71, 64, 60, 70, 33, 38, 87, 31, 98, 30, 30, 46, 31, 112, 63, 40, 50, 40, 46, 36, 42, 88, 53, 38, 50, 47, 39, 84, 49, 46, 39, 129, 32, 85, 38, 67, 68, 65, 48, 37, 72, 96, 31, 46, 49, 59, 91, 81, 39, 55, 60, 43, 39, 67, 68, 141, 43, 31, 36, 39, 43, 283, 74, 41, 60, 74, 114, 64, 48, 51, 42, 38, 37, 33, 66, 36, 69, 49, 144, 51, 125, 69, 43, 162, 53, 33, 90, 45, 31, 30, 72, 57, 32, 38, 30, 52, 88, 32, 39, 40, 40, 162, 69, 61, 49, 35, 34, 102, 140, 40, 75, 126, 50, 95, 275, 66, 63, 40, 30, 41, 107, 35, 145, 65, 38, 34, 50, 244, 138, 50, 70, 46, 30, 69, 61, 74, 55, 91, 32, 32, 90, 39, 71, 41, 117, 71, 42, 63, 74, 83, 57, 144, 99, 151, 40, 90, 31, 61, 201, 37, 42, 54, 31, 139, 110, 59, 60, 73, 32, 45, 50, 358, 75, 66, 51, 122, 43, 85, 51, 42, 61, 124, 73, 37, 46, 38, 113, 64, 142, 58, 126, 86, 85, 40, 34, 30, 135, 32, 68, 66, 40, 53, 65, 41, 53, 78, 139, 294, 32, 79, 53, 58, 30, 94, 55, 45, 84, 109, 72, 48, 68, 56, 130, 40, 135, 71, 45, 57, 51, 104, 30, 44, 75, 41, 43, 36, 61, 44, 38, 44, 52, 112, 48, 48, 31, 148, 32, 38, 47, 31, 35, 61, 63, 50, 63, 84, 31, 46, 62, 56, 32, 73, 53, 32, 41, 38, 38, 100, 81, 49, 62, 30, 59, 32, 116, 73, 74, 49, 57, 44, 40, 77, 44, 31, 124, 39, 130, 30, 34, 125, 47, 317, 172, 30, 42, 104, 65, 30, 38, 32, 105, 57, 74, 92, 83, 57, 36, 34, 37, 59, 57, 93, 37, 238, 84, 47, 48, 30, 106, 50, 51, 109, 36, 87, 49, 32, 81, 35, 49, 156, 31, 48, 99, 165, 52, 48, 47, 32, 39, 48, 43, 79, 151, 38, 34, 50, 38, 80, 381, 127, 45, 52, 75, 34, 34, 148, 101, 186, 32, 32, 31, 37, 45, 74, 35, 45, 81, 36, 43, 39, 279, 199, 51, 61, 36, 47, 276, 84, 207, 97, 38, 47, 30, 269, 86, 308, 206, 53, 310, 115, 131, 44, 57, 39, 39, 88, 74, 58, 53, 45, 142, 36, 216, 227, 70, 34, 86, 193, 40, 138, 57, 126, 206, 56, 139, 75, 67, 61, 317, 44, 83, 105, 52, 38, 41, 74, 103, 108, 76, 91, 221, 45, 56, 94, 219, 219, 48, 36, 288, 30, 88, 132, 140, 95, 205, 43, 68, 81, 31, 43, 155, 31, 215, 56, 40, 250, 49, 61, 57, 98, 47, 178, 61, 55, 62, 75, 60, 49, 86, 88, 90, 859, 43, 47, 46, 37, 83, 78, 73, 150, 58, 249, 1305, 74, 31, 141, 141, 394, 338, 231, 127, 144, 59, 103, 63, 128, 45, 189, 37, 35, 87, 79, 45, 259, 96, 39, 104, 43, 175, 100, 39, 47, 56, 80, 32, 145, 175, 73, 381, 97, 123, 32, 50, 31, 35, 66, 35, 36, 61, 49, 56, 183, 39, 84, 36, 189, 32, 148, 83, 64, 205, 56, 32, 95, 38, 48, 54, 87, 48, 35, 55, 106, 37, 50, 99, 65, 131, 57, 32, 78, 52, 188, 105, 58, 71, 148, 38, 197, 54, 46, 122, 64, 52, 95, 49, 77, 30, 65, 55, 57, 111, 109, 56, 33, 127, 113, 79, 43, 60, 31, 33, 125, 61, 43, 77, 50, 42, 182, 117, 89, 84, 39, 53, 290, 149, 113, 89, 36, 287, 97, 30, 30, 45, 64, 47, 64, 30, 89, 86, 57, 62, 32, 90, 83, 30, 57, 31, 70, 34, 146, 348, 98, 73, 103, 31, 106, 36, 32, 60, 36, 38, 188, 91, 35, 31, 57, 39, 48, 60, 70, 59, 49, 219, 100, 33, 57, 44, 79, 38, 46, 107, 88, 82, 54, 60, 122, 85, 106, 152, 56, 55, 104, 81, 217, 43, 39, 84, 213, 35, 88, 93, 47, 103, 80, 60, 90, 35, 58, 45, 44, 62, 170, 32, 133, 91, 36, 41, 53, 105, 43, 50, 98, 56, 55, 53, 73, 73, 30, 34, 30, 135, 134, 66, 86, 56, 40, 87, 75, 73, 75, 133, 73, 42, 36, 53, 35, 38, 71, 63, 53, 59, 31, 113, 39, 86, 239, 33, 99, 80, 119, 46, 34, 43, 31, 30, 158, 177, 90, 30, 35, 52, 126, 43, 39, 34, 30, 56, 217, 74, 185, 153, 50, 87, 96, 86, 31, 148, 75, 175, 73, 76, 104, 51, 52, 37, 57, 98, 54, 94, 33, 51, 49, 213, 53, 31, 33, 187, 296, 54, 57, 239, 260, 40, 174, 60, 57, 44, 36, 54, 43, 60, 62, 48, 32, 31, 165, 85, 45, 49, 168, 86, 76, 39, 68, 56, 35, 112, 44, 65, 31, 45, 38, 82, 245, 93, 56, 74, 85, 93, 34, 42, 64, 39, 101, 87, 34, 32, 39, 192, 64, 64, 46, 154, 67, 131, 126, 32, 42, 102, 103, 198, 82, 154, 58, 40, 72, 279, 89, 49, 71, 123, 61, 34, 71, 86, 39, 64, 83, 51, 114, 31, 30, 111, 133, 72, 149, 243, 41, 78, 109, 37, 58, 38, 179, 68, 67, 52, 108, 37, 652, 131, 94, 84, 55, 64, 32, 40, 86, 255, 125, 199, 30, 33, 43, 43, 50, 31, 94, 81, 155, 59, 106, 248, 45, 105, 54, 94, 74, 30, 41, 128, 34, 52, 30, 107, 54, 75, 140, 42, 123, 37, 198, 31, 105, 30, 38, 32, 32, 168, 76, 90, 1592, 67, 130, 1128, 154, 35, 88, 96, 38, 57, 37, 41, 97, 58, 160, 56, 41, 37, 35, 44, 43, 86, 35, 72, 64, 66, 64, 59, 52, 64, 69, 33, 105, 70, 145, 38, 32, 34, 36, 67, 44, 43, 64, 83, 31, 99, 77, 96, 59, 39, 58, 35, 65, 82, 338, 163, 73, 193, 32, 188, 92, 71, 59, 123, 70, 110, 34, 43, 73, 40, 254, 333, 45, 32, 277, 45, 72, 30, 154, 236, 78, 35, 86, 44, 47, 45, 235, 48, 315, 44, 49, 110, 134, 48, 151, 84, 452, 33, 40, 44, 133, 42, 64, 46, 111, 91, 33, 53, 33, 114, 257, 281, 391, 34, 39, 58, 174, 65, 78, 208, 107, 67, 122, 139, 30, 49, 40, 32, 42, 42, 31, 73, 63, 90, 91, 298, 75, 230, 186, 45, 52, 142, 76, 41, 56, 34, 39, 78, 54, 54, 68, 272, 50, 32, 57, 32, 171, 41, 55, 59, 45, 67, 50, 47, 41, 93, 66, 64, 231, 44, 50, 62, 38, 32, 45, 197, 32, 102, 34, 64, 39, 80, 32, 131, 66, 191, 95, 188, 75, 104, 61, 31, 40, 32, 44, 51, 58, 67, 469, 138, 34, 50, 53, 111, 36, 37, 186, 39, 85, 101, 41, 84, 32, 119, 49, 60, 109, 30, 34, 64, 135, 36, 35, 74, 169, 44, 47, 110, 54, 315, 32, 185, 46, 154, 114, 148, 34, 65, 156, 41, 50, 56, 115, 51, 313, 53, 62, 50, 55, 41, 89, 294, 113, 42, 94, 64, 307, 81, 41, 447, 68, 38, 43, 83, 202, 93, 30, 69, 49, 61, 45, 64, 35, 143, 61, 53, 57, 40, 41, 40, 117, 57, 92, 47, 34, 55, 31, 133, 109, 44, 136, 75, 76, 93, 141, 71, 73, 50, 48, 145, 45, 56, 76, 148, 61, 35, 30, 41, 40, 33, 52, 30, 211, 44, 104, 38, 56, 42, 71, 38, 39, 65, 33, 43, 59, 289, 184, 59, 85, 30, 48, 111, 69, 127, 45, 47, 108, 181, 67, 41, 120, 113, 52, 31, 39, 41, 142, 86, 164, 31, 117, 38, 63, 101, 306, 290, 42, 134, 64, 112, 180, 77, 469, 48, 39, 138, 42, 69, 163, 35, 71, 35, 30, 52, 43, 41, 35, 79, 90, 106, 61, 183, 98, 37, 48, 32, 128, 77, 79, 59, 53, 100, 56, 36, 179, 114, 57, 48, 62, 83, 105, 35, 95, 36, 30, 99, 83, 32, 73, 76, 264, 47, 89, 134, 57, 288, 91, 240, 73, 43, 307, 88, 56, 83, 301, 41, 54, 54, 76, 35, 43, 76, 138, 265, 39, 30, 85, 36, 32, 52, 57, 46, 44, 45, 71, 33, 148, 33, 70, 139, 159, 77, 201, 139, 750, 225, 978, 34, 122, 48, 57, 127, 126, 96, 71, 211, 47, 114, 214, 41, 30, 153, 108, 51, 83, 32, 112, 39, 51, 46, 410, 30, 91, 93, 61, 34, 65, 42, 32, 41, 203, 235, 84, 202, 40, 111, 60, 59, 42, 153, 33, 204, 95, 30, 105, 36, 99, 56, 138, 202, 33, 67, 47, 51, 139, 33, 180, 176, 60, 56, 53, 66, 41, 141, 36, 32, 46, 165, 68, 56, 52, 39, 59, 60, 30, 89, 204, 117, 157, 30, 241, 31, 46, 134, 193, 31, 41, 103, 32, 340, 39, 223, 97, 330, 41, 38, 41, 371, 117, 123, 56, 31, 38, 84, 44, 76, 36, 55, 66, 114, 80, 76, 81, 34, 73, 59, 75, 34, 98, 142, 138, 64, 33, 55, 219, 95, 120, 37, 34, 38, 38, 125, 95, 164, 58, 37, 33, 65, 33, 37, 138, 200, 70, 64, 45, 37, 41, 69, 73, 52, 64, 112, 33, 60, 131, 72, 31, 56, 87, 37, 43, 66, 37, 318, 79, 35, 50, 49, 72, 47, 119, 48, 202, 37, 125, 30, 75, 45, 318, 126, 157, 117, 51, 36, 54, 120, 54, 138, 67, 56, 95, 30, 172, 37, 89, 170, 95, 65, 853, 137, 176, 218, 113, 65, 118, 60, 142, 59, 44, 54, 59, 199, 267, 46, 47, 48, 41, 97, 116, 55, 113, 39, 104, 70, 122, 309, 299, 82, 45, 41, 273, 58, 195, 120, 39, 33, 67, 38, 30, 35, 41, 35, 54, 312, 61, 122, 62, 139, 59, 55, 44, 127, 202, 119, 140, 30, 38, 97, 63, 130, 114, 141, 241, 215, 297, 262, 303, 81, 202, 199, 46, 191, 36, 123, 93, 35, 56, 63, 43, 290, 31, 157, 31, 45, 32, 85, 84, 182, 97, 49, 44, 88, 33, 132, 48, 33, 44, 60, 44, 57, 67, 58, 31, 30, 114, 200, 63, 65, 111, 59, 103, 40, 38, 58, 184, 47, 50, 65, 64, 51, 31, 36, 125, 40, 92, 56, 55, 72, 62, 168, 101, 40, 38, 44, 42, 57, 121, 60, 125, 65, 30, 108, 32, 59, 39, 76, 62, 52, 33, 54, 187, 60, 48, 52, 48, 130, 155, 86, 109, 108, 258, 46, 56, 33, 42, 52, 46, 109, 151, 35, 32, 118, 30, 63, 51, 159, 100, 64, 94, 64, 214, 47, 60, 52, 112, 221, 168, 109, 41, 42, 78, 31, 108, 187, 49, 49, 39, 134, 32, 55, 37, 135, 92, 36, 59, 164, 69, 47, 76, 52, 86, 68, 37, 30, 62, 63, 88, 91, 37, 51, 86, 53, 64, 40, 64, 62, 52, 97, 36, 36, 39, 52, 39, 55, 112, 37, 37, 40, 59, 35, 348, 35, 190, 42, 68, 54, 133, 31, 54, 30, 38, 419, 52, 31, 60, 144, 83, 38, 210, 63, 75, 36, 85, 36, 54, 38, 40, 38, 73, 46, 53, 42, 67, 120, 91, 68, 71, 52, 58, 152, 138, 72, 32, 66, 140, 92, 37, 34, 62, 38, 102, 55, 39, 58, 31, 47, 75, 60, 63, 161, 45, 67, 183, 37, 62, 61, 181, 87, 50, 63, 141, 37, 31, 80, 73, 106, 33, 38, 87, 192, 168, 37, 31, 76, 64, 124, 81, 31, 167, 37, 110, 46, 110, 65, 153, 32, 98, 78, 44, 33, 53, 43, 33, 53, 30, 81, 112, 44, 71, 64, 45, 45, 81, 35, 61, 105, 109, 37, 70, 45, 58, 42, 32, 101, 58, 119, 40, 105, 67, 30, 43, 62, 59, 30, 46, 185, 67, 54, 51, 313, 59, 49, 48, 86, 53, 301, 164, 104, 80, 140, 66, 183, 43, 30, 41, 34, 65, 115, 63, 32, 57, 73, 93, 37, 49, 234, 56, 46, 266, 78, 313, 79, 81, 51, 98, 74, 80, 35, 51, 32, 67, 69, 921, 350, 57, 64, 66, 118, 57, 81, 116, 299, 49, 49, 68, 30, 31, 389, 33, 127, 186, 38, 480, 34, 52, 30, 36, 46, 42, 180, 167, 58, 86, 59, 32, 33, 104, 82, 65, 279, 116, 189, 34, 137, 74, 80, 61, 46, 57, 423, 36, 266, 32, 56, 58, 96, 56, 73, 136, 362, 44, 44, 45, 33, 58, 318, 59, 52, 57, 39, 273, 42, 70, 130, 129, 53, 122, 108, 331, 132, 58, 158, 53, 164, 73, 127, 109, 57, 37, 32, 46, 159, 34, 30, 45, 50, 185, 43, 102, 116, 34, 60, 52, 34, 31, 30, 62, 81, 56, 81, 127, 39, 35, 64, 43, 143, 39, 34, 46, 59, 38, 45, 184, 96, 56, 62, 119, 42, 133, 53, 46, 36, 39, 31, 37, 86, 91, 111, 30, 67, 70, 275, 40, 55, 30, 30, 150, 36, 173, 32, 72, 87, 39, 34, 93, 119, 274, 199, 32, 30, 34, 47, 83, 37, 85, 143, 59, 110, 95, 96, 47, 100, 33, 50, 39, 44, 32, 35, 38, 63, 35, 50, 86, 56, 62, 30, 129, 45, 581, 37, 31, 55, 41, 152, 34, 74, 33, 71, 43, 54, 67, 63, 37, 55, 62, 40, 30, 30, 107, 128, 43, 35, 39, 41, 47, 34, 68, 56, 183, 84, 76, 34, 32, 47, 34, 82, 60, 57, 252, 31, 88, 36, 79, 45, 46, 37, 149, 215, 78, 188, 133, 37, 66, 121, 30, 30, 50, 129, 131, 99, 130, 78, 50, 50, 71, 50, 46, 205, 90, 52, 79, 51, 30, 145, 81, 174, 196, 77, 31, 45, 35, 35, 40, 42, 73, 117, 30, 124, 30, 40, 149, 34, 34, 71, 96, 85, 178, 36, 71, 51, 63, 41, 73, 254, 210, 42, 132, 46, 102, 34, 31, 37, 37, 74, 36, 120, 44, 345, 33, 39, 93, 55, 37, 105, 39, 31, 52, 89, 84, 51, 47, 39, 100, 94, 57, 31, 57, 30, 73, 100, 107, 57, 44, 31, 31, 34, 89, 114, 64, 35, 32, 31, 99, 92, 83, 204, 50, 153, 148, 40, 35, 62, 32, 88, 41, 67, 238, 34, 72, 63, 41, 149, 67, 32, 48, 98, 142, 71, 163, 30, 34, 36, 52, 67, 31, 31, 98, 42, 64, 211, 30, 39, 377, 52, 30, 67, 32, 55, 50, 111, 185, 67, 43, 65, 37, 160, 197, 59, 88, 33, 57, 68, 73, 36, 106, 67, 73, 113, 50, 105, 122, 42, 35, 57, 48, 119, 36, 97, 51, 82, 40, 63, 258, 177, 90, 36, 33, 118, 330, 36, 30, 50, 34, 150, 51, 31, 32, 35, 51, 34, 40, 43, 31, 49, 94, 36, 66, 74, 79, 50, 48, 41, 89, 79, 53, 62, 30, 33, 38, 46, 34, 34, 81, 41, 41, 301, 102, 61, 54, 66, 90, 324, 55, 32, 44, 88, 45, 37, 96, 73, 110, 111, 149, 159, 30, 46, 102, 35, 90, 107, 71, 48, 39, 69, 69, 65, 70, 33, 90, 157, 54, 50, 33, 221, 43, 37, 58, 49, 46, 33, 168, 38, 81, 80, 198, 31, 39, 32, 145, 45, 43, 95, 59, 62, 69, 65, 74, 49, 56, 121, 73, 32, 86, 62, 97, 109, 160, 45, 55, 39, 44, 77, 58, 147, 45, 493, 41, 44, 55, 52, 35, 36, 42, 47, 50, 81, 38, 160, 33, 33, 58, 50, 35, 31, 30, 49, 78, 104, 35, 40, 44, 44, 90, 30, 166, 61, 69, 112, 40, 32, 85, 51, 70, 68, 48, 30, 32, 40, 46, 68, 48, 35, 39, 88, 54, 162, 45, 60, 87, 98, 70, 44, 41, 212, 34, 53, 30, 253, 35, 74, 34, 43, 37, 45, 112, 148, 222, 70, 39, 121, 79, 70, 42, 74, 35, 132, 129, 31, 32, 43, 258, 32, 128, 72, 178, 55, 104, 84, 100, 32, 30, 86, 130, 40, 44, 37, 43, 107, 59, 56, 97, 35, 31, 141, 36, 35, 100, 76, 45, 88, 77, 58, 80, 35, 30, 37, 42, 112, 31, 46, 78, 57, 38, 37, 64, 84, 232, 166, 60, 289, 161, 50, 63, 129, 44, 52, 43, 32, 41, 38, 72, 43, 43, 153, 88, 47, 41, 67, 90, 33, 170, 40, 65, 90, 32, 83, 41, 137, 72, 43, 54, 67, 124, 34, 171, 102, 60, 57, 173, 50, 320, 117, 79, 71, 103, 121, 56, 729, 38, 132, 99, 59, 67, 167, 187, 214, 123, 113, 31, 250, 47, 107, 202, 85, 198, 42, 179, 82, 30, 179, 102, 114, 66, 446, 230, 49, 149, 31, 43, 59, 57, 40, 90, 30, 56, 36, 37, 113, 33, 89, 79, 40, 62, 40, 69, 80, 36, 150, 88, 46, 271, 38, 37, 152, 33, 58, 62, 73, 92, 47, 54, 46, 75, 39, 41, 33, 152, 133, 70, 300, 217, 92, 106, 30, 41, 41, 247, 32, 48, 60, 104, 52, 59, 91, 192, 39, 100, 84, 40, 83, 236, 220, 84, 152, 73, 54, 134, 82, 148, 39, 347, 46, 333, 92, 166, 53, 43, 53, 52, 135, 162, 69, 92, 64, 152, 44, 51, 161, 30, 75, 211, 30, 129, 44, 96, 41, 32, 70, 31, 45, 145, 71, 111, 34, 104, 38, 82, 31, 56, 51, 183, 163, 43, 42, 264, 89, 48, 100, 74, 62, 88, 312, 41, 67, 52, 62, 756, 30, 32, 93, 338, 41, 59, 39, 38, 36, 34, 97, 253, 100, 34, 55, 56, 31, 37, 136, 182, 40, 31, 52, 88, 86, 30, 42, 92, 88, 156, 72, 113, 33, 131, 87, 80, 42, 40, 61, 34, 299, 222, 77, 71, 103, 32, 34, 190, 120, 40, 53, 74, 30, 435, 65, 129, 69, 412, 50, 76, 62, 79, 30, 194, 55, 81, 31, 330, 75, 52, 67, 92, 101, 77, 43, 79, 264, 115, 211, 32, 178, 65, 130, 61, 111, 106, 100, 54, 64, 186, 84, 84, 61, 58, 342, 124, 40, 146, 46, 43, 78, 82, 72, 56, 42, 530, 136, 313, 37, 90, 42, 748, 332, 39, 30, 53, 66, 91, 45, 284, 118, 48, 44, 56, 31, 32, 40, 82, 291, 36, 40, 55, 31, 569, 156, 36, 40, 84, 570, 33, 51, 41, 118, 63, 33, 64, 47, 30, 167, 33, 214, 36, 57, 49, 74, 96, 182, 46, 42, 37, 168, 34, 70, 33, 370, 40, 36, 179, 559, 368, 454, 138, 80, 116, 50, 34, 35, 57, 78, 55, 38, 37, 53, 63, 38, 68, 401, 33, 152, 167, 35, 107, 237, 35, 45, 129, 69, 48, 47, 32, 30, 113, 31, 233, 45, 64, 84, 173, 43, 86, 34, 36, 48, 31, 53, 121, 74, 40, 49, 33, 36, 34, 67, 37, 62, 35, 59, 127, 168, 86, 41, 47, 204, 42, 45, 53, 291, 40, 51, 36, 157, 51, 34, 40, 31, 111, 31, 53, 53, 59, 30, 31, 247, 135, 32, 59, 31, 206, 45, 83, 50, 52, 78, 106, 58, 50, 32, 401, 51, 31, 47, 35, 60, 66, 43, 73, 200, 100, 86, 50, 38, 42, 75, 58, 94, 50, 55, 32, 97, 90, 80, 45, 88, 41, 32, 48, 78, 228, 56, 40, 31, 67, 411, 83, 36, 135, 40, 75, 236, 84, 37, 47, 55, 30, 145, 143, 61, 156, 33, 52, 49, 251, 39, 94, 44, 65, 93, 292, 61, 123, 145, 33, 62, 90, 36, 128, 173, 71, 45, 31, 46, 184, 45, 35, 40, 58, 40, 44, 37, 89, 59, 95, 43, 37, 66, 43, 96, 58, 34, 65, 38, 41, 51, 44, 56, 57, 47, 107, 45, 31, 37, 53, 185, 73, 32, 54, 111, 56, 36, 66, 166, 40, 53, 68, 55, 43, 72, 37, 38, 124, 32, 33, 45, 41, 55, 30, 57, 64, 121, 40, 38, 64, 74, 44, 54, 111, 65, 36, 63, 126, 35, 34, 84, 56, 85, 52, 84, 71, 47, 31, 40, 57, 68, 59, 94, 70, 95, 85, 68, 209, 75, 59, 51, 30, 57, 148, 71, 44, 38, 59, 121, 38, 37, 34, 107, 46, 30, 38, 179, 31, 76, 71, 171, 44, 38, 106, 51, 48, 146, 34, 50, 49, 34, 50, 64, 31, 65, 75, 59, 35, 50, 42, 76, 35, 79, 38, 33, 100, 35, 110, 45, 46, 30, 45, 34, 72, 114, 54, 54, 41, 95, 34, 30, 43, 51, 38, 94, 39, 105, 50, 31, 232, 34, 61, 51, 87, 90, 41, 73, 47, 44, 50, 72, 39, 51, 210, 44, 30, 64, 38, 43, 66, 76, 76, 40, 31, 30, 41, 30, 66, 64, 148, 82, 32, 167, 358, 58, 42, 94, 68, 31, 38, 61, 53, 37, 98, 104, 48, 30, 45, 73, 70, 46, 46, 49, 34, 30, 158, 31, 36, 95, 42, 39, 88, 87, 69, 38, 30, 43, 33, 47, 31, 36, 30, 32, 43, 33, 89, 50, 64, 30, 61, 49, 43, 112, 77, 41, 63, 150, 57, 74, 96, 52, 35, 324, 45, 58, 30, 31, 36, 40, 31, 70, 76, 69, 84, 32, 64, 41, 37, 33, 36, 72, 68, 55, 39, 132, 31, 78, 36, 61, 57, 53, 60, 181, 102, 41, 69, 66, 37, 50, 112, 115, 53, 106, 75, 89, 40, 34, 49, 36, 38, 43, 43, 36, 42, 85, 34, 45, 54, 193, 62, 167, 54, 83, 38, 34, 56, 56, 56, 50, 69, 58, 61, 33, 43, 37, 127, 81, 32, 38, 46, 41, 32, 36, 63, 53, 149, 34, 89, 35, 66, 63, 33, 199, 31, 70, 30, 68, 30, 30, 38, 46, 294, 32, 31, 57, 57, 82, 39, 79, 43, 36, 70, 76, 54, 36, 47, 45, 41, 37, 30, 80, 33, 37, 33, 51, 109, 33, 44, 40, 39, 103, 47, 39, 34, 54, 65, 81, 68, 49, 43, 33, 35, 32, 87, 41, 106, 31, 128, 49, 39, 39, 68, 31, 46, 32, 71, 121, 31, 49, 39, 36, 82, 31, 37, 31, 53, 48, 69, 50, 49, 47, 38, 37, 110, 51, 71, 64, 36, 41, 64, 54, 42, 41, 46, 115, 107, 61, 108, 92, 119, 48, 36, 51, 44, 45, 50, 56, 61, 56, 47, 126, 79, 53, 42, 50, 43, 33, 76, 39, 59, 43, 139, 30, 42, 80, 58, 46, 44, 91, 32, 85, 105, 127, 172, 32, 71, 41, 54, 31, 71, 50, 33, 34, 45, 50, 83, 63, 66, 212, 39, 47, 35, 31, 40, 42, 49, 72, 68, 33, 80, 46, 152, 32, 59, 32, 58, 39, 59, 94, 32, 34, 35, 70, 39, 30, 151, 52, 50, 50, 95, 118, 57, 91, 301, 31, 136, 30, 54, 34, 60, 41, 66, 31, 53, 83, 79, 37, 51, 59, 41, 36, 85, 55, 39, 38, 34, 102, 31, 198, 270, 55, 68, 66, 32, 184, 223, 61, 33, 36, 30, 36, 96, 51, 50, 74, 99, 77, 44, 114, 75, 134, 53, 34, 45, 36, 30, 34, 68, 33, 32, 43, 44, 44, 65, 119, 33, 31, 34, 46, 35, 48, 57, 50, 60, 50, 40, 47, 83, 65, 66, 225, 48, 92, 34, 66, 98, 164, 55, 91, 55, 150, 41, 48, 157, 154, 51, 32, 84, 50, 63, 80, 153, 78, 43, 59, 54, 176, 105, 30, 102, 39, 94, 31, 41, 31, 77, 30, 65, 192, 129, 60, 100, 62, 40, 232, 33, 138, 45, 94, 46, 69, 72, 73, 34, 44, 46, 43, 152, 60, 36, 49, 36, 51, 34, 116, 31, 79, 57, 174, 35, 150, 48, 112, 43, 126, 41, 54, 95, 66, 66, 166, 45, 55, 57, 60, 43, 47, 41, 39, 115, 40, 42, 69, 53, 32, 88, 83, 67, 179, 84, 54, 134, 128, 91, 143, 113, 30, 53, 31, 96, 31, 40, 120, 31, 199, 135, 183, 33, 57, 94, 117, 38, 86, 87, 46, 34, 101, 37, 65, 59, 30, 148, 88, 51, 34, 76, 48, 222, 103, 31, 36, 121, 32, 33, 45, 118, 39, 31, 35, 213, 86, 31, 67, 60, 40, 44, 140, 50, 37, 80, 65, 37, 67, 94, 44, 31, 32, 56, 40, 87, 38, 120, 39, 65, 53, 151, 50, 46, 74, 311, 35, 72, 109, 59, 33, 132, 78, 108, 212, 37, 32, 200, 138, 326, 46, 44, 43, 150, 36, 158, 430, 249, 136, 47, 76, 58, 86, 93, 30, 60, 50, 126, 357, 34, 113, 98, 98, 87, 37, 37, 169, 33, 70, 96, 160, 65, 50, 38, 56, 30, 69, 45, 86, 263, 100, 34, 34, 32, 55, 96, 52, 59, 92, 33, 36, 40, 137, 85, 106, 80, 42, 203, 38, 31, 46, 53, 37, 78, 177, 44, 34, 57, 146, 34, 41, 38, 84, 44, 106, 56, 169, 33, 30, 114, 69, 187, 105, 36, 40, 87, 72, 41, 53, 67, 33, 51, 37, 35, 46, 123, 47, 52, 56, 33, 91, 44, 43, 50, 116, 67, 48, 74, 138, 70, 82, 73, 44, 88, 56, 46, 64, 33, 140, 43, 139, 33, 97, 34, 47, 186, 211, 41, 39, 38, 58, 33, 48, 125, 33, 34, 34, 87, 33, 64, 32, 46, 64, 123, 43, 56, 52, 243, 148, 40, 36, 64, 43, 55, 31, 54, 164, 31, 72, 44, 115, 207, 36, 132, 30, 36, 62, 45, 39, 61, 212, 47, 42, 66, 122, 93, 36, 105, 50, 62, 88, 54, 140, 36, 146, 50, 42, 65, 199, 30, 56, 69, 72, 42, 40, 62, 69, 198, 52, 43, 66, 33, 46, 84, 39, 99, 40, 70, 100, 31, 135, 54, 75, 52, 223, 50, 66, 89, 33, 39, 196, 96, 30, 51, 55, 51, 193, 334, 150, 55, 59, 64, 74, 100, 42, 41, 32, 123, 76, 342, 33, 282, 76, 72, 34, 47, 77, 57, 37, 79, 52, 360, 32, 30, 74, 182, 31, 31, 75, 35, 37, 31, 61, 52, 65, 43, 160, 88, 282, 191, 294, 35, 84, 37, 59, 45, 44, 40, 42, 93, 47, 57, 91, 30, 103, 193, 96, 340, 55, 53, 115, 170, 110, 37, 38, 32, 59, 107, 65, 39, 41, 138, 30, 76, 108, 90, 42, 53, 183, 30, 43, 33, 77, 109, 394, 181, 72, 64, 55, 52, 63, 64, 36, 51, 47, 38, 44, 44, 48, 144, 127, 84, 37, 87, 307, 38, 83, 94, 46, 217, 35, 30, 31, 32, 55, 138, 36, 37, 66, 50, 58, 45, 36, 144, 54, 218, 45, 53, 51, 104, 37, 50, 98, 33, 71, 31, 38, 58, 61, 41, 45, 50, 31, 102, 40, 97, 137, 49, 82, 50, 32, 30, 183, 48, 31, 77, 51, 222, 41, 77, 121, 80, 52, 30, 76, 271, 65, 45, 69, 58, 114, 42, 37, 35, 63, 34, 105, 30, 32, 88, 36, 31, 41, 43, 47, 63, 78, 130, 140, 57, 95, 69, 40, 78, 68, 76, 87, 44, 153, 106, 111, 32, 55, 102, 30, 164, 40, 36, 38, 30, 45, 36, 109, 64, 46, 77, 85, 90, 82, 36, 37, 50, 100, 71, 31, 112, 48, 109, 69, 65, 93, 35, 69, 37, 70, 97, 34, 35, 110, 87, 50, 61, 43, 52, 58, 129, 37, 207, 70, 200, 67, 53, 45, 30, 44, 82, 77, 57, 156, 78, 31, 63, 40, 43, 62, 40, 87, 69, 30, 176, 59, 96, 49, 60, 34, 30, 39, 34, 48, 83, 49, 35, 40, 45, 60, 116, 53, 48, 42, 54, 39, 56, 56, 56, 85, 73, 40, 51, 54, 39, 31, 136, 44, 32, 47, 57, 102, 51, 66, 40, 70, 51, 47, 37, 324, 47, 97, 101, 95, 53, 37, 49, 45, 41, 34, 134, 66, 78, 89, 30, 85, 38, 30, 35, 86, 52, 45, 35, 30, 32, 32, 166, 106, 42, 69, 63, 44, 73, 71, 44, 42, 72, 86, 178, 68, 44, 131, 293, 46, 31, 33, 36, 58, 77, 55, 41, 48, 34, 258, 39, 80, 79, 101, 43, 64, 249, 37, 42, 33, 57, 124, 45, 48, 60, 87, 48, 37, 50, 42, 54, 151, 190, 82, 78, 416, 31, 48, 42, 45, 68, 37, 63, 39, 84, 172, 86, 30, 49, 47, 62, 40, 31, 40, 38, 189, 68, 46, 49, 47, 171, 38, 39, 76, 47, 52, 30, 33, 36, 65, 59, 38, 54, 50, 32, 31, 34, 60, 58, 32, 54, 37, 37, 50, 70, 31, 52, 92, 81, 57, 38, 40, 38, 44, 175, 60, 91, 44, 34, 60, 40, 121, 82, 37, 69, 33, 42, 37, 47, 57, 109, 30, 94, 75, 45, 95, 40, 35, 32, 64, 36, 36, 56, 49, 35, 48, 31, 43, 85, 86, 46, 37, 154, 42, 36, 72, 104, 62, 58, 75, 90, 51, 72, 33, 171, 34, 44, 32, 49, 164, 56, 54, 54, 199, 47, 69, 45, 37, 33, 58, 82, 63, 358, 138, 86, 61, 84, 31, 251, 63, 152, 35, 57, 100, 30, 34, 36, 35, 65, 58, 244, 39, 167, 42, 41, 45, 61, 136, 68, 34, 45, 35, 37, 93, 55, 70, 76, 30, 46, 30, 43, 42, 50, 35, 46, 60, 33, 92, 66, 84, 74, 69, 62, 32, 51, 45, 55, 140, 74, 62, 80, 47, 74, 39, 58, 248, 55, 47, 81, 40, 79, 32, 184, 55, 37, 44, 53, 83, 38, 39, 138, 31, 96, 48, 32, 124, 42, 38, 85, 107, 58, 30, 121, 209, 42, 46, 68, 31, 49, 53, 151, 200, 67, 33, 146, 57, 45, 149, 176, 34, 35, 78, 59, 120, 30, 65, 38, 52, 196, 71, 58, 132, 30, 35, 75, 53, 35, 100, 42, 59, 188, 36, 34, 65, 47, 35, 35, 102, 225, 58, 60, 54, 44, 68, 41, 37, 38, 119, 85, 62, 32, 67, 43, 57, 95, 95, 33, 39, 156, 52, 38, 196, 182, 69, 61, 35, 90, 85, 30, 31, 80, 111, 108, 30, 137, 33, 82, 211, 38, 34, 33, 59, 34, 151, 38, 298, 37, 40, 40, 129, 68, 171, 34, 72, 33, 43, 204, 96, 40, 48, 42, 33, 38, 43, 36, 32, 77, 78, 43, 41, 34, 32, 69, 113, 38, 55, 33, 44, 30, 126, 61, 160, 81, 53, 39, 31, 31, 32, 52, 51, 33, 81, 62, 151, 49, 84, 236, 35, 181, 32, 33, 37, 129, 60, 58, 32, 64, 77, 57, 46, 37, 46, 106, 83, 31, 69, 168, 254, 67, 70, 63, 30, 111, 98, 352, 52, 70, 48, 33, 64, 73, 52, 41, 125, 37, 61, 42, 50, 111, 285, 31, 39, 50, 46, 158, 118, 34, 89, 63, 143, 75, 246, 35, 221, 91, 40, 30, 69, 35, 55, 86, 51, 63, 84, 34, 100, 74, 145, 60, 133, 310, 137, 67, 199, 48, 41, 45, 146, 49, 81, 41, 52, 141, 36, 102, 35, 57, 180, 52, 36, 87, 50, 186, 125, 32, 102, 31, 110, 46, 69, 77, 43, 38, 82, 34, 186, 64, 53, 73, 57, 102, 144, 81, 38, 50, 48, 81, 35, 36, 52, 32, 102, 44, 35, 33, 145, 98, 60, 150, 32, 253, 30, 73, 37, 32, 37, 37, 59, 47, 40, 32, 259, 87, 32, 98, 37, 50, 35, 71, 33, 111, 113, 39, 40, 80, 39, 34, 66, 57, 49, 45, 42, 46, 33, 94, 53, 53, 74, 44, 85, 34, 68, 35, 36, 415, 69, 61, 98, 31, 47, 58, 32, 43, 44, 69, 56, 39, 115, 45, 31, 289, 81, 45, 63, 67, 50, 111, 33, 34, 81, 32, 40, 31, 77, 44, 89, 56, 65, 31, 65, 32, 315, 35, 51, 55, 32, 32, 37, 219, 68, 69, 60, 47, 86, 36, 214, 34, 31, 37, 30, 210, 44, 43, 32, 64, 53, 32, 45, 41, 33, 30, 38, 31, 76, 44, 33, 93, 54, 61, 44, 32, 30, 137, 61, 36, 31, 47, 45, 48, 45, 71, 44, 41, 91, 35, 44, 45, 181, 30, 66, 31, 51, 61, 32, 35, 140, 132, 175, 33, 66, 32, 35, 46, 74, 74, 85, 103, 39, 50, 38, 68, 43, 157, 32, 103, 132, 126, 153, 59, 31, 77, 181, 45, 164, 51, 32, 62, 91, 33, 67, 65, 67, 63, 95, 34, 125, 44, 36, 76, 43, 85, 77, 110, 33, 92, 93, 121, 46, 31, 119, 101, 327, 44, 34, 55, 185, 39, 51, 37, 108, 52, 33, 36, 37, 258, 63, 133, 78, 121, 158, 31, 39, 31, 44, 90, 31, 45, 165, 33, 63, 55, 39, 31, 32, 48, 64, 38, 73, 74, 89, 35, 106, 47, 36, 79, 39, 37, 244, 31, 30, 52, 74, 40, 39, 61, 88, 44, 35, 31, 91, 69, 57, 31, 50, 33, 46, 63, 50, 38, 33, 78, 115, 36, 63, 58, 55, 31, 44, 33, 30, 38, 39, 40, 44, 65, 40, 54, 191, 63, 180, 38, 37, 116, 101, 83, 45, 95, 71, 77, 72, 31, 88, 77, 49, 32, 45, 31, 79, 92, 259, 30, 130, 79, 47, 36, 45, 60, 72, 105, 113, 57, 100, 77, 286, 142, 87, 55, 47, 155, 38, 121, 134, 65, 187, 60, 48, 32, 263, 146, 109, 94, 41, 49, 40, 33, 82, 60, 84, 92, 39, 54, 42, 41, 85, 52, 71, 34, 49, 36, 37, 46, 131, 330, 37, 35, 30, 44, 381, 42, 80, 40, 68, 114, 70, 39, 40, 43, 42, 57, 118, 45, 89, 32, 52, 69, 31, 51, 45, 30, 30, 89, 37, 147, 131, 44, 56, 57, 52, 169, 43, 32, 45, 31, 38, 43, 37, 42, 71, 38, 140, 41, 33, 226, 33, 114, 88, 32, 35, 53, 56, 38, 82, 35, 156, 31, 62, 121, 124, 32, 173, 45, 30, 67, 91, 49, 34, 185, 38, 50, 89, 39, 91, 50, 69, 31, 45, 31, 42, 44, 259, 60, 86, 52, 73, 50, 131, 71, 36, 154, 50, 59, 44, 38, 43, 262, 93, 32, 65, 60, 35, 36, 321, 53, 30, 42, 39, 79, 81, 85, 40, 101, 97, 194, 49, 54, 65, 59, 60, 91, 66, 49, 65, 53, 30, 35, 33, 101, 60, 202, 35, 33, 51, 54, 315, 57, 44, 43, 32, 68, 47, 31, 41, 66, 38, 69, 53, 53, 62, 102, 39, 40, 31, 35, 34, 184, 49, 33, 162, 32, 132, 53, 97, 184, 31, 44, 45, 32, 35, 53, 105, 50, 33, 37, 69, 177, 164, 66, 33, 40, 30, 54, 249, 136, 241, 62, 53, 40, 189, 59, 87, 41, 39, 51, 138, 35, 36, 37, 31, 35, 80, 34, 69, 67, 85, 53, 49, 123, 31, 51, 81, 96, 201, 186, 72, 42, 83, 39, 51, 122, 223, 36, 40, 36, 52, 257, 503, 89, 94, 38, 59, 77, 36, 41, 72, 216, 66, 37, 30, 105, 50, 158, 98, 59, 93, 168, 49, 50, 31, 87, 75, 38, 37, 72, 38, 114, 63, 140, 188, 53, 41, 107, 37, 294, 31, 243, 31, 50, 43, 271, 51, 141, 85, 323, 33, 100, 76, 106, 31, 73, 47, 102, 69, 110, 98, 69, 33, 93, 36, 36, 36, 36, 209, 71, 48, 52, 30, 33, 33, 65, 42, 45, 39, 38, 57, 44, 132, 77, 65, 305, 49, 137, 75, 45, 64, 70, 41, 131, 80, 165, 79, 67, 51, 448, 52, 201, 83, 32, 46, 43, 70, 216, 188, 119, 47, 59, 31, 31, 57, 33, 34, 67, 91, 37, 77, 118, 76, 34, 44, 339, 49, 51, 148, 81, 43, 33, 36, 43, 67, 44, 36, 59, 108, 44, 128, 31, 56, 47, 54, 51, 34, 58, 112, 127, 243, 58, 80, 182, 30, 49, 34, 177, 67, 33, 31, 85, 66, 63, 44, 114, 33, 58, 34, 128, 47, 50, 46, 79, 93, 52, 32, 83, 45, 39, 68, 144, 36, 51, 60, 107, 40, 46, 75, 33, 87, 44, 268, 31, 106, 38, 55, 31, 50, 49, 209, 57, 257, 47, 138, 88, 158, 30, 54, 167, 129, 43, 99, 70, 37, 33, 46, 45, 112, 37, 33, 46, 36, 39, 42, 39, 37, 47, 93, 129, 34, 56, 63, 38, 180, 61, 39, 30, 55, 41, 79, 33, 37, 52, 42, 32, 34, 119, 62, 30, 43, 56, 35, 31, 76, 33, 182, 58, 109, 104, 69, 52, 39, 50, 51, 43, 32, 78, 81, 37, 46, 41, 33, 48, 53, 36, 32, 174, 74, 90, 32, 37, 57, 99, 34, 35, 170, 46, 90, 182, 104, 62, 54, 105, 98, 35, 37, 31, 69, 32, 36, 49, 100, 158, 100, 39, 36, 150, 33, 101, 233, 31, 31, 35, 39, 108, 309, 33, 58, 36, 31, 40, 128, 61, 378, 85, 80, 154, 52, 69, 158, 34, 65, 50, 59, 53, 272, 59, 89, 55, 190, 56, 39, 78, 33, 55, 96, 31, 49, 44, 40, 32, 38, 85, 32, 62, 62, 33, 95, 110, 222, 48, 55, 49, 56, 63, 88, 75, 48, 241, 38, 224, 42, 30, 58, 312, 51, 32, 38, 34, 138, 30, 83, 30, 70, 35, 122, 39, 42, 45, 42, 93, 127, 33, 30, 40, 55, 33, 45, 72, 45, 40, 90, 77, 39, 50, 106, 91, 42, 338, 67, 35, 52, 80, 44, 69, 58, 72, 34, 188, 209, 39, 52, 51, 59, 55, 98, 37, 37, 33, 45, 69, 194, 88, 33, 373, 65, 44, 127, 38, 37, 70, 37, 142, 42, 184, 35, 43, 76, 31, 39, 62, 79, 42, 42, 41, 37, 133, 32, 165, 104, 52, 53, 56, 100, 164, 42, 55, 31, 46, 123, 152, 30, 36, 49, 139, 41, 64, 141, 31, 40, 33, 41, 47, 30, 47, 214, 116, 30, 54, 132, 39, 34, 79, 36, 82, 37, 40, 46, 63, 66, 40, 62, 45, 31, 185, 165, 34, 39, 41, 63, 44, 67, 154, 69, 39, 59, 32, 80, 156, 310, 74, 35, 48, 34, 142, 54, 36, 61, 85, 42, 78, 56, 42, 44, 54, 88, 47, 90, 35, 54, 336, 56, 34, 33, 102, 31, 85, 96, 83, 96, 35, 44, 123, 74, 228, 47, 73, 42, 91, 33, 34, 32, 67, 31, 55, 52, 88, 49, 78, 33, 33, 31, 41, 64, 65, 53, 82, 58, 53, 39, 70, 124, 57, 31, 49, 72, 102, 30, 70, 94, 130, 65, 67, 38, 37, 76, 84, 39, 32, 54, 44, 33, 61, 64, 58, 36, 32, 52, 126, 84, 36, 31, 38, 34, 60, 154, 90, 40, 69, 62, 65, 74, 96, 36, 130, 44, 30, 36, 82, 38, 73, 34, 35, 35, 258, 40, 41, 33, 32, 47, 43, 33, 253, 31, 32, 118, 56, 209, 48, 47, 52, 74, 218, 48, 48, 31, 60, 42, 88, 42, 93, 55, 49, 73, 41, 33, 32, 66, 137, 39, 39, 86, 159, 37, 38, 89, 32, 132, 45, 58, 33, 112, 72, 122, 79, 35, 88, 39, 32, 68, 39, 103, 75, 74, 90, 119, 173, 163, 104, 112, 46, 40, 93, 50, 48, 50, 100, 81, 38, 79, 32, 76, 87, 45, 135, 35, 51, 37, 142, 46, 44, 43, 65, 44, 37, 194, 67, 32, 204, 45, 36, 60, 90, 48, 38, 37, 69, 120, 32, 44, 40, 34, 77, 51, 46, 34, 60, 61, 42, 54, 64, 35, 148, 32, 34, 80, 52, 35, 38, 52, 43, 147, 33, 33, 40, 46, 47, 73, 118, 52, 106, 62, 81, 46, 44, 31, 51, 53, 113, 86, 30, 31, 126, 150, 56, 49, 79, 33, 138, 46, 31, 134, 167, 38, 92, 39, 60, 30, 40, 96, 75, 136, 47, 50, 51, 60, 37, 49, 35, 108, 70, 46, 32, 34, 32, 71, 53, 41, 36, 181, 127, 190, 223, 67, 138, 51, 173, 32, 31, 42, 39, 37, 83, 60, 166, 35, 79, 165, 32, 34, 43, 34, 103, 34, 44, 66, 32, 48, 50, 30, 60, 45, 40, 63, 63, 71, 103, 46, 56, 39, 37, 39, 30, 31, 34, 137, 33, 125, 50, 52, 36, 41, 33, 39, 99, 34, 40, 66, 47, 40, 58, 50, 35, 84, 40, 55, 57, 86, 189, 101, 45, 53, 60, 119, 61, 38, 34, 40, 50, 63, 32, 52, 38, 96, 63, 31, 108, 125, 151, 173, 71, 46, 41, 41, 84, 58, 39, 38, 43, 39, 36, 100, 30, 42, 33, 113, 45, 116, 56, 88, 99, 33, 42, 78, 91, 114, 43, 51, 117, 30, 31, 130, 30, 64, 69, 60, 123, 36, 43, 114, 57, 42, 65, 39, 35, 87, 75, 124, 316, 52, 42, 50, 50, 52, 33, 40, 41, 58, 42, 33, 46, 168, 38, 32, 66, 86, 30, 43, 105, 105, 58, 63, 35, 50, 43, 131, 35, 167, 118, 33, 240, 45, 33, 31, 37, 84, 44, 50, 36, 40, 34, 50, 90, 47, 34, 74, 106, 39, 89, 31, 136, 152, 97, 52, 31, 33, 32, 68, 32, 37, 91, 63, 43, 34, 44, 31, 32, 42, 46, 55, 41, 54, 43, 38, 32, 43, 66, 221, 84, 48, 233, 37, 49, 31, 52, 78, 176, 322, 57, 30, 92, 33, 46, 30, 34, 33, 74, 82, 65, 31, 52, 45, 41, 78, 148, 52, 33, 201, 70, 33, 55, 36, 35, 125, 45, 118, 33, 83, 109, 30, 116, 33, 90, 34, 71, 38, 42, 51, 53, 51, 41, 37, 73, 124, 334, 80, 33, 31, 61, 39, 49, 48, 92, 46, 53, 34, 99, 40, 33, 33, 48, 37, 32, 36, 31, 38, 371, 77, 68, 31, 77, 199, 30, 43, 30, 57, 34, 84, 50, 34, 41, 36, 61, 43, 74, 39, 58, 145, 44, 87, 83, 33, 36, 111, 50, 48, 35, 62, 45, 127, 68, 31, 82, 64, 169, 39, 36, 37, 51, 44, 145, 64, 53, 42, 119, 75, 38, 62, 37, 38, 53, 30, 73, 32, 70, 61, 175, 118, 152, 73, 41, 115, 52, 35, 161, 49, 62, 38, 39, 54, 122, 32, 42, 57, 45, 51, 54, 99, 63, 178, 81, 45, 38, 70, 58, 36, 31, 63, 86, 95, 46, 31, 69, 76, 56, 31, 30, 46, 37, 65, 31, 45, 35, 36, 59, 31, 37, 88, 39, 238, 58, 30, 39, 40, 52, 53, 151, 145, 42, 109, 68, 31, 51, 33, 47, 98, 34, 32, 52, 45, 34, 62, 63, 53, 79, 118, 65, 130, 142, 36, 188, 35, 76, 36, 34, 114, 68, 53, 111, 31, 107, 37, 53, 119, 35, 30, 38, 48, 31, 31, 51, 33, 38, 40, 31, 128, 372, 30, 31, 34, 115, 49, 46, 30, 54, 70, 77, 35, 51, 41, 36, 54, 39, 46, 73, 161, 58, 35, 37, 55, 30, 72, 33, 129, 73, 45, 70, 56, 35, 87, 66, 49, 274, 101, 37, 51, 36, 63, 39, 60, 45, 46, 129, 42, 36, 70, 86, 98, 37, 149, 47, 30, 43, 62, 55, 66, 58, 48, 40, 160, 94, 58, 42, 33, 40, 152, 54, 37, 58, 67, 51, 48, 52, 66, 36, 52, 68, 60, 62, 78, 172, 89, 73, 55, 72, 39, 50, 30, 39, 167, 43, 113, 38, 35, 87, 50, 73, 181, 47, 46, 98, 76, 60, 252, 47, 31, 53, 31, 56, 34, 226, 49, 34, 111, 66, 53, 55, 31, 55, 48, 51, 33, 37, 60, 96, 79, 37, 40, 34, 36, 72, 46, 118, 180, 112, 53, 94, 32, 31, 41, 132, 40, 31, 64, 53, 48, 97, 100, 123, 37, 72, 67, 36, 41, 45, 81, 39, 57, 209, 44, 39, 142, 137, 51, 31, 53, 32, 38, 55, 138, 34, 39, 49, 35, 51, 51, 44, 36, 48, 77, 51, 55, 47, 137, 155, 71, 70, 144, 47, 104, 61, 52, 58, 46, 74, 99, 34, 30, 47, 77, 40, 77, 32, 45, 47, 60, 110, 37, 34, 33, 47, 55, 363, 79, 168, 130, 44, 74, 33, 44, 92, 52, 56, 51, 37, 61, 149, 66, 79, 33, 63, 37, 58, 104, 44, 43, 53, 31, 43, 66, 96, 51, 36, 83, 127, 52, 34, 35, 174, 61, 46, 119, 263, 132, 31, 59, 31, 205, 75, 41, 96, 46, 48, 119, 76, 43, 69, 40, 41, 160, 78, 33, 44, 59, 30, 86, 48, 86, 34, 48, 65, 82, 30, 44, 88, 38, 39, 61, 52, 32, 43, 95, 36, 47, 85, 57, 44, 49, 48, 36, 78, 109, 70, 77, 32, 156, 97, 123, 35, 35, 53, 34, 39, 102, 69, 112, 34, 91, 35, 74, 76, 43, 31, 76, 37, 38, 47, 32, 49, 54, 130, 57, 37, 49, 30, 55, 30, 52, 97, 142, 77, 47, 57, 47, 54, 231, 42, 32, 42, 91, 44, 49, 41, 33, 38, 87, 50, 30, 42, 63, 118, 90, 40, 35, 229, 124, 87, 40, 30, 64, 54, 141, 35, 32, 58, 117, 53, 57, 52, 81, 32, 50, 51, 54, 49, 47, 35, 41, 31, 32, 34, 41, 32, 36, 39, 36, 43, 48, 45, 30, 68, 93, 32, 50, 53, 252, 36, 118, 50, 31, 89, 37, 218, 68, 56, 162, 57, 34, 82, 67, 112, 41, 40, 50, 43, 98, 165, 45, 84, 84, 32, 146, 31, 55, 34, 84, 92, 51, 58, 49, 71, 72, 71, 49, 47, 40, 181, 77, 141, 39, 66, 32, 138, 168, 79, 54, 37, 58, 34, 43, 34, 44, 80, 50, 111, 36, 52, 65, 36, 56, 43, 48, 41, 73, 32, 45, 33, 34, 74, 41, 30, 41, 50, 49, 56, 57, 36, 46, 37, 69, 68, 94, 35, 54, 63, 58, 77, 37, 126, 166, 264, 82, 68, 52, 124, 131, 153, 37, 42, 40, 41, 51, 108, 44, 33, 48, 45, 37, 94, 44, 38, 40, 49, 72, 50, 67, 176, 35, 44, 41, 72, 80, 30, 70, 54, 78, 70, 34, 49, 83, 79, 42, 33, 88, 62, 62, 76, 56, 33, 66, 43, 43, 38, 66, 54, 63, 69, 42, 254, 60, 30, 35, 36, 43, 39, 45, 35, 32, 38, 47, 94, 42, 49, 113, 62, 72, 51, 34, 83, 36, 82, 35, 177, 90, 82, 53, 60, 43, 39, 59, 41, 36, 89, 75, 43, 52, 243, 32, 40, 168, 63, 53, 35, 160, 30, 43, 98, 30, 111, 30, 42, 137, 205, 30, 66, 76, 129, 49, 31, 69, 33, 52, 112, 40, 50, 41, 31, 176, 30, 128, 31, 32, 75, 34, 125, 54, 40, 97, 36, 37, 36, 31, 35, 35, 33, 53, 48, 132, 146, 76, 174, 85, 68, 40, 113, 93, 59, 220, 30, 119, 46, 43, 71, 40, 96, 132, 117, 30, 48, 52, 139, 32, 46, 51, 54, 232, 106, 30, 31, 58, 124, 32, 46, 53, 44, 46, 80, 49, 37, 93, 67, 43, 123, 31, 39, 35, 66, 50, 47, 42, 47, 73, 32, 194, 44, 71, 30, 117, 96, 61, 79, 47, 34, 67, 110, 43, 83, 128, 35, 40, 80, 39, 59, 30, 41, 53, 38, 48, 171, 44, 242, 79, 86, 38, 85, 165, 56, 42, 37, 158, 53, 65, 45, 159, 39, 59, 192, 40, 57, 63, 94, 139, 65, 34, 37, 85, 39, 97, 48, 35, 47, 74, 61, 77, 93, 31, 38, 128, 44, 89, 154, 49, 38, 40, 37, 36, 31, 54, 57, 139, 40, 47, 42, 186, 91, 53, 85, 76, 83, 205, 35, 86, 85, 96, 62, 76, 32, 51, 217, 37, 117, 37, 35, 47, 69, 31, 83, 32, 73, 40, 52, 54, 46, 31, 138, 140, 46, 61, 47, 161, 40, 54, 74, 42, 39, 30, 35, 56, 53, 34, 44, 59, 31, 51, 42, 155, 67, 44, 43, 89, 203, 61, 70, 130, 35, 43, 42, 36, 129, 30, 206, 80, 61, 35, 38, 36, 272, 208, 37, 74, 54, 95, 126, 31, 35, 39, 53, 72, 73, 123, 39, 62, 144, 54, 66, 80, 93, 72, 78, 106, 79, 62, 37, 47, 53, 34, 65, 48, 47, 119, 40, 60, 72, 66, 72, 33, 31, 96, 38, 190, 73, 66, 243, 41, 106, 42, 50, 79, 63, 126, 89, 75, 35, 61, 55, 57, 80, 34, 107, 31, 40, 33, 404, 34, 180, 33, 150, 30, 55, 115, 200, 30, 49, 53, 53, 46, 91, 33, 48, 75, 45, 74, 77, 36, 203, 52, 93, 34, 77, 167, 69, 61, 71, 30, 51, 60, 90, 38, 47, 163, 40, 30, 145, 50, 61, 83, 167, 122, 64, 106, 123, 104, 68, 65, 100, 118, 54, 36, 75, 47, 58, 133, 58, 76, 70, 42, 32, 36, 147, 30, 39, 56, 200, 38, 63, 196, 82, 136, 73, 64, 41, 113, 118, 130, 74, 104, 100, 84, 74, 104, 139, 172, 67, 99, 42, 100, 65, 91, 76, 36, 86, 113, 59, 39, 40, 32, 46, 49, 36, 54, 86, 32, 36, 50, 46, 97, 231, 255, 35, 34, 54, 169, 79, 67, 68, 60, 40, 36, 32, 60, 286, 72, 294, 92, 133, 53, 86, 43, 32, 36, 93, 69, 56, 32, 160, 110, 107, 105, 38, 39, 38, 30, 80, 60, 161, 463, 45, 75, 264, 44, 167, 124, 150, 359, 62, 49, 68, 51, 55, 48, 30, 35, 170, 71, 40, 88, 60, 84, 90, 35, 35, 47, 35, 30, 72, 72, 107, 109, 89, 200, 44, 47, 80, 185, 35, 71, 181, 62, 50, 88, 112, 93, 35, 182, 32, 78, 170, 42, 102, 83, 39, 87, 64, 63, 98, 31, 45, 57, 64, 50, 64, 72, 35, 88, 36, 61, 32, 31, 51, 66, 43, 43, 34, 90, 34, 39, 94, 39, 80, 42, 32, 115, 30, 42, 47, 62, 55, 71, 61, 86, 52, 59, 42, 39, 59, 87, 51, 119, 125, 62, 37, 30, 109, 69, 81, 53, 58, 120, 86, 47, 37, 64, 30, 40, 56, 74, 36, 33, 35, 55, 95, 138, 42, 63, 184, 60, 33, 56, 96, 87, 71, 31, 93, 44, 66, 43, 36, 55, 70, 52, 61, 34, 32, 36, 43, 68, 135, 76, 37, 54, 76, 45, 64, 32, 46, 86, 117, 70, 109, 63, 157, 75, 39, 58, 76, 46, 32, 41, 92, 35, 79, 54, 38, 34, 38, 100, 54, 52, 76, 86, 30, 40, 40, 52, 47, 72, 41, 128, 48, 35, 68, 63, 43, 93, 50, 147, 38, 44, 32, 39, 44, 67, 38, 48, 78, 87, 117, 43, 47, 57, 125, 83, 57, 48, 36, 132, 64, 61, 96, 113, 114, 44, 42, 31, 40, 47, 85, 97, 70, 35, 34, 126, 40, 45, 31, 36, 30, 43, 53, 39, 48, 125, 43, 50, 400, 207, 47, 30, 31, 73, 189, 45, 54, 130, 53, 63, 135, 84, 34, 71, 84, 35, 185, 46, 105, 54, 68, 30, 62, 33, 53, 163, 52, 53, 60, 30, 114, 178, 86, 104, 39, 44, 104, 102, 128, 38, 79, 37, 35, 30, 46, 66, 130, 51, 88, 56, 41, 39, 41, 36, 60, 32, 67, 73, 105, 36, 74, 87, 144, 178, 78, 70, 50, 52, 52, 48, 35, 36, 194, 46, 118, 133, 64, 38, 30, 68, 45, 178, 31, 50, 34, 41, 45, 152, 53, 72, 222, 41, 32, 73, 31, 34, 51, 55, 36, 44, 42, 67, 94, 56, 155, 30, 107, 102, 138, 181, 110, 51, 36, 45, 55, 131, 36, 31, 30, 43, 58, 85, 168, 47, 30, 43, 75, 38, 54, 109, 83, 56, 199, 113, 47, 65, 44, 43, 42, 300, 81, 37, 143, 57, 53, 30, 34, 35, 53, 56, 37, 54, 158, 156, 95, 59, 46, 40, 31, 32, 110, 61, 206, 37, 30, 30, 48, 38, 71, 77, 92, 41, 53, 71, 39, 46, 296, 171, 112, 35, 30, 68, 70, 41, 34, 30, 45, 80, 82, 244, 40, 232, 39, 39, 153, 38, 33, 44, 45, 30, 62, 31, 50, 40, 110, 101, 30, 174, 49, 74, 97, 122, 64, 128, 45, 75, 119, 94, 33, 30, 82, 91, 34, 40, 48, 108, 30, 94, 50, 35, 116, 81, 114, 35, 33, 32, 77, 32, 63, 61, 41, 42, 74, 117, 30, 69, 103, 37, 81, 145, 36, 31, 117, 62, 129, 134, 78, 75, 39, 73, 72, 124, 39, 51, 48, 159, 52, 50, 57, 90, 36, 30, 32, 35, 39, 47, 57, 34, 46, 37, 34, 124, 32, 43, 42, 90, 123, 41, 31, 34, 60, 34, 64, 54, 68, 34, 44, 173, 43, 66, 51, 32, 49, 40, 41, 90, 47, 44, 57, 57, 52, 64, 55, 138, 61, 60, 38, 55, 39, 79, 68, 129, 84, 194, 83, 139, 40, 47, 33, 54, 45, 34, 43, 48, 46, 126, 57, 33, 46, 60, 53, 89, 101, 117, 66, 95, 32, 54, 198, 95, 68, 38, 50, 58, 50, 43, 43, 54, 31, 52, 30, 31, 42, 112, 36, 90, 73, 49, 40, 33, 33, 80, 57, 77, 68, 182, 39, 137, 64, 52, 75, 110, 116, 30, 71, 72, 66, 30, 31, 109, 161, 79, 60, 42, 49, 72, 152, 36, 32, 248, 61, 39, 87, 30, 92, 167, 163, 31, 56, 45, 34, 69, 95, 96, 147, 206, 98, 109, 39, 193, 152, 36, 171, 49, 302, 302, 148, 249, 184, 70, 36, 68, 30, 50, 134, 64, 52, 102, 34, 156, 304, 41, 66, 60, 177, 83, 135, 35, 272, 41, 35, 143, 78, 141, 226, 40, 57, 112, 52, 80, 51, 31, 66, 52, 74, 159, 47, 95, 90, 279, 61, 48, 87, 135, 36, 67, 31, 57, 227, 144, 52, 37, 38, 40, 201, 50, 90, 160, 100, 152, 148, 92, 80, 125, 57, 75, 49, 121, 48, 132, 77, 50, 199, 32, 236, 145, 41, 46, 46, 31], 18643)\n"
     ]
    }
   ],
   "source": [
    "for i in data_num.columns :\n",
    "    print(i , outlier_detection(data_num,i))"
   ]
  },
  {
   "cell_type": "code",
   "execution_count": 75,
   "id": "0f37c04d",
   "metadata": {},
   "outputs": [],
   "source": [
    "# Removing Outlier\n",
    "q1 = data_num.quantile(0.25)\n",
    "q3 = data_num.quantile(0.75)\n",
    "IQR = q3 - q1\n",
    "lb = q1 - 1.5*IQR\n",
    "ub = q3 + 1.5*IQR\n",
    "data_clean_num = data_num[~((data_num <= lb) | (data_num >= ub)).any(axis=1)]"
   ]
  },
  {
   "cell_type": "code",
   "execution_count": 76,
   "id": "1569ffaf",
   "metadata": {},
   "outputs": [
    {
     "data": {
      "text/plain": [
       "(108814, 3)"
      ]
     },
     "execution_count": 76,
     "metadata": {},
     "output_type": "execute_result"
    }
   ],
   "source": [
    "data_clean_num.shape"
   ]
  },
  {
   "cell_type": "code",
   "execution_count": 77,
   "id": "2e699fb8",
   "metadata": {},
   "outputs": [
    {
     "data": {
      "text/plain": [
       "(129880, 3)"
      ]
     },
     "execution_count": 77,
     "metadata": {},
     "output_type": "execute_result"
    }
   ],
   "source": [
    "data_num.shape"
   ]
  },
  {
   "cell_type": "code",
   "execution_count": 78,
   "id": "e879d4b8",
   "metadata": {},
   "outputs": [],
   "source": [
    "data_cat = df.drop([\"Age\",\"Flight Distance\",\"Departure Delay\"],axis = 1)"
   ]
  },
  {
   "cell_type": "code",
   "execution_count": 79,
   "id": "52ee5ebc",
   "metadata": {},
   "outputs": [
    {
     "data": {
      "text/plain": [
       "(129880, 18)"
      ]
     },
     "execution_count": 79,
     "metadata": {},
     "output_type": "execute_result"
    }
   ],
   "source": [
    "data_cat.shape"
   ]
  },
  {
   "cell_type": "code",
   "execution_count": 80,
   "id": "23d868f9",
   "metadata": {},
   "outputs": [],
   "source": [
    "df = pd.concat([data_clean_num,data_cat],axis = 1,join='inner')"
   ]
  },
  {
   "cell_type": "code",
   "execution_count": 81,
   "id": "df215622",
   "metadata": {},
   "outputs": [
    {
     "data": {
      "text/html": [
       "<div>\n",
       "<style scoped>\n",
       "    .dataframe tbody tr th:only-of-type {\n",
       "        vertical-align: middle;\n",
       "    }\n",
       "\n",
       "    .dataframe tbody tr th {\n",
       "        vertical-align: top;\n",
       "    }\n",
       "\n",
       "    .dataframe thead th {\n",
       "        text-align: right;\n",
       "    }\n",
       "</style>\n",
       "<table border=\"1\" class=\"dataframe\">\n",
       "  <thead>\n",
       "    <tr style=\"text-align: right;\">\n",
       "      <th></th>\n",
       "      <th>Age</th>\n",
       "      <th>Flight Distance</th>\n",
       "      <th>Departure Delay</th>\n",
       "      <th>Gender</th>\n",
       "      <th>Customer Type</th>\n",
       "      <th>Type of Travel</th>\n",
       "      <th>Class</th>\n",
       "      <th>Departure and Arrival Time Convenience</th>\n",
       "      <th>Check-in Service</th>\n",
       "      <th>Online Boarding</th>\n",
       "      <th>...</th>\n",
       "      <th>On-board Service</th>\n",
       "      <th>Seat Comfort</th>\n",
       "      <th>Leg Room Service</th>\n",
       "      <th>Cleanliness</th>\n",
       "      <th>Food and Drink</th>\n",
       "      <th>In-flight Service</th>\n",
       "      <th>In-flight Wifi Service</th>\n",
       "      <th>In-flight Entertainment</th>\n",
       "      <th>Baggage Handling</th>\n",
       "      <th>Satisfaction</th>\n",
       "    </tr>\n",
       "  </thead>\n",
       "  <tbody>\n",
       "    <tr>\n",
       "      <th>0</th>\n",
       "      <td>48</td>\n",
       "      <td>821</td>\n",
       "      <td>2</td>\n",
       "      <td>Male</td>\n",
       "      <td>First-time</td>\n",
       "      <td>Business</td>\n",
       "      <td>Business</td>\n",
       "      <td>3</td>\n",
       "      <td>4</td>\n",
       "      <td>3</td>\n",
       "      <td>...</td>\n",
       "      <td>3</td>\n",
       "      <td>5</td>\n",
       "      <td>2</td>\n",
       "      <td>5</td>\n",
       "      <td>5</td>\n",
       "      <td>5</td>\n",
       "      <td>3</td>\n",
       "      <td>5</td>\n",
       "      <td>5</td>\n",
       "      <td>Neutral or Dissatisfied</td>\n",
       "    </tr>\n",
       "    <tr>\n",
       "      <th>1</th>\n",
       "      <td>35</td>\n",
       "      <td>821</td>\n",
       "      <td>26</td>\n",
       "      <td>Female</td>\n",
       "      <td>Returning</td>\n",
       "      <td>Business</td>\n",
       "      <td>Business</td>\n",
       "      <td>2</td>\n",
       "      <td>3</td>\n",
       "      <td>5</td>\n",
       "      <td>...</td>\n",
       "      <td>5</td>\n",
       "      <td>4</td>\n",
       "      <td>5</td>\n",
       "      <td>5</td>\n",
       "      <td>3</td>\n",
       "      <td>5</td>\n",
       "      <td>2</td>\n",
       "      <td>5</td>\n",
       "      <td>5</td>\n",
       "      <td>Satisfied</td>\n",
       "    </tr>\n",
       "    <tr>\n",
       "      <th>2</th>\n",
       "      <td>41</td>\n",
       "      <td>853</td>\n",
       "      <td>0</td>\n",
       "      <td>Male</td>\n",
       "      <td>Returning</td>\n",
       "      <td>Business</td>\n",
       "      <td>Business</td>\n",
       "      <td>4</td>\n",
       "      <td>4</td>\n",
       "      <td>5</td>\n",
       "      <td>...</td>\n",
       "      <td>3</td>\n",
       "      <td>5</td>\n",
       "      <td>3</td>\n",
       "      <td>5</td>\n",
       "      <td>5</td>\n",
       "      <td>3</td>\n",
       "      <td>4</td>\n",
       "      <td>3</td>\n",
       "      <td>3</td>\n",
       "      <td>Satisfied</td>\n",
       "    </tr>\n",
       "    <tr>\n",
       "      <th>3</th>\n",
       "      <td>50</td>\n",
       "      <td>1905</td>\n",
       "      <td>0</td>\n",
       "      <td>Male</td>\n",
       "      <td>Returning</td>\n",
       "      <td>Business</td>\n",
       "      <td>Business</td>\n",
       "      <td>2</td>\n",
       "      <td>3</td>\n",
       "      <td>4</td>\n",
       "      <td>...</td>\n",
       "      <td>5</td>\n",
       "      <td>5</td>\n",
       "      <td>5</td>\n",
       "      <td>4</td>\n",
       "      <td>4</td>\n",
       "      <td>5</td>\n",
       "      <td>2</td>\n",
       "      <td>5</td>\n",
       "      <td>5</td>\n",
       "      <td>Satisfied</td>\n",
       "    </tr>\n",
       "    <tr>\n",
       "      <th>4</th>\n",
       "      <td>49</td>\n",
       "      <td>3470</td>\n",
       "      <td>0</td>\n",
       "      <td>Female</td>\n",
       "      <td>Returning</td>\n",
       "      <td>Business</td>\n",
       "      <td>Business</td>\n",
       "      <td>3</td>\n",
       "      <td>3</td>\n",
       "      <td>5</td>\n",
       "      <td>...</td>\n",
       "      <td>3</td>\n",
       "      <td>4</td>\n",
       "      <td>4</td>\n",
       "      <td>5</td>\n",
       "      <td>4</td>\n",
       "      <td>3</td>\n",
       "      <td>3</td>\n",
       "      <td>3</td>\n",
       "      <td>3</td>\n",
       "      <td>Satisfied</td>\n",
       "    </tr>\n",
       "    <tr>\n",
       "      <th>...</th>\n",
       "      <td>...</td>\n",
       "      <td>...</td>\n",
       "      <td>...</td>\n",
       "      <td>...</td>\n",
       "      <td>...</td>\n",
       "      <td>...</td>\n",
       "      <td>...</td>\n",
       "      <td>...</td>\n",
       "      <td>...</td>\n",
       "      <td>...</td>\n",
       "      <td>...</td>\n",
       "      <td>...</td>\n",
       "      <td>...</td>\n",
       "      <td>...</td>\n",
       "      <td>...</td>\n",
       "      <td>...</td>\n",
       "      <td>...</td>\n",
       "      <td>...</td>\n",
       "      <td>...</td>\n",
       "      <td>...</td>\n",
       "      <td>...</td>\n",
       "    </tr>\n",
       "    <tr>\n",
       "      <th>129874</th>\n",
       "      <td>55</td>\n",
       "      <td>308</td>\n",
       "      <td>0</td>\n",
       "      <td>Female</td>\n",
       "      <td>Returning</td>\n",
       "      <td>Personal</td>\n",
       "      <td>Economy Plus</td>\n",
       "      <td>4</td>\n",
       "      <td>4</td>\n",
       "      <td>4</td>\n",
       "      <td>...</td>\n",
       "      <td>4</td>\n",
       "      <td>3</td>\n",
       "      <td>3</td>\n",
       "      <td>4</td>\n",
       "      <td>2</td>\n",
       "      <td>4</td>\n",
       "      <td>3</td>\n",
       "      <td>4</td>\n",
       "      <td>4</td>\n",
       "      <td>Neutral or Dissatisfied</td>\n",
       "    </tr>\n",
       "    <tr>\n",
       "      <th>129875</th>\n",
       "      <td>28</td>\n",
       "      <td>447</td>\n",
       "      <td>2</td>\n",
       "      <td>Male</td>\n",
       "      <td>Returning</td>\n",
       "      <td>Personal</td>\n",
       "      <td>Economy Plus</td>\n",
       "      <td>4</td>\n",
       "      <td>4</td>\n",
       "      <td>4</td>\n",
       "      <td>...</td>\n",
       "      <td>5</td>\n",
       "      <td>1</td>\n",
       "      <td>4</td>\n",
       "      <td>4</td>\n",
       "      <td>4</td>\n",
       "      <td>5</td>\n",
       "      <td>4</td>\n",
       "      <td>4</td>\n",
       "      <td>4</td>\n",
       "      <td>Neutral or Dissatisfied</td>\n",
       "    </tr>\n",
       "    <tr>\n",
       "      <th>129876</th>\n",
       "      <td>41</td>\n",
       "      <td>308</td>\n",
       "      <td>0</td>\n",
       "      <td>Male</td>\n",
       "      <td>Returning</td>\n",
       "      <td>Personal</td>\n",
       "      <td>Economy Plus</td>\n",
       "      <td>5</td>\n",
       "      <td>5</td>\n",
       "      <td>3</td>\n",
       "      <td>...</td>\n",
       "      <td>5</td>\n",
       "      <td>2</td>\n",
       "      <td>5</td>\n",
       "      <td>2</td>\n",
       "      <td>2</td>\n",
       "      <td>4</td>\n",
       "      <td>3</td>\n",
       "      <td>2</td>\n",
       "      <td>5</td>\n",
       "      <td>Neutral or Dissatisfied</td>\n",
       "    </tr>\n",
       "    <tr>\n",
       "      <th>129877</th>\n",
       "      <td>42</td>\n",
       "      <td>337</td>\n",
       "      <td>6</td>\n",
       "      <td>Male</td>\n",
       "      <td>Returning</td>\n",
       "      <td>Personal</td>\n",
       "      <td>Economy Plus</td>\n",
       "      <td>5</td>\n",
       "      <td>4</td>\n",
       "      <td>2</td>\n",
       "      <td>...</td>\n",
       "      <td>3</td>\n",
       "      <td>3</td>\n",
       "      <td>4</td>\n",
       "      <td>3</td>\n",
       "      <td>3</td>\n",
       "      <td>4</td>\n",
       "      <td>2</td>\n",
       "      <td>3</td>\n",
       "      <td>5</td>\n",
       "      <td>Neutral or Dissatisfied</td>\n",
       "    </tr>\n",
       "    <tr>\n",
       "      <th>129879</th>\n",
       "      <td>20</td>\n",
       "      <td>337</td>\n",
       "      <td>0</td>\n",
       "      <td>Female</td>\n",
       "      <td>Returning</td>\n",
       "      <td>Personal</td>\n",
       "      <td>Economy Plus</td>\n",
       "      <td>1</td>\n",
       "      <td>4</td>\n",
       "      <td>3</td>\n",
       "      <td>...</td>\n",
       "      <td>4</td>\n",
       "      <td>2</td>\n",
       "      <td>4</td>\n",
       "      <td>2</td>\n",
       "      <td>2</td>\n",
       "      <td>2</td>\n",
       "      <td>3</td>\n",
       "      <td>2</td>\n",
       "      <td>1</td>\n",
       "      <td>Neutral or Dissatisfied</td>\n",
       "    </tr>\n",
       "  </tbody>\n",
       "</table>\n",
       "<p>108814 rows × 21 columns</p>\n",
       "</div>"
      ],
      "text/plain": [
       "        Age  Flight Distance  Departure Delay  Gender Customer Type  \\\n",
       "0        48              821                2    Male    First-time   \n",
       "1        35              821               26  Female     Returning   \n",
       "2        41              853                0    Male     Returning   \n",
       "3        50             1905                0    Male     Returning   \n",
       "4        49             3470                0  Female     Returning   \n",
       "...     ...              ...              ...     ...           ...   \n",
       "129874   55              308                0  Female     Returning   \n",
       "129875   28              447                2    Male     Returning   \n",
       "129876   41              308                0    Male     Returning   \n",
       "129877   42              337                6    Male     Returning   \n",
       "129879   20              337                0  Female     Returning   \n",
       "\n",
       "       Type of Travel         Class  Departure and Arrival Time Convenience  \\\n",
       "0            Business      Business                                       3   \n",
       "1            Business      Business                                       2   \n",
       "2            Business      Business                                       4   \n",
       "3            Business      Business                                       2   \n",
       "4            Business      Business                                       3   \n",
       "...               ...           ...                                     ...   \n",
       "129874       Personal  Economy Plus                                       4   \n",
       "129875       Personal  Economy Plus                                       4   \n",
       "129876       Personal  Economy Plus                                       5   \n",
       "129877       Personal  Economy Plus                                       5   \n",
       "129879       Personal  Economy Plus                                       1   \n",
       "\n",
       "        Check-in Service  Online Boarding  ...  On-board Service  \\\n",
       "0                      4                3  ...                 3   \n",
       "1                      3                5  ...                 5   \n",
       "2                      4                5  ...                 3   \n",
       "3                      3                4  ...                 5   \n",
       "4                      3                5  ...                 3   \n",
       "...                  ...              ...  ...               ...   \n",
       "129874                 4                4  ...                 4   \n",
       "129875                 4                4  ...                 5   \n",
       "129876                 5                3  ...                 5   \n",
       "129877                 4                2  ...                 3   \n",
       "129879                 4                3  ...                 4   \n",
       "\n",
       "        Seat Comfort  Leg Room Service  Cleanliness  Food and Drink  \\\n",
       "0                  5                 2            5               5   \n",
       "1                  4                 5            5               3   \n",
       "2                  5                 3            5               5   \n",
       "3                  5                 5            4               4   \n",
       "4                  4                 4            5               4   \n",
       "...              ...               ...          ...             ...   \n",
       "129874             3                 3            4               2   \n",
       "129875             1                 4            4               4   \n",
       "129876             2                 5            2               2   \n",
       "129877             3                 4            3               3   \n",
       "129879             2                 4            2               2   \n",
       "\n",
       "        In-flight Service  In-flight Wifi Service  In-flight Entertainment  \\\n",
       "0                       5                       3                        5   \n",
       "1                       5                       2                        5   \n",
       "2                       3                       4                        3   \n",
       "3                       5                       2                        5   \n",
       "4                       3                       3                        3   \n",
       "...                   ...                     ...                      ...   \n",
       "129874                  4                       3                        4   \n",
       "129875                  5                       4                        4   \n",
       "129876                  4                       3                        2   \n",
       "129877                  4                       2                        3   \n",
       "129879                  2                       3                        2   \n",
       "\n",
       "        Baggage Handling             Satisfaction  \n",
       "0                      5  Neutral or Dissatisfied  \n",
       "1                      5                Satisfied  \n",
       "2                      3                Satisfied  \n",
       "3                      5                Satisfied  \n",
       "4                      3                Satisfied  \n",
       "...                  ...                      ...  \n",
       "129874                 4  Neutral or Dissatisfied  \n",
       "129875                 4  Neutral or Dissatisfied  \n",
       "129876                 5  Neutral or Dissatisfied  \n",
       "129877                 5  Neutral or Dissatisfied  \n",
       "129879                 1  Neutral or Dissatisfied  \n",
       "\n",
       "[108814 rows x 21 columns]"
      ]
     },
     "execution_count": 81,
     "metadata": {},
     "output_type": "execute_result"
    }
   ],
   "source": [
    "df"
   ]
  },
  {
   "cell_type": "markdown",
   "id": "Gqx1MTwL8gXY",
   "metadata": {
    "id": "Gqx1MTwL8gXY"
   },
   "source": [
    "##### Converting to dummy Variable"
   ]
  },
  {
   "cell_type": "code",
   "execution_count": 82,
   "id": "7SU8CR8K0W1_",
   "metadata": {
    "colab": {
     "base_uri": "https://localhost:8080/",
     "height": 626
    },
    "id": "7SU8CR8K0W1_",
    "outputId": "ca6558eb-2fcd-4ce0-aa56-f0e6839b3a01"
   },
   "outputs": [
    {
     "data": {
      "text/html": [
       "<div>\n",
       "<style scoped>\n",
       "    .dataframe tbody tr th:only-of-type {\n",
       "        vertical-align: middle;\n",
       "    }\n",
       "\n",
       "    .dataframe tbody tr th {\n",
       "        vertical-align: top;\n",
       "    }\n",
       "\n",
       "    .dataframe thead th {\n",
       "        text-align: right;\n",
       "    }\n",
       "</style>\n",
       "<table border=\"1\" class=\"dataframe\">\n",
       "  <thead>\n",
       "    <tr style=\"text-align: right;\">\n",
       "      <th></th>\n",
       "      <th>Age</th>\n",
       "      <th>Flight Distance</th>\n",
       "      <th>Departure Delay</th>\n",
       "      <th>Departure and Arrival Time Convenience</th>\n",
       "      <th>Check-in Service</th>\n",
       "      <th>Online Boarding</th>\n",
       "      <th>Gate Location</th>\n",
       "      <th>On-board Service</th>\n",
       "      <th>Seat Comfort</th>\n",
       "      <th>Leg Room Service</th>\n",
       "      <th>...</th>\n",
       "      <th>In-flight Service</th>\n",
       "      <th>In-flight Wifi Service</th>\n",
       "      <th>In-flight Entertainment</th>\n",
       "      <th>Baggage Handling</th>\n",
       "      <th>Satisfaction</th>\n",
       "      <th>Gender_Male</th>\n",
       "      <th>Customer Type_Returning</th>\n",
       "      <th>Type of Travel_Personal</th>\n",
       "      <th>Class_Economy</th>\n",
       "      <th>Class_Economy Plus</th>\n",
       "    </tr>\n",
       "  </thead>\n",
       "  <tbody>\n",
       "    <tr>\n",
       "      <th>0</th>\n",
       "      <td>48</td>\n",
       "      <td>821</td>\n",
       "      <td>2</td>\n",
       "      <td>3</td>\n",
       "      <td>4</td>\n",
       "      <td>3</td>\n",
       "      <td>3</td>\n",
       "      <td>3</td>\n",
       "      <td>5</td>\n",
       "      <td>2</td>\n",
       "      <td>...</td>\n",
       "      <td>5</td>\n",
       "      <td>3</td>\n",
       "      <td>5</td>\n",
       "      <td>5</td>\n",
       "      <td>Neutral or Dissatisfied</td>\n",
       "      <td>1</td>\n",
       "      <td>0</td>\n",
       "      <td>0</td>\n",
       "      <td>0</td>\n",
       "      <td>0</td>\n",
       "    </tr>\n",
       "    <tr>\n",
       "      <th>1</th>\n",
       "      <td>35</td>\n",
       "      <td>821</td>\n",
       "      <td>26</td>\n",
       "      <td>2</td>\n",
       "      <td>3</td>\n",
       "      <td>5</td>\n",
       "      <td>2</td>\n",
       "      <td>5</td>\n",
       "      <td>4</td>\n",
       "      <td>5</td>\n",
       "      <td>...</td>\n",
       "      <td>5</td>\n",
       "      <td>2</td>\n",
       "      <td>5</td>\n",
       "      <td>5</td>\n",
       "      <td>Satisfied</td>\n",
       "      <td>0</td>\n",
       "      <td>1</td>\n",
       "      <td>0</td>\n",
       "      <td>0</td>\n",
       "      <td>0</td>\n",
       "    </tr>\n",
       "    <tr>\n",
       "      <th>2</th>\n",
       "      <td>41</td>\n",
       "      <td>853</td>\n",
       "      <td>0</td>\n",
       "      <td>4</td>\n",
       "      <td>4</td>\n",
       "      <td>5</td>\n",
       "      <td>4</td>\n",
       "      <td>3</td>\n",
       "      <td>5</td>\n",
       "      <td>3</td>\n",
       "      <td>...</td>\n",
       "      <td>3</td>\n",
       "      <td>4</td>\n",
       "      <td>3</td>\n",
       "      <td>3</td>\n",
       "      <td>Satisfied</td>\n",
       "      <td>1</td>\n",
       "      <td>1</td>\n",
       "      <td>0</td>\n",
       "      <td>0</td>\n",
       "      <td>0</td>\n",
       "    </tr>\n",
       "    <tr>\n",
       "      <th>3</th>\n",
       "      <td>50</td>\n",
       "      <td>1905</td>\n",
       "      <td>0</td>\n",
       "      <td>2</td>\n",
       "      <td>3</td>\n",
       "      <td>4</td>\n",
       "      <td>2</td>\n",
       "      <td>5</td>\n",
       "      <td>5</td>\n",
       "      <td>5</td>\n",
       "      <td>...</td>\n",
       "      <td>5</td>\n",
       "      <td>2</td>\n",
       "      <td>5</td>\n",
       "      <td>5</td>\n",
       "      <td>Satisfied</td>\n",
       "      <td>1</td>\n",
       "      <td>1</td>\n",
       "      <td>0</td>\n",
       "      <td>0</td>\n",
       "      <td>0</td>\n",
       "    </tr>\n",
       "    <tr>\n",
       "      <th>4</th>\n",
       "      <td>49</td>\n",
       "      <td>3470</td>\n",
       "      <td>0</td>\n",
       "      <td>3</td>\n",
       "      <td>3</td>\n",
       "      <td>5</td>\n",
       "      <td>3</td>\n",
       "      <td>3</td>\n",
       "      <td>4</td>\n",
       "      <td>4</td>\n",
       "      <td>...</td>\n",
       "      <td>3</td>\n",
       "      <td>3</td>\n",
       "      <td>3</td>\n",
       "      <td>3</td>\n",
       "      <td>Satisfied</td>\n",
       "      <td>0</td>\n",
       "      <td>1</td>\n",
       "      <td>0</td>\n",
       "      <td>0</td>\n",
       "      <td>0</td>\n",
       "    </tr>\n",
       "    <tr>\n",
       "      <th>...</th>\n",
       "      <td>...</td>\n",
       "      <td>...</td>\n",
       "      <td>...</td>\n",
       "      <td>...</td>\n",
       "      <td>...</td>\n",
       "      <td>...</td>\n",
       "      <td>...</td>\n",
       "      <td>...</td>\n",
       "      <td>...</td>\n",
       "      <td>...</td>\n",
       "      <td>...</td>\n",
       "      <td>...</td>\n",
       "      <td>...</td>\n",
       "      <td>...</td>\n",
       "      <td>...</td>\n",
       "      <td>...</td>\n",
       "      <td>...</td>\n",
       "      <td>...</td>\n",
       "      <td>...</td>\n",
       "      <td>...</td>\n",
       "      <td>...</td>\n",
       "    </tr>\n",
       "    <tr>\n",
       "      <th>129874</th>\n",
       "      <td>55</td>\n",
       "      <td>308</td>\n",
       "      <td>0</td>\n",
       "      <td>4</td>\n",
       "      <td>4</td>\n",
       "      <td>4</td>\n",
       "      <td>4</td>\n",
       "      <td>4</td>\n",
       "      <td>3</td>\n",
       "      <td>3</td>\n",
       "      <td>...</td>\n",
       "      <td>4</td>\n",
       "      <td>3</td>\n",
       "      <td>4</td>\n",
       "      <td>4</td>\n",
       "      <td>Neutral or Dissatisfied</td>\n",
       "      <td>0</td>\n",
       "      <td>1</td>\n",
       "      <td>1</td>\n",
       "      <td>0</td>\n",
       "      <td>1</td>\n",
       "    </tr>\n",
       "    <tr>\n",
       "      <th>129875</th>\n",
       "      <td>28</td>\n",
       "      <td>447</td>\n",
       "      <td>2</td>\n",
       "      <td>4</td>\n",
       "      <td>4</td>\n",
       "      <td>4</td>\n",
       "      <td>2</td>\n",
       "      <td>5</td>\n",
       "      <td>1</td>\n",
       "      <td>4</td>\n",
       "      <td>...</td>\n",
       "      <td>5</td>\n",
       "      <td>4</td>\n",
       "      <td>4</td>\n",
       "      <td>4</td>\n",
       "      <td>Neutral or Dissatisfied</td>\n",
       "      <td>1</td>\n",
       "      <td>1</td>\n",
       "      <td>1</td>\n",
       "      <td>0</td>\n",
       "      <td>1</td>\n",
       "    </tr>\n",
       "    <tr>\n",
       "      <th>129876</th>\n",
       "      <td>41</td>\n",
       "      <td>308</td>\n",
       "      <td>0</td>\n",
       "      <td>5</td>\n",
       "      <td>5</td>\n",
       "      <td>3</td>\n",
       "      <td>4</td>\n",
       "      <td>5</td>\n",
       "      <td>2</td>\n",
       "      <td>5</td>\n",
       "      <td>...</td>\n",
       "      <td>4</td>\n",
       "      <td>3</td>\n",
       "      <td>2</td>\n",
       "      <td>5</td>\n",
       "      <td>Neutral or Dissatisfied</td>\n",
       "      <td>1</td>\n",
       "      <td>1</td>\n",
       "      <td>1</td>\n",
       "      <td>0</td>\n",
       "      <td>1</td>\n",
       "    </tr>\n",
       "    <tr>\n",
       "      <th>129877</th>\n",
       "      <td>42</td>\n",
       "      <td>337</td>\n",
       "      <td>6</td>\n",
       "      <td>5</td>\n",
       "      <td>4</td>\n",
       "      <td>2</td>\n",
       "      <td>1</td>\n",
       "      <td>3</td>\n",
       "      <td>3</td>\n",
       "      <td>4</td>\n",
       "      <td>...</td>\n",
       "      <td>4</td>\n",
       "      <td>2</td>\n",
       "      <td>3</td>\n",
       "      <td>5</td>\n",
       "      <td>Neutral or Dissatisfied</td>\n",
       "      <td>1</td>\n",
       "      <td>1</td>\n",
       "      <td>1</td>\n",
       "      <td>0</td>\n",
       "      <td>1</td>\n",
       "    </tr>\n",
       "    <tr>\n",
       "      <th>129879</th>\n",
       "      <td>20</td>\n",
       "      <td>337</td>\n",
       "      <td>0</td>\n",
       "      <td>1</td>\n",
       "      <td>4</td>\n",
       "      <td>3</td>\n",
       "      <td>2</td>\n",
       "      <td>4</td>\n",
       "      <td>2</td>\n",
       "      <td>4</td>\n",
       "      <td>...</td>\n",
       "      <td>2</td>\n",
       "      <td>3</td>\n",
       "      <td>2</td>\n",
       "      <td>1</td>\n",
       "      <td>Neutral or Dissatisfied</td>\n",
       "      <td>0</td>\n",
       "      <td>1</td>\n",
       "      <td>1</td>\n",
       "      <td>0</td>\n",
       "      <td>1</td>\n",
       "    </tr>\n",
       "  </tbody>\n",
       "</table>\n",
       "<p>108814 rows × 22 columns</p>\n",
       "</div>"
      ],
      "text/plain": [
       "        Age  Flight Distance  Departure Delay  \\\n",
       "0        48              821                2   \n",
       "1        35              821               26   \n",
       "2        41              853                0   \n",
       "3        50             1905                0   \n",
       "4        49             3470                0   \n",
       "...     ...              ...              ...   \n",
       "129874   55              308                0   \n",
       "129875   28              447                2   \n",
       "129876   41              308                0   \n",
       "129877   42              337                6   \n",
       "129879   20              337                0   \n",
       "\n",
       "        Departure and Arrival Time Convenience  Check-in Service  \\\n",
       "0                                            3                 4   \n",
       "1                                            2                 3   \n",
       "2                                            4                 4   \n",
       "3                                            2                 3   \n",
       "4                                            3                 3   \n",
       "...                                        ...               ...   \n",
       "129874                                       4                 4   \n",
       "129875                                       4                 4   \n",
       "129876                                       5                 5   \n",
       "129877                                       5                 4   \n",
       "129879                                       1                 4   \n",
       "\n",
       "        Online Boarding  Gate Location  On-board Service  Seat Comfort  \\\n",
       "0                     3              3                 3             5   \n",
       "1                     5              2                 5             4   \n",
       "2                     5              4                 3             5   \n",
       "3                     4              2                 5             5   \n",
       "4                     5              3                 3             4   \n",
       "...                 ...            ...               ...           ...   \n",
       "129874                4              4                 4             3   \n",
       "129875                4              2                 5             1   \n",
       "129876                3              4                 5             2   \n",
       "129877                2              1                 3             3   \n",
       "129879                3              2                 4             2   \n",
       "\n",
       "        Leg Room Service  ...  In-flight Service  In-flight Wifi Service  \\\n",
       "0                      2  ...                  5                       3   \n",
       "1                      5  ...                  5                       2   \n",
       "2                      3  ...                  3                       4   \n",
       "3                      5  ...                  5                       2   \n",
       "4                      4  ...                  3                       3   \n",
       "...                  ...  ...                ...                     ...   \n",
       "129874                 3  ...                  4                       3   \n",
       "129875                 4  ...                  5                       4   \n",
       "129876                 5  ...                  4                       3   \n",
       "129877                 4  ...                  4                       2   \n",
       "129879                 4  ...                  2                       3   \n",
       "\n",
       "        In-flight Entertainment  Baggage Handling             Satisfaction  \\\n",
       "0                             5                 5  Neutral or Dissatisfied   \n",
       "1                             5                 5                Satisfied   \n",
       "2                             3                 3                Satisfied   \n",
       "3                             5                 5                Satisfied   \n",
       "4                             3                 3                Satisfied   \n",
       "...                         ...               ...                      ...   \n",
       "129874                        4                 4  Neutral or Dissatisfied   \n",
       "129875                        4                 4  Neutral or Dissatisfied   \n",
       "129876                        2                 5  Neutral or Dissatisfied   \n",
       "129877                        3                 5  Neutral or Dissatisfied   \n",
       "129879                        2                 1  Neutral or Dissatisfied   \n",
       "\n",
       "        Gender_Male Customer Type_Returning  Type of Travel_Personal  \\\n",
       "0                 1                       0                        0   \n",
       "1                 0                       1                        0   \n",
       "2                 1                       1                        0   \n",
       "3                 1                       1                        0   \n",
       "4                 0                       1                        0   \n",
       "...             ...                     ...                      ...   \n",
       "129874            0                       1                        1   \n",
       "129875            1                       1                        1   \n",
       "129876            1                       1                        1   \n",
       "129877            1                       1                        1   \n",
       "129879            0                       1                        1   \n",
       "\n",
       "        Class_Economy  Class_Economy Plus  \n",
       "0                   0                   0  \n",
       "1                   0                   0  \n",
       "2                   0                   0  \n",
       "3                   0                   0  \n",
       "4                   0                   0  \n",
       "...               ...                 ...  \n",
       "129874              0                   1  \n",
       "129875              0                   1  \n",
       "129876              0                   1  \n",
       "129877              0                   1  \n",
       "129879              0                   1  \n",
       "\n",
       "[108814 rows x 22 columns]"
      ]
     },
     "execution_count": 82,
     "metadata": {},
     "output_type": "execute_result"
    }
   ],
   "source": [
    "df = pd.get_dummies(data = df, columns = ['Gender', 'Customer Type', 'Type of Travel', \n",
    "                                         'Class'], drop_first=True)\n",
    "df"
   ]
  },
  {
   "cell_type": "code",
   "execution_count": 83,
   "id": "2Ujl-aLp0W5e",
   "metadata": {
    "id": "2Ujl-aLp0W5e"
   },
   "outputs": [],
   "source": [
    "cols = ['Age', 'Flight Distance','Departure Delay','Departure and Arrival Time Convenience',\n",
    "        'Check-in Service','Online Boarding','Gate Location','On-board Service','Seat Comfort','Leg Room Service','Cleanliness','Food and Drink'\n",
    "        ,'In-flight Service','In-flight Wifi Service','In-flight Entertainment','Baggage Handling','Customer Type_Returning','Type of Travel_Personal'\n",
    "        ,'Class_Economy','Class_Economy Plus']"
   ]
  },
  {
   "cell_type": "code",
   "execution_count": 84,
   "id": "crc0OUxM3YKN",
   "metadata": {
    "colab": {
     "base_uri": "https://localhost:8080/",
     "height": 626
    },
    "id": "crc0OUxM3YKN",
    "outputId": "c9738e3b-ccd4-40d0-a993-2a14dceb3523"
   },
   "outputs": [
    {
     "data": {
      "text/html": [
       "<div>\n",
       "<style scoped>\n",
       "    .dataframe tbody tr th:only-of-type {\n",
       "        vertical-align: middle;\n",
       "    }\n",
       "\n",
       "    .dataframe tbody tr th {\n",
       "        vertical-align: top;\n",
       "    }\n",
       "\n",
       "    .dataframe thead th {\n",
       "        text-align: right;\n",
       "    }\n",
       "</style>\n",
       "<table border=\"1\" class=\"dataframe\">\n",
       "  <thead>\n",
       "    <tr style=\"text-align: right;\">\n",
       "      <th></th>\n",
       "      <th>Age</th>\n",
       "      <th>Flight Distance</th>\n",
       "      <th>Departure Delay</th>\n",
       "      <th>Departure and Arrival Time Convenience</th>\n",
       "      <th>Check-in Service</th>\n",
       "      <th>Online Boarding</th>\n",
       "      <th>Gate Location</th>\n",
       "      <th>On-board Service</th>\n",
       "      <th>Seat Comfort</th>\n",
       "      <th>Leg Room Service</th>\n",
       "      <th>...</th>\n",
       "      <th>In-flight Service</th>\n",
       "      <th>In-flight Wifi Service</th>\n",
       "      <th>In-flight Entertainment</th>\n",
       "      <th>Baggage Handling</th>\n",
       "      <th>Satisfaction</th>\n",
       "      <th>Gender_Male</th>\n",
       "      <th>Customer Type_Returning</th>\n",
       "      <th>Type of Travel_Personal</th>\n",
       "      <th>Class_Economy</th>\n",
       "      <th>Class_Economy Plus</th>\n",
       "    </tr>\n",
       "  </thead>\n",
       "  <tbody>\n",
       "    <tr>\n",
       "      <th>0</th>\n",
       "      <td>48</td>\n",
       "      <td>821</td>\n",
       "      <td>2</td>\n",
       "      <td>3</td>\n",
       "      <td>4</td>\n",
       "      <td>3</td>\n",
       "      <td>3</td>\n",
       "      <td>3</td>\n",
       "      <td>5</td>\n",
       "      <td>2</td>\n",
       "      <td>...</td>\n",
       "      <td>5</td>\n",
       "      <td>3</td>\n",
       "      <td>5</td>\n",
       "      <td>5</td>\n",
       "      <td>Neutral or Dissatisfied</td>\n",
       "      <td>1</td>\n",
       "      <td>0</td>\n",
       "      <td>0</td>\n",
       "      <td>0</td>\n",
       "      <td>0</td>\n",
       "    </tr>\n",
       "    <tr>\n",
       "      <th>1</th>\n",
       "      <td>35</td>\n",
       "      <td>821</td>\n",
       "      <td>26</td>\n",
       "      <td>2</td>\n",
       "      <td>3</td>\n",
       "      <td>5</td>\n",
       "      <td>2</td>\n",
       "      <td>5</td>\n",
       "      <td>4</td>\n",
       "      <td>5</td>\n",
       "      <td>...</td>\n",
       "      <td>5</td>\n",
       "      <td>2</td>\n",
       "      <td>5</td>\n",
       "      <td>5</td>\n",
       "      <td>Satisfied</td>\n",
       "      <td>0</td>\n",
       "      <td>1</td>\n",
       "      <td>0</td>\n",
       "      <td>0</td>\n",
       "      <td>0</td>\n",
       "    </tr>\n",
       "    <tr>\n",
       "      <th>2</th>\n",
       "      <td>41</td>\n",
       "      <td>853</td>\n",
       "      <td>0</td>\n",
       "      <td>4</td>\n",
       "      <td>4</td>\n",
       "      <td>5</td>\n",
       "      <td>4</td>\n",
       "      <td>3</td>\n",
       "      <td>5</td>\n",
       "      <td>3</td>\n",
       "      <td>...</td>\n",
       "      <td>3</td>\n",
       "      <td>4</td>\n",
       "      <td>3</td>\n",
       "      <td>3</td>\n",
       "      <td>Satisfied</td>\n",
       "      <td>1</td>\n",
       "      <td>1</td>\n",
       "      <td>0</td>\n",
       "      <td>0</td>\n",
       "      <td>0</td>\n",
       "    </tr>\n",
       "    <tr>\n",
       "      <th>3</th>\n",
       "      <td>50</td>\n",
       "      <td>1905</td>\n",
       "      <td>0</td>\n",
       "      <td>2</td>\n",
       "      <td>3</td>\n",
       "      <td>4</td>\n",
       "      <td>2</td>\n",
       "      <td>5</td>\n",
       "      <td>5</td>\n",
       "      <td>5</td>\n",
       "      <td>...</td>\n",
       "      <td>5</td>\n",
       "      <td>2</td>\n",
       "      <td>5</td>\n",
       "      <td>5</td>\n",
       "      <td>Satisfied</td>\n",
       "      <td>1</td>\n",
       "      <td>1</td>\n",
       "      <td>0</td>\n",
       "      <td>0</td>\n",
       "      <td>0</td>\n",
       "    </tr>\n",
       "    <tr>\n",
       "      <th>4</th>\n",
       "      <td>49</td>\n",
       "      <td>3470</td>\n",
       "      <td>0</td>\n",
       "      <td>3</td>\n",
       "      <td>3</td>\n",
       "      <td>5</td>\n",
       "      <td>3</td>\n",
       "      <td>3</td>\n",
       "      <td>4</td>\n",
       "      <td>4</td>\n",
       "      <td>...</td>\n",
       "      <td>3</td>\n",
       "      <td>3</td>\n",
       "      <td>3</td>\n",
       "      <td>3</td>\n",
       "      <td>Satisfied</td>\n",
       "      <td>0</td>\n",
       "      <td>1</td>\n",
       "      <td>0</td>\n",
       "      <td>0</td>\n",
       "      <td>0</td>\n",
       "    </tr>\n",
       "    <tr>\n",
       "      <th>...</th>\n",
       "      <td>...</td>\n",
       "      <td>...</td>\n",
       "      <td>...</td>\n",
       "      <td>...</td>\n",
       "      <td>...</td>\n",
       "      <td>...</td>\n",
       "      <td>...</td>\n",
       "      <td>...</td>\n",
       "      <td>...</td>\n",
       "      <td>...</td>\n",
       "      <td>...</td>\n",
       "      <td>...</td>\n",
       "      <td>...</td>\n",
       "      <td>...</td>\n",
       "      <td>...</td>\n",
       "      <td>...</td>\n",
       "      <td>...</td>\n",
       "      <td>...</td>\n",
       "      <td>...</td>\n",
       "      <td>...</td>\n",
       "      <td>...</td>\n",
       "    </tr>\n",
       "    <tr>\n",
       "      <th>129874</th>\n",
       "      <td>55</td>\n",
       "      <td>308</td>\n",
       "      <td>0</td>\n",
       "      <td>4</td>\n",
       "      <td>4</td>\n",
       "      <td>4</td>\n",
       "      <td>4</td>\n",
       "      <td>4</td>\n",
       "      <td>3</td>\n",
       "      <td>3</td>\n",
       "      <td>...</td>\n",
       "      <td>4</td>\n",
       "      <td>3</td>\n",
       "      <td>4</td>\n",
       "      <td>4</td>\n",
       "      <td>Neutral or Dissatisfied</td>\n",
       "      <td>0</td>\n",
       "      <td>1</td>\n",
       "      <td>1</td>\n",
       "      <td>0</td>\n",
       "      <td>1</td>\n",
       "    </tr>\n",
       "    <tr>\n",
       "      <th>129875</th>\n",
       "      <td>28</td>\n",
       "      <td>447</td>\n",
       "      <td>2</td>\n",
       "      <td>4</td>\n",
       "      <td>4</td>\n",
       "      <td>4</td>\n",
       "      <td>2</td>\n",
       "      <td>5</td>\n",
       "      <td>1</td>\n",
       "      <td>4</td>\n",
       "      <td>...</td>\n",
       "      <td>5</td>\n",
       "      <td>4</td>\n",
       "      <td>4</td>\n",
       "      <td>4</td>\n",
       "      <td>Neutral or Dissatisfied</td>\n",
       "      <td>1</td>\n",
       "      <td>1</td>\n",
       "      <td>1</td>\n",
       "      <td>0</td>\n",
       "      <td>1</td>\n",
       "    </tr>\n",
       "    <tr>\n",
       "      <th>129876</th>\n",
       "      <td>41</td>\n",
       "      <td>308</td>\n",
       "      <td>0</td>\n",
       "      <td>5</td>\n",
       "      <td>5</td>\n",
       "      <td>3</td>\n",
       "      <td>4</td>\n",
       "      <td>5</td>\n",
       "      <td>2</td>\n",
       "      <td>5</td>\n",
       "      <td>...</td>\n",
       "      <td>4</td>\n",
       "      <td>3</td>\n",
       "      <td>2</td>\n",
       "      <td>5</td>\n",
       "      <td>Neutral or Dissatisfied</td>\n",
       "      <td>1</td>\n",
       "      <td>1</td>\n",
       "      <td>1</td>\n",
       "      <td>0</td>\n",
       "      <td>1</td>\n",
       "    </tr>\n",
       "    <tr>\n",
       "      <th>129877</th>\n",
       "      <td>42</td>\n",
       "      <td>337</td>\n",
       "      <td>6</td>\n",
       "      <td>5</td>\n",
       "      <td>4</td>\n",
       "      <td>2</td>\n",
       "      <td>1</td>\n",
       "      <td>3</td>\n",
       "      <td>3</td>\n",
       "      <td>4</td>\n",
       "      <td>...</td>\n",
       "      <td>4</td>\n",
       "      <td>2</td>\n",
       "      <td>3</td>\n",
       "      <td>5</td>\n",
       "      <td>Neutral or Dissatisfied</td>\n",
       "      <td>1</td>\n",
       "      <td>1</td>\n",
       "      <td>1</td>\n",
       "      <td>0</td>\n",
       "      <td>1</td>\n",
       "    </tr>\n",
       "    <tr>\n",
       "      <th>129879</th>\n",
       "      <td>20</td>\n",
       "      <td>337</td>\n",
       "      <td>0</td>\n",
       "      <td>1</td>\n",
       "      <td>4</td>\n",
       "      <td>3</td>\n",
       "      <td>2</td>\n",
       "      <td>4</td>\n",
       "      <td>2</td>\n",
       "      <td>4</td>\n",
       "      <td>...</td>\n",
       "      <td>2</td>\n",
       "      <td>3</td>\n",
       "      <td>2</td>\n",
       "      <td>1</td>\n",
       "      <td>Neutral or Dissatisfied</td>\n",
       "      <td>0</td>\n",
       "      <td>1</td>\n",
       "      <td>1</td>\n",
       "      <td>0</td>\n",
       "      <td>1</td>\n",
       "    </tr>\n",
       "  </tbody>\n",
       "</table>\n",
       "<p>108814 rows × 22 columns</p>\n",
       "</div>"
      ],
      "text/plain": [
       "        Age  Flight Distance  Departure Delay  \\\n",
       "0        48              821                2   \n",
       "1        35              821               26   \n",
       "2        41              853                0   \n",
       "3        50             1905                0   \n",
       "4        49             3470                0   \n",
       "...     ...              ...              ...   \n",
       "129874   55              308                0   \n",
       "129875   28              447                2   \n",
       "129876   41              308                0   \n",
       "129877   42              337                6   \n",
       "129879   20              337                0   \n",
       "\n",
       "        Departure and Arrival Time Convenience  Check-in Service  \\\n",
       "0                                            3                 4   \n",
       "1                                            2                 3   \n",
       "2                                            4                 4   \n",
       "3                                            2                 3   \n",
       "4                                            3                 3   \n",
       "...                                        ...               ...   \n",
       "129874                                       4                 4   \n",
       "129875                                       4                 4   \n",
       "129876                                       5                 5   \n",
       "129877                                       5                 4   \n",
       "129879                                       1                 4   \n",
       "\n",
       "        Online Boarding  Gate Location  On-board Service  Seat Comfort  \\\n",
       "0                     3              3                 3             5   \n",
       "1                     5              2                 5             4   \n",
       "2                     5              4                 3             5   \n",
       "3                     4              2                 5             5   \n",
       "4                     5              3                 3             4   \n",
       "...                 ...            ...               ...           ...   \n",
       "129874                4              4                 4             3   \n",
       "129875                4              2                 5             1   \n",
       "129876                3              4                 5             2   \n",
       "129877                2              1                 3             3   \n",
       "129879                3              2                 4             2   \n",
       "\n",
       "        Leg Room Service  ...  In-flight Service  In-flight Wifi Service  \\\n",
       "0                      2  ...                  5                       3   \n",
       "1                      5  ...                  5                       2   \n",
       "2                      3  ...                  3                       4   \n",
       "3                      5  ...                  5                       2   \n",
       "4                      4  ...                  3                       3   \n",
       "...                  ...  ...                ...                     ...   \n",
       "129874                 3  ...                  4                       3   \n",
       "129875                 4  ...                  5                       4   \n",
       "129876                 5  ...                  4                       3   \n",
       "129877                 4  ...                  4                       2   \n",
       "129879                 4  ...                  2                       3   \n",
       "\n",
       "        In-flight Entertainment  Baggage Handling             Satisfaction  \\\n",
       "0                             5                 5  Neutral or Dissatisfied   \n",
       "1                             5                 5                Satisfied   \n",
       "2                             3                 3                Satisfied   \n",
       "3                             5                 5                Satisfied   \n",
       "4                             3                 3                Satisfied   \n",
       "...                         ...               ...                      ...   \n",
       "129874                        4                 4  Neutral or Dissatisfied   \n",
       "129875                        4                 4  Neutral or Dissatisfied   \n",
       "129876                        2                 5  Neutral or Dissatisfied   \n",
       "129877                        3                 5  Neutral or Dissatisfied   \n",
       "129879                        2                 1  Neutral or Dissatisfied   \n",
       "\n",
       "        Gender_Male Customer Type_Returning  Type of Travel_Personal  \\\n",
       "0                 1                       0                        0   \n",
       "1                 0                       1                        0   \n",
       "2                 1                       1                        0   \n",
       "3                 1                       1                        0   \n",
       "4                 0                       1                        0   \n",
       "...             ...                     ...                      ...   \n",
       "129874            0                       1                        1   \n",
       "129875            1                       1                        1   \n",
       "129876            1                       1                        1   \n",
       "129877            1                       1                        1   \n",
       "129879            0                       1                        1   \n",
       "\n",
       "        Class_Economy  Class_Economy Plus  \n",
       "0                   0                   0  \n",
       "1                   0                   0  \n",
       "2                   0                   0  \n",
       "3                   0                   0  \n",
       "4                   0                   0  \n",
       "...               ...                 ...  \n",
       "129874              0                   1  \n",
       "129875              0                   1  \n",
       "129876              0                   1  \n",
       "129877              0                   1  \n",
       "129879              0                   1  \n",
       "\n",
       "[108814 rows x 22 columns]"
      ]
     },
     "execution_count": 84,
     "metadata": {},
     "output_type": "execute_result"
    }
   ],
   "source": [
    "## converting the string values to numeric values\n",
    "for i in cols:\n",
    "    df[i] = pd.to_numeric(df[i], errors = 'coerce')\n",
    "df"
   ]
  },
  {
   "cell_type": "code",
   "execution_count": 85,
   "id": "mrnWcHGd3wpe",
   "metadata": {
    "colab": {
     "base_uri": "https://localhost:8080/"
    },
    "id": "mrnWcHGd3wpe",
    "outputId": "ab58a7fd-a874-409e-def8-afce15c28a39"
   },
   "outputs": [
    {
     "data": {
      "text/plain": [
       "array(['Neutral or Dissatisfied', 'Satisfied'], dtype=object)"
      ]
     },
     "execution_count": 85,
     "metadata": {},
     "output_type": "execute_result"
    }
   ],
   "source": [
    "df['Satisfaction'].unique()"
   ]
  },
  {
   "cell_type": "code",
   "execution_count": 86,
   "id": "1uBy4uay3wzd",
   "metadata": {
    "colab": {
     "base_uri": "https://localhost:8080/",
     "height": 540
    },
    "id": "1uBy4uay3wzd",
    "outputId": "6b38acd1-216e-444a-c0da-f67cd4c8b83f"
   },
   "outputs": [
    {
     "data": {
      "text/html": [
       "<div>\n",
       "<style scoped>\n",
       "    .dataframe tbody tr th:only-of-type {\n",
       "        vertical-align: middle;\n",
       "    }\n",
       "\n",
       "    .dataframe tbody tr th {\n",
       "        vertical-align: top;\n",
       "    }\n",
       "\n",
       "    .dataframe thead th {\n",
       "        text-align: right;\n",
       "    }\n",
       "</style>\n",
       "<table border=\"1\" class=\"dataframe\">\n",
       "  <thead>\n",
       "    <tr style=\"text-align: right;\">\n",
       "      <th></th>\n",
       "      <th>Age</th>\n",
       "      <th>Flight Distance</th>\n",
       "      <th>Departure Delay</th>\n",
       "      <th>Departure and Arrival Time Convenience</th>\n",
       "      <th>Check-in Service</th>\n",
       "      <th>Online Boarding</th>\n",
       "      <th>Gate Location</th>\n",
       "      <th>On-board Service</th>\n",
       "      <th>Seat Comfort</th>\n",
       "      <th>Leg Room Service</th>\n",
       "      <th>...</th>\n",
       "      <th>In-flight Service</th>\n",
       "      <th>In-flight Wifi Service</th>\n",
       "      <th>In-flight Entertainment</th>\n",
       "      <th>Baggage Handling</th>\n",
       "      <th>Satisfaction</th>\n",
       "      <th>Gender_Male</th>\n",
       "      <th>Customer Type_Returning</th>\n",
       "      <th>Type of Travel_Personal</th>\n",
       "      <th>Class_Economy</th>\n",
       "      <th>Class_Economy Plus</th>\n",
       "    </tr>\n",
       "  </thead>\n",
       "  <tbody>\n",
       "    <tr>\n",
       "      <th>0</th>\n",
       "      <td>48</td>\n",
       "      <td>821</td>\n",
       "      <td>2</td>\n",
       "      <td>3</td>\n",
       "      <td>4</td>\n",
       "      <td>3</td>\n",
       "      <td>3</td>\n",
       "      <td>3</td>\n",
       "      <td>5</td>\n",
       "      <td>2</td>\n",
       "      <td>...</td>\n",
       "      <td>5</td>\n",
       "      <td>3</td>\n",
       "      <td>5</td>\n",
       "      <td>5</td>\n",
       "      <td>0</td>\n",
       "      <td>1</td>\n",
       "      <td>0</td>\n",
       "      <td>0</td>\n",
       "      <td>0</td>\n",
       "      <td>0</td>\n",
       "    </tr>\n",
       "    <tr>\n",
       "      <th>1</th>\n",
       "      <td>35</td>\n",
       "      <td>821</td>\n",
       "      <td>26</td>\n",
       "      <td>2</td>\n",
       "      <td>3</td>\n",
       "      <td>5</td>\n",
       "      <td>2</td>\n",
       "      <td>5</td>\n",
       "      <td>4</td>\n",
       "      <td>5</td>\n",
       "      <td>...</td>\n",
       "      <td>5</td>\n",
       "      <td>2</td>\n",
       "      <td>5</td>\n",
       "      <td>5</td>\n",
       "      <td>1</td>\n",
       "      <td>0</td>\n",
       "      <td>1</td>\n",
       "      <td>0</td>\n",
       "      <td>0</td>\n",
       "      <td>0</td>\n",
       "    </tr>\n",
       "    <tr>\n",
       "      <th>2</th>\n",
       "      <td>41</td>\n",
       "      <td>853</td>\n",
       "      <td>0</td>\n",
       "      <td>4</td>\n",
       "      <td>4</td>\n",
       "      <td>5</td>\n",
       "      <td>4</td>\n",
       "      <td>3</td>\n",
       "      <td>5</td>\n",
       "      <td>3</td>\n",
       "      <td>...</td>\n",
       "      <td>3</td>\n",
       "      <td>4</td>\n",
       "      <td>3</td>\n",
       "      <td>3</td>\n",
       "      <td>1</td>\n",
       "      <td>1</td>\n",
       "      <td>1</td>\n",
       "      <td>0</td>\n",
       "      <td>0</td>\n",
       "      <td>0</td>\n",
       "    </tr>\n",
       "    <tr>\n",
       "      <th>3</th>\n",
       "      <td>50</td>\n",
       "      <td>1905</td>\n",
       "      <td>0</td>\n",
       "      <td>2</td>\n",
       "      <td>3</td>\n",
       "      <td>4</td>\n",
       "      <td>2</td>\n",
       "      <td>5</td>\n",
       "      <td>5</td>\n",
       "      <td>5</td>\n",
       "      <td>...</td>\n",
       "      <td>5</td>\n",
       "      <td>2</td>\n",
       "      <td>5</td>\n",
       "      <td>5</td>\n",
       "      <td>1</td>\n",
       "      <td>1</td>\n",
       "      <td>1</td>\n",
       "      <td>0</td>\n",
       "      <td>0</td>\n",
       "      <td>0</td>\n",
       "    </tr>\n",
       "    <tr>\n",
       "      <th>4</th>\n",
       "      <td>49</td>\n",
       "      <td>3470</td>\n",
       "      <td>0</td>\n",
       "      <td>3</td>\n",
       "      <td>3</td>\n",
       "      <td>5</td>\n",
       "      <td>3</td>\n",
       "      <td>3</td>\n",
       "      <td>4</td>\n",
       "      <td>4</td>\n",
       "      <td>...</td>\n",
       "      <td>3</td>\n",
       "      <td>3</td>\n",
       "      <td>3</td>\n",
       "      <td>3</td>\n",
       "      <td>1</td>\n",
       "      <td>0</td>\n",
       "      <td>1</td>\n",
       "      <td>0</td>\n",
       "      <td>0</td>\n",
       "      <td>0</td>\n",
       "    </tr>\n",
       "    <tr>\n",
       "      <th>...</th>\n",
       "      <td>...</td>\n",
       "      <td>...</td>\n",
       "      <td>...</td>\n",
       "      <td>...</td>\n",
       "      <td>...</td>\n",
       "      <td>...</td>\n",
       "      <td>...</td>\n",
       "      <td>...</td>\n",
       "      <td>...</td>\n",
       "      <td>...</td>\n",
       "      <td>...</td>\n",
       "      <td>...</td>\n",
       "      <td>...</td>\n",
       "      <td>...</td>\n",
       "      <td>...</td>\n",
       "      <td>...</td>\n",
       "      <td>...</td>\n",
       "      <td>...</td>\n",
       "      <td>...</td>\n",
       "      <td>...</td>\n",
       "      <td>...</td>\n",
       "    </tr>\n",
       "    <tr>\n",
       "      <th>129874</th>\n",
       "      <td>55</td>\n",
       "      <td>308</td>\n",
       "      <td>0</td>\n",
       "      <td>4</td>\n",
       "      <td>4</td>\n",
       "      <td>4</td>\n",
       "      <td>4</td>\n",
       "      <td>4</td>\n",
       "      <td>3</td>\n",
       "      <td>3</td>\n",
       "      <td>...</td>\n",
       "      <td>4</td>\n",
       "      <td>3</td>\n",
       "      <td>4</td>\n",
       "      <td>4</td>\n",
       "      <td>0</td>\n",
       "      <td>0</td>\n",
       "      <td>1</td>\n",
       "      <td>1</td>\n",
       "      <td>0</td>\n",
       "      <td>1</td>\n",
       "    </tr>\n",
       "    <tr>\n",
       "      <th>129875</th>\n",
       "      <td>28</td>\n",
       "      <td>447</td>\n",
       "      <td>2</td>\n",
       "      <td>4</td>\n",
       "      <td>4</td>\n",
       "      <td>4</td>\n",
       "      <td>2</td>\n",
       "      <td>5</td>\n",
       "      <td>1</td>\n",
       "      <td>4</td>\n",
       "      <td>...</td>\n",
       "      <td>5</td>\n",
       "      <td>4</td>\n",
       "      <td>4</td>\n",
       "      <td>4</td>\n",
       "      <td>0</td>\n",
       "      <td>1</td>\n",
       "      <td>1</td>\n",
       "      <td>1</td>\n",
       "      <td>0</td>\n",
       "      <td>1</td>\n",
       "    </tr>\n",
       "    <tr>\n",
       "      <th>129876</th>\n",
       "      <td>41</td>\n",
       "      <td>308</td>\n",
       "      <td>0</td>\n",
       "      <td>5</td>\n",
       "      <td>5</td>\n",
       "      <td>3</td>\n",
       "      <td>4</td>\n",
       "      <td>5</td>\n",
       "      <td>2</td>\n",
       "      <td>5</td>\n",
       "      <td>...</td>\n",
       "      <td>4</td>\n",
       "      <td>3</td>\n",
       "      <td>2</td>\n",
       "      <td>5</td>\n",
       "      <td>0</td>\n",
       "      <td>1</td>\n",
       "      <td>1</td>\n",
       "      <td>1</td>\n",
       "      <td>0</td>\n",
       "      <td>1</td>\n",
       "    </tr>\n",
       "    <tr>\n",
       "      <th>129877</th>\n",
       "      <td>42</td>\n",
       "      <td>337</td>\n",
       "      <td>6</td>\n",
       "      <td>5</td>\n",
       "      <td>4</td>\n",
       "      <td>2</td>\n",
       "      <td>1</td>\n",
       "      <td>3</td>\n",
       "      <td>3</td>\n",
       "      <td>4</td>\n",
       "      <td>...</td>\n",
       "      <td>4</td>\n",
       "      <td>2</td>\n",
       "      <td>3</td>\n",
       "      <td>5</td>\n",
       "      <td>0</td>\n",
       "      <td>1</td>\n",
       "      <td>1</td>\n",
       "      <td>1</td>\n",
       "      <td>0</td>\n",
       "      <td>1</td>\n",
       "    </tr>\n",
       "    <tr>\n",
       "      <th>129879</th>\n",
       "      <td>20</td>\n",
       "      <td>337</td>\n",
       "      <td>0</td>\n",
       "      <td>1</td>\n",
       "      <td>4</td>\n",
       "      <td>3</td>\n",
       "      <td>2</td>\n",
       "      <td>4</td>\n",
       "      <td>2</td>\n",
       "      <td>4</td>\n",
       "      <td>...</td>\n",
       "      <td>2</td>\n",
       "      <td>3</td>\n",
       "      <td>2</td>\n",
       "      <td>1</td>\n",
       "      <td>0</td>\n",
       "      <td>0</td>\n",
       "      <td>1</td>\n",
       "      <td>1</td>\n",
       "      <td>0</td>\n",
       "      <td>1</td>\n",
       "    </tr>\n",
       "  </tbody>\n",
       "</table>\n",
       "<p>108814 rows × 22 columns</p>\n",
       "</div>"
      ],
      "text/plain": [
       "        Age  Flight Distance  Departure Delay  \\\n",
       "0        48              821                2   \n",
       "1        35              821               26   \n",
       "2        41              853                0   \n",
       "3        50             1905                0   \n",
       "4        49             3470                0   \n",
       "...     ...              ...              ...   \n",
       "129874   55              308                0   \n",
       "129875   28              447                2   \n",
       "129876   41              308                0   \n",
       "129877   42              337                6   \n",
       "129879   20              337                0   \n",
       "\n",
       "        Departure and Arrival Time Convenience  Check-in Service  \\\n",
       "0                                            3                 4   \n",
       "1                                            2                 3   \n",
       "2                                            4                 4   \n",
       "3                                            2                 3   \n",
       "4                                            3                 3   \n",
       "...                                        ...               ...   \n",
       "129874                                       4                 4   \n",
       "129875                                       4                 4   \n",
       "129876                                       5                 5   \n",
       "129877                                       5                 4   \n",
       "129879                                       1                 4   \n",
       "\n",
       "        Online Boarding  Gate Location  On-board Service  Seat Comfort  \\\n",
       "0                     3              3                 3             5   \n",
       "1                     5              2                 5             4   \n",
       "2                     5              4                 3             5   \n",
       "3                     4              2                 5             5   \n",
       "4                     5              3                 3             4   \n",
       "...                 ...            ...               ...           ...   \n",
       "129874                4              4                 4             3   \n",
       "129875                4              2                 5             1   \n",
       "129876                3              4                 5             2   \n",
       "129877                2              1                 3             3   \n",
       "129879                3              2                 4             2   \n",
       "\n",
       "        Leg Room Service  ...  In-flight Service  In-flight Wifi Service  \\\n",
       "0                      2  ...                  5                       3   \n",
       "1                      5  ...                  5                       2   \n",
       "2                      3  ...                  3                       4   \n",
       "3                      5  ...                  5                       2   \n",
       "4                      4  ...                  3                       3   \n",
       "...                  ...  ...                ...                     ...   \n",
       "129874                 3  ...                  4                       3   \n",
       "129875                 4  ...                  5                       4   \n",
       "129876                 5  ...                  4                       3   \n",
       "129877                 4  ...                  4                       2   \n",
       "129879                 4  ...                  2                       3   \n",
       "\n",
       "        In-flight Entertainment  Baggage Handling  Satisfaction  Gender_Male  \\\n",
       "0                             5                 5             0            1   \n",
       "1                             5                 5             1            0   \n",
       "2                             3                 3             1            1   \n",
       "3                             5                 5             1            1   \n",
       "4                             3                 3             1            0   \n",
       "...                         ...               ...           ...          ...   \n",
       "129874                        4                 4             0            0   \n",
       "129875                        4                 4             0            1   \n",
       "129876                        2                 5             0            1   \n",
       "129877                        3                 5             0            1   \n",
       "129879                        2                 1             0            0   \n",
       "\n",
       "        Customer Type_Returning  Type of Travel_Personal  Class_Economy  \\\n",
       "0                             0                        0              0   \n",
       "1                             1                        0              0   \n",
       "2                             1                        0              0   \n",
       "3                             1                        0              0   \n",
       "4                             1                        0              0   \n",
       "...                         ...                      ...            ...   \n",
       "129874                        1                        1              0   \n",
       "129875                        1                        1              0   \n",
       "129876                        1                        1              0   \n",
       "129877                        1                        1              0   \n",
       "129879                        1                        1              0   \n",
       "\n",
       "        Class_Economy Plus  \n",
       "0                        0  \n",
       "1                        0  \n",
       "2                        0  \n",
       "3                        0  \n",
       "4                        0  \n",
       "...                    ...  \n",
       "129874                   1  \n",
       "129875                   1  \n",
       "129876                   1  \n",
       "129877                   1  \n",
       "129879                   1  \n",
       "\n",
       "[108814 rows x 22 columns]"
      ]
     },
     "execution_count": 86,
     "metadata": {},
     "output_type": "execute_result"
    }
   ],
   "source": [
    "dic = {'Satisfied' : 1, 'Neutral or Dissatisfied': 0}\n",
    "df['Satisfaction'] = df['Satisfaction'].map(dic)\n",
    "df"
   ]
  },
  {
   "cell_type": "code",
   "execution_count": 87,
   "id": "3e736188",
   "metadata": {},
   "outputs": [
    {
     "data": {
      "text/plain": [
       "Index(['Age', 'Flight Distance', 'Departure Delay',\n",
       "       'Departure and Arrival Time Convenience', 'Check-in Service',\n",
       "       'Online Boarding', 'Gate Location', 'On-board Service', 'Seat Comfort',\n",
       "       'Leg Room Service', 'Cleanliness', 'Food and Drink',\n",
       "       'In-flight Service', 'In-flight Wifi Service',\n",
       "       'In-flight Entertainment', 'Baggage Handling', 'Satisfaction',\n",
       "       'Gender_Male', 'Customer Type_Returning', 'Type of Travel_Personal',\n",
       "       'Class_Economy', 'Class_Economy Plus'],\n",
       "      dtype='object')"
      ]
     },
     "execution_count": 87,
     "metadata": {},
     "output_type": "execute_result"
    }
   ],
   "source": [
    "df.columns"
   ]
  },
  {
   "cell_type": "code",
   "execution_count": 88,
   "id": "_5CbLBXA4nt-",
   "metadata": {
    "colab": {
     "base_uri": "https://localhost:8080/",
     "height": 540
    },
    "id": "_5CbLBXA4nt-",
    "outputId": "681e9f55-a3c4-4f40-af92-dcad60b2cc6d"
   },
   "outputs": [],
   "source": [
    "### Splitting the data into dependent and independent variables\n",
    "X = df.drop('Satisfaction', axis = 1).iloc[:,:]\n",
    "y = df['Satisfaction']"
   ]
  },
  {
   "cell_type": "code",
   "execution_count": 89,
   "id": "a7b891d8",
   "metadata": {},
   "outputs": [
    {
     "data": {
      "text/html": [
       "<div>\n",
       "<style scoped>\n",
       "    .dataframe tbody tr th:only-of-type {\n",
       "        vertical-align: middle;\n",
       "    }\n",
       "\n",
       "    .dataframe tbody tr th {\n",
       "        vertical-align: top;\n",
       "    }\n",
       "\n",
       "    .dataframe thead th {\n",
       "        text-align: right;\n",
       "    }\n",
       "</style>\n",
       "<table border=\"1\" class=\"dataframe\">\n",
       "  <thead>\n",
       "    <tr style=\"text-align: right;\">\n",
       "      <th></th>\n",
       "      <th>Age</th>\n",
       "      <th>Flight Distance</th>\n",
       "      <th>Departure Delay</th>\n",
       "      <th>Departure and Arrival Time Convenience</th>\n",
       "      <th>Check-in Service</th>\n",
       "      <th>Online Boarding</th>\n",
       "      <th>Gate Location</th>\n",
       "      <th>On-board Service</th>\n",
       "      <th>Seat Comfort</th>\n",
       "      <th>Leg Room Service</th>\n",
       "      <th>...</th>\n",
       "      <th>Food and Drink</th>\n",
       "      <th>In-flight Service</th>\n",
       "      <th>In-flight Wifi Service</th>\n",
       "      <th>In-flight Entertainment</th>\n",
       "      <th>Baggage Handling</th>\n",
       "      <th>Gender_Male</th>\n",
       "      <th>Customer Type_Returning</th>\n",
       "      <th>Type of Travel_Personal</th>\n",
       "      <th>Class_Economy</th>\n",
       "      <th>Class_Economy Plus</th>\n",
       "    </tr>\n",
       "  </thead>\n",
       "  <tbody>\n",
       "    <tr>\n",
       "      <th>0</th>\n",
       "      <td>48</td>\n",
       "      <td>821</td>\n",
       "      <td>2</td>\n",
       "      <td>3</td>\n",
       "      <td>4</td>\n",
       "      <td>3</td>\n",
       "      <td>3</td>\n",
       "      <td>3</td>\n",
       "      <td>5</td>\n",
       "      <td>2</td>\n",
       "      <td>...</td>\n",
       "      <td>5</td>\n",
       "      <td>5</td>\n",
       "      <td>3</td>\n",
       "      <td>5</td>\n",
       "      <td>5</td>\n",
       "      <td>1</td>\n",
       "      <td>0</td>\n",
       "      <td>0</td>\n",
       "      <td>0</td>\n",
       "      <td>0</td>\n",
       "    </tr>\n",
       "    <tr>\n",
       "      <th>1</th>\n",
       "      <td>35</td>\n",
       "      <td>821</td>\n",
       "      <td>26</td>\n",
       "      <td>2</td>\n",
       "      <td>3</td>\n",
       "      <td>5</td>\n",
       "      <td>2</td>\n",
       "      <td>5</td>\n",
       "      <td>4</td>\n",
       "      <td>5</td>\n",
       "      <td>...</td>\n",
       "      <td>3</td>\n",
       "      <td>5</td>\n",
       "      <td>2</td>\n",
       "      <td>5</td>\n",
       "      <td>5</td>\n",
       "      <td>0</td>\n",
       "      <td>1</td>\n",
       "      <td>0</td>\n",
       "      <td>0</td>\n",
       "      <td>0</td>\n",
       "    </tr>\n",
       "    <tr>\n",
       "      <th>2</th>\n",
       "      <td>41</td>\n",
       "      <td>853</td>\n",
       "      <td>0</td>\n",
       "      <td>4</td>\n",
       "      <td>4</td>\n",
       "      <td>5</td>\n",
       "      <td>4</td>\n",
       "      <td>3</td>\n",
       "      <td>5</td>\n",
       "      <td>3</td>\n",
       "      <td>...</td>\n",
       "      <td>5</td>\n",
       "      <td>3</td>\n",
       "      <td>4</td>\n",
       "      <td>3</td>\n",
       "      <td>3</td>\n",
       "      <td>1</td>\n",
       "      <td>1</td>\n",
       "      <td>0</td>\n",
       "      <td>0</td>\n",
       "      <td>0</td>\n",
       "    </tr>\n",
       "    <tr>\n",
       "      <th>3</th>\n",
       "      <td>50</td>\n",
       "      <td>1905</td>\n",
       "      <td>0</td>\n",
       "      <td>2</td>\n",
       "      <td>3</td>\n",
       "      <td>4</td>\n",
       "      <td>2</td>\n",
       "      <td>5</td>\n",
       "      <td>5</td>\n",
       "      <td>5</td>\n",
       "      <td>...</td>\n",
       "      <td>4</td>\n",
       "      <td>5</td>\n",
       "      <td>2</td>\n",
       "      <td>5</td>\n",
       "      <td>5</td>\n",
       "      <td>1</td>\n",
       "      <td>1</td>\n",
       "      <td>0</td>\n",
       "      <td>0</td>\n",
       "      <td>0</td>\n",
       "    </tr>\n",
       "    <tr>\n",
       "      <th>4</th>\n",
       "      <td>49</td>\n",
       "      <td>3470</td>\n",
       "      <td>0</td>\n",
       "      <td>3</td>\n",
       "      <td>3</td>\n",
       "      <td>5</td>\n",
       "      <td>3</td>\n",
       "      <td>3</td>\n",
       "      <td>4</td>\n",
       "      <td>4</td>\n",
       "      <td>...</td>\n",
       "      <td>4</td>\n",
       "      <td>3</td>\n",
       "      <td>3</td>\n",
       "      <td>3</td>\n",
       "      <td>3</td>\n",
       "      <td>0</td>\n",
       "      <td>1</td>\n",
       "      <td>0</td>\n",
       "      <td>0</td>\n",
       "      <td>0</td>\n",
       "    </tr>\n",
       "    <tr>\n",
       "      <th>...</th>\n",
       "      <td>...</td>\n",
       "      <td>...</td>\n",
       "      <td>...</td>\n",
       "      <td>...</td>\n",
       "      <td>...</td>\n",
       "      <td>...</td>\n",
       "      <td>...</td>\n",
       "      <td>...</td>\n",
       "      <td>...</td>\n",
       "      <td>...</td>\n",
       "      <td>...</td>\n",
       "      <td>...</td>\n",
       "      <td>...</td>\n",
       "      <td>...</td>\n",
       "      <td>...</td>\n",
       "      <td>...</td>\n",
       "      <td>...</td>\n",
       "      <td>...</td>\n",
       "      <td>...</td>\n",
       "      <td>...</td>\n",
       "      <td>...</td>\n",
       "    </tr>\n",
       "    <tr>\n",
       "      <th>129874</th>\n",
       "      <td>55</td>\n",
       "      <td>308</td>\n",
       "      <td>0</td>\n",
       "      <td>4</td>\n",
       "      <td>4</td>\n",
       "      <td>4</td>\n",
       "      <td>4</td>\n",
       "      <td>4</td>\n",
       "      <td>3</td>\n",
       "      <td>3</td>\n",
       "      <td>...</td>\n",
       "      <td>2</td>\n",
       "      <td>4</td>\n",
       "      <td>3</td>\n",
       "      <td>4</td>\n",
       "      <td>4</td>\n",
       "      <td>0</td>\n",
       "      <td>1</td>\n",
       "      <td>1</td>\n",
       "      <td>0</td>\n",
       "      <td>1</td>\n",
       "    </tr>\n",
       "    <tr>\n",
       "      <th>129875</th>\n",
       "      <td>28</td>\n",
       "      <td>447</td>\n",
       "      <td>2</td>\n",
       "      <td>4</td>\n",
       "      <td>4</td>\n",
       "      <td>4</td>\n",
       "      <td>2</td>\n",
       "      <td>5</td>\n",
       "      <td>1</td>\n",
       "      <td>4</td>\n",
       "      <td>...</td>\n",
       "      <td>4</td>\n",
       "      <td>5</td>\n",
       "      <td>4</td>\n",
       "      <td>4</td>\n",
       "      <td>4</td>\n",
       "      <td>1</td>\n",
       "      <td>1</td>\n",
       "      <td>1</td>\n",
       "      <td>0</td>\n",
       "      <td>1</td>\n",
       "    </tr>\n",
       "    <tr>\n",
       "      <th>129876</th>\n",
       "      <td>41</td>\n",
       "      <td>308</td>\n",
       "      <td>0</td>\n",
       "      <td>5</td>\n",
       "      <td>5</td>\n",
       "      <td>3</td>\n",
       "      <td>4</td>\n",
       "      <td>5</td>\n",
       "      <td>2</td>\n",
       "      <td>5</td>\n",
       "      <td>...</td>\n",
       "      <td>2</td>\n",
       "      <td>4</td>\n",
       "      <td>3</td>\n",
       "      <td>2</td>\n",
       "      <td>5</td>\n",
       "      <td>1</td>\n",
       "      <td>1</td>\n",
       "      <td>1</td>\n",
       "      <td>0</td>\n",
       "      <td>1</td>\n",
       "    </tr>\n",
       "    <tr>\n",
       "      <th>129877</th>\n",
       "      <td>42</td>\n",
       "      <td>337</td>\n",
       "      <td>6</td>\n",
       "      <td>5</td>\n",
       "      <td>4</td>\n",
       "      <td>2</td>\n",
       "      <td>1</td>\n",
       "      <td>3</td>\n",
       "      <td>3</td>\n",
       "      <td>4</td>\n",
       "      <td>...</td>\n",
       "      <td>3</td>\n",
       "      <td>4</td>\n",
       "      <td>2</td>\n",
       "      <td>3</td>\n",
       "      <td>5</td>\n",
       "      <td>1</td>\n",
       "      <td>1</td>\n",
       "      <td>1</td>\n",
       "      <td>0</td>\n",
       "      <td>1</td>\n",
       "    </tr>\n",
       "    <tr>\n",
       "      <th>129879</th>\n",
       "      <td>20</td>\n",
       "      <td>337</td>\n",
       "      <td>0</td>\n",
       "      <td>1</td>\n",
       "      <td>4</td>\n",
       "      <td>3</td>\n",
       "      <td>2</td>\n",
       "      <td>4</td>\n",
       "      <td>2</td>\n",
       "      <td>4</td>\n",
       "      <td>...</td>\n",
       "      <td>2</td>\n",
       "      <td>2</td>\n",
       "      <td>3</td>\n",
       "      <td>2</td>\n",
       "      <td>1</td>\n",
       "      <td>0</td>\n",
       "      <td>1</td>\n",
       "      <td>1</td>\n",
       "      <td>0</td>\n",
       "      <td>1</td>\n",
       "    </tr>\n",
       "  </tbody>\n",
       "</table>\n",
       "<p>108814 rows × 21 columns</p>\n",
       "</div>"
      ],
      "text/plain": [
       "        Age  Flight Distance  Departure Delay  \\\n",
       "0        48              821                2   \n",
       "1        35              821               26   \n",
       "2        41              853                0   \n",
       "3        50             1905                0   \n",
       "4        49             3470                0   \n",
       "...     ...              ...              ...   \n",
       "129874   55              308                0   \n",
       "129875   28              447                2   \n",
       "129876   41              308                0   \n",
       "129877   42              337                6   \n",
       "129879   20              337                0   \n",
       "\n",
       "        Departure and Arrival Time Convenience  Check-in Service  \\\n",
       "0                                            3                 4   \n",
       "1                                            2                 3   \n",
       "2                                            4                 4   \n",
       "3                                            2                 3   \n",
       "4                                            3                 3   \n",
       "...                                        ...               ...   \n",
       "129874                                       4                 4   \n",
       "129875                                       4                 4   \n",
       "129876                                       5                 5   \n",
       "129877                                       5                 4   \n",
       "129879                                       1                 4   \n",
       "\n",
       "        Online Boarding  Gate Location  On-board Service  Seat Comfort  \\\n",
       "0                     3              3                 3             5   \n",
       "1                     5              2                 5             4   \n",
       "2                     5              4                 3             5   \n",
       "3                     4              2                 5             5   \n",
       "4                     5              3                 3             4   \n",
       "...                 ...            ...               ...           ...   \n",
       "129874                4              4                 4             3   \n",
       "129875                4              2                 5             1   \n",
       "129876                3              4                 5             2   \n",
       "129877                2              1                 3             3   \n",
       "129879                3              2                 4             2   \n",
       "\n",
       "        Leg Room Service  ...  Food and Drink  In-flight Service  \\\n",
       "0                      2  ...               5                  5   \n",
       "1                      5  ...               3                  5   \n",
       "2                      3  ...               5                  3   \n",
       "3                      5  ...               4                  5   \n",
       "4                      4  ...               4                  3   \n",
       "...                  ...  ...             ...                ...   \n",
       "129874                 3  ...               2                  4   \n",
       "129875                 4  ...               4                  5   \n",
       "129876                 5  ...               2                  4   \n",
       "129877                 4  ...               3                  4   \n",
       "129879                 4  ...               2                  2   \n",
       "\n",
       "        In-flight Wifi Service  In-flight Entertainment  Baggage Handling  \\\n",
       "0                            3                        5                 5   \n",
       "1                            2                        5                 5   \n",
       "2                            4                        3                 3   \n",
       "3                            2                        5                 5   \n",
       "4                            3                        3                 3   \n",
       "...                        ...                      ...               ...   \n",
       "129874                       3                        4                 4   \n",
       "129875                       4                        4                 4   \n",
       "129876                       3                        2                 5   \n",
       "129877                       2                        3                 5   \n",
       "129879                       3                        2                 1   \n",
       "\n",
       "        Gender_Male  Customer Type_Returning  Type of Travel_Personal  \\\n",
       "0                 1                        0                        0   \n",
       "1                 0                        1                        0   \n",
       "2                 1                        1                        0   \n",
       "3                 1                        1                        0   \n",
       "4                 0                        1                        0   \n",
       "...             ...                      ...                      ...   \n",
       "129874            0                        1                        1   \n",
       "129875            1                        1                        1   \n",
       "129876            1                        1                        1   \n",
       "129877            1                        1                        1   \n",
       "129879            0                        1                        1   \n",
       "\n",
       "        Class_Economy  Class_Economy Plus  \n",
       "0                   0                   0  \n",
       "1                   0                   0  \n",
       "2                   0                   0  \n",
       "3                   0                   0  \n",
       "4                   0                   0  \n",
       "...               ...                 ...  \n",
       "129874              0                   1  \n",
       "129875              0                   1  \n",
       "129876              0                   1  \n",
       "129877              0                   1  \n",
       "129879              0                   1  \n",
       "\n",
       "[108814 rows x 21 columns]"
      ]
     },
     "execution_count": 89,
     "metadata": {},
     "output_type": "execute_result"
    }
   ],
   "source": [
    "X"
   ]
  },
  {
   "cell_type": "code",
   "execution_count": 90,
   "id": "d637a1e6",
   "metadata": {},
   "outputs": [],
   "source": [
    "## remove special character in the column name of X dataframe\n",
    "X.columns = X.columns.str.replace(' ', '')\n",
    "X.columns = X.columns.str.replace('-', '')"
   ]
  },
  {
   "cell_type": "code",
   "execution_count": 91,
   "id": "29327161",
   "metadata": {},
   "outputs": [
    {
     "data": {
      "text/plain": [
       "Index(['Age', 'FlightDistance', 'DepartureDelay',\n",
       "       'DepartureandArrivalTimeConvenience', 'CheckinService',\n",
       "       'OnlineBoarding', 'GateLocation', 'OnboardService', 'SeatComfort',\n",
       "       'LegRoomService', 'Cleanliness', 'FoodandDrink', 'InflightService',\n",
       "       'InflightWifiService', 'InflightEntertainment', 'BaggageHandling',\n",
       "       'Gender_Male', 'CustomerType_Returning', 'TypeofTravel_Personal',\n",
       "       'Class_Economy', 'Class_EconomyPlus'],\n",
       "      dtype='object')"
      ]
     },
     "execution_count": 91,
     "metadata": {},
     "output_type": "execute_result"
    }
   ],
   "source": [
    "X.columns"
   ]
  },
  {
   "cell_type": "code",
   "execution_count": 92,
   "id": "pg1Ji9SB4GnI",
   "metadata": {
    "colab": {
     "base_uri": "https://localhost:8080/"
    },
    "id": "pg1Ji9SB4GnI",
    "outputId": "808f6c8b-1703-4ca5-a2ca-293c9968d502"
   },
   "outputs": [
    {
     "name": "stdout",
     "output_type": "stream",
     "text": [
      "(76169, 21)\n",
      "(32645, 21)\n",
      "(76169,)\n",
      "(32645,)\n"
     ]
    }
   ],
   "source": [
    "### splitting data into train test split\n",
    "from sklearn.model_selection import train_test_split\n",
    "\n",
    "X_train, X_test, y_train, y_test = train_test_split(X, y, test_size = 0.30, random_state=0)\n",
    "print(X_train.shape)\n",
    "print(X_test.shape)\n",
    "print(y_train.shape)\n",
    "print(y_test.shape)"
   ]
  },
  {
   "cell_type": "code",
   "execution_count": 93,
   "id": "3a52cc6e",
   "metadata": {},
   "outputs": [
    {
     "data": {
      "text/html": [
       "<div>\n",
       "<style scoped>\n",
       "    .dataframe tbody tr th:only-of-type {\n",
       "        vertical-align: middle;\n",
       "    }\n",
       "\n",
       "    .dataframe tbody tr th {\n",
       "        vertical-align: top;\n",
       "    }\n",
       "\n",
       "    .dataframe thead th {\n",
       "        text-align: right;\n",
       "    }\n",
       "</style>\n",
       "<table border=\"1\" class=\"dataframe\">\n",
       "  <thead>\n",
       "    <tr style=\"text-align: right;\">\n",
       "      <th></th>\n",
       "      <th>Age</th>\n",
       "      <th>FlightDistance</th>\n",
       "      <th>DepartureDelay</th>\n",
       "      <th>DepartureandArrivalTimeConvenience</th>\n",
       "      <th>CheckinService</th>\n",
       "      <th>OnlineBoarding</th>\n",
       "      <th>GateLocation</th>\n",
       "      <th>OnboardService</th>\n",
       "      <th>SeatComfort</th>\n",
       "      <th>LegRoomService</th>\n",
       "      <th>...</th>\n",
       "      <th>FoodandDrink</th>\n",
       "      <th>InflightService</th>\n",
       "      <th>InflightWifiService</th>\n",
       "      <th>InflightEntertainment</th>\n",
       "      <th>BaggageHandling</th>\n",
       "      <th>Gender_Male</th>\n",
       "      <th>CustomerType_Returning</th>\n",
       "      <th>TypeofTravel_Personal</th>\n",
       "      <th>Class_Economy</th>\n",
       "      <th>Class_EconomyPlus</th>\n",
       "    </tr>\n",
       "  </thead>\n",
       "  <tbody>\n",
       "    <tr>\n",
       "      <th>106184</th>\n",
       "      <td>69</td>\n",
       "      <td>302</td>\n",
       "      <td>18</td>\n",
       "      <td>3</td>\n",
       "      <td>1</td>\n",
       "      <td>1</td>\n",
       "      <td>3</td>\n",
       "      <td>4</td>\n",
       "      <td>2</td>\n",
       "      <td>2</td>\n",
       "      <td>...</td>\n",
       "      <td>2</td>\n",
       "      <td>4</td>\n",
       "      <td>1</td>\n",
       "      <td>2</td>\n",
       "      <td>3</td>\n",
       "      <td>1</td>\n",
       "      <td>1</td>\n",
       "      <td>1</td>\n",
       "      <td>1</td>\n",
       "      <td>0</td>\n",
       "    </tr>\n",
       "    <tr>\n",
       "      <th>29707</th>\n",
       "      <td>56</td>\n",
       "      <td>1542</td>\n",
       "      <td>0</td>\n",
       "      <td>4</td>\n",
       "      <td>5</td>\n",
       "      <td>3</td>\n",
       "      <td>4</td>\n",
       "      <td>5</td>\n",
       "      <td>5</td>\n",
       "      <td>2</td>\n",
       "      <td>...</td>\n",
       "      <td>2</td>\n",
       "      <td>5</td>\n",
       "      <td>2</td>\n",
       "      <td>5</td>\n",
       "      <td>5</td>\n",
       "      <td>0</td>\n",
       "      <td>1</td>\n",
       "      <td>1</td>\n",
       "      <td>1</td>\n",
       "      <td>0</td>\n",
       "    </tr>\n",
       "    <tr>\n",
       "      <th>119577</th>\n",
       "      <td>51</td>\n",
       "      <td>2552</td>\n",
       "      <td>0</td>\n",
       "      <td>4</td>\n",
       "      <td>3</td>\n",
       "      <td>5</td>\n",
       "      <td>4</td>\n",
       "      <td>5</td>\n",
       "      <td>4</td>\n",
       "      <td>4</td>\n",
       "      <td>...</td>\n",
       "      <td>2</td>\n",
       "      <td>5</td>\n",
       "      <td>4</td>\n",
       "      <td>5</td>\n",
       "      <td>5</td>\n",
       "      <td>0</td>\n",
       "      <td>1</td>\n",
       "      <td>0</td>\n",
       "      <td>0</td>\n",
       "      <td>0</td>\n",
       "    </tr>\n",
       "    <tr>\n",
       "      <th>117193</th>\n",
       "      <td>55</td>\n",
       "      <td>369</td>\n",
       "      <td>0</td>\n",
       "      <td>3</td>\n",
       "      <td>4</td>\n",
       "      <td>2</td>\n",
       "      <td>2</td>\n",
       "      <td>4</td>\n",
       "      <td>2</td>\n",
       "      <td>3</td>\n",
       "      <td>...</td>\n",
       "      <td>5</td>\n",
       "      <td>4</td>\n",
       "      <td>4</td>\n",
       "      <td>4</td>\n",
       "      <td>4</td>\n",
       "      <td>0</td>\n",
       "      <td>1</td>\n",
       "      <td>1</td>\n",
       "      <td>1</td>\n",
       "      <td>0</td>\n",
       "    </tr>\n",
       "    <tr>\n",
       "      <th>70480</th>\n",
       "      <td>60</td>\n",
       "      <td>2902</td>\n",
       "      <td>0</td>\n",
       "      <td>2</td>\n",
       "      <td>3</td>\n",
       "      <td>5</td>\n",
       "      <td>2</td>\n",
       "      <td>5</td>\n",
       "      <td>5</td>\n",
       "      <td>5</td>\n",
       "      <td>...</td>\n",
       "      <td>3</td>\n",
       "      <td>5</td>\n",
       "      <td>2</td>\n",
       "      <td>5</td>\n",
       "      <td>5</td>\n",
       "      <td>1</td>\n",
       "      <td>1</td>\n",
       "      <td>0</td>\n",
       "      <td>0</td>\n",
       "      <td>0</td>\n",
       "    </tr>\n",
       "    <tr>\n",
       "      <th>...</th>\n",
       "      <td>...</td>\n",
       "      <td>...</td>\n",
       "      <td>...</td>\n",
       "      <td>...</td>\n",
       "      <td>...</td>\n",
       "      <td>...</td>\n",
       "      <td>...</td>\n",
       "      <td>...</td>\n",
       "      <td>...</td>\n",
       "      <td>...</td>\n",
       "      <td>...</td>\n",
       "      <td>...</td>\n",
       "      <td>...</td>\n",
       "      <td>...</td>\n",
       "      <td>...</td>\n",
       "      <td>...</td>\n",
       "      <td>...</td>\n",
       "      <td>...</td>\n",
       "      <td>...</td>\n",
       "      <td>...</td>\n",
       "      <td>...</td>\n",
       "    </tr>\n",
       "    <tr>\n",
       "      <th>6718</th>\n",
       "      <td>25</td>\n",
       "      <td>438</td>\n",
       "      <td>0</td>\n",
       "      <td>4</td>\n",
       "      <td>5</td>\n",
       "      <td>3</td>\n",
       "      <td>4</td>\n",
       "      <td>5</td>\n",
       "      <td>4</td>\n",
       "      <td>2</td>\n",
       "      <td>...</td>\n",
       "      <td>5</td>\n",
       "      <td>2</td>\n",
       "      <td>1</td>\n",
       "      <td>5</td>\n",
       "      <td>2</td>\n",
       "      <td>1</td>\n",
       "      <td>1</td>\n",
       "      <td>1</td>\n",
       "      <td>1</td>\n",
       "      <td>0</td>\n",
       "    </tr>\n",
       "    <tr>\n",
       "      <th>36870</th>\n",
       "      <td>13</td>\n",
       "      <td>273</td>\n",
       "      <td>0</td>\n",
       "      <td>2</td>\n",
       "      <td>3</td>\n",
       "      <td>3</td>\n",
       "      <td>3</td>\n",
       "      <td>2</td>\n",
       "      <td>4</td>\n",
       "      <td>4</td>\n",
       "      <td>...</td>\n",
       "      <td>2</td>\n",
       "      <td>3</td>\n",
       "      <td>3</td>\n",
       "      <td>2</td>\n",
       "      <td>4</td>\n",
       "      <td>0</td>\n",
       "      <td>1</td>\n",
       "      <td>1</td>\n",
       "      <td>1</td>\n",
       "      <td>0</td>\n",
       "    </tr>\n",
       "    <tr>\n",
       "      <th>51098</th>\n",
       "      <td>34</td>\n",
       "      <td>373</td>\n",
       "      <td>4</td>\n",
       "      <td>5</td>\n",
       "      <td>3</td>\n",
       "      <td>2</td>\n",
       "      <td>3</td>\n",
       "      <td>3</td>\n",
       "      <td>1</td>\n",
       "      <td>4</td>\n",
       "      <td>...</td>\n",
       "      <td>1</td>\n",
       "      <td>2</td>\n",
       "      <td>2</td>\n",
       "      <td>1</td>\n",
       "      <td>1</td>\n",
       "      <td>0</td>\n",
       "      <td>1</td>\n",
       "      <td>1</td>\n",
       "      <td>1</td>\n",
       "      <td>0</td>\n",
       "    </tr>\n",
       "    <tr>\n",
       "      <th>1578</th>\n",
       "      <td>23</td>\n",
       "      <td>237</td>\n",
       "      <td>24</td>\n",
       "      <td>3</td>\n",
       "      <td>4</td>\n",
       "      <td>2</td>\n",
       "      <td>4</td>\n",
       "      <td>4</td>\n",
       "      <td>4</td>\n",
       "      <td>2</td>\n",
       "      <td>...</td>\n",
       "      <td>4</td>\n",
       "      <td>4</td>\n",
       "      <td>2</td>\n",
       "      <td>4</td>\n",
       "      <td>3</td>\n",
       "      <td>1</td>\n",
       "      <td>0</td>\n",
       "      <td>0</td>\n",
       "      <td>1</td>\n",
       "      <td>0</td>\n",
       "    </tr>\n",
       "    <tr>\n",
       "      <th>105776</th>\n",
       "      <td>72</td>\n",
       "      <td>2975</td>\n",
       "      <td>0</td>\n",
       "      <td>2</td>\n",
       "      <td>4</td>\n",
       "      <td>4</td>\n",
       "      <td>2</td>\n",
       "      <td>4</td>\n",
       "      <td>3</td>\n",
       "      <td>4</td>\n",
       "      <td>...</td>\n",
       "      <td>3</td>\n",
       "      <td>4</td>\n",
       "      <td>2</td>\n",
       "      <td>4</td>\n",
       "      <td>4</td>\n",
       "      <td>1</td>\n",
       "      <td>1</td>\n",
       "      <td>0</td>\n",
       "      <td>0</td>\n",
       "      <td>0</td>\n",
       "    </tr>\n",
       "  </tbody>\n",
       "</table>\n",
       "<p>32645 rows × 21 columns</p>\n",
       "</div>"
      ],
      "text/plain": [
       "        Age  FlightDistance  DepartureDelay  \\\n",
       "106184   69             302              18   \n",
       "29707    56            1542               0   \n",
       "119577   51            2552               0   \n",
       "117193   55             369               0   \n",
       "70480    60            2902               0   \n",
       "...     ...             ...             ...   \n",
       "6718     25             438               0   \n",
       "36870    13             273               0   \n",
       "51098    34             373               4   \n",
       "1578     23             237              24   \n",
       "105776   72            2975               0   \n",
       "\n",
       "        DepartureandArrivalTimeConvenience  CheckinService  OnlineBoarding  \\\n",
       "106184                                   3               1               1   \n",
       "29707                                    4               5               3   \n",
       "119577                                   4               3               5   \n",
       "117193                                   3               4               2   \n",
       "70480                                    2               3               5   \n",
       "...                                    ...             ...             ...   \n",
       "6718                                     4               5               3   \n",
       "36870                                    2               3               3   \n",
       "51098                                    5               3               2   \n",
       "1578                                     3               4               2   \n",
       "105776                                   2               4               4   \n",
       "\n",
       "        GateLocation  OnboardService  SeatComfort  LegRoomService  ...  \\\n",
       "106184             3               4            2               2  ...   \n",
       "29707              4               5            5               2  ...   \n",
       "119577             4               5            4               4  ...   \n",
       "117193             2               4            2               3  ...   \n",
       "70480              2               5            5               5  ...   \n",
       "...              ...             ...          ...             ...  ...   \n",
       "6718               4               5            4               2  ...   \n",
       "36870              3               2            4               4  ...   \n",
       "51098              3               3            1               4  ...   \n",
       "1578               4               4            4               2  ...   \n",
       "105776             2               4            3               4  ...   \n",
       "\n",
       "        FoodandDrink  InflightService  InflightWifiService  \\\n",
       "106184             2                4                    1   \n",
       "29707              2                5                    2   \n",
       "119577             2                5                    4   \n",
       "117193             5                4                    4   \n",
       "70480              3                5                    2   \n",
       "...              ...              ...                  ...   \n",
       "6718               5                2                    1   \n",
       "36870              2                3                    3   \n",
       "51098              1                2                    2   \n",
       "1578               4                4                    2   \n",
       "105776             3                4                    2   \n",
       "\n",
       "        InflightEntertainment  BaggageHandling  Gender_Male  \\\n",
       "106184                      2                3            1   \n",
       "29707                       5                5            0   \n",
       "119577                      5                5            0   \n",
       "117193                      4                4            0   \n",
       "70480                       5                5            1   \n",
       "...                       ...              ...          ...   \n",
       "6718                        5                2            1   \n",
       "36870                       2                4            0   \n",
       "51098                       1                1            0   \n",
       "1578                        4                3            1   \n",
       "105776                      4                4            1   \n",
       "\n",
       "        CustomerType_Returning  TypeofTravel_Personal  Class_Economy  \\\n",
       "106184                       1                      1              1   \n",
       "29707                        1                      1              1   \n",
       "119577                       1                      0              0   \n",
       "117193                       1                      1              1   \n",
       "70480                        1                      0              0   \n",
       "...                        ...                    ...            ...   \n",
       "6718                         1                      1              1   \n",
       "36870                        1                      1              1   \n",
       "51098                        1                      1              1   \n",
       "1578                         0                      0              1   \n",
       "105776                       1                      0              0   \n",
       "\n",
       "        Class_EconomyPlus  \n",
       "106184                  0  \n",
       "29707                   0  \n",
       "119577                  0  \n",
       "117193                  0  \n",
       "70480                   0  \n",
       "...                   ...  \n",
       "6718                    0  \n",
       "36870                   0  \n",
       "51098                   0  \n",
       "1578                    0  \n",
       "105776                  0  \n",
       "\n",
       "[32645 rows x 21 columns]"
      ]
     },
     "execution_count": 93,
     "metadata": {},
     "output_type": "execute_result"
    }
   ],
   "source": [
    "X_test"
   ]
  },
  {
   "cell_type": "markdown",
   "id": "1025f9ff",
   "metadata": {},
   "source": [
    "# Model Building"
   ]
  },
  {
   "cell_type": "markdown",
   "id": "ce293d2e",
   "metadata": {},
   "source": [
    "### 1. Logistic Regression"
   ]
  },
  {
   "cell_type": "code",
   "execution_count": 94,
   "id": "YkV6I9Qy4Gsc",
   "metadata": {
    "id": "YkV6I9Qy4Gsc"
   },
   "outputs": [],
   "source": [
    "######################### Logistic Regression ############################\n",
    "import numpy as np \n",
    "import pandas as pd\n",
    "import matplotlib.pyplot as plt\n",
    "import seaborn as sns\n",
    "from sklearn.model_selection import train_test_split\n",
    "from sklearn.preprocessing import StandardScaler\n",
    "from sklearn.linear_model import LogisticRegression\n",
    "from sklearn.preprocessing import LabelEncoder\n",
    "from sklearn.neighbors import KNeighborsClassifier\n",
    "from sklearn import preprocessing\n",
    "from xgboost import XGBClassifier\n",
    "from sklearn.metrics import accuracy_score,mean_squared_error"
   ]
  },
  {
   "cell_type": "code",
   "execution_count": 95,
   "id": "cYORXZ3-9A1G",
   "metadata": {
    "colab": {
     "base_uri": "https://localhost:8080/"
    },
    "id": "cYORXZ3-9A1G",
    "outputId": "1234bb83-ff83-4666-a656-7d5303fea11f"
   },
   "outputs": [
    {
     "data": {
      "text/plain": [
       "0.8211977331903814"
      ]
     },
     "execution_count": 95,
     "metadata": {},
     "output_type": "execute_result"
    }
   ],
   "source": [
    "lr = LogisticRegression()\n",
    "lr.fit(X_train , y_train)\n",
    "\n",
    "lr.score(X_test,y_test)"
   ]
  },
  {
   "cell_type": "code",
   "execution_count": 96,
   "id": "sF_RT1hTCh16",
   "metadata": {
    "colab": {
     "base_uri": "https://localhost:8080/"
    },
    "id": "sF_RT1hTCh16",
    "outputId": "d87f0399-07a4-45b0-8771-fc1232fe2a76"
   },
   "outputs": [
    {
     "data": {
      "text/plain": [
       "0.8248368758943927"
      ]
     },
     "execution_count": 96,
     "metadata": {},
     "output_type": "execute_result"
    }
   ],
   "source": [
    "lr.score(X_train , y_train)"
   ]
  },
  {
   "cell_type": "code",
   "execution_count": 97,
   "id": "ae41cf66",
   "metadata": {},
   "outputs": [
    {
     "data": {
      "text/plain": [
       "array([[-3.52782001e-02,  1.17049724e-04, -5.50247588e-02,\n",
       "        -1.24689279e-01,  8.63837269e-02,  5.74233382e-01,\n",
       "        -1.60377454e-01,  2.84398969e-01,  7.92485034e-02,\n",
       "         1.03165957e-01,  2.98860688e-02, -4.16593999e-01,\n",
       "        -3.17717859e-01,  2.72229423e-01,  6.89203220e-01,\n",
       "        -2.30827760e-01, -1.72810550e-01,  1.69138305e-01,\n",
       "        -1.28349944e+00, -1.43733015e+00, -2.28773175e-01]])"
      ]
     },
     "execution_count": 97,
     "metadata": {},
     "output_type": "execute_result"
    }
   ],
   "source": [
    "lr.coef_"
   ]
  },
  {
   "cell_type": "code",
   "execution_count": 98,
   "id": "cee395ef",
   "metadata": {},
   "outputs": [
    {
     "data": {
      "text/plain": [
       "array([-0.65236736])"
      ]
     },
     "execution_count": 98,
     "metadata": {},
     "output_type": "execute_result"
    }
   ],
   "source": [
    "lr.intercept_"
   ]
  },
  {
   "cell_type": "code",
   "execution_count": 99,
   "id": "CEM1C7L29A6T",
   "metadata": {
    "colab": {
     "base_uri": "https://localhost:8080/",
     "height": 363
    },
    "id": "CEM1C7L29A6T",
    "outputId": "9354568c-bccc-47f8-9d61-a8d822a79a90"
   },
   "outputs": [
    {
     "data": {
      "text/html": [
       "<div>\n",
       "<style scoped>\n",
       "    .dataframe tbody tr th:only-of-type {\n",
       "        vertical-align: middle;\n",
       "    }\n",
       "\n",
       "    .dataframe tbody tr th {\n",
       "        vertical-align: top;\n",
       "    }\n",
       "\n",
       "    .dataframe thead th {\n",
       "        text-align: right;\n",
       "    }\n",
       "</style>\n",
       "<table border=\"1\" class=\"dataframe\">\n",
       "  <thead>\n",
       "    <tr style=\"text-align: right;\">\n",
       "      <th></th>\n",
       "      <th>Y_test</th>\n",
       "      <th>Y_pred</th>\n",
       "    </tr>\n",
       "  </thead>\n",
       "  <tbody>\n",
       "    <tr>\n",
       "      <th>106184</th>\n",
       "      <td>0</td>\n",
       "      <td>0</td>\n",
       "    </tr>\n",
       "    <tr>\n",
       "      <th>29707</th>\n",
       "      <td>0</td>\n",
       "      <td>0</td>\n",
       "    </tr>\n",
       "    <tr>\n",
       "      <th>119577</th>\n",
       "      <td>1</td>\n",
       "      <td>1</td>\n",
       "    </tr>\n",
       "    <tr>\n",
       "      <th>117193</th>\n",
       "      <td>0</td>\n",
       "      <td>0</td>\n",
       "    </tr>\n",
       "    <tr>\n",
       "      <th>70480</th>\n",
       "      <td>1</td>\n",
       "      <td>1</td>\n",
       "    </tr>\n",
       "    <tr>\n",
       "      <th>15685</th>\n",
       "      <td>0</td>\n",
       "      <td>0</td>\n",
       "    </tr>\n",
       "    <tr>\n",
       "      <th>107304</th>\n",
       "      <td>0</td>\n",
       "      <td>0</td>\n",
       "    </tr>\n",
       "    <tr>\n",
       "      <th>121825</th>\n",
       "      <td>0</td>\n",
       "      <td>0</td>\n",
       "    </tr>\n",
       "    <tr>\n",
       "      <th>59044</th>\n",
       "      <td>0</td>\n",
       "      <td>0</td>\n",
       "    </tr>\n",
       "    <tr>\n",
       "      <th>42780</th>\n",
       "      <td>1</td>\n",
       "      <td>1</td>\n",
       "    </tr>\n",
       "  </tbody>\n",
       "</table>\n",
       "</div>"
      ],
      "text/plain": [
       "        Y_test  Y_pred\n",
       "106184       0       0\n",
       "29707        0       0\n",
       "119577       1       1\n",
       "117193       0       0\n",
       "70480        1       1\n",
       "15685        0       0\n",
       "107304       0       0\n",
       "121825       0       0\n",
       "59044        0       0\n",
       "42780        1       1"
      ]
     },
     "execution_count": 99,
     "metadata": {},
     "output_type": "execute_result"
    }
   ],
   "source": [
    "Y_pred = lr.predict(X_test)\n",
    "pred_df = pd.DataFrame({\"Y_test\" : y_test , \"Y_pred\": Y_pred})\n",
    "pred_df.head(10)"
   ]
  },
  {
   "cell_type": "markdown",
   "id": "bd568684",
   "metadata": {},
   "source": [
    "### 2. K-Nearest Neighbour"
   ]
  },
  {
   "cell_type": "code",
   "execution_count": 100,
   "id": "f8459252",
   "metadata": {},
   "outputs": [],
   "source": [
    "########################### K-Nearest Neighbour #############################\n",
    "from sklearn.neighbors import KNeighborsClassifier\n",
    "knn = KNeighborsClassifier()"
   ]
  },
  {
   "cell_type": "code",
   "execution_count": null,
   "id": "eb1deed4",
   "metadata": {},
   "outputs": [],
   "source": [
    "## optimal k find using GridSearchcv\n",
    "from sklearn.model_selection import GridSearchCV\n",
    "k_range = list(range(1,15))\n",
    "param_grid = {'n_neighbors' : k_range}\n",
    "grid = GridSearchCV(knn,param_grid,cv =10,scoring='accuracy')\n",
    "grid_search = grid.fit(X_train,y_train)"
   ]
  },
  {
   "cell_type": "code",
   "execution_count": null,
   "id": "e44642b9",
   "metadata": {},
   "outputs": [],
   "source": [
    "grid_search.best_params_"
   ]
  },
  {
   "cell_type": "code",
   "execution_count": null,
   "id": "efcbebc4",
   "metadata": {},
   "outputs": [],
   "source": [
    "from sklearn.metrics import classification_report,accuracy_score,confusion_matrix"
   ]
  },
  {
   "cell_type": "code",
   "execution_count": null,
   "id": "61b7c45c",
   "metadata": {},
   "outputs": [],
   "source": [
    "## again model building using optimal k value\n",
    "knn = KNeighborsClassifier(n_neighbors=5)\n",
    "knn.fit(X_train,y_train)\n",
    "prediction = knn.predict(X_test)\n",
    "\n",
    "accuracy = accuracy_score(y_test,prediction)\n",
    "print(accuracy)\n",
    "print(classification_report(y_test,prediction))\n",
    "print(confusion_matrix(y_test,prediction))"
   ]
  },
  {
   "cell_type": "code",
   "execution_count": null,
   "id": "bVlnKXb4Bj4R",
   "metadata": {
    "id": "bVlnKXb4Bj4R"
   },
   "outputs": [],
   "source": [
    "pred_df1 = pd.DataFrame({\"Y_test\" : y_test , \"Y_pred\": prediction})\n",
    "pred_df1.head(10)"
   ]
  },
  {
   "cell_type": "markdown",
   "id": "12bd7c7d",
   "metadata": {},
   "source": [
    "### 3. XGBOOST Algorithm"
   ]
  },
  {
   "cell_type": "code",
   "execution_count": null,
   "id": "TB_ywXTr8Dnq",
   "metadata": {
    "id": "TB_ywXTr8Dnq"
   },
   "outputs": [],
   "source": [
    "######################### XGBOOST ###############################\n",
    "## Hyper Parameter Optimization\n",
    "\n",
    "params={\n",
    " \"learning_rate\"    : [0.05, 0.10, 0.15, 0.20, 0.25, 0.30 ] ,\n",
    " \"max_depth\"        : [ 3, 4, 5, 6, 8, 10, 12, 15],\n",
    " \"min_child_weight\" : [ 1, 3, 5, 7 ],\n",
    " \"gamma\"            : [ 0.0, 0.1, 0.2 , 0.3, 0.4 ],\n",
    " \"colsample_bytree\" : [ 0.3, 0.4, 0.5 , 0.7 ]\n",
    "    \n",
    "}"
   ]
  },
  {
   "cell_type": "code",
   "execution_count": null,
   "id": "yg4W-pnC8DqB",
   "metadata": {
    "id": "yg4W-pnC8DqB"
   },
   "outputs": [],
   "source": [
    "## Hyperparameter optimization using RandomizedSearchCV\n",
    "from sklearn.model_selection import RandomizedSearchCV, GridSearchCV\n",
    "import xgboost"
   ]
  },
  {
   "cell_type": "code",
   "execution_count": null,
   "id": "Lrs60xD78GMS",
   "metadata": {
    "id": "Lrs60xD78GMS"
   },
   "outputs": [],
   "source": [
    "classifier_xg=xgboost.XGBClassifier()"
   ]
  },
  {
   "cell_type": "code",
   "execution_count": null,
   "id": "eKWuiAPE8GO8",
   "metadata": {
    "id": "eKWuiAPE8GO8"
   },
   "outputs": [],
   "source": [
    "random_search=RandomizedSearchCV(classifier_xg,param_distributions=params,n_iter=5,scoring='roc_auc',n_jobs=-1,cv=5,verbose=3)"
   ]
  },
  {
   "cell_type": "code",
   "execution_count": null,
   "id": "6138314d",
   "metadata": {},
   "outputs": [],
   "source": [
    "random_search.fit(X_train,y_train)"
   ]
  },
  {
   "cell_type": "code",
   "execution_count": null,
   "id": "fe886d5e",
   "metadata": {},
   "outputs": [],
   "source": [
    "random_search.best_estimator_"
   ]
  },
  {
   "cell_type": "code",
   "execution_count": null,
   "id": "9cf25b4c",
   "metadata": {},
   "outputs": [],
   "source": [
    "random_search.best_params_"
   ]
  },
  {
   "cell_type": "code",
   "execution_count": null,
   "id": "15c14ab6",
   "metadata": {},
   "outputs": [],
   "source": [
    "classifier_xg=xgboost.XGBClassifier(base_score=0.5, booster='gbtree', callbacks=None,\n",
    "              colsample_bylevel=1, colsample_bynode=1, colsample_bytree=0.7,\n",
    "              early_stopping_rounds=None, enable_categorical=False,\n",
    "              eval_metric=None, gamma=0.4, gpu_id=-1, grow_policy='depthwise',\n",
    "              importance_type=None, interaction_constraints='',\n",
    "              learning_rate=0.05, max_bin=256, max_cat_to_onehot=4,\n",
    "              max_delta_step=0, max_depth=15, max_leaves=0, min_child_weight=5,\n",
    "              monotone_constraints='()', n_estimators=100,\n",
    "              n_jobs=0, num_parallel_tree=1, predictor='auto', random_state=0,\n",
    "              reg_alpha=0, reg_lambda=1,)"
   ]
  },
  {
   "cell_type": "code",
   "execution_count": null,
   "id": "3e77983b",
   "metadata": {},
   "outputs": [],
   "source": [
    "y_pred_xg = random_search.predict(X_test)\n",
    "y_pred_xg"
   ]
  },
  {
   "cell_type": "code",
   "execution_count": null,
   "id": "6be9eb6a",
   "metadata": {},
   "outputs": [],
   "source": [
    "from sklearn.model_selection import cross_val_score\n",
    "score=cross_val_score(classifier_xg,X,y,cv=10)"
   ]
  },
  {
   "cell_type": "code",
   "execution_count": null,
   "id": "84efd916",
   "metadata": {},
   "outputs": [],
   "source": [
    "score"
   ]
  },
  {
   "cell_type": "code",
   "execution_count": null,
   "id": "69745677",
   "metadata": {},
   "outputs": [],
   "source": [
    "score.mean()"
   ]
  },
  {
   "cell_type": "code",
   "execution_count": null,
   "id": "9H9GAfGj8NF0",
   "metadata": {
    "id": "9H9GAfGj8NF0"
   },
   "outputs": [],
   "source": [
    "pred_df2 = pd.DataFrame({\"Y_test\" : y_test , \"Y_pred\": y_pred_xg})\n",
    "pred_df2.head(10)"
   ]
  },
  {
   "cell_type": "code",
   "execution_count": null,
   "id": "273f3805",
   "metadata": {},
   "outputs": [],
   "source": [
    "accuracy = accuracy_score(y_test,y_pred_xg)\n",
    "print(accuracy)\n",
    "print(classification_report(y_test,y_pred_xg))\n",
    "print(confusion_matrix(y_test,y_pred_xg))"
   ]
  },
  {
   "cell_type": "markdown",
   "id": "1425357f",
   "metadata": {},
   "source": [
    "### 4. Random Forest"
   ]
  },
  {
   "cell_type": "code",
   "execution_count": null,
   "id": "a46479c2",
   "metadata": {},
   "outputs": [],
   "source": [
    "################### Random Forest classifier #####################"
   ]
  },
  {
   "cell_type": "code",
   "execution_count": null,
   "id": "235077ca",
   "metadata": {},
   "outputs": [],
   "source": [
    "from sklearn.ensemble import RandomForestClassifier\n",
    "rf = RandomForestClassifier()"
   ]
  },
  {
   "cell_type": "code",
   "execution_count": null,
   "id": "75833a5c",
   "metadata": {},
   "outputs": [],
   "source": [
    "rf.fit(X_train,y_train)"
   ]
  },
  {
   "cell_type": "code",
   "execution_count": null,
   "id": "f1eccd15",
   "metadata": {},
   "outputs": [],
   "source": [
    "y_pred_rf = rf.predict(X_test)"
   ]
  },
  {
   "cell_type": "code",
   "execution_count": null,
   "id": "090e0547",
   "metadata": {},
   "outputs": [],
   "source": [
    "pred_df3 = pd.DataFrame({\"Y_test\" : y_test , \"Y_pred\": y_pred_rf})\n",
    "pred_df3.head(10)"
   ]
  },
  {
   "cell_type": "code",
   "execution_count": null,
   "id": "009b471b",
   "metadata": {},
   "outputs": [],
   "source": [
    "accuracy = accuracy_score(y_test,y_pred_rf)\n",
    "print(accuracy)\n",
    "print(classification_report(y_test,y_pred_rf))\n",
    "print(confusion_matrix(y_test,y_pred_rf))"
   ]
  },
  {
   "cell_type": "markdown",
   "id": "0a255ff0",
   "metadata": {},
   "source": [
    "### 5. Support Vector Machine"
   ]
  },
  {
   "cell_type": "code",
   "execution_count": null,
   "id": "1d7e961a",
   "metadata": {},
   "outputs": [],
   "source": [
    "from sklearn.svm import SVC\n",
    "classifier_svm = SVC()"
   ]
  },
  {
   "cell_type": "code",
   "execution_count": null,
   "id": "eb0ff629",
   "metadata": {},
   "outputs": [],
   "source": [
    "classifier_svm.fit(X_train,y_train)"
   ]
  },
  {
   "cell_type": "code",
   "execution_count": null,
   "id": "4dd59d4e",
   "metadata": {},
   "outputs": [],
   "source": [
    "y_pred_svm = classifier_svm.predict(X_test)"
   ]
  },
  {
   "cell_type": "code",
   "execution_count": null,
   "id": "2838dffb",
   "metadata": {},
   "outputs": [],
   "source": [
    "pred_df4 = pd.DataFrame({\"Y_test\" : y_test , \"Y_pred\": y_pred_svm})\n",
    "pred_df4.head(10)"
   ]
  },
  {
   "cell_type": "code",
   "execution_count": null,
   "id": "a2f6aedc",
   "metadata": {},
   "outputs": [],
   "source": [
    "classifier_svm.support_vectors_"
   ]
  },
  {
   "cell_type": "code",
   "execution_count": null,
   "id": "e4910ec9",
   "metadata": {},
   "outputs": [],
   "source": [
    "classifier_svm.support_"
   ]
  },
  {
   "cell_type": "code",
   "execution_count": null,
   "id": "da0a8fa1",
   "metadata": {},
   "outputs": [],
   "source": [
    "classifier_svm.n_support_"
   ]
  },
  {
   "cell_type": "code",
   "execution_count": null,
   "id": "6b1f8d67",
   "metadata": {},
   "outputs": [],
   "source": [
    "accuracy = accuracy_score(y_test,y_pred_svm)\n",
    "print(accuracy)\n",
    "print(classification_report(y_test,y_pred_svm))\n",
    "print(confusion_matrix(y_test,y_pred_svm))"
   ]
  },
  {
   "cell_type": "markdown",
   "id": "cf0aa6aa",
   "metadata": {},
   "source": [
    "### Creating Pickle File"
   ]
  },
  {
   "cell_type": "code",
   "execution_count": null,
   "id": "3469ecc2",
   "metadata": {},
   "outputs": [],
   "source": [
    "import pickle"
   ]
  },
  {
   "cell_type": "code",
   "execution_count": null,
   "id": "0955da2f",
   "metadata": {},
   "outputs": [],
   "source": [
    "## Taking best accurate model that is xgboost classifier\n",
    "filename = 'trained_model.sav'\n",
    "pickle.dump(random_search,open(filename,'wb'))"
   ]
  },
  {
   "cell_type": "code",
   "execution_count": null,
   "id": "5b99e956",
   "metadata": {},
   "outputs": [],
   "source": [
    "loaded_model = pickle.load(open('trained_model.sav','rb'))\n",
    "input_data = (77,821,0,5,1,4,5,4,4,5,4,4,2,4,4,3,1,1,0,0,1)\n",
    "input_data_as_numpy_Array = np.array(input_data)\n",
    "input_data_reshaped = input_data_as_numpy_Array.reshape(1,-1)\n",
    "prediction = loaded_model.predict(input_data_reshaped)\n",
    "print(prediction[0])\n",
    "if (prediction[0] == 0) :\n",
    "    print('The person is not satisfied')\n",
    "else :\n",
    "    print('The Person is satisfied')"
   ]
  },
  {
   "cell_type": "code",
   "execution_count": null,
   "id": "4c434a42",
   "metadata": {},
   "outputs": [],
   "source": []
  },
  {
   "cell_type": "code",
   "execution_count": null,
   "id": "8b7819ef",
   "metadata": {},
   "outputs": [],
   "source": []
  },
  {
   "cell_type": "code",
   "execution_count": null,
   "id": "01aaae6d",
   "metadata": {},
   "outputs": [],
   "source": []
  },
  {
   "cell_type": "code",
   "execution_count": null,
   "id": "3220704c",
   "metadata": {},
   "outputs": [],
   "source": []
  }
 ],
 "metadata": {
  "colab": {
   "collapsed_sections": [],
   "provenance": []
  },
  "kernelspec": {
   "display_name": "Python 3 (ipykernel)",
   "language": "python",
   "name": "python3"
  },
  "language_info": {
   "codemirror_mode": {
    "name": "ipython",
    "version": 3
   },
   "file_extension": ".py",
   "mimetype": "text/x-python",
   "name": "python",
   "nbconvert_exporter": "python",
   "pygments_lexer": "ipython3",
   "version": "3.9.12"
  }
 },
 "nbformat": 4,
 "nbformat_minor": 5
}
